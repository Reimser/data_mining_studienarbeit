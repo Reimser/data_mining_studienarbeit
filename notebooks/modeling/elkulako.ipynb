{
 "cells": [
  {
   "cell_type": "markdown",
   "id": "42b707a7",
   "metadata": {},
   "source": [
    "# Finetunen vom Elkulako/cryptobert Modell"
   ]
  },
  {
   "cell_type": "markdown",
   "id": "d83cc7cd",
   "metadata": {
    "vscode": {
     "languageId": "plaintext"
    }
   },
   "source": [
    "## Import"
   ]
  },
  {
   "cell_type": "code",
   "execution_count": 82,
   "id": "613bdc57",
   "metadata": {},
   "outputs": [],
   "source": [
    "import os\n",
    "import torch\n",
    "import pandas as pd\n",
    "from sklearn.model_selection import train_test_split\n",
    "from datasets import Dataset\n",
    "from transformers import DebertaV2Tokenizer, AutoModelForSequenceClassification, Trainer, TrainingArguments, AutoTokenizer, EarlyStoppingCallback\n",
    "import evaluate\n",
    "import numpy as np\n",
    "import torch\n",
    "from sklearn.metrics import accuracy_score, f1_score\n",
    "import matplotlib.pyplot as plt\n",
    "import seaborn as sns\n",
    "import time\n",
    "import pandas as pd\n",
    "from transformers import AutoModelForSequenceClassification, Trainer, TrainingArguments\n",
    "import transformers\n",
    "import warnings"
   ]
  },
  {
   "cell_type": "code",
   "execution_count": 63,
   "id": "3a3e2ffb",
   "metadata": {},
   "outputs": [
    {
     "name": "stdout",
     "output_type": "stream",
     "text": [
      "Using cuda device\n"
     ]
    }
   ],
   "source": [
    "# Cuda pruefen\n",
    "device = \"cuda\" if torch.cuda.is_available() else \"cpu\"\n",
    "print(\"Using {} device\".format(device))"
   ]
  },
  {
   "cell_type": "code",
   "execution_count": 64,
   "id": "78d4beaa",
   "metadata": {},
   "outputs": [],
   "source": [
    "DATA_PATH = '../../data/processed/'"
   ]
  },
  {
   "cell_type": "code",
   "execution_count": 65,
   "id": "9a19b556",
   "metadata": {},
   "outputs": [
    {
     "data": {
      "text/html": [
       "<div>\n",
       "<style scoped>\n",
       "    .dataframe tbody tr th:only-of-type {\n",
       "        vertical-align: middle;\n",
       "    }\n",
       "\n",
       "    .dataframe tbody tr th {\n",
       "        vertical-align: top;\n",
       "    }\n",
       "\n",
       "    .dataframe thead th {\n",
       "        text-align: right;\n",
       "    }\n",
       "</style>\n",
       "<table border=\"1\" class=\"dataframe\">\n",
       "  <thead>\n",
       "    <tr style=\"text-align: right;\">\n",
       "      <th></th>\n",
       "      <th>id</th>\n",
       "      <th>text</th>\n",
       "      <th>label</th>\n",
       "    </tr>\n",
       "  </thead>\n",
       "  <tbody>\n",
       "    <tr>\n",
       "      <th>0</th>\n",
       "      <td>m4upwf5</td>\n",
       "      <td>The coup attempt on TV was TDS.  The hundred p...</td>\n",
       "      <td>1</td>\n",
       "    </tr>\n",
       "    <tr>\n",
       "      <th>1</th>\n",
       "      <td>md0rafi</td>\n",
       "      <td>you'd be surprised at how many people like fem...</td>\n",
       "      <td>1</td>\n",
       "    </tr>\n",
       "    <tr>\n",
       "      <th>2</th>\n",
       "      <td>maomrxw</td>\n",
       "      <td>Last two bull runs started in Feb.</td>\n",
       "      <td>0</td>\n",
       "    </tr>\n",
       "    <tr>\n",
       "      <th>3</th>\n",
       "      <td>mamxv2s</td>\n",
       "      <td>Lmao yeah sure, if Kamala would have won, BTC ...</td>\n",
       "      <td>0</td>\n",
       "    </tr>\n",
       "    <tr>\n",
       "      <th>4</th>\n",
       "      <td>m5g70m2</td>\n",
       "      <td>How much you have? More than 500k? If yea do it</td>\n",
       "      <td>1</td>\n",
       "    </tr>\n",
       "  </tbody>\n",
       "</table>\n",
       "</div>"
      ],
      "text/plain": [
       "        id                                               text  label\n",
       "0  m4upwf5  The coup attempt on TV was TDS.  The hundred p...      1\n",
       "1  md0rafi  you'd be surprised at how many people like fem...      1\n",
       "2  maomrxw                 Last two bull runs started in Feb.      0\n",
       "3  mamxv2s  Lmao yeah sure, if Kamala would have won, BTC ...      0\n",
       "4  m5g70m2    How much you have? More than 500k? If yea do it      1"
      ]
     },
     "execution_count": 65,
     "metadata": {},
     "output_type": "execute_result"
    }
   ],
   "source": [
    "df_all_comments.head()"
   ]
  },
  {
   "cell_type": "code",
   "execution_count": 66,
   "id": "3aa22f23",
   "metadata": {},
   "outputs": [],
   "source": [
    "df_comments = pd.read_csv(os.path.join(DATA_PATH, 'labeled_comments.csv')).rename(columns={'comment_id': 'id'})\n",
    "df_comment = pd.read_csv(os.path.join(DATA_PATH, 'labeled_comment.csv')).rename(columns={'comment_id': 'id'})\n",
    "\n",
    "df_all_comments = pd.concat([df_comments, df_comment], ignore_index=True)\n",
    "df_all_comments = df_all_comments[['id', 'text', 'label']].dropna()\n",
    "df_all_comments['label'] = df_all_comments['label'].astype(int)\n"
   ]
  },
  {
   "cell_type": "markdown",
   "id": "2be8e33c",
   "metadata": {},
   "source": [
    "## Train-Test-Split"
   ]
  },
  {
   "cell_type": "code",
   "execution_count": 67,
   "id": "8b91ce58",
   "metadata": {},
   "outputs": [
    {
     "name": "stdout",
     "output_type": "stream",
     "text": [
      "✅ Splits erzeugt:\n",
      "- Train: 165\n",
      "- Val:   55\n",
      "- Test:  56\n"
     ]
    }
   ],
   "source": [
    "# Stratifizierter Split\n",
    "trainval_df, test_df = train_test_split(\n",
    "    df_all_comments,\n",
    "    test_size=0.2,\n",
    "    stratify=df_all_comments[\"label\"],\n",
    "    random_state=42\n",
    ")\n",
    "\n",
    "train_df, val_df = train_test_split(\n",
    "    trainval_df,\n",
    "    test_size=0.25,  # 0.25 * 0.8 = 0.2 → 60/20/20 Split\n",
    "    stratify=trainval_df[\"label\"],\n",
    "    random_state=42\n",
    ")\n",
    "\n",
    "# Indizes zurücksetzen\n",
    "train_df = train_df.reset_index(drop=True)\n",
    "val_df = val_df.reset_index(drop=True)\n",
    "test_df = test_df.reset_index(drop=True)\n",
    "\n",
    "print(\"✅ Splits erzeugt:\")\n",
    "print(f\"- Train: {len(train_df)}\")\n",
    "print(f\"- Val:   {len(val_df)}\")\n",
    "print(f\"- Test:  {len(test_df)}\")\n"
   ]
  },
  {
   "cell_type": "code",
   "execution_count": 68,
   "id": "ddfb55c1",
   "metadata": {},
   "outputs": [
    {
     "name": "stdout",
     "output_type": "stream",
     "text": [
      "Train size: 165\n",
      "Val size: 55\n",
      "Test size: 56\n",
      "Train labels:\n",
      " label\n",
      "1    82\n",
      "0    55\n",
      "2    28\n",
      "Name: count, dtype: int64\n"
     ]
    }
   ],
   "source": [
    "print(f\"Train size: {len(train_df)}\")\n",
    "print(f\"Val size: {len(val_df)}\")\n",
    "print(f\"Test size: {len(test_df)}\")\n",
    "print(\"Train labels:\\n\", train_df[\"label\"].value_counts())\n"
   ]
  },
  {
   "cell_type": "markdown",
   "id": "e149d816",
   "metadata": {},
   "source": [
    "## Weighted Loss"
   ]
  },
  {
   "cell_type": "markdown",
   "id": "8daf96e8",
   "metadata": {},
   "source": [
    "ab hier wird die class weight loss geaednert"
   ]
  },
  {
   "cell_type": "code",
   "execution_count": null,
   "id": "bc797012",
   "metadata": {},
   "outputs": [],
   "source": [
    "from transformers import Trainer\n",
    "\n",
    "class WeightedLossTrainer(Trainer):\n",
    "    def __init__(self, *args, loss_fn=None, **kwargs):\n",
    "        super().__init__(*args, **kwargs)\n",
    "        self.loss_fn = loss_fn\n",
    "\n",
    "    def compute_loss(self, model, inputs, return_outputs=False, **kwargs):  # ✅ **kwargs ergänzt\n",
    "        labels = inputs.pop(\"labels\")\n",
    "        outputs = model(**inputs)\n",
    "        logits = outputs.logits\n",
    "        loss = self.loss_fn(logits, labels)\n",
    "        return (loss, outputs) if return_outputs else loss\n"
   ]
  },
  {
   "cell_type": "code",
   "execution_count": null,
   "id": "569f56a3",
   "metadata": {},
   "outputs": [],
   "source": [
    "# 🔢 Manuelle Class Weights – hier z. B. stärkerer Fokus auf bearish\n",
    "weights_tensor = torch.tensor([2.0, 1.0, 3.0], dtype=torch.float)\n",
    "device = \"cuda\" if torch.cuda.is_available() else \"cpu\"\n",
    "\n",
    "loss_fn = torch.nn.CrossEntropyLoss(weight=weights_tensor.to(device))\n"
   ]
  },
  {
   "cell_type": "markdown",
   "id": "5f035e1b",
   "metadata": {},
   "source": [
    "## Modelltraining"
   ]
  },
  {
   "cell_type": "markdown",
   "id": "b644c4cd",
   "metadata": {},
   "source": [
    "Modell und Tokenizer laden"
   ]
  },
  {
   "cell_type": "code",
   "execution_count": 71,
   "id": "f576baa4",
   "metadata": {},
   "outputs": [],
   "source": [
    "EXPERIMENTS_BASE_PATH = \"../../models/experiments/\"\n",
    "\n",
    "MODEL_PATHS = {\n",
    "    \"cryptobert_comments\": os.path.join(EXPERIMENTS_BASE_PATH, \"cryptobert_comments\")\n",
    "}\n",
    "\n",
    "for path in MODEL_PATHS.values():\n",
    "    os.makedirs(path, exist_ok=True)\n"
   ]
  },
  {
   "cell_type": "code",
   "execution_count": 72,
   "id": "bc227ae9",
   "metadata": {},
   "outputs": [],
   "source": [
    "tokenizer = AutoTokenizer.from_pretrained(MODEL_PATHS[\"cryptobert_comments\"])\n",
    "model = AutoModelForSequenceClassification.from_pretrained(MODEL_PATHS[\"cryptobert_comments\"], num_labels=3)\n"
   ]
  },
  {
   "cell_type": "code",
   "execution_count": 73,
   "id": "53422b3a",
   "metadata": {},
   "outputs": [],
   "source": [
    "def tokenize_function(example):\n",
    "    return tokenizer(example[\"text\"], truncation=True, padding=\"max_length\", max_length=256)\n"
   ]
  },
  {
   "cell_type": "markdown",
   "id": "f5a8bede",
   "metadata": {},
   "source": [
    "Tokenisierung der Splits"
   ]
  },
  {
   "cell_type": "code",
   "execution_count": 74,
   "id": "6e40075d",
   "metadata": {},
   "outputs": [
    {
     "name": "stderr",
     "output_type": "stream",
     "text": [
      "Map: 100%|██████████| 165/165 [00:00<00:00, 8533.10 examples/s]\n",
      "Map: 100%|██████████| 55/55 [00:00<00:00, 6521.55 examples/s]\n",
      "Map: 100%|██████████| 56/56 [00:00<?, ? examples/s]\n"
     ]
    }
   ],
   "source": [
    "# Tokenisierung\n",
    "train_ds = Dataset.from_pandas(train_df).map(tokenize_function, batched=True)\n",
    "val_ds = Dataset.from_pandas(val_df).map(tokenize_function, batched=True)\n",
    "test_ds = Dataset.from_pandas(test_df).map(tokenize_function, batched=True)\n",
    "\n",
    "# Format setzen – Korrekt pro Dataset!\n",
    "train_ds = train_ds.rename_column(\"label\", \"labels\")\n",
    "val_ds = val_ds.rename_column(\"label\", \"labels\")\n",
    "test_ds = test_ds.rename_column(\"label\", \"labels\")\n",
    "\n",
    "train_ds.set_format(\"torch\", columns=[\"input_ids\", \"attention_mask\", \"labels\"])\n",
    "val_ds.set_format(\"torch\", columns=[\"input_ids\", \"attention_mask\", \"labels\"])\n",
    "test_ds.set_format(\"torch\", columns=[\"input_ids\", \"attention_mask\", \"labels\"])\n"
   ]
  },
  {
   "cell_type": "markdown",
   "id": "e33501d7",
   "metadata": {},
   "source": [
    "Metriken"
   ]
  },
  {
   "cell_type": "code",
   "execution_count": 75,
   "id": "7d126431",
   "metadata": {},
   "outputs": [],
   "source": [
    "def compute_metrics(eval_pred):\n",
    "    logits, labels = eval_pred\n",
    "    preds = logits.argmax(axis=1)\n",
    "    return {\n",
    "        \"accuracy\": accuracy_score(labels, preds),\n",
    "        \"f1\": f1_score(labels, preds, average=\"macro\")\n",
    "    }\n"
   ]
  },
  {
   "cell_type": "markdown",
   "id": "f78f1cf5",
   "metadata": {},
   "source": [
    "Traininsargumente und Trainer"
   ]
  },
  {
   "cell_type": "code",
   "execution_count": 76,
   "id": "f5754a77",
   "metadata": {},
   "outputs": [
    {
     "name": "stderr",
     "output_type": "stream",
     "text": [
      "c:\\Users\\hp\\anaconda3\\envs\\crypto_nlp\\lib\\site-packages\\transformers\\training_args.py:1594: FutureWarning: `evaluation_strategy` is deprecated and will be removed in version 4.46 of 🤗 Transformers. Use `eval_strategy` instead\n",
      "  warnings.warn(\n",
      "C:\\Users\\hp\\AppData\\Local\\Temp\\ipykernel_25212\\3961012866.py:5: FutureWarning: `tokenizer` is deprecated and will be removed in version 5.0.0 for `WeightedLossTrainer.__init__`. Use `processing_class` instead.\n",
      "  super().__init__(*args, **kwargs)\n"
     ]
    },
    {
     "name": "stdout",
     "output_type": "stream",
     "text": [
      "Starte Training für learning_rate = 2e-05\n",
      "{'loss': 1.8874, 'grad_norm': 50.86556625366211, 'learning_rate': 1.8e-05, 'epoch': 1.0}\n",
      "{'eval_loss': 1.4569759368896484, 'eval_accuracy': 0.4727272727272727, 'eval_f1': 0.38080145719489983, 'eval_runtime': 0.4333, 'eval_samples_per_second': 126.926, 'eval_steps_per_second': 16.154, 'epoch': 1.0}\n",
      "{'loss': 0.7287, 'grad_norm': 34.83659744262695, 'learning_rate': 1.6000000000000003e-05, 'epoch': 2.0}\n",
      "{'eval_loss': 1.1547553539276123, 'eval_accuracy': 0.4909090909090909, 'eval_f1': 0.402659238185554, 'eval_runtime': 0.4579, 'eval_samples_per_second': 120.121, 'eval_steps_per_second': 15.288, 'epoch': 2.0}\n",
      "{'loss': 0.3377, 'grad_norm': 10.636144638061523, 'learning_rate': 1.4e-05, 'epoch': 3.0}\n",
      "{'eval_loss': 1.485864520072937, 'eval_accuracy': 0.6181818181818182, 'eval_f1': 0.5150614091790563, 'eval_runtime': 0.4576, 'eval_samples_per_second': 120.191, 'eval_steps_per_second': 15.297, 'epoch': 3.0}\n",
      "{'loss': 0.1638, 'grad_norm': 9.306471824645996, 'learning_rate': 1.2e-05, 'epoch': 4.0}\n",
      "{'eval_loss': 1.3435797691345215, 'eval_accuracy': 0.5454545454545454, 'eval_f1': 0.40767172167707405, 'eval_runtime': 0.4676, 'eval_samples_per_second': 117.62, 'eval_steps_per_second': 14.97, 'epoch': 4.0}\n",
      "{'loss': 0.0834, 'grad_norm': 0.7239826917648315, 'learning_rate': 1e-05, 'epoch': 5.0}\n",
      "{'eval_loss': 1.6610521078109741, 'eval_accuracy': 0.6, 'eval_f1': 0.4824689199689199, 'eval_runtime': 0.4824, 'eval_samples_per_second': 114.019, 'eval_steps_per_second': 14.511, 'epoch': 5.0}\n",
      "{'train_runtime': 36.2253, 'train_samples_per_second': 45.548, 'train_steps_per_second': 5.797, 'train_loss': 0.64020836353302, 'epoch': 5.0}\n",
      "Training für learning_rate = 2e-05 abgeschlossen in 36.47 Sekunden.\n",
      "Starte Training für learning_rate = 1e-05\n"
     ]
    },
    {
     "name": "stderr",
     "output_type": "stream",
     "text": [
      "c:\\Users\\hp\\anaconda3\\envs\\crypto_nlp\\lib\\site-packages\\transformers\\training_args.py:1594: FutureWarning: `evaluation_strategy` is deprecated and will be removed in version 4.46 of 🤗 Transformers. Use `eval_strategy` instead\n",
      "  warnings.warn(\n",
      "C:\\Users\\hp\\AppData\\Local\\Temp\\ipykernel_25212\\3961012866.py:5: FutureWarning: `tokenizer` is deprecated and will be removed in version 5.0.0 for `WeightedLossTrainer.__init__`. Use `processing_class` instead.\n",
      "  super().__init__(*args, **kwargs)\n"
     ]
    },
    {
     "name": "stdout",
     "output_type": "stream",
     "text": [
      "{'loss': 0.1547, 'grad_norm': 14.249785423278809, 'learning_rate': 9e-06, 'epoch': 1.0}\n",
      "{'eval_loss': 1.3321895599365234, 'eval_accuracy': 0.5454545454545454, 'eval_f1': 0.40767172167707405, 'eval_runtime': 0.4834, 'eval_samples_per_second': 113.784, 'eval_steps_per_second': 14.482, 'epoch': 1.0}\n",
      "{'loss': 0.0631, 'grad_norm': 23.480331420898438, 'learning_rate': 8.000000000000001e-06, 'epoch': 2.0}\n",
      "{'eval_loss': 1.6758201122283936, 'eval_accuracy': 0.6, 'eval_f1': 0.4284016636957813, 'eval_runtime': 0.4795, 'eval_samples_per_second': 114.693, 'eval_steps_per_second': 14.597, 'epoch': 2.0}\n",
      "{'loss': 0.0168, 'grad_norm': 0.591170608997345, 'learning_rate': 7e-06, 'epoch': 3.0}\n",
      "{'eval_loss': 1.8087369203567505, 'eval_accuracy': 0.6, 'eval_f1': 0.43791763791763794, 'eval_runtime': 0.4841, 'eval_samples_per_second': 113.617, 'eval_steps_per_second': 14.46, 'epoch': 3.0}\n",
      "{'loss': 0.0248, 'grad_norm': 2.198070526123047, 'learning_rate': 6e-06, 'epoch': 4.0}\n",
      "{'eval_loss': 1.7698907852172852, 'eval_accuracy': 0.6, 'eval_f1': 0.4844939517070664, 'eval_runtime': 0.4985, 'eval_samples_per_second': 110.325, 'eval_steps_per_second': 14.041, 'epoch': 4.0}\n",
      "{'loss': 0.0066, 'grad_norm': 0.09329502284526825, 'learning_rate': 5e-06, 'epoch': 5.0}\n",
      "{'eval_loss': 1.9508999586105347, 'eval_accuracy': 0.6363636363636364, 'eval_f1': 0.5103545691780985, 'eval_runtime': 0.5006, 'eval_samples_per_second': 109.867, 'eval_steps_per_second': 13.983, 'epoch': 5.0}\n",
      "{'loss': 0.0045, 'grad_norm': 0.9248350858688354, 'learning_rate': 4.000000000000001e-06, 'epoch': 6.0}\n",
      "{'eval_loss': 1.9719338417053223, 'eval_accuracy': 0.6181818181818182, 'eval_f1': 0.45526960784313725, 'eval_runtime': 0.5081, 'eval_samples_per_second': 108.256, 'eval_steps_per_second': 13.778, 'epoch': 6.0}\n",
      "{'loss': 0.0035, 'grad_norm': 0.1322919726371765, 'learning_rate': 3e-06, 'epoch': 7.0}\n",
      "{'eval_loss': 2.0374321937561035, 'eval_accuracy': 0.6363636363636364, 'eval_f1': 0.5103545691780985, 'eval_runtime': 0.4657, 'eval_samples_per_second': 118.094, 'eval_steps_per_second': 15.03, 'epoch': 7.0}\n",
      "{'train_runtime': 53.5067, 'train_samples_per_second': 30.837, 'train_steps_per_second': 3.925, 'train_loss': 0.039152036211928545, 'epoch': 7.0}\n",
      "Training für learning_rate = 1e-05 abgeschlossen in 53.72 Sekunden.\n",
      "Starte Training für learning_rate = 5e-06\n"
     ]
    },
    {
     "name": "stderr",
     "output_type": "stream",
     "text": [
      "c:\\Users\\hp\\anaconda3\\envs\\crypto_nlp\\lib\\site-packages\\transformers\\training_args.py:1594: FutureWarning: `evaluation_strategy` is deprecated and will be removed in version 4.46 of 🤗 Transformers. Use `eval_strategy` instead\n",
      "  warnings.warn(\n",
      "C:\\Users\\hp\\AppData\\Local\\Temp\\ipykernel_25212\\3961012866.py:5: FutureWarning: `tokenizer` is deprecated and will be removed in version 5.0.0 for `WeightedLossTrainer.__init__`. Use `processing_class` instead.\n",
      "  super().__init__(*args, **kwargs)\n"
     ]
    },
    {
     "name": "stdout",
     "output_type": "stream",
     "text": [
      "{'loss': 0.0026, 'grad_norm': 0.14300437271595, 'learning_rate': 4.5e-06, 'epoch': 1.0}\n",
      "{'eval_loss': 2.029477834701538, 'eval_accuracy': 0.6181818181818182, 'eval_f1': 0.45526960784313725, 'eval_runtime': 0.5004, 'eval_samples_per_second': 109.915, 'eval_steps_per_second': 13.989, 'epoch': 1.0}\n",
      "{'loss': 0.0021, 'grad_norm': 0.12191887944936752, 'learning_rate': 4.000000000000001e-06, 'epoch': 2.0}\n",
      "{'eval_loss': 2.468302011489868, 'eval_accuracy': 0.6545454545454545, 'eval_f1': 0.4734299516908213, 'eval_runtime': 0.4951, 'eval_samples_per_second': 111.098, 'eval_steps_per_second': 14.14, 'epoch': 2.0}\n",
      "{'loss': 0.001, 'grad_norm': 0.027342259883880615, 'learning_rate': 3.5e-06, 'epoch': 3.0}\n",
      "{'eval_loss': 2.3707680702209473, 'eval_accuracy': 0.6181818181818182, 'eval_f1': 0.45526960784313725, 'eval_runtime': 0.4994, 'eval_samples_per_second': 110.142, 'eval_steps_per_second': 14.018, 'epoch': 3.0}\n",
      "{'loss': 0.0011, 'grad_norm': 0.05271849408745766, 'learning_rate': 3e-06, 'epoch': 4.0}\n",
      "{'eval_loss': 2.256657838821411, 'eval_accuracy': 0.6363636363636364, 'eval_f1': 0.5103545691780985, 'eval_runtime': 0.4831, 'eval_samples_per_second': 113.845, 'eval_steps_per_second': 14.489, 'epoch': 4.0}\n",
      "{'loss': 0.0009, 'grad_norm': 0.020380981266498566, 'learning_rate': 2.5e-06, 'epoch': 5.0}\n",
      "{'eval_loss': 2.2773330211639404, 'eval_accuracy': 0.6363636363636364, 'eval_f1': 0.5103545691780985, 'eval_runtime': 0.4999, 'eval_samples_per_second': 110.027, 'eval_steps_per_second': 14.003, 'epoch': 5.0}\n",
      "{'loss': 0.0011, 'grad_norm': 0.1961887776851654, 'learning_rate': 2.0000000000000003e-06, 'epoch': 6.0}\n",
      "{'eval_loss': 2.345979690551758, 'eval_accuracy': 0.6363636363636364, 'eval_f1': 0.5103545691780985, 'eval_runtime': 0.4906, 'eval_samples_per_second': 112.118, 'eval_steps_per_second': 14.27, 'epoch': 6.0}\n",
      "{'train_runtime': 50.4261, 'train_samples_per_second': 32.721, 'train_steps_per_second': 4.165, 'train_loss': 0.0014821005068601123, 'epoch': 6.0}\n",
      "Training für learning_rate = 5e-06 abgeschlossen in 50.68 Sekunden.\n",
      "Starte Training für learning_rate = 3e-06\n"
     ]
    },
    {
     "name": "stderr",
     "output_type": "stream",
     "text": [
      "c:\\Users\\hp\\anaconda3\\envs\\crypto_nlp\\lib\\site-packages\\transformers\\training_args.py:1594: FutureWarning: `evaluation_strategy` is deprecated and will be removed in version 4.46 of 🤗 Transformers. Use `eval_strategy` instead\n",
      "  warnings.warn(\n",
      "C:\\Users\\hp\\AppData\\Local\\Temp\\ipykernel_25212\\3961012866.py:5: FutureWarning: `tokenizer` is deprecated and will be removed in version 5.0.0 for `WeightedLossTrainer.__init__`. Use `processing_class` instead.\n",
      "  super().__init__(*args, **kwargs)\n"
     ]
    },
    {
     "name": "stdout",
     "output_type": "stream",
     "text": [
      "{'loss': 0.0006, 'grad_norm': 0.029153283685445786, 'learning_rate': 2.7e-06, 'epoch': 1.0}\n",
      "{'eval_loss': 2.3878417015075684, 'eval_accuracy': 0.6363636363636364, 'eval_f1': 0.5103545691780985, 'eval_runtime': 0.5003, 'eval_samples_per_second': 109.932, 'eval_steps_per_second': 13.991, 'epoch': 1.0}\n",
      "{'loss': 0.0005, 'grad_norm': 0.008569609373807907, 'learning_rate': 2.4000000000000003e-06, 'epoch': 2.0}\n",
      "{'eval_loss': 2.5823018550872803, 'eval_accuracy': 0.6181818181818182, 'eval_f1': 0.45526960784313725, 'eval_runtime': 0.5012, 'eval_samples_per_second': 109.733, 'eval_steps_per_second': 13.966, 'epoch': 2.0}\n",
      "{'loss': 0.0004, 'grad_norm': 0.010052761062979698, 'learning_rate': 2.1e-06, 'epoch': 3.0}\n",
      "{'eval_loss': 2.7273786067962646, 'eval_accuracy': 0.6545454545454545, 'eval_f1': 0.5235042735042734, 'eval_runtime': 0.5002, 'eval_samples_per_second': 109.953, 'eval_steps_per_second': 13.994, 'epoch': 3.0}\n",
      "{'loss': 0.0004, 'grad_norm': 0.013153782114386559, 'learning_rate': 1.8e-06, 'epoch': 4.0}\n",
      "{'eval_loss': 2.591445207595825, 'eval_accuracy': 0.6363636363636364, 'eval_f1': 0.5103545691780985, 'eval_runtime': 0.5082, 'eval_samples_per_second': 108.224, 'eval_steps_per_second': 13.774, 'epoch': 4.0}\n",
      "{'loss': 0.0003, 'grad_norm': 0.0067324647679924965, 'learning_rate': 1.5e-06, 'epoch': 5.0}\n",
      "{'eval_loss': 2.653140068054199, 'eval_accuracy': 0.6545454545454545, 'eval_f1': 0.5235042735042734, 'eval_runtime': 0.5118, 'eval_samples_per_second': 107.465, 'eval_steps_per_second': 13.677, 'epoch': 5.0}\n",
      "{'train_runtime': 41.7616, 'train_samples_per_second': 39.51, 'train_steps_per_second': 5.029, 'train_loss': 0.00042362030861633164, 'epoch': 5.0}\n",
      "Training für learning_rate = 3e-06 abgeschlossen in 42.01 Sekunden.\n",
      "Starte Training für learning_rate = 1e-06\n"
     ]
    },
    {
     "name": "stderr",
     "output_type": "stream",
     "text": [
      "c:\\Users\\hp\\anaconda3\\envs\\crypto_nlp\\lib\\site-packages\\transformers\\training_args.py:1594: FutureWarning: `evaluation_strategy` is deprecated and will be removed in version 4.46 of 🤗 Transformers. Use `eval_strategy` instead\n",
      "  warnings.warn(\n",
      "C:\\Users\\hp\\AppData\\Local\\Temp\\ipykernel_25212\\3961012866.py:5: FutureWarning: `tokenizer` is deprecated and will be removed in version 5.0.0 for `WeightedLossTrainer.__init__`. Use `processing_class` instead.\n",
      "  super().__init__(*args, **kwargs)\n"
     ]
    },
    {
     "name": "stdout",
     "output_type": "stream",
     "text": [
      "{'loss': 0.0003, 'grad_norm': 0.010581291280686855, 'learning_rate': 9e-07, 'epoch': 1.0}\n",
      "{'eval_loss': 2.723409652709961, 'eval_accuracy': 0.6545454545454545, 'eval_f1': 0.5235042735042734, 'eval_runtime': 0.5015, 'eval_samples_per_second': 109.66, 'eval_steps_per_second': 13.957, 'epoch': 1.0}\n",
      "{'loss': 0.0003, 'grad_norm': 0.004537882748991251, 'learning_rate': 8e-07, 'epoch': 2.0}\n",
      "{'eval_loss': 2.7227694988250732, 'eval_accuracy': 0.6363636363636364, 'eval_f1': 0.4683760683760683, 'eval_runtime': 0.509, 'eval_samples_per_second': 108.06, 'eval_steps_per_second': 13.753, 'epoch': 2.0}\n",
      "{'loss': 0.0003, 'grad_norm': 0.007023414596915245, 'learning_rate': 7e-07, 'epoch': 3.0}\n",
      "{'eval_loss': 2.805499315261841, 'eval_accuracy': 0.6363636363636364, 'eval_f1': 0.4646464646464647, 'eval_runtime': 0.5086, 'eval_samples_per_second': 108.149, 'eval_steps_per_second': 13.764, 'epoch': 3.0}\n",
      "{'train_runtime': 25.446, 'train_samples_per_second': 64.843, 'train_steps_per_second': 8.253, 'train_loss': 0.00026914627394742437, 'epoch': 3.0}\n",
      "Training für learning_rate = 1e-06 abgeschlossen in 25.77 Sekunden.\n"
     ]
    }
   ],
   "source": [
    "results = {}\n",
    "lrs = [2e-5, 1e-5, 5e-6, 3e-6, 1e-6]\n",
    "\n",
    "for lr in lrs:\n",
    "    print(f\"Starte Training für learning_rate = {lr}\")\n",
    "\n",
    "    output_dir = os.path.join(MODEL_PATHS[\"cryptobert_comments\"], f\"finetuned_lr_{lr}\")\n",
    "    logging_dir = os.path.join(\"../../logs/cryptobert_comments\", f\"lr_{lr}\")\n",
    "    os.makedirs(output_dir, exist_ok=True)\n",
    "    os.makedirs(logging_dir, exist_ok=True)\n",
    "\n",
    "    training_args = TrainingArguments(\n",
    "        output_dir=output_dir,\n",
    "        evaluation_strategy=\"epoch\",\n",
    "        save_strategy=\"epoch\",\n",
    "        learning_rate=lr,\n",
    "        per_device_train_batch_size=8,\n",
    "        per_device_eval_batch_size=8,\n",
    "        num_train_epochs=10,\n",
    "        weight_decay=0.01,\n",
    "        load_best_model_at_end=True,\n",
    "        metric_for_best_model=\"f1\",\n",
    "        logging_dir=logging_dir,\n",
    "        logging_strategy=\"epoch\",\n",
    "        report_to=\"none\",\n",
    "        remove_unused_columns=False,\n",
    "        disable_tqdm=True\n",
    "    )\n",
    "\n",
    "    trainer = WeightedLossTrainer(\n",
    "        model=model,\n",
    "        args=training_args,\n",
    "        train_dataset=train_ds,\n",
    "        eval_dataset=val_ds,\n",
    "        tokenizer=tokenizer,\n",
    "        compute_metrics=compute_metrics,\n",
    "        loss_fn=loss_fn,\n",
    "        callbacks=[EarlyStoppingCallback(early_stopping_patience=2)]\n",
    "    )\n",
    "\n",
    "\n",
    "\n",
    "    start = time.time()\n",
    "    trainer.train()\n",
    "    end = time.time()\n",
    "\n",
    "    logs = trainer.state.log_history\n",
    "    epoch_logs = [log for log in logs if \"eval_f1\" in log]\n",
    "    df = pd.DataFrame(epoch_logs)[[\"epoch\", \"eval_f1\"]]\n",
    "    df[\"learning_rate\"] = lr\n",
    "\n",
    "    results[lr] = {\n",
    "        \"f1_curve\": df,\n",
    "        \"best_f1\": df[\"eval_f1\"].max(),\n",
    "        \"trainer\": trainer\n",
    "    }\n",
    "    print(f\"Training für learning_rate = {lr} abgeschlossen in {end - start:.2f} Sekunden.\")"
   ]
  },
  {
   "cell_type": "markdown",
   "id": "d49437b2",
   "metadata": {},
   "source": [
    "Plott fuer die Lernkurve"
   ]
  },
  {
   "cell_type": "code",
   "execution_count": 77,
   "id": "c12f414d",
   "metadata": {},
   "outputs": [
    {
     "name": "stderr",
     "output_type": "stream",
     "text": [
      "C:\\Users\\hp\\AppData\\Local\\Temp\\ipykernel_25212\\460586369.py:12: UserWarning: Glyph 128200 (\\N{CHART WITH UPWARDS TREND}) missing from font(s) DejaVu Sans.\n",
      "  plt.tight_layout()\n",
      "c:\\Users\\hp\\anaconda3\\envs\\crypto_nlp\\lib\\site-packages\\IPython\\core\\pylabtools.py:152: UserWarning: Glyph 128200 (\\N{CHART WITH UPWARDS TREND}) missing from font(s) DejaVu Sans.\n",
      "  fig.canvas.print_figure(bytes_io, **kw)\n"
     ]
    },
    {
     "data": {
      "image/png": "[encoded data removed]",
      "text/plain": [
       "<Figure size 800x500 with 1 Axes>"
      ]
     },
     "metadata": {},
     "output_type": "display_data"
    }
   ],
   "source": [
    "plt.figure(figsize=(8, 5))\n",
    "\n",
    "for lr, data in results.items():\n",
    "    df = data[\"f1_curve\"]\n",
    "    plt.plot(df[\"epoch\"], df[\"eval_f1\"], marker=\"o\", label=f\"lr={lr}\")\n",
    "\n",
    "plt.title(\"📈 Lernkurven (Validation F1) – CryptoBERT bei verschiedenen Lernraten\")\n",
    "plt.xlabel(\"Epoche\")\n",
    "plt.ylabel(\"F1 (macro)\")\n",
    "plt.legend()\n",
    "plt.grid(True)\n",
    "plt.tight_layout()\n",
    "plt.show()\n"
   ]
  },
  {
   "cell_type": "code",
   "execution_count": 78,
   "id": "07c2769d",
   "metadata": {},
   "outputs": [
    {
     "name": "stdout",
     "output_type": "stream",
     "text": [
      "lr=2e-05: best_f1=0.5151\n",
      "lr=1e-05: best_f1=0.5104\n",
      "lr=5e-06: best_f1=0.5104\n",
      "lr=3e-06: best_f1=0.5235\n",
      "lr=1e-06: best_f1=0.5235\n"
     ]
    }
   ],
   "source": [
    "for lr, res in results.items():\n",
    "    print(f\"lr={lr}: best_f1={res['best_f1']:.4f}\")\n"
   ]
  },
  {
   "cell_type": "code",
   "execution_count": 79,
   "id": "dd8dd6c2",
   "metadata": {},
   "outputs": [
    {
     "name": "stdout",
     "output_type": "stream",
     "text": [
      "\n",
      "🏆 Beste Lernrate: 3e-06 mit F1 = 0.5235\n"
     ]
    }
   ],
   "source": [
    "# Beste Lernrate bestimmen\n",
    "best_lr = max(results.items(), key=lambda x: x[1][\"best_f1\"])[0]\n",
    "best_trainer = results[best_lr][\"trainer\"]\n",
    "\n",
    "print(f\"\\n🏆 Beste Lernrate: {best_lr} mit F1 = {results[best_lr]['best_f1']:.4f}\")\n"
   ]
  },
  {
   "cell_type": "markdown",
   "id": "926c0bd9",
   "metadata": {},
   "source": [
    "Evaluation im finalen Testsplit"
   ]
  },
  {
   "cell_type": "code",
   "execution_count": 80,
   "id": "1c455390",
   "metadata": {},
   "outputs": [
    {
     "name": "stdout",
     "output_type": "stream",
     "text": [
      "\n",
      "Evaluation auf Testset:\n",
      "F1-Score (macro): 0.3651\n",
      "Cohen’s Kappa:    0.0911\n",
      "\n",
      "Klassifikationsreport:\n",
      "              precision    recall  f1-score   support\n",
      "\n",
      "           0       0.33      0.17      0.22        18\n",
      "           1       0.58      0.68      0.62        28\n",
      "           2       0.21      0.30      0.25        10\n",
      "\n",
      "    accuracy                           0.45        56\n",
      "   macro avg       0.37      0.38      0.37        56\n",
      "weighted avg       0.43      0.45      0.43        56\n",
      "\n"
     ]
    }
   ],
   "source": [
    "from sklearn.metrics import classification_report, f1_score, cohen_kappa_score\n",
    "\n",
    "# Vorhersage\n",
    "test_results = best_trainer.predict(test_ds)\n",
    "\n",
    "# Argmax → Vorhersageklassen\n",
    "y_pred = test_results.predictions.argmax(axis=1)\n",
    "y_true = test_results.label_ids\n",
    "\n",
    "# 🔁 Label-Mapping: CryptoBERT → eigene Labelstruktur\n",
    "label_mapping = {2: 0, 1: 1, 0: 2}  # 0=neg → 2=bearish, 2=pos → 0=bullish\n",
    "y_pred = [label_mapping[p] for p in y_pred]\n",
    "\n",
    "# Hauptmetriken berechnen\n",
    "f1_macro = f1_score(y_true, y_pred, average=\"macro\")\n",
    "kappa = cohen_kappa_score(y_true, y_pred)\n",
    "\n",
    "# Ausgabe\n",
    "print(\"\\nEvaluation auf Testset:\")\n",
    "print(\"F1-Score (macro):\", round(f1_macro, 4))\n",
    "print(\"Cohen’s Kappa:   \", round(kappa, 4))\n",
    "print(\"\\nKlassifikationsreport:\")\n",
    "print(classification_report(y_true, y_pred))\n"
   ]
  },
  {
   "cell_type": "markdown",
   "id": "20c0d4a2",
   "metadata": {},
   "source": [
    "Falsche Vorhersagen"
   ]
  },
  {
   "cell_type": "code",
   "execution_count": 81,
   "id": "3f24de64",
   "metadata": {},
   "outputs": [
    {
     "data": {
      "text/html": [
       "<div>\n",
       "<style scoped>\n",
       "    .dataframe tbody tr th:only-of-type {\n",
       "        vertical-align: middle;\n",
       "    }\n",
       "\n",
       "    .dataframe tbody tr th {\n",
       "        vertical-align: top;\n",
       "    }\n",
       "\n",
       "    .dataframe thead th {\n",
       "        text-align: right;\n",
       "    }\n",
       "</style>\n",
       "<table border=\"1\" class=\"dataframe\">\n",
       "  <thead>\n",
       "    <tr style=\"text-align: right;\">\n",
       "      <th></th>\n",
       "      <th>text</th>\n",
       "      <th>true</th>\n",
       "      <th>predicted</th>\n",
       "    </tr>\n",
       "  </thead>\n",
       "  <tbody>\n",
       "    <tr>\n",
       "      <th>2</th>\n",
       "      <td>Jesus dude even the haters on here back in the...</td>\n",
       "      <td>2</td>\n",
       "      <td>0</td>\n",
       "    </tr>\n",
       "    <tr>\n",
       "      <th>4</th>\n",
       "      <td>Lmao yeah sure, if Kamala would have won, BTC ...</td>\n",
       "      <td>0</td>\n",
       "      <td>1</td>\n",
       "    </tr>\n",
       "    <tr>\n",
       "      <th>7</th>\n",
       "      <td>Nah.. im done chilling…Another excuse eh? What...</td>\n",
       "      <td>2</td>\n",
       "      <td>0</td>\n",
       "    </tr>\n",
       "    <tr>\n",
       "      <th>9</th>\n",
       "      <td>CGPT 🚀🚀</td>\n",
       "      <td>0</td>\n",
       "      <td>2</td>\n",
       "    </tr>\n",
       "    <tr>\n",
       "      <th>10</th>\n",
       "      <td>Yeah I bought the Pepe discount\\n\\nI hate pepe...</td>\n",
       "      <td>0</td>\n",
       "      <td>1</td>\n",
       "    </tr>\n",
       "    <tr>\n",
       "      <th>11</th>\n",
       "      <td>That is also true, I think that is also due to...</td>\n",
       "      <td>2</td>\n",
       "      <td>1</td>\n",
       "    </tr>\n",
       "    <tr>\n",
       "      <th>13</th>\n",
       "      <td>Everything from gold to stocks are valued by s...</td>\n",
       "      <td>1</td>\n",
       "      <td>0</td>\n",
       "    </tr>\n",
       "    <tr>\n",
       "      <th>16</th>\n",
       "      <td>!topics</td>\n",
       "      <td>1</td>\n",
       "      <td>2</td>\n",
       "    </tr>\n",
       "    <tr>\n",
       "      <th>17</th>\n",
       "      <td>The pros in crypto are inversed</td>\n",
       "      <td>1</td>\n",
       "      <td>2</td>\n",
       "    </tr>\n",
       "    <tr>\n",
       "      <th>18</th>\n",
       "      <td>Why do the masses think they know better than ...</td>\n",
       "      <td>0</td>\n",
       "      <td>2</td>\n",
       "    </tr>\n",
       "  </tbody>\n",
       "</table>\n",
       "</div>"
      ],
      "text/plain": [
       "                                                 text  true  predicted\n",
       "2   Jesus dude even the haters on here back in the...     2          0\n",
       "4   Lmao yeah sure, if Kamala would have won, BTC ...     0          1\n",
       "7   Nah.. im done chilling…Another excuse eh? What...     2          0\n",
       "9                                             CGPT 🚀🚀     0          2\n",
       "10  Yeah I bought the Pepe discount\\n\\nI hate pepe...     0          1\n",
       "11  That is also true, I think that is also due to...     2          1\n",
       "13  Everything from gold to stocks are valued by s...     1          0\n",
       "16                                            !topics     1          2\n",
       "17                    The pros in crypto are inversed     1          2\n",
       "18  Why do the masses think they know better than ...     0          2"
      ]
     },
     "execution_count": 81,
     "metadata": {},
     "output_type": "execute_result"
    }
   ],
   "source": [
    "wrong = [(i, p, t) for i, (p, t) in enumerate(zip(y_pred, y_true)) if p != t]\n",
    "wrong_df = test_df.iloc[[i for i, _, _ in wrong]].copy()\n",
    "wrong_df[\"predicted\"] = [p for _, p, _ in wrong]\n",
    "wrong_df[\"true\"] = [t for _, _, t in wrong]\n",
    "\n",
    "wrong_df[[\"text\", \"true\", \"predicted\"]].head(10)\n"
   ]
  }
 ],
 "metadata": {
  "kernelspec": {
   "display_name": "crypto_nlp",
   "language": "python",
   "name": "python3"
  },
  "language_info": {
   "codemirror_mode": {
    "name": "ipython",
    "version": 3
   },
   "file_extension": ".py",
   "mimetype": "text/x-python",
   "name": "python",
   "nbconvert_exporter": "python",
   "pygments_lexer": "ipython3",
   "version": "3.9.21"
  }
 },
 "nbformat": 4,
 "nbformat_minor": 5
}
