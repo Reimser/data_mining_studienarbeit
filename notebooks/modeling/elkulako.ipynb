{
 "cells": [
  {
   "cell_type": "markdown",
   "id": "42b707a7",
   "metadata": {},
   "source": [
    "# Finetunen vom Elkulako/cryptobert Modell"
   ]
  },
  {
   "cell_type": "markdown",
   "id": "d83cc7cd",
   "metadata": {
    "vscode": {
     "languageId": "plaintext"
    }
   },
   "source": [
    "## Import"
   ]
  },
  {
   "cell_type": "code",
   "execution_count": 49,
   "id": "613bdc57",
   "metadata": {},
   "outputs": [],
   "source": [
    "import os\n",
    "import torch\n",
    "import pandas as pd\n",
    "from sklearn.model_selection import train_test_split\n",
    "from datasets import Dataset\n",
    "from transformers import DebertaV2Tokenizer, AutoModelForSequenceClassification, Trainer, TrainingArguments, AutoTokenizer, EarlyStoppingCallback\n",
    "import evaluate\n",
    "import numpy as np\n",
    "import torch\n",
    "from sklearn.metrics import accuracy_score, f1_score\n",
    "import matplotlib.pyplot as plt\n",
    "import seaborn as sns\n",
    "import time\n",
    "import pandas as pd\n",
    "from transformers import AutoModelForSequenceClassification, Trainer, TrainingArguments\n",
    "import transformers\n",
    "import warnings"
   ]
  },
  {
   "cell_type": "code",
   "execution_count": 50,
   "id": "3a3e2ffb",
   "metadata": {},
   "outputs": [
    {
     "name": "stdout",
     "output_type": "stream",
     "text": [
      "Using cuda device\n"
     ]
    }
   ],
   "source": [
    "# Cuda pruefen\n",
    "device = \"cuda\" if torch.cuda.is_available() else \"cpu\"\n",
    "print(\"Using {} device\".format(device))"
   ]
  },
  {
   "cell_type": "code",
   "execution_count": 51,
   "id": "78d4beaa",
   "metadata": {},
   "outputs": [],
   "source": [
    "DATA_PATH = '../../data/processed/'"
   ]
  },
  {
   "cell_type": "code",
   "execution_count": 52,
   "id": "3aa22f23",
   "metadata": {},
   "outputs": [
    {
     "name": "stdout",
     "output_type": "stream",
     "text": [
      "✅ Gesamtdatensatz mit 574 gelabelten Beispielen bereit.\n"
     ]
    }
   ],
   "source": [
    "# CSV-Dateien laden aus dem definierten Verzeichnis\n",
    "df_posts_old = pd.read_csv(DATA_PATH + \"labeled_posts.csv\").rename(columns={\"post_id\": \"id\"})\n",
    "df_comments_old = pd.read_csv(DATA_PATH + \"labeled_comments.csv\").rename(columns={\"comment_id\": \"id\"})\n",
    "df_new_posts = pd.read_csv(DATA_PATH + \"labeled_post.csv\").rename(columns={\"post_id\": \"id\"})\n",
    "df_new_comments = pd.read_csv(DATA_PATH + \"labeled_comment.csv\").rename(columns={\"comment_id\": \"id\"})\n",
    "\n",
    "# Alle 4 Datasets zusammenfassen → 600 Samples\n",
    "df_all_labeled = pd.concat([df_posts_old, df_comments_old, df_new_posts, df_new_comments], ignore_index=True)\n",
    "df_all_labeled = df_all_labeled[['id', 'text', 'label']].dropna()\n",
    "df_all_labeled['label'] = pd.to_numeric(df_all_labeled['label'], errors='coerce')\n",
    "df_all_labeled = df_all_labeled.dropna(subset=['label'])\n",
    "df_all_labeled['label'] = df_all_labeled['label'].astype(int)\n",
    "\n",
    "print(f\"✅ Gesamtdatensatz mit {len(df_all_labeled)} gelabelten Beispielen bereit.\")"
   ]
  },
  {
   "cell_type": "markdown",
   "id": "2be8e33c",
   "metadata": {},
   "source": [
    "## Train-Test-Split"
   ]
  },
  {
   "cell_type": "code",
   "execution_count": 53,
   "id": "745eb2bf",
   "metadata": {},
   "outputs": [],
   "source": [
    "# 1. Testdaten abspalten (20 %)\n",
    "trainval_df, test_df = train_test_split(\n",
    "    df_all_labeled,\n",
    "    test_size=0.2,\n",
    "    stratify=df_all_labeled[\"label\"],\n",
    "    random_state=42\n",
    ")\n",
    "\n",
    "# 2. Training/Validierung splitten (60 % / 20 % → 75 % / 25 % von trainval)\n",
    "train_df, val_df = train_test_split(\n",
    "    trainval_df,\n",
    "    test_size=0.25,\n",
    "    stratify=trainval_df[\"label\"],\n",
    "    random_state=42\n",
    ")\n",
    "\n",
    "# 3. Indizes zurücksetzen\n",
    "train_df = train_df.reset_index(drop=True)\n",
    "val_df = val_df.reset_index(drop=True)\n",
    "test_df = test_df.reset_index(drop=True)\n"
   ]
  },
  {
   "cell_type": "code",
   "execution_count": 54,
   "id": "ddfb55c1",
   "metadata": {},
   "outputs": [
    {
     "name": "stdout",
     "output_type": "stream",
     "text": [
      "Train size: 344\n",
      "Val size: 115\n",
      "Test size: 115\n",
      "Train labels:\n",
      " label\n",
      "1    180\n",
      "0    112\n",
      "2     52\n",
      "Name: count, dtype: int64\n"
     ]
    }
   ],
   "source": [
    "print(f\"Train size: {len(train_df)}\")\n",
    "print(f\"Val size: {len(val_df)}\")\n",
    "print(f\"Test size: {len(test_df)}\")\n",
    "print(\"Train labels:\\n\", train_df[\"label\"].value_counts())\n"
   ]
  },
  {
   "cell_type": "markdown",
   "id": "8daf96e8",
   "metadata": {},
   "source": [
    "ab hier wird die class weight loss geaednert"
   ]
  },
  {
   "cell_type": "code",
   "execution_count": 55,
   "id": "bc797012",
   "metadata": {},
   "outputs": [],
   "source": [
    "from transformers import Trainer\n",
    "\n",
    "class WeightedLossTrainer(Trainer):\n",
    "    def __init__(self, *args, loss_fn=None, **kwargs):\n",
    "        super().__init__(*args, **kwargs)\n",
    "        self.loss_fn = loss_fn\n",
    "\n",
    "    def compute_loss(self, model, inputs, return_outputs=False, **kwargs):  # ✅ **kwargs ergänzt\n",
    "        labels = inputs.pop(\"labels\")\n",
    "        outputs = model(**inputs)\n",
    "        logits = outputs.logits\n",
    "        loss = self.loss_fn(logits, labels)\n",
    "        return (loss, outputs) if return_outputs else loss\n"
   ]
  },
  {
   "cell_type": "code",
   "execution_count": 56,
   "id": "569f56a3",
   "metadata": {},
   "outputs": [],
   "source": [
    "# Beispielhafte Gewichte (anpassbar)\n",
    "weights_tensor = torch.tensor([1.0, 1.0, 3.0], dtype=torch.float)\n",
    "device = \"cuda\" if torch.cuda.is_available() else \"cpu\"\n",
    "\n",
    "loss_fn = FocalLoss(alpha=weights_tensor.to(device), gamma=2.0)\n"
   ]
  },
  {
   "cell_type": "markdown",
   "id": "5f035e1b",
   "metadata": {},
   "source": [
    "## Modelltraining"
   ]
  },
  {
   "cell_type": "markdown",
   "id": "b644c4cd",
   "metadata": {},
   "source": [
    "Modell und Tokenizer laden"
   ]
  },
  {
   "cell_type": "code",
   "execution_count": 57,
   "id": "f576baa4",
   "metadata": {},
   "outputs": [],
   "source": [
    "EXPERIMENTS_BASE_PATH = \"../../models/experiments/\"\n",
    "\n",
    "MODEL_PATHS = {\n",
    "    \"cryptobert_elkulako\": os.path.join(EXPERIMENTS_BASE_PATH, \"cryptobert_elkulako\")\n",
    "}\n",
    "\n",
    "for path in MODEL_PATHS.values():\n",
    "    os.makedirs(path, exist_ok=True)\n"
   ]
  },
  {
   "cell_type": "code",
   "execution_count": 58,
   "id": "bc227ae9",
   "metadata": {},
   "outputs": [],
   "source": [
    "tokenizer = AutoTokenizer.from_pretrained(MODEL_PATHS[\"cryptobert_elkulako\"])\n",
    "model = AutoModelForSequenceClassification.from_pretrained(MODEL_PATHS[\"cryptobert_elkulako\"], num_labels=3)\n"
   ]
  },
  {
   "cell_type": "code",
   "execution_count": 59,
   "id": "53422b3a",
   "metadata": {},
   "outputs": [],
   "source": [
    "def tokenize_function(example):\n",
    "    return tokenizer(example[\"text\"], truncation=True, padding=\"max_length\", max_length=256)\n"
   ]
  },
  {
   "cell_type": "markdown",
   "id": "f5a8bede",
   "metadata": {},
   "source": [
    "Tokenisierung der Splits"
   ]
  },
  {
   "cell_type": "code",
   "execution_count": 60,
   "id": "6e40075d",
   "metadata": {},
   "outputs": [
    {
     "name": "stderr",
     "output_type": "stream",
     "text": [
      "Map: 100%|██████████| 344/344 [00:00<00:00, 5149.43 examples/s]\n",
      "Map: 100%|██████████| 115/115 [00:00<00:00, 6959.44 examples/s]\n",
      "Map: 100%|██████████| 115/115 [00:00<00:00, 6900.99 examples/s]\n"
     ]
    }
   ],
   "source": [
    "# Tokenisierung\n",
    "train_ds = Dataset.from_pandas(train_df).map(tokenize_function, batched=True)\n",
    "val_ds = Dataset.from_pandas(val_df).map(tokenize_function, batched=True)\n",
    "test_ds = Dataset.from_pandas(test_df).map(tokenize_function, batched=True)\n",
    "\n",
    "# Format setzen – Korrekt pro Dataset!\n",
    "train_ds = train_ds.rename_column(\"label\", \"labels\")\n",
    "val_ds = val_ds.rename_column(\"label\", \"labels\")\n",
    "test_ds = test_ds.rename_column(\"label\", \"labels\")\n",
    "\n",
    "train_ds.set_format(\"torch\", columns=[\"input_ids\", \"attention_mask\", \"labels\"])\n",
    "val_ds.set_format(\"torch\", columns=[\"input_ids\", \"attention_mask\", \"labels\"])\n",
    "test_ds.set_format(\"torch\", columns=[\"input_ids\", \"attention_mask\", \"labels\"])\n"
   ]
  },
  {
   "cell_type": "markdown",
   "id": "e33501d7",
   "metadata": {},
   "source": [
    "Metriken"
   ]
  },
  {
   "cell_type": "code",
   "execution_count": 61,
   "id": "7d126431",
   "metadata": {},
   "outputs": [],
   "source": [
    "def compute_metrics(eval_pred):\n",
    "    logits, labels = eval_pred\n",
    "    preds = logits.argmax(axis=1)\n",
    "    return {\n",
    "        \"accuracy\": accuracy_score(labels, preds),\n",
    "        \"f1\": f1_score(labels, preds, average=\"macro\")\n",
    "    }\n"
   ]
  },
  {
   "cell_type": "markdown",
   "id": "f78f1cf5",
   "metadata": {},
   "source": [
    "Traininsargumente und Trainer"
   ]
  },
  {
   "cell_type": "code",
   "execution_count": 62,
   "id": "f5754a77",
   "metadata": {},
   "outputs": [
    {
     "name": "stderr",
     "output_type": "stream",
     "text": [
      "c:\\Users\\hp\\anaconda3\\envs\\crypto_nlp\\lib\\site-packages\\transformers\\training_args.py:1594: FutureWarning: `evaluation_strategy` is deprecated and will be removed in version 4.46 of 🤗 Transformers. Use `eval_strategy` instead\n",
      "  warnings.warn(\n",
      "C:\\Users\\hp\\AppData\\Local\\Temp\\ipykernel_16084\\3961012866.py:5: FutureWarning: `tokenizer` is deprecated and will be removed in version 5.0.0 for `WeightedLossTrainer.__init__`. Use `processing_class` instead.\n",
      "  super().__init__(*args, **kwargs)\n"
     ]
    },
    {
     "name": "stdout",
     "output_type": "stream",
     "text": [
      "Starte Training für learning_rate = 2e-05\n",
      "{'loss': 1.5656, 'grad_norm': 40.91317367553711, 'learning_rate': 1.6000000000000003e-05, 'epoch': 1.0}\n",
      "{'eval_loss': 0.91550612449646, 'eval_accuracy': 0.4956521739130435, 'eval_f1': 0.4257770410277663, 'eval_runtime': 0.9541, 'eval_samples_per_second': 120.534, 'eval_steps_per_second': 15.722, 'epoch': 1.0}\n",
      "{'loss': 0.5181, 'grad_norm': 8.726937294006348, 'learning_rate': 1.2e-05, 'epoch': 2.0}\n",
      "{'eval_loss': 0.9358824491500854, 'eval_accuracy': 0.5304347826086957, 'eval_f1': 0.484193193884446, 'eval_runtime': 0.9232, 'eval_samples_per_second': 124.561, 'eval_steps_per_second': 16.247, 'epoch': 2.0}\n",
      "{'loss': 0.2672, 'grad_norm': 26.808979034423828, 'learning_rate': 8.000000000000001e-06, 'epoch': 3.0}\n",
      "{'eval_loss': 1.020721673965454, 'eval_accuracy': 0.5217391304347826, 'eval_f1': 0.4982864251171361, 'eval_runtime': 0.9355, 'eval_samples_per_second': 122.925, 'eval_steps_per_second': 16.034, 'epoch': 3.0}\n",
      "{'loss': 0.1205, 'grad_norm': 25.863155364990234, 'learning_rate': 4.000000000000001e-06, 'epoch': 4.0}\n",
      "{'eval_loss': 1.2224043607711792, 'eval_accuracy': 0.5652173913043478, 'eval_f1': 0.49368904388259227, 'eval_runtime': 0.984, 'eval_samples_per_second': 116.874, 'eval_steps_per_second': 15.244, 'epoch': 4.0}\n",
      "{'loss': 0.0477, 'grad_norm': 0.7291697859764099, 'learning_rate': 0.0, 'epoch': 5.0}\n",
      "{'eval_loss': 1.244214415550232, 'eval_accuracy': 0.591304347826087, 'eval_f1': 0.4991898148148148, 'eval_runtime': 1.0022, 'eval_samples_per_second': 114.743, 'eval_steps_per_second': 14.966, 'epoch': 5.0}\n",
      "{'train_runtime': 64.6707, 'train_samples_per_second': 26.596, 'train_steps_per_second': 3.325, 'train_loss': 0.5038233158200286, 'epoch': 5.0}\n",
      "Training für learning_rate = 2e-05 abgeschlossen in 64.96 Sekunden.\n",
      "Starte Training für learning_rate = 1e-05\n"
     ]
    },
    {
     "name": "stderr",
     "output_type": "stream",
     "text": [
      "c:\\Users\\hp\\anaconda3\\envs\\crypto_nlp\\lib\\site-packages\\transformers\\training_args.py:1594: FutureWarning: `evaluation_strategy` is deprecated and will be removed in version 4.46 of 🤗 Transformers. Use `eval_strategy` instead\n",
      "  warnings.warn(\n",
      "C:\\Users\\hp\\AppData\\Local\\Temp\\ipykernel_16084\\3961012866.py:5: FutureWarning: `tokenizer` is deprecated and will be removed in version 5.0.0 for `WeightedLossTrainer.__init__`. Use `processing_class` instead.\n",
      "  super().__init__(*args, **kwargs)\n"
     ]
    },
    {
     "name": "stdout",
     "output_type": "stream",
     "text": [
      "{'loss': 0.0464, 'grad_norm': 32.23323059082031, 'learning_rate': 8.000000000000001e-06, 'epoch': 1.0}\n",
      "{'eval_loss': 1.7213659286499023, 'eval_accuracy': 0.6, 'eval_f1': 0.48749955259672856, 'eval_runtime': 0.9925, 'eval_samples_per_second': 115.868, 'eval_steps_per_second': 15.113, 'epoch': 1.0}\n",
      "{'loss': 0.0107, 'grad_norm': 0.19529259204864502, 'learning_rate': 6e-06, 'epoch': 2.0}\n",
      "{'eval_loss': 1.5384169816970825, 'eval_accuracy': 0.5478260869565217, 'eval_f1': 0.44113632171186135, 'eval_runtime': 0.9786, 'eval_samples_per_second': 117.51, 'eval_steps_per_second': 15.327, 'epoch': 2.0}\n",
      "{'loss': 0.0024, 'grad_norm': 0.4563542902469635, 'learning_rate': 4.000000000000001e-06, 'epoch': 3.0}\n",
      "{'eval_loss': 1.6666690111160278, 'eval_accuracy': 0.5826086956521739, 'eval_f1': 0.46535244922341695, 'eval_runtime': 1.0335, 'eval_samples_per_second': 111.271, 'eval_steps_per_second': 14.514, 'epoch': 3.0}\n",
      "{'train_runtime': 39.0135, 'train_samples_per_second': 44.087, 'train_steps_per_second': 5.511, 'train_loss': 0.019826808236828145, 'epoch': 3.0}\n",
      "Training für learning_rate = 1e-05 abgeschlossen in 39.20 Sekunden.\n",
      "Starte Training für learning_rate = 5e-06\n"
     ]
    },
    {
     "name": "stderr",
     "output_type": "stream",
     "text": [
      "c:\\Users\\hp\\anaconda3\\envs\\crypto_nlp\\lib\\site-packages\\transformers\\training_args.py:1594: FutureWarning: `evaluation_strategy` is deprecated and will be removed in version 4.46 of 🤗 Transformers. Use `eval_strategy` instead\n",
      "  warnings.warn(\n",
      "C:\\Users\\hp\\AppData\\Local\\Temp\\ipykernel_16084\\3961012866.py:5: FutureWarning: `tokenizer` is deprecated and will be removed in version 5.0.0 for `WeightedLossTrainer.__init__`. Use `processing_class` instead.\n",
      "  super().__init__(*args, **kwargs)\n"
     ]
    },
    {
     "name": "stdout",
     "output_type": "stream",
     "text": [
      "{'loss': 0.013, 'grad_norm': 25.79927635192871, 'learning_rate': 4.000000000000001e-06, 'epoch': 1.0}\n",
      "{'eval_loss': 1.7328513860702515, 'eval_accuracy': 0.5739130434782609, 'eval_f1': 0.4375746714456392, 'eval_runtime': 0.9861, 'eval_samples_per_second': 116.623, 'eval_steps_per_second': 15.212, 'epoch': 1.0}\n",
      "{'loss': 0.0027, 'grad_norm': 0.01137116365134716, 'learning_rate': 3e-06, 'epoch': 2.0}\n",
      "{'eval_loss': 1.5261362791061401, 'eval_accuracy': 0.591304347826087, 'eval_f1': 0.48052430661126316, 'eval_runtime': 1.0176, 'eval_samples_per_second': 113.006, 'eval_steps_per_second': 14.74, 'epoch': 2.0}\n",
      "{'loss': 0.0016, 'grad_norm': 0.28229647874832153, 'learning_rate': 2.0000000000000003e-06, 'epoch': 3.0}\n",
      "{'eval_loss': 1.6723171472549438, 'eval_accuracy': 0.6, 'eval_f1': 0.4838425168212403, 'eval_runtime': 1.0034, 'eval_samples_per_second': 114.608, 'eval_steps_per_second': 14.949, 'epoch': 3.0}\n",
      "{'loss': 0.0024, 'grad_norm': 0.8977367281913757, 'learning_rate': 1.0000000000000002e-06, 'epoch': 4.0}\n",
      "{'eval_loss': 1.5874786376953125, 'eval_accuracy': 0.5739130434782609, 'eval_f1': 0.4626035902631647, 'eval_runtime': 1.0382, 'eval_samples_per_second': 110.769, 'eval_steps_per_second': 14.448, 'epoch': 4.0}\n",
      "{'loss': 0.0022, 'grad_norm': 0.09468323737382889, 'learning_rate': 0.0, 'epoch': 5.0}\n",
      "{'eval_loss': 1.6110092401504517, 'eval_accuracy': 0.5739130434782609, 'eval_f1': 0.4648375193096841, 'eval_runtime': 1.1084, 'eval_samples_per_second': 103.757, 'eval_steps_per_second': 13.534, 'epoch': 5.0}\n",
      "{'train_runtime': 69.2863, 'train_samples_per_second': 24.825, 'train_steps_per_second': 3.103, 'train_loss': 0.004377736255180004, 'epoch': 5.0}\n",
      "Training für learning_rate = 5e-06 abgeschlossen in 69.48 Sekunden.\n"
     ]
    }
   ],
   "source": [
    "results = {}\n",
    "lrs = [2e-5, 1e-5, 5e-6]\n",
    "\n",
    "for lr in lrs:\n",
    "    print(f\"Starte Training für learning_rate = {lr}\")\n",
    "\n",
    "    output_dir = os.path.join(MODEL_PATHS[\"cryptobert_elkulako\"], f\"finetuned_lr_{lr}\")\n",
    "    logging_dir = os.path.join(\"../../logs/cryptobert_elkulako\", f\"lr_{lr}\")\n",
    "    os.makedirs(output_dir, exist_ok=True)\n",
    "    os.makedirs(logging_dir, exist_ok=True)\n",
    "\n",
    "    training_args = TrainingArguments(\n",
    "        output_dir=output_dir,\n",
    "        evaluation_strategy=\"epoch\",\n",
    "        save_strategy=\"epoch\",\n",
    "        learning_rate=lr,\n",
    "        per_device_train_batch_size=8,\n",
    "        per_device_eval_batch_size=8,\n",
    "        num_train_epochs=5,\n",
    "        weight_decay=0.01,\n",
    "        load_best_model_at_end=True,\n",
    "        metric_for_best_model=\"f1\",\n",
    "        logging_dir=logging_dir,\n",
    "        logging_strategy=\"epoch\",\n",
    "        report_to=\"none\",\n",
    "        remove_unused_columns=False,\n",
    "        disable_tqdm=True\n",
    "    )\n",
    "\n",
    "    trainer = WeightedLossTrainer(\n",
    "    model=model,\n",
    "    args=training_args,\n",
    "    train_dataset=train_ds,\n",
    "    eval_dataset=val_ds,\n",
    "    tokenizer=tokenizer,\n",
    "    compute_metrics=compute_metrics,\n",
    "    loss_fn=loss_fn,\n",
    "    callbacks=[EarlyStoppingCallback(early_stopping_patience=2)]\n",
    ")\n",
    "\n",
    "\n",
    "\n",
    "    start = time.time()\n",
    "    trainer.train()\n",
    "    end = time.time()\n",
    "\n",
    "    logs = trainer.state.log_history\n",
    "    epoch_logs = [log for log in logs if \"eval_f1\" in log]\n",
    "    df = pd.DataFrame(epoch_logs)[[\"epoch\", \"eval_f1\"]]\n",
    "    df[\"learning_rate\"] = lr\n",
    "\n",
    "    results[lr] = {\n",
    "        \"f1_curve\": df,\n",
    "        \"best_f1\": df[\"eval_f1\"].max(),\n",
    "        \"trainer\": trainer\n",
    "    }\n",
    "    print(f\"Training für learning_rate = {lr} abgeschlossen in {end - start:.2f} Sekunden.\")"
   ]
  },
  {
   "cell_type": "markdown",
   "id": "d49437b2",
   "metadata": {},
   "source": [
    "Plott fuer die Lernkurve"
   ]
  },
  {
   "cell_type": "code",
   "execution_count": 63,
   "id": "c12f414d",
   "metadata": {},
   "outputs": [
    {
     "name": "stderr",
     "output_type": "stream",
     "text": [
      "C:\\Users\\hp\\AppData\\Local\\Temp\\ipykernel_16084\\460586369.py:12: UserWarning: Glyph 128200 (\\N{CHART WITH UPWARDS TREND}) missing from font(s) DejaVu Sans.\n",
      "  plt.tight_layout()\n",
      "c:\\Users\\hp\\anaconda3\\envs\\crypto_nlp\\lib\\site-packages\\IPython\\core\\pylabtools.py:152: UserWarning: Glyph 128200 (\\N{CHART WITH UPWARDS TREND}) missing from font(s) DejaVu Sans.\n",
      "  fig.canvas.print_figure(bytes_io, **kw)\n"
     ]
    },
    {
     "data": {
      "image/png": "[encoded data removed]",
      "text/plain": [
       "<Figure size 800x500 with 1 Axes>"
      ]
     },
     "metadata": {},
     "output_type": "display_data"
    }
   ],
   "source": [
    "plt.figure(figsize=(8, 5))\n",
    "\n",
    "for lr, data in results.items():\n",
    "    df = data[\"f1_curve\"]\n",
    "    plt.plot(df[\"epoch\"], df[\"eval_f1\"], marker=\"o\", label=f\"lr={lr}\")\n",
    "\n",
    "plt.title(\"📈 Lernkurven (Validation F1) – CryptoBERT bei verschiedenen Lernraten\")\n",
    "plt.xlabel(\"Epoche\")\n",
    "plt.ylabel(\"F1 (macro)\")\n",
    "plt.legend()\n",
    "plt.grid(True)\n",
    "plt.tight_layout()\n",
    "plt.show()\n"
   ]
  },
  {
   "cell_type": "code",
   "execution_count": 64,
   "id": "dd8dd6c2",
   "metadata": {},
   "outputs": [
    {
     "name": "stdout",
     "output_type": "stream",
     "text": [
      "\n",
      "🏆 Beste Lernrate: 2e-05 mit F1 = 0.4992\n"
     ]
    }
   ],
   "source": [
    "# Beste Lernrate bestimmen\n",
    "best_lr = max(results.items(), key=lambda x: x[1][\"best_f1\"])[0]\n",
    "best_trainer = results[best_lr][\"trainer\"]\n",
    "\n",
    "print(f\"\\n🏆 Beste Lernrate: {best_lr} mit F1 = {results[best_lr]['best_f1']:.4f}\")\n"
   ]
  },
  {
   "cell_type": "markdown",
   "id": "926c0bd9",
   "metadata": {},
   "source": [
    "Evaluation im finalen Testsplit"
   ]
  },
  {
   "cell_type": "code",
   "execution_count": 65,
   "id": "41a7edca",
   "metadata": {},
   "outputs": [
    {
     "name": "stdout",
     "output_type": "stream",
     "text": [
      "\n",
      "📊 Evaluation auf Testset:\n",
      "              precision    recall  f1-score   support\n",
      "\n",
      "           0       0.41      0.38      0.39        37\n",
      "           1       0.54      0.68      0.60        60\n",
      "           2       0.20      0.06      0.09        18\n",
      "\n",
      "    accuracy                           0.49       115\n",
      "   macro avg       0.38      0.37      0.36       115\n",
      "weighted avg       0.45      0.49      0.46       115\n",
      "\n"
     ]
    }
   ],
   "source": [
    "test_results = best_trainer.predict(test_ds)\n",
    "\n",
    "from sklearn.metrics import classification_report\n",
    "y_pred = test_results.predictions.argmax(axis=1)\n",
    "y_true = test_results.label_ids\n",
    "\n",
    "print(\"\\n📊 Evaluation auf Testset:\")\n",
    "print(classification_report(y_true, y_pred))\n"
   ]
  },
  {
   "cell_type": "markdown",
   "id": "20c0d4a2",
   "metadata": {},
   "source": [
    "Falsche Vorhersagen"
   ]
  },
  {
   "cell_type": "code",
   "execution_count": 66,
   "id": "3f24de64",
   "metadata": {},
   "outputs": [
    {
     "data": {
      "text/html": [
       "<div>\n",
       "<style scoped>\n",
       "    .dataframe tbody tr th:only-of-type {\n",
       "        vertical-align: middle;\n",
       "    }\n",
       "\n",
       "    .dataframe tbody tr th {\n",
       "        vertical-align: top;\n",
       "    }\n",
       "\n",
       "    .dataframe thead th {\n",
       "        text-align: right;\n",
       "    }\n",
       "</style>\n",
       "<table border=\"1\" class=\"dataframe\">\n",
       "  <thead>\n",
       "    <tr style=\"text-align: right;\">\n",
       "      <th></th>\n",
       "      <th>text</th>\n",
       "      <th>true</th>\n",
       "      <th>predicted</th>\n",
       "    </tr>\n",
       "  </thead>\n",
       "  <tbody>\n",
       "    <tr>\n",
       "      <th>1</th>\n",
       "      <td>Favourite ALTS for 2025? There's been much tal...</td>\n",
       "      <td>0</td>\n",
       "      <td>1</td>\n",
       "    </tr>\n",
       "    <tr>\n",
       "      <th>2</th>\n",
       "      <td>Would you take 100% chance of getting 600k or ...</td>\n",
       "      <td>0</td>\n",
       "      <td>1</td>\n",
       "    </tr>\n",
       "    <tr>\n",
       "      <th>4</th>\n",
       "      <td>bahhahahha</td>\n",
       "      <td>1</td>\n",
       "      <td>0</td>\n",
       "    </tr>\n",
       "    <tr>\n",
       "      <th>5</th>\n",
       "      <td>India Strikes Crypto Exchange Bybit: Major Fin...</td>\n",
       "      <td>2</td>\n",
       "      <td>0</td>\n",
       "    </tr>\n",
       "    <tr>\n",
       "      <th>6</th>\n",
       "      <td>Traditional Investments v. Bitcoin The way I s...</td>\n",
       "      <td>0</td>\n",
       "      <td>1</td>\n",
       "    </tr>\n",
       "    <tr>\n",
       "      <th>7</th>\n",
       "      <td>Bitcoin maxi posted \"Solana will be the first ...</td>\n",
       "      <td>0</td>\n",
       "      <td>1</td>\n",
       "    </tr>\n",
       "    <tr>\n",
       "      <th>13</th>\n",
       "      <td>Ethereum Foundation Reveals Leadership Shakeup...</td>\n",
       "      <td>2</td>\n",
       "      <td>1</td>\n",
       "    </tr>\n",
       "    <tr>\n",
       "      <th>14</th>\n",
       "      <td>Trip Report: Struggles of a new crypto user Hi...</td>\n",
       "      <td>2</td>\n",
       "      <td>1</td>\n",
       "    </tr>\n",
       "    <tr>\n",
       "      <th>16</th>\n",
       "      <td>Yeah I bought the Pepe discount\\n\\nI hate pepe...</td>\n",
       "      <td>0</td>\n",
       "      <td>1</td>\n",
       "    </tr>\n",
       "    <tr>\n",
       "      <th>17</th>\n",
       "      <td>**Historical Bitcoin prices for today, Decembe...</td>\n",
       "      <td>1</td>\n",
       "      <td>0</td>\n",
       "    </tr>\n",
       "  </tbody>\n",
       "</table>\n",
       "</div>"
      ],
      "text/plain": [
       "                                                 text  true  predicted\n",
       "1   Favourite ALTS for 2025? There's been much tal...     0          1\n",
       "2   Would you take 100% chance of getting 600k or ...     0          1\n",
       "4                                          bahhahahha     1          0\n",
       "5   India Strikes Crypto Exchange Bybit: Major Fin...     2          0\n",
       "6   Traditional Investments v. Bitcoin The way I s...     0          1\n",
       "7   Bitcoin maxi posted \"Solana will be the first ...     0          1\n",
       "13  Ethereum Foundation Reveals Leadership Shakeup...     2          1\n",
       "14  Trip Report: Struggles of a new crypto user Hi...     2          1\n",
       "16  Yeah I bought the Pepe discount\\n\\nI hate pepe...     0          1\n",
       "17  **Historical Bitcoin prices for today, Decembe...     1          0"
      ]
     },
     "execution_count": 66,
     "metadata": {},
     "output_type": "execute_result"
    }
   ],
   "source": [
    "wrong = [(i, p, t) for i, (p, t) in enumerate(zip(y_pred, y_true)) if p != t]\n",
    "wrong_df = test_df.iloc[[i for i, _, _ in wrong]].copy()\n",
    "wrong_df[\"predicted\"] = [p for _, p, _ in wrong]\n",
    "wrong_df[\"true\"] = [t for _, _, t in wrong]\n",
    "\n",
    "wrong_df[[\"text\", \"true\", \"predicted\"]].head(10)\n"
   ]
  }
 ],
 "metadata": {
  "kernelspec": {
   "display_name": "crypto_nlp",
   "language": "python",
   "name": "python3"
  },
  "language_info": {
   "codemirror_mode": {
    "name": "ipython",
    "version": 3
   },
   "file_extension": ".py",
   "mimetype": "text/x-python",
   "name": "python",
   "nbconvert_exporter": "python",
   "pygments_lexer": "ipython3",
   "version": "3.9.21"
  }
 },
 "nbformat": 4,
 "nbformat_minor": 5
}
