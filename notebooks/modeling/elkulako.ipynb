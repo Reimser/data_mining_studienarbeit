{
 "cells": [
  {
   "cell_type": "markdown",
   "id": "42b707a7",
   "metadata": {},
   "source": [
    "# Finetunen Elkulako/cryptobert Modell"
   ]
  },
  {
   "cell_type": "markdown",
   "id": "d83cc7cd",
   "metadata": {
    "vscode": {
     "languageId": "plaintext"
    }
   },
   "source": [
    "## Import"
   ]
  },
  {
   "cell_type": "code",
   "execution_count": 1,
   "id": "613bdc57",
   "metadata": {},
   "outputs": [
    {
     "name": "stderr",
     "output_type": "stream",
     "text": [
      "c:\\Users\\hp\\anaconda3\\envs\\crypto_nlp\\lib\\site-packages\\tqdm\\auto.py:21: TqdmWarning: IProgress not found. Please update jupyter and ipywidgets. See https://ipywidgets.readthedocs.io/en/stable/user_install.html\n",
      "  from .autonotebook import tqdm as notebook_tqdm\n"
     ]
    }
   ],
   "source": [
    "import os\n",
    "import torch\n",
    "import pandas as pd\n",
    "from sklearn.model_selection import train_test_split\n",
    "from datasets import Dataset\n",
    "from transformers import DebertaV2Tokenizer, AutoModelForSequenceClassification, Trainer, TrainingArguments, AutoTokenizer, EarlyStoppingCallback\n",
    "import evaluate\n",
    "import numpy as np\n",
    "import torch\n",
    "from sklearn.metrics import accuracy_score, f1_score\n",
    "import matplotlib.pyplot as plt\n",
    "import seaborn as sns\n",
    "import time\n",
    "import pandas as pd\n",
    "from transformers import AutoModelForSequenceClassification, Trainer, TrainingArguments\n",
    "import transformers\n",
    "import warnings"
   ]
  },
  {
   "cell_type": "code",
   "execution_count": 2,
   "id": "3a3e2ffb",
   "metadata": {},
   "outputs": [
    {
     "name": "stdout",
     "output_type": "stream",
     "text": [
      "Using cuda device\n"
     ]
    }
   ],
   "source": [
    "# Cuda pruefen\n",
    "device = \"cuda\" if torch.cuda.is_available() else \"cpu\"\n",
    "print(\"Using {} device\".format(device))"
   ]
  },
  {
   "cell_type": "code",
   "execution_count": 3,
   "id": "78d4beaa",
   "metadata": {},
   "outputs": [],
   "source": [
    "DATA_PATH = '../../data/processed/'"
   ]
  },
  {
   "cell_type": "code",
   "execution_count": 4,
   "id": "3aa22f23",
   "metadata": {},
   "outputs": [
    {
     "name": "stdout",
     "output_type": "stream",
     "text": [
      "✅ Trainingsdatensatz: 599975 Kommentare\n",
      "label\n",
      "2    305079\n",
      "1    239043\n",
      "0     55853\n",
      "Name: count, dtype: int64\n",
      "\n",
      "✅ Testdatensatz: 999 Kommentare\n",
      "label\n",
      "0    333\n",
      "1    333\n",
      "2    333\n",
      "Name: count, dtype: int64\n"
     ]
    }
   ],
   "source": [
    "# Trainingsdaten (Comments)\n",
    "df_all_comments = pd.read_csv(os.path.join(DATA_PATH, 'training_data_comments.csv'))\n",
    "df_all_comments = df_all_comments[['text', 'label']].dropna()\n",
    "df_all_comments['label'] = df_all_comments['label'].astype(int)\n",
    "\n",
    "# Testdaten (Comments)\n",
    "df_test_comments = pd.read_csv(os.path.join(DATA_PATH, 'test_data_comments.csv'))\n",
    "df_test_comments = df_test_comments[['text', 'label']].dropna()\n",
    "df_test_comments['label'] = df_test_comments['label'].astype(int)\n",
    "\n",
    "print(f\"✅ Trainingsdatensatz: {len(df_all_comments)} Kommentare\")\n",
    "print(df_all_comments['label'].value_counts())\n",
    "\n",
    "print(f\"\\n✅ Testdatensatz: {len(df_test_comments)} Kommentare\")\n",
    "print(df_test_comments['label'].value_counts())"
   ]
  },
  {
   "cell_type": "markdown",
   "id": "2be8e33c",
   "metadata": {},
   "source": [
    "## Train-Test-Split"
   ]
  },
  {
   "cell_type": "code",
   "execution_count": 5,
   "id": "8b91ce58",
   "metadata": {},
   "outputs": [
    {
     "name": "stdout",
     "output_type": "stream",
     "text": [
      "✅ Finaler Datensplit:\n",
      "- Train: 2400\n",
      "- Val:   600\n",
      "- Test:  999\n",
      "🔍 Labelverteilung (Train):\n",
      " label\n",
      "2    800\n",
      "0    800\n",
      "1    800\n",
      "Name: count, dtype: int64\n"
     ]
    },
    {
     "name": "stderr",
     "output_type": "stream",
     "text": [
      "C:\\Users\\hp\\AppData\\Local\\Temp\\ipykernel_19780\\697304940.py:3: DeprecationWarning: DataFrameGroupBy.apply operated on the grouping columns. This behavior is deprecated, and in a future version of pandas the grouping columns will be excluded from the operation. Either pass `include_groups=False` to exclude the groupings or explicitly select the grouping columns after groupby to silence this warning.\n",
      "  df_all_comments\n"
     ]
    }
   ],
   "source": [
    "# 📌 Stratifiziertes Downsampling (1.000 pro Klasse)\n",
    "df_trainval = (\n",
    "    df_all_comments\n",
    "    .groupby(\"label\", group_keys=False)\n",
    "    .apply(lambda x: x.sample(n=1000, random_state=42))\n",
    "    .reset_index(drop=True)\n",
    ")\n",
    "\n",
    "# ✅ Split in Train (80%) und Val (20%)\n",
    "train_df, val_df = train_test_split(\n",
    "    df_trainval,\n",
    "    test_size=0.2,\n",
    "    stratify=df_trainval[\"label\"],\n",
    "    random_state=42\n",
    ")\n",
    "\n",
    "# ✅ Testdaten: vorhandene manuell gelabelte Kommentare\n",
    "df_test_comments = df_test_comments.reset_index(drop=True)\n",
    "df_test_comments[\"text\"] = df_test_comments[\"text\"].astype(str)\n",
    "\n",
    "# ✅ Indizes zurücksetzen\n",
    "train_df = train_df.reset_index(drop=True)\n",
    "val_df = val_df.reset_index(drop=True)\n",
    "\n",
    "# 📊 Ausgabe\n",
    "print(\"✅ Finaler Datensplit:\")\n",
    "print(f\"- Train: {len(train_df)}\")\n",
    "print(f\"- Val:   {len(val_df)}\")\n",
    "print(f\"- Test:  {len(df_test_comments)}\")\n",
    "print(\"🔍 Labelverteilung (Train):\\n\", train_df[\"label\"].value_counts())"
   ]
  },
  {
   "cell_type": "markdown",
   "id": "e149d816",
   "metadata": {},
   "source": [
    "## Weighted Loss"
   ]
  },
  {
   "cell_type": "markdown",
   "id": "8daf96e8",
   "metadata": {},
   "source": [
    "ab hier wird die class weight loss geaednert"
   ]
  },
  {
   "cell_type": "code",
   "execution_count": 6,
   "id": "bc797012",
   "metadata": {},
   "outputs": [],
   "source": [
    "class WeightedLossTrainer(Trainer):\n",
    "    def __init__(self, *args, loss_fn=None, **kwargs):\n",
    "        super().__init__(*args, **kwargs)\n",
    "        self.loss_fn = loss_fn\n",
    "\n",
    "    def compute_loss(self, model, inputs, return_outputs=False, **kwargs):  # ✅ **kwargs ergänzt\n",
    "        labels = inputs.pop(\"labels\")\n",
    "        outputs = model(**inputs)\n",
    "        logits = outputs.logits\n",
    "        loss = self.loss_fn(logits, labels)\n",
    "        return (loss, outputs) if return_outputs else loss\n"
   ]
  },
  {
   "cell_type": "code",
   "execution_count": 7,
   "id": "569f56a3",
   "metadata": {},
   "outputs": [],
   "source": [
    "# Manuelle Class Weights – hier z. B. stärkerer Fokus auf bearish\n",
    "weights_tensor = torch.tensor([2.0, 1.0, 3.0], dtype=torch.float)\n",
    "device = \"cuda\" if torch.cuda.is_available() else \"cpu\"\n",
    "\n",
    "loss_fn = torch.nn.CrossEntropyLoss(weight=weights_tensor.to(device))\n"
   ]
  },
  {
   "cell_type": "markdown",
   "id": "5f035e1b",
   "metadata": {},
   "source": [
    "## Modelltraining"
   ]
  },
  {
   "cell_type": "markdown",
   "id": "b644c4cd",
   "metadata": {},
   "source": [
    "Modell und Tokenizer laden"
   ]
  },
  {
   "cell_type": "code",
   "execution_count": 8,
   "id": "f576baa4",
   "metadata": {},
   "outputs": [],
   "source": [
    "EXPERIMENTS_BASE_PATH = \"../../models/experiments/\"\n",
    "\n",
    "MODEL_PATHS = {\n",
    "    \"cryptobert_comments\": os.path.join(EXPERIMENTS_BASE_PATH, \"cryptobert_comments\")\n",
    "}\n",
    "\n",
    "for path in MODEL_PATHS.values():\n",
    "    os.makedirs(path, exist_ok=True)\n"
   ]
  },
  {
   "cell_type": "code",
   "execution_count": 9,
   "id": "bc227ae9",
   "metadata": {},
   "outputs": [],
   "source": [
    "# Modellname direkt von Hugging Face\n",
    "model_name = \"ElKulako/cryptobert\"\n",
    "\n",
    "# Tokenizer und Modell laden\n",
    "tokenizer = AutoTokenizer.from_pretrained(model_name)\n",
    "model = AutoModelForSequenceClassification.from_pretrained(model_name, num_labels=3)"
   ]
  },
  {
   "cell_type": "code",
   "execution_count": 10,
   "id": "53422b3a",
   "metadata": {},
   "outputs": [],
   "source": [
    "def tokenize_function(batch):\n",
    "    tokenized = tokenizer(\n",
    "        batch[\"text\"],\n",
    "        padding=\"max_length\",\n",
    "        truncation=True,\n",
    "        max_length=256\n",
    "    )\n",
    "    tokenized[\"label\"] = batch[\"label\"]\n",
    "    return tokenized\n"
   ]
  },
  {
   "cell_type": "markdown",
   "id": "f5a8bede",
   "metadata": {},
   "source": [
    "Tokenisierung der Splits"
   ]
  },
  {
   "cell_type": "code",
   "execution_count": 11,
   "id": "2079e7d2",
   "metadata": {},
   "outputs": [
    {
     "name": "stderr",
     "output_type": "stream",
     "text": [
      "Map: 100%|██████████| 2400/2400 [00:00<00:00, 10183.66 examples/s]\n",
      "Map: 100%|██████████| 600/600 [00:00<00:00, 14754.22 examples/s]\n",
      "Map: 100%|██████████| 999/999 [00:00<00:00, 12970.75 examples/s]\n"
     ]
    }
   ],
   "source": [
    "train_ds = Dataset.from_pandas(train_df)\n",
    "val_ds = Dataset.from_pandas(val_df)\n",
    "test_ds = Dataset.from_pandas(df_test_comments)\n",
    "\n",
    "train_ds = train_ds.map(tokenize_function, batched=True)\n",
    "val_ds = val_ds.map(tokenize_function, batched=True)\n",
    "test_ds = test_ds.map(tokenize_function, batched=True)"
   ]
  },
  {
   "cell_type": "code",
   "execution_count": 12,
   "id": "6e40075d",
   "metadata": {},
   "outputs": [],
   "source": [
    "train_ds = train_ds.rename_column(\"label\", \"labels\")\n",
    "val_ds = val_ds.rename_column(\"label\", \"labels\")\n",
    "test_ds = test_ds.rename_column(\"label\", \"labels\")\n",
    "\n",
    "\n",
    "# Format setzen\n",
    "train_ds.set_format(\"torch\", columns=[\"input_ids\", \"attention_mask\", \"labels\"])\n",
    "val_ds.set_format(\"torch\", columns=[\"input_ids\", \"attention_mask\", \"labels\"])\n",
    "test_ds.set_format(\"torch\", columns=[\"input_ids\", \"attention_mask\", \"labels\"])\n"
   ]
  },
  {
   "cell_type": "markdown",
   "id": "e33501d7",
   "metadata": {},
   "source": [
    "Metriken"
   ]
  },
  {
   "cell_type": "code",
   "execution_count": 13,
   "id": "7d126431",
   "metadata": {},
   "outputs": [],
   "source": [
    "def compute_metrics(eval_pred):\n",
    "    logits, labels = eval_pred\n",
    "    preds = logits.argmax(axis=1)\n",
    "    return {\n",
    "        \"accuracy\": accuracy_score(labels, preds),\n",
    "        \"f1\": f1_score(labels, preds, average=\"macro\")\n",
    "    }\n"
   ]
  },
  {
   "cell_type": "markdown",
   "id": "f78f1cf5",
   "metadata": {},
   "source": [
    "Traininsargumente und Trainer"
   ]
  },
  {
   "cell_type": "code",
   "execution_count": 14,
   "id": "f5754a77",
   "metadata": {},
   "outputs": [
    {
     "name": "stdout",
     "output_type": "stream",
     "text": [
      "Starte Training für learning_rate = 2e-05\n"
     ]
    },
    {
     "name": "stderr",
     "output_type": "stream",
     "text": [
      "c:\\Users\\hp\\anaconda3\\envs\\crypto_nlp\\lib\\site-packages\\transformers\\training_args.py:1594: FutureWarning: `evaluation_strategy` is deprecated and will be removed in version 4.46 of 🤗 Transformers. Use `eval_strategy` instead\n",
      "  warnings.warn(\n",
      "C:\\Users\\hp\\AppData\\Local\\Temp\\ipykernel_19780\\3133020267.py:3: FutureWarning: `tokenizer` is deprecated and will be removed in version 5.0.0 for `WeightedLossTrainer.__init__`. Use `processing_class` instead.\n",
      "  super().__init__(*args, **kwargs)\n"
     ]
    },
    {
     "name": "stdout",
     "output_type": "stream",
     "text": [
      "{'loss': 0.5651, 'grad_norm': 20.53203582763672, 'learning_rate': 1.8e-05, 'epoch': 1.0}\n",
      "{'eval_loss': 0.43310683965682983, 'eval_accuracy': 0.73, 'eval_f1': 0.6907808784059362, 'eval_runtime': 4.7281, 'eval_samples_per_second': 126.9, 'eval_steps_per_second': 15.863, 'epoch': 1.0}\n",
      "{'loss': 0.3419, 'grad_norm': 187.22764587402344, 'learning_rate': 1.6000000000000003e-05, 'epoch': 2.0}\n",
      "{'eval_loss': 0.577396035194397, 'eval_accuracy': 0.7316666666666667, 'eval_f1': 0.7129753645636446, 'eval_runtime': 5.1664, 'eval_samples_per_second': 116.136, 'eval_steps_per_second': 14.517, 'epoch': 2.0}\n",
      "{'loss': 0.1908, 'grad_norm': 8.39767837524414, 'learning_rate': 1.4e-05, 'epoch': 3.0}\n",
      "{'eval_loss': 0.9111366868019104, 'eval_accuracy': 0.725, 'eval_f1': 0.7278239350142858, 'eval_runtime': 5.3669, 'eval_samples_per_second': 111.796, 'eval_steps_per_second': 13.975, 'epoch': 3.0}\n",
      "{'loss': 0.0756, 'grad_norm': 0.10187384486198425, 'learning_rate': 1.2e-05, 'epoch': 4.0}\n",
      "{'eval_loss': 1.2462016344070435, 'eval_accuracy': 0.72, 'eval_f1': 0.7034746533184245, 'eval_runtime': 6.1253, 'eval_samples_per_second': 97.954, 'eval_steps_per_second': 12.244, 'epoch': 4.0}\n",
      "{'loss': 0.024, 'grad_norm': 4.002765655517578, 'learning_rate': 1e-05, 'epoch': 5.0}\n",
      "{'eval_loss': 1.5519506931304932, 'eval_accuracy': 0.7066666666666667, 'eval_f1': 0.7059504125257433, 'eval_runtime': 6.2396, 'eval_samples_per_second': 96.159, 'eval_steps_per_second': 12.02, 'epoch': 5.0}\n",
      "{'train_runtime': 389.7136, 'train_samples_per_second': 61.584, 'train_steps_per_second': 7.698, 'train_loss': 0.23948823674519856, 'epoch': 5.0}\n",
      "Training für learning_rate = 2e-05 abgeschlossen in 389.91 Sekunden.\n",
      "Starte Training für learning_rate = 1e-05\n"
     ]
    },
    {
     "name": "stderr",
     "output_type": "stream",
     "text": [
      "c:\\Users\\hp\\anaconda3\\envs\\crypto_nlp\\lib\\site-packages\\transformers\\training_args.py:1594: FutureWarning: `evaluation_strategy` is deprecated and will be removed in version 4.46 of 🤗 Transformers. Use `eval_strategy` instead\n",
      "  warnings.warn(\n",
      "C:\\Users\\hp\\AppData\\Local\\Temp\\ipykernel_19780\\3133020267.py:3: FutureWarning: `tokenizer` is deprecated and will be removed in version 5.0.0 for `WeightedLossTrainer.__init__`. Use `processing_class` instead.\n",
      "  super().__init__(*args, **kwargs)\n"
     ]
    },
    {
     "name": "stdout",
     "output_type": "stream",
     "text": [
      "{'loss': 0.5131, 'grad_norm': 10.249655723571777, 'learning_rate': 9e-06, 'epoch': 1.0}\n",
      "{'eval_loss': 0.4130532145500183, 'eval_accuracy': 0.7333333333333333, 'eval_f1': 0.6902551120436025, 'eval_runtime': 5.4799, 'eval_samples_per_second': 109.49, 'eval_steps_per_second': 13.686, 'epoch': 1.0}\n",
      "{'loss': 0.3414, 'grad_norm': 18.18508529663086, 'learning_rate': 8.000000000000001e-06, 'epoch': 2.0}\n",
      "{'eval_loss': 0.43689894676208496, 'eval_accuracy': 0.7516666666666667, 'eval_f1': 0.7335408395896388, 'eval_runtime': 5.5231, 'eval_samples_per_second': 108.635, 'eval_steps_per_second': 13.579, 'epoch': 2.0}\n",
      "{'loss': 0.2299, 'grad_norm': 22.72601890563965, 'learning_rate': 7e-06, 'epoch': 3.0}\n",
      "{'eval_loss': 0.5760477185249329, 'eval_accuracy': 0.7683333333333333, 'eval_f1': 0.7623782936204986, 'eval_runtime': 5.5164, 'eval_samples_per_second': 108.766, 'eval_steps_per_second': 13.596, 'epoch': 3.0}\n",
      "{'loss': 0.1356, 'grad_norm': 11.810227394104004, 'learning_rate': 6e-06, 'epoch': 4.0}\n",
      "{'eval_loss': 0.7712645530700684, 'eval_accuracy': 0.7416666666666667, 'eval_f1': 0.7262478666415889, 'eval_runtime': 5.5612, 'eval_samples_per_second': 107.891, 'eval_steps_per_second': 13.486, 'epoch': 4.0}\n",
      "{'loss': 0.0712, 'grad_norm': 5.0916547775268555, 'learning_rate': 5e-06, 'epoch': 5.0}\n",
      "{'eval_loss': 1.0289316177368164, 'eval_accuracy': 0.7533333333333333, 'eval_f1': 0.742790653901765, 'eval_runtime': 5.6838, 'eval_samples_per_second': 105.563, 'eval_steps_per_second': 13.195, 'epoch': 5.0}\n",
      "{'train_runtime': 395.023, 'train_samples_per_second': 60.756, 'train_steps_per_second': 7.594, 'train_loss': 0.2582294642130534, 'epoch': 5.0}\n",
      "Training für learning_rate = 1e-05 abgeschlossen in 395.24 Sekunden.\n",
      "Starte Training für learning_rate = 5e-06\n"
     ]
    },
    {
     "name": "stderr",
     "output_type": "stream",
     "text": [
      "c:\\Users\\hp\\anaconda3\\envs\\crypto_nlp\\lib\\site-packages\\transformers\\training_args.py:1594: FutureWarning: `evaluation_strategy` is deprecated and will be removed in version 4.46 of 🤗 Transformers. Use `eval_strategy` instead\n",
      "  warnings.warn(\n",
      "C:\\Users\\hp\\AppData\\Local\\Temp\\ipykernel_19780\\3133020267.py:3: FutureWarning: `tokenizer` is deprecated and will be removed in version 5.0.0 for `WeightedLossTrainer.__init__`. Use `processing_class` instead.\n",
      "  super().__init__(*args, **kwargs)\n"
     ]
    },
    {
     "name": "stdout",
     "output_type": "stream",
     "text": [
      "{'loss': 0.4813, 'grad_norm': 35.58465576171875, 'learning_rate': 4.5e-06, 'epoch': 1.0}\n",
      "{'eval_loss': 0.4064965844154358, 'eval_accuracy': 0.7433333333333333, 'eval_f1': 0.7021877474089608, 'eval_runtime': 6.0732, 'eval_samples_per_second': 98.795, 'eval_steps_per_second': 12.349, 'epoch': 1.0}\n",
      "{'loss': 0.3694, 'grad_norm': 11.221257209777832, 'learning_rate': 4.000000000000001e-06, 'epoch': 2.0}\n",
      "{'eval_loss': 0.40172290802001953, 'eval_accuracy': 0.7716666666666666, 'eval_f1': 0.7522855477180203, 'eval_runtime': 6.185, 'eval_samples_per_second': 97.009, 'eval_steps_per_second': 12.126, 'epoch': 2.0}\n",
      "{'loss': 0.297, 'grad_norm': 34.2761344909668, 'learning_rate': 3.5e-06, 'epoch': 3.0}\n",
      "{'eval_loss': 0.4516412317752838, 'eval_accuracy': 0.7666666666666667, 'eval_f1': 0.7539772032876356, 'eval_runtime': 6.1956, 'eval_samples_per_second': 96.843, 'eval_steps_per_second': 12.105, 'epoch': 3.0}\n",
      "{'loss': 0.2396, 'grad_norm': 11.476981163024902, 'learning_rate': 3e-06, 'epoch': 4.0}\n",
      "{'eval_loss': 0.5052017569541931, 'eval_accuracy': 0.7616666666666667, 'eval_f1': 0.7452333290283697, 'eval_runtime': 6.24, 'eval_samples_per_second': 96.154, 'eval_steps_per_second': 12.019, 'epoch': 4.0}\n",
      "{'loss': 0.1908, 'grad_norm': 4.963883399963379, 'learning_rate': 2.5e-06, 'epoch': 5.0}\n",
      "{'eval_loss': 0.5717296600341797, 'eval_accuracy': 0.7716666666666666, 'eval_f1': 0.7581380186702761, 'eval_runtime': 6.2372, 'eval_samples_per_second': 96.198, 'eval_steps_per_second': 12.025, 'epoch': 5.0}\n",
      "{'loss': 0.1578, 'grad_norm': 6.965117454528809, 'learning_rate': 2.0000000000000003e-06, 'epoch': 6.0}\n",
      "{'eval_loss': 0.6141107082366943, 'eval_accuracy': 0.7666666666666667, 'eval_f1': 0.7541016238401314, 'eval_runtime': 6.2363, 'eval_samples_per_second': 96.211, 'eval_steps_per_second': 12.026, 'epoch': 6.0}\n",
      "{'loss': 0.1074, 'grad_norm': 5.296452045440674, 'learning_rate': 1.5e-06, 'epoch': 7.0}\n",
      "{'eval_loss': 0.6597687602043152, 'eval_accuracy': 0.7666666666666667, 'eval_f1': 0.756177582859324, 'eval_runtime': 6.3184, 'eval_samples_per_second': 94.96, 'eval_steps_per_second': 11.87, 'epoch': 7.0}\n",
      "{'train_runtime': 610.6123, 'train_samples_per_second': 39.305, 'train_steps_per_second': 4.913, 'train_loss': 0.2633257057553246, 'epoch': 7.0}\n",
      "Training für learning_rate = 5e-06 abgeschlossen in 610.81 Sekunden.\n",
      "Starte Training für learning_rate = 3e-06\n"
     ]
    },
    {
     "name": "stderr",
     "output_type": "stream",
     "text": [
      "c:\\Users\\hp\\anaconda3\\envs\\crypto_nlp\\lib\\site-packages\\transformers\\training_args.py:1594: FutureWarning: `evaluation_strategy` is deprecated and will be removed in version 4.46 of 🤗 Transformers. Use `eval_strategy` instead\n",
      "  warnings.warn(\n",
      "C:\\Users\\hp\\AppData\\Local\\Temp\\ipykernel_19780\\3133020267.py:3: FutureWarning: `tokenizer` is deprecated and will be removed in version 5.0.0 for `WeightedLossTrainer.__init__`. Use `processing_class` instead.\n",
      "  super().__init__(*args, **kwargs)\n"
     ]
    },
    {
     "name": "stdout",
     "output_type": "stream",
     "text": [
      "{'loss': 0.4727, 'grad_norm': 64.7245101928711, 'learning_rate': 2.7e-06, 'epoch': 1.0}\n",
      "{'eval_loss': 0.40415364503860474, 'eval_accuracy': 0.74, 'eval_f1': 0.6975113190763472, 'eval_runtime': 6.3255, 'eval_samples_per_second': 94.855, 'eval_steps_per_second': 11.857, 'epoch': 1.0}\n",
      "{'loss': 0.3945, 'grad_norm': 44.933128356933594, 'learning_rate': 2.4000000000000003e-06, 'epoch': 2.0}\n",
      "{'eval_loss': 0.39311787486076355, 'eval_accuracy': 0.765, 'eval_f1': 0.7437821875585596, 'eval_runtime': 6.3252, 'eval_samples_per_second': 94.859, 'eval_steps_per_second': 11.857, 'epoch': 2.0}\n",
      "{'loss': 0.3456, 'grad_norm': 53.49689865112305, 'learning_rate': 2.1e-06, 'epoch': 3.0}\n",
      "{'eval_loss': 0.4173688292503357, 'eval_accuracy': 0.765, 'eval_f1': 0.7466732769704011, 'eval_runtime': 6.3268, 'eval_samples_per_second': 94.834, 'eval_steps_per_second': 11.854, 'epoch': 3.0}\n",
      "{'loss': 0.3047, 'grad_norm': 17.016803741455078, 'learning_rate': 1.8e-06, 'epoch': 4.0}\n",
      "{'eval_loss': 0.44284820556640625, 'eval_accuracy': 0.77, 'eval_f1': 0.7507798260866231, 'eval_runtime': 6.3391, 'eval_samples_per_second': 94.651, 'eval_steps_per_second': 11.831, 'epoch': 4.0}\n",
      "{'loss': 0.273, 'grad_norm': 9.582836151123047, 'learning_rate': 1.5e-06, 'epoch': 5.0}\n",
      "{'eval_loss': 0.468453586101532, 'eval_accuracy': 0.7616666666666667, 'eval_f1': 0.7422975717255103, 'eval_runtime': 6.3091, 'eval_samples_per_second': 95.101, 'eval_steps_per_second': 11.888, 'epoch': 5.0}\n",
      "{'loss': 0.2517, 'grad_norm': 15.131929397583008, 'learning_rate': 1.2000000000000002e-06, 'epoch': 6.0}\n",
      "{'eval_loss': 0.47667357325553894, 'eval_accuracy': 0.7716666666666666, 'eval_f1': 0.7559790207510589, 'eval_runtime': 6.2324, 'eval_samples_per_second': 96.271, 'eval_steps_per_second': 12.034, 'epoch': 6.0}\n",
      "{'loss': 0.2067, 'grad_norm': 13.995758056640625, 'learning_rate': 9e-07, 'epoch': 7.0}\n",
      "{'eval_loss': 0.4861828088760376, 'eval_accuracy': 0.7683333333333333, 'eval_f1': 0.7535827046520437, 'eval_runtime': 6.2129, 'eval_samples_per_second': 96.573, 'eval_steps_per_second': 12.072, 'epoch': 7.0}\n",
      "{'loss': 0.1963, 'grad_norm': 9.472731590270996, 'learning_rate': 6.000000000000001e-07, 'epoch': 8.0}\n",
      "{'eval_loss': 0.5101746916770935, 'eval_accuracy': 0.7733333333333333, 'eval_f1': 0.7605208030739945, 'eval_runtime': 6.2155, 'eval_samples_per_second': 96.533, 'eval_steps_per_second': 12.067, 'epoch': 8.0}\n",
      "{'loss': 0.1899, 'grad_norm': 14.227843284606934, 'learning_rate': 3.0000000000000004e-07, 'epoch': 9.0}\n",
      "{'eval_loss': 0.5219590663909912, 'eval_accuracy': 0.7733333333333333, 'eval_f1': 0.7602105061454655, 'eval_runtime': 6.2253, 'eval_samples_per_second': 96.382, 'eval_steps_per_second': 12.048, 'epoch': 9.0}\n",
      "{'loss': 0.1779, 'grad_norm': 16.138343811035156, 'learning_rate': 0.0, 'epoch': 10.0}\n",
      "{'eval_loss': 0.5203887820243835, 'eval_accuracy': 0.7716666666666666, 'eval_f1': 0.7579806101049895, 'eval_runtime': 5.7135, 'eval_samples_per_second': 105.014, 'eval_steps_per_second': 13.127, 'epoch': 10.0}\n",
      "{'train_runtime': 916.1105, 'train_samples_per_second': 26.198, 'train_steps_per_second': 3.275, 'train_loss': 0.2813208770751953, 'epoch': 10.0}\n",
      "Training für learning_rate = 3e-06 abgeschlossen in 916.36 Sekunden.\n",
      "Starte Training für learning_rate = 1e-06\n"
     ]
    },
    {
     "name": "stderr",
     "output_type": "stream",
     "text": [
      "c:\\Users\\hp\\anaconda3\\envs\\crypto_nlp\\lib\\site-packages\\transformers\\training_args.py:1594: FutureWarning: `evaluation_strategy` is deprecated and will be removed in version 4.46 of 🤗 Transformers. Use `eval_strategy` instead\n",
      "  warnings.warn(\n",
      "C:\\Users\\hp\\AppData\\Local\\Temp\\ipykernel_19780\\3133020267.py:3: FutureWarning: `tokenizer` is deprecated and will be removed in version 5.0.0 for `WeightedLossTrainer.__init__`. Use `processing_class` instead.\n",
      "  super().__init__(*args, **kwargs)\n"
     ]
    },
    {
     "name": "stdout",
     "output_type": "stream",
     "text": [
      "{'loss': 0.4719, 'grad_norm': 102.32600402832031, 'learning_rate': 9e-07, 'epoch': 1.0}\n",
      "{'eval_loss': 0.3913396894931793, 'eval_accuracy': 0.7516666666666667, 'eval_f1': 0.7191416485640313, 'eval_runtime': 6.2249, 'eval_samples_per_second': 96.387, 'eval_steps_per_second': 12.048, 'epoch': 1.0}\n",
      "{'loss': 0.4355, 'grad_norm': 34.68019485473633, 'learning_rate': 8e-07, 'epoch': 2.0}\n",
      "{'eval_loss': 0.3861194849014282, 'eval_accuracy': 0.7583333333333333, 'eval_f1': 0.7297610137597457, 'eval_runtime': 6.2292, 'eval_samples_per_second': 96.321, 'eval_steps_per_second': 12.04, 'epoch': 2.0}\n",
      "{'loss': 0.4199, 'grad_norm': 60.99127197265625, 'learning_rate': 7e-07, 'epoch': 3.0}\n",
      "{'eval_loss': 0.38499853014945984, 'eval_accuracy': 0.7616666666666667, 'eval_f1': 0.7377444334890995, 'eval_runtime': 6.2174, 'eval_samples_per_second': 96.504, 'eval_steps_per_second': 12.063, 'epoch': 3.0}\n",
      "{'loss': 0.3911, 'grad_norm': 35.093666076660156, 'learning_rate': 6e-07, 'epoch': 4.0}\n",
      "{'eval_loss': 0.39584895968437195, 'eval_accuracy': 0.7583333333333333, 'eval_f1': 0.7337157874899303, 'eval_runtime': 6.2257, 'eval_samples_per_second': 96.375, 'eval_steps_per_second': 12.047, 'epoch': 4.0}\n",
      "{'loss': 0.3835, 'grad_norm': 34.876312255859375, 'learning_rate': 5e-07, 'epoch': 5.0}\n",
      "{'eval_loss': 0.3996598422527313, 'eval_accuracy': 0.765, 'eval_f1': 0.7417448029506405, 'eval_runtime': 6.2402, 'eval_samples_per_second': 96.151, 'eval_steps_per_second': 12.019, 'epoch': 5.0}\n",
      "{'loss': 0.3795, 'grad_norm': 14.502259254455566, 'learning_rate': 4e-07, 'epoch': 6.0}\n",
      "{'eval_loss': 0.3999158442020416, 'eval_accuracy': 0.7633333333333333, 'eval_f1': 0.7413064500962591, 'eval_runtime': 6.2283, 'eval_samples_per_second': 96.335, 'eval_steps_per_second': 12.042, 'epoch': 6.0}\n",
      "{'loss': 0.3602, 'grad_norm': 18.1669864654541, 'learning_rate': 3e-07, 'epoch': 7.0}\n",
      "{'eval_loss': 0.40492767095565796, 'eval_accuracy': 0.7666666666666667, 'eval_f1': 0.7455053993930593, 'eval_runtime': 6.2176, 'eval_samples_per_second': 96.501, 'eval_steps_per_second': 12.063, 'epoch': 7.0}\n",
      "{'loss': 0.3449, 'grad_norm': 8.704782485961914, 'learning_rate': 2e-07, 'epoch': 8.0}\n",
      "{'eval_loss': 0.4061810374259949, 'eval_accuracy': 0.7683333333333333, 'eval_f1': 0.7470785606849474, 'eval_runtime': 6.2255, 'eval_samples_per_second': 96.378, 'eval_steps_per_second': 12.047, 'epoch': 8.0}\n",
      "{'loss': 0.3493, 'grad_norm': 7.924424648284912, 'learning_rate': 1e-07, 'epoch': 9.0}\n",
      "{'eval_loss': 0.4085782468318939, 'eval_accuracy': 0.7666666666666667, 'eval_f1': 0.7455053993930593, 'eval_runtime': 6.2162, 'eval_samples_per_second': 96.522, 'eval_steps_per_second': 12.065, 'epoch': 9.0}\n",
      "{'loss': 0.3394, 'grad_norm': 23.52568817138672, 'learning_rate': 0.0, 'epoch': 10.0}\n",
      "{'eval_loss': 0.40793946385383606, 'eval_accuracy': 0.7683333333333333, 'eval_f1': 0.7470785606849474, 'eval_runtime': 5.8771, 'eval_samples_per_second': 102.091, 'eval_steps_per_second': 12.761, 'epoch': 10.0}\n",
      "{'train_runtime': 912.8361, 'train_samples_per_second': 26.292, 'train_steps_per_second': 3.286, 'train_loss': 0.387516596476237, 'epoch': 10.0}\n",
      "Training für learning_rate = 1e-06 abgeschlossen in 913.05 Sekunden.\n"
     ]
    }
   ],
   "source": [
    "results = {}\n",
    "lrs = [2e-5, 1e-5, 5e-6, 3e-6, 1e-6]\n",
    "\n",
    "for lr in lrs:\n",
    "    print(f\"Starte Training für learning_rate = {lr}\")\n",
    "\n",
    "      # Modell bei jedem Run neu laden!\n",
    "    model = AutoModelForSequenceClassification.from_pretrained(\n",
    "        \"ElKulako/cryptobert\",\n",
    "        num_labels=3\n",
    "    )\n",
    "\n",
    "    output_dir = os.path.join(MODEL_PATHS[\"cryptobert_comments\"], f\"finetuned_lr_{lr}\")\n",
    "    logging_dir = os.path.join(\"../../logs/cryptobert_comments\", f\"lr_{lr}\")\n",
    "    os.makedirs(output_dir, exist_ok=True)\n",
    "    os.makedirs(logging_dir, exist_ok=True)\n",
    "\n",
    "    training_args = TrainingArguments(\n",
    "        output_dir=output_dir,\n",
    "        evaluation_strategy=\"epoch\",\n",
    "        save_strategy=\"epoch\",\n",
    "        learning_rate=lr,\n",
    "        per_device_train_batch_size=8,\n",
    "        per_device_eval_batch_size=8,\n",
    "        num_train_epochs=10,\n",
    "        weight_decay=0.01,\n",
    "        load_best_model_at_end=True,\n",
    "        metric_for_best_model=\"f1\",\n",
    "        logging_dir=logging_dir,\n",
    "        logging_strategy=\"epoch\",\n",
    "        report_to=\"none\",\n",
    "        remove_unused_columns=False,\n",
    "        disable_tqdm=True\n",
    "    )\n",
    "\n",
    "    trainer = WeightedLossTrainer(\n",
    "        model=model,\n",
    "        args=training_args,\n",
    "        train_dataset=train_ds,\n",
    "        tokenizer=tokenizer,\n",
    "        eval_dataset=val_ds,\n",
    "        compute_metrics=compute_metrics,\n",
    "        loss_fn=loss_fn,    \n",
    "        callbacks=[EarlyStoppingCallback(early_stopping_patience=2)]\n",
    "    )\n",
    "\n",
    "\n",
    "\n",
    "    start = time.time()\n",
    "    trainer.train()\n",
    "    end = time.time()\n",
    "\n",
    "    logs = trainer.state.log_history\n",
    "    epoch_logs = [log for log in logs if \"eval_f1\" in log]\n",
    "    df = pd.DataFrame(epoch_logs)[[\"epoch\", \"eval_f1\"]]\n",
    "    df[\"learning_rate\"] = lr\n",
    "\n",
    "    results[lr] = {\n",
    "        \"f1_curve\": df,\n",
    "        \"best_f1\": df[\"eval_f1\"].max(),\n",
    "        \"trainer\": trainer\n",
    "    }\n",
    "    print(f\"Training für learning_rate = {lr} abgeschlossen in {end - start:.2f} Sekunden.\")"
   ]
  },
  {
   "cell_type": "markdown",
   "id": "aceb0d11",
   "metadata": {},
   "source": [
    "## Evaluation"
   ]
  },
  {
   "cell_type": "markdown",
   "id": "d49437b2",
   "metadata": {},
   "source": [
    "Plott fuer die Lernkurve"
   ]
  },
  {
   "cell_type": "code",
   "execution_count": 15,
   "id": "c12f414d",
   "metadata": {},
   "outputs": [
    {
     "name": "stderr",
     "output_type": "stream",
     "text": [
      "C:\\Users\\hp\\AppData\\Local\\Temp\\ipykernel_19780\\460586369.py:12: UserWarning: Glyph 128200 (\\N{CHART WITH UPWARDS TREND}) missing from font(s) DejaVu Sans.\n",
      "  plt.tight_layout()\n",
      "c:\\Users\\hp\\anaconda3\\envs\\crypto_nlp\\lib\\site-packages\\IPython\\core\\pylabtools.py:152: UserWarning: Glyph 128200 (\\N{CHART WITH UPWARDS TREND}) missing from font(s) DejaVu Sans.\n",
      "  fig.canvas.print_figure(bytes_io, **kw)\n"
     ]
    },
    {
     "data": {
      "image/png": "[encoded data removed]",
      "text/plain": [
       "<Figure size 800x500 with 1 Axes>"
      ]
     },
     "metadata": {},
     "output_type": "display_data"
    }
   ],
   "source": [
    "plt.figure(figsize=(8, 5))\n",
    "\n",
    "for lr, data in results.items():\n",
    "    df = data[\"f1_curve\"]\n",
    "    plt.plot(df[\"epoch\"], df[\"eval_f1\"], marker=\"o\", label=f\"lr={lr}\")\n",
    "\n",
    "plt.title(\"📈 Lernkurven (Validation F1) – CryptoBERT bei verschiedenen Lernraten\")\n",
    "plt.xlabel(\"Epoche\")\n",
    "plt.ylabel(\"F1 (macro)\")\n",
    "plt.legend()\n",
    "plt.grid(True)\n",
    "plt.tight_layout()\n",
    "plt.show()\n"
   ]
  },
  {
   "cell_type": "code",
   "execution_count": 16,
   "id": "07c2769d",
   "metadata": {},
   "outputs": [
    {
     "name": "stdout",
     "output_type": "stream",
     "text": [
      "lr=2e-05: best_f1=0.7278\n",
      "lr=1e-05: best_f1=0.7624\n",
      "lr=5e-06: best_f1=0.7581\n",
      "lr=3e-06: best_f1=0.7605\n",
      "lr=1e-06: best_f1=0.7471\n"
     ]
    }
   ],
   "source": [
    "for lr, res in results.items():\n",
    "    print(f\"lr={lr}: best_f1={res['best_f1']:.4f}\")\n"
   ]
  },
  {
   "cell_type": "code",
   "execution_count": 17,
   "id": "dd8dd6c2",
   "metadata": {},
   "outputs": [
    {
     "name": "stdout",
     "output_type": "stream",
     "text": [
      "\n",
      "🏆 Beste Lernrate: 1e-05 mit F1 = 0.7624\n"
     ]
    }
   ],
   "source": [
    "# Beste Lernrate bestimmen\n",
    "best_lr = max(results.items(), key=lambda x: x[1][\"best_f1\"])[0]\n",
    "best_trainer = results[best_lr][\"trainer\"]\n",
    "\n",
    "print(f\"\\n🏆 Beste Lernrate: {best_lr} mit F1 = {results[best_lr]['best_f1']:.4f}\")\n"
   ]
  },
  {
   "cell_type": "markdown",
   "id": "926c0bd9",
   "metadata": {},
   "source": [
    "Evaluation im finalen Testsplit"
   ]
  },
  {
   "cell_type": "code",
   "execution_count": 18,
   "id": "1c455390",
   "metadata": {},
   "outputs": [
    {
     "name": "stdout",
     "output_type": "stream",
     "text": [
      "\n",
      "Evaluation auf Testset:\n",
      "F1-Score (macro): 0.9199\n",
      "Cohen’s Kappa:    0.8814\n",
      "\n",
      "Klassifikationsreport:\n",
      "              precision    recall  f1-score   support\n",
      "\n",
      "           0       0.95      0.98      0.96       333\n",
      "           1       0.94      0.83      0.88       333\n",
      "           2       0.88      0.95      0.92       333\n",
      "\n",
      "    accuracy                           0.92       999\n",
      "   macro avg       0.92      0.92      0.92       999\n",
      "weighted avg       0.92      0.92      0.92       999\n",
      "\n"
     ]
    }
   ],
   "source": [
    "from sklearn.metrics import classification_report, f1_score, cohen_kappa_score\n",
    "\n",
    "# Vorhersage\n",
    "test_results = best_trainer.predict(test_ds)\n",
    "\n",
    "# Vorhersage & Wahre Labels\n",
    "y_pred = test_results.predictions.argmax(axis=1)\n",
    "y_true = test_results.label_ids\n",
    "\n",
    "# Kein Mapping nötig – Test- und Trainingsdaten sind synchron\n",
    "f1_macro = f1_score(y_true, y_pred, average=\"macro\")\n",
    "kappa = cohen_kappa_score(y_true, y_pred)\n",
    "\n",
    "# Ausgabe\n",
    "print(\"\\nEvaluation auf Testset:\")\n",
    "print(\"F1-Score (macro):\", round(f1_macro, 4))\n",
    "print(\"Cohen’s Kappa:   \", round(kappa, 4))\n",
    "print(\"\\nKlassifikationsreport:\")\n",
    "print(classification_report(y_true, y_pred))\n"
   ]
  }
 ],
 "metadata": {
  "kernelspec": {
   "display_name": "crypto_nlp",
   "language": "python",
   "name": "python3"
  },
  "language_info": {
   "codemirror_mode": {
    "name": "ipython",
    "version": 3
   },
   "file_extension": ".py",
   "mimetype": "text/x-python",
   "name": "python",
   "nbconvert_exporter": "python",
   "pygments_lexer": "ipython3",
   "version": "3.9.21"
  }
 },
 "nbformat": 4,
 "nbformat_minor": 5
}
