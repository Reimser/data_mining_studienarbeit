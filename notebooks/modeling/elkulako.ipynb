{
 "cells": [
  {
   "cell_type": "markdown",
   "id": "42b707a7",
   "metadata": {},
   "source": [
    "# Finetunen vom Elkulako/cryptobert Modell"
   ]
  },
  {
   "cell_type": "markdown",
   "id": "d83cc7cd",
   "metadata": {
    "vscode": {
     "languageId": "plaintext"
    }
   },
   "source": [
    "## Import"
   ]
  },
  {
   "cell_type": "code",
   "execution_count": 44,
   "id": "613bdc57",
   "metadata": {},
   "outputs": [],
   "source": [
    "import os\n",
    "import torch\n",
    "import pandas as pd\n",
    "from sklearn.model_selection import train_test_split\n",
    "from datasets import Dataset\n",
    "from transformers import DebertaV2Tokenizer, AutoModelForSequenceClassification, Trainer, TrainingArguments, AutoTokenizer, EarlyStoppingCallback\n",
    "import evaluate\n",
    "import numpy as np\n",
    "import torch\n",
    "from sklearn.metrics import accuracy_score, f1_score\n",
    "import matplotlib.pyplot as plt\n",
    "import seaborn as sns\n",
    "import time\n",
    "import pandas as pd\n",
    "from transformers import AutoModelForSequenceClassification, Trainer, TrainingArguments\n",
    "import transformers\n",
    "import warnings"
   ]
  },
  {
   "cell_type": "code",
   "execution_count": 45,
   "id": "3a3e2ffb",
   "metadata": {},
   "outputs": [
    {
     "name": "stdout",
     "output_type": "stream",
     "text": [
      "Using cuda device\n"
     ]
    }
   ],
   "source": [
    "# Cuda pruefen\n",
    "device = \"cuda\" if torch.cuda.is_available() else \"cpu\"\n",
    "print(\"Using {} device\".format(device))"
   ]
  },
  {
   "cell_type": "code",
   "execution_count": 46,
   "id": "78d4beaa",
   "metadata": {},
   "outputs": [],
   "source": [
    "DATA_PATH = '../../data/processed/'"
   ]
  },
  {
   "cell_type": "code",
   "execution_count": 47,
   "id": "3aa22f23",
   "metadata": {},
   "outputs": [
    {
     "name": "stdout",
     "output_type": "stream",
     "text": [
      "✅ Kommentardaten geladen: 276 Beispiele\n"
     ]
    }
   ],
   "source": [
    "from sklearn.model_selection import train_test_split\n",
    "\n",
    "# Nur Comments extrahieren\n",
    "df_all_comments = pd.concat([df_comments_old, df_new_comments], ignore_index=True)\n",
    "df_all_comments = df_all_comments[['id', 'text', 'label']].dropna()\n",
    "df_all_comments['label'] = pd.to_numeric(df_all_comments['label'], errors='coerce')\n",
    "df_all_comments = df_all_comments.dropna(subset=['label'])\n",
    "df_all_comments['label'] = df_all_comments['label'].astype(int)\n",
    "\n",
    "print(f\"✅ Kommentardaten geladen: {len(df_all_comments)} Beispiele\")\n"
   ]
  },
  {
   "cell_type": "markdown",
   "id": "2be8e33c",
   "metadata": {},
   "source": [
    "## Train-Test-Split"
   ]
  },
  {
   "cell_type": "code",
   "execution_count": 48,
   "id": "8b91ce58",
   "metadata": {},
   "outputs": [
    {
     "name": "stdout",
     "output_type": "stream",
     "text": [
      "✅ Splits erzeugt:\n",
      "- Train: 165\n",
      "- Val:   55\n",
      "- Test:  56\n"
     ]
    }
   ],
   "source": [
    "# Stratifizierter Split\n",
    "trainval_df, test_df = train_test_split(\n",
    "    df_all_comments,\n",
    "    test_size=0.2,\n",
    "    stratify=df_all_comments[\"label\"],\n",
    "    random_state=42\n",
    ")\n",
    "\n",
    "train_df, val_df = train_test_split(\n",
    "    trainval_df,\n",
    "    test_size=0.25,  # 0.25 * 0.8 = 0.2 → 60/20/20 Split\n",
    "    stratify=trainval_df[\"label\"],\n",
    "    random_state=42\n",
    ")\n",
    "\n",
    "# Indizes zurücksetzen\n",
    "train_df = train_df.reset_index(drop=True)\n",
    "val_df = val_df.reset_index(drop=True)\n",
    "test_df = test_df.reset_index(drop=True)\n",
    "\n",
    "print(\"✅ Splits erzeugt:\")\n",
    "print(f\"- Train: {len(train_df)}\")\n",
    "print(f\"- Val:   {len(val_df)}\")\n",
    "print(f\"- Test:  {len(test_df)}\")\n"
   ]
  },
  {
   "cell_type": "code",
   "execution_count": 49,
   "id": "ddfb55c1",
   "metadata": {},
   "outputs": [
    {
     "name": "stdout",
     "output_type": "stream",
     "text": [
      "Train size: 165\n",
      "Val size: 55\n",
      "Test size: 56\n",
      "Train labels:\n",
      " label\n",
      "1    82\n",
      "0    55\n",
      "2    28\n",
      "Name: count, dtype: int64\n"
     ]
    }
   ],
   "source": [
    "print(f\"Train size: {len(train_df)}\")\n",
    "print(f\"Val size: {len(val_df)}\")\n",
    "print(f\"Test size: {len(test_df)}\")\n",
    "print(\"Train labels:\\n\", train_df[\"label\"].value_counts())\n"
   ]
  },
  {
   "cell_type": "markdown",
   "id": "8daf96e8",
   "metadata": {},
   "source": [
    "ab hier wird die class weight loss geaednert"
   ]
  },
  {
   "cell_type": "code",
   "execution_count": 50,
   "id": "bc797012",
   "metadata": {},
   "outputs": [],
   "source": [
    "from transformers import Trainer\n",
    "\n",
    "class WeightedLossTrainer(Trainer):\n",
    "    def __init__(self, *args, loss_fn=None, **kwargs):\n",
    "        super().__init__(*args, **kwargs)\n",
    "        self.loss_fn = loss_fn\n",
    "\n",
    "    def compute_loss(self, model, inputs, return_outputs=False, **kwargs):  # ✅ **kwargs ergänzt\n",
    "        labels = inputs.pop(\"labels\")\n",
    "        outputs = model(**inputs)\n",
    "        logits = outputs.logits\n",
    "        loss = self.loss_fn(logits, labels)\n",
    "        return (loss, outputs) if return_outputs else loss\n"
   ]
  },
  {
   "cell_type": "code",
   "execution_count": 51,
   "id": "569f56a3",
   "metadata": {},
   "outputs": [],
   "source": [
    "# 🔢 Manuelle Class Weights – hier z. B. stärkerer Fokus auf bearish\n",
    "weights_tensor = torch.tensor([0.8, 1.0, 4.0], dtype=torch.float)\n",
    "device = \"cuda\" if torch.cuda.is_available() else \"cpu\"\n",
    "\n",
    "loss_fn = torch.nn.CrossEntropyLoss(weight=weights_tensor.to(device))\n"
   ]
  },
  {
   "cell_type": "markdown",
   "id": "5f035e1b",
   "metadata": {},
   "source": [
    "## Modelltraining"
   ]
  },
  {
   "cell_type": "markdown",
   "id": "b644c4cd",
   "metadata": {},
   "source": [
    "Modell und Tokenizer laden"
   ]
  },
  {
   "cell_type": "code",
   "execution_count": 52,
   "id": "f576baa4",
   "metadata": {},
   "outputs": [],
   "source": [
    "EXPERIMENTS_BASE_PATH = \"../../models/experiments/\"\n",
    "\n",
    "MODEL_PATHS = {\n",
    "    \"cryptobert_comments\": os.path.join(EXPERIMENTS_BASE_PATH, \"cryptobert_comments\")\n",
    "}\n",
    "\n",
    "for path in MODEL_PATHS.values():\n",
    "    os.makedirs(path, exist_ok=True)\n"
   ]
  },
  {
   "cell_type": "code",
   "execution_count": 53,
   "id": "bc227ae9",
   "metadata": {},
   "outputs": [],
   "source": [
    "tokenizer = AutoTokenizer.from_pretrained(MODEL_PATHS[\"cryptobert_comments\"])\n",
    "model = AutoModelForSequenceClassification.from_pretrained(MODEL_PATHS[\"cryptobert_comments\"], num_labels=3)\n"
   ]
  },
  {
   "cell_type": "code",
   "execution_count": 54,
   "id": "53422b3a",
   "metadata": {},
   "outputs": [],
   "source": [
    "def tokenize_function(example):\n",
    "    return tokenizer(example[\"text\"], truncation=True, padding=\"max_length\", max_length=256)\n"
   ]
  },
  {
   "cell_type": "markdown",
   "id": "f5a8bede",
   "metadata": {},
   "source": [
    "Tokenisierung der Splits"
   ]
  },
  {
   "cell_type": "code",
   "execution_count": 55,
   "id": "6e40075d",
   "metadata": {},
   "outputs": [
    {
     "name": "stderr",
     "output_type": "stream",
     "text": [
      "Map: 100%|██████████| 165/165 [00:00<00:00, 5989.17 examples/s]\n",
      "Map: 100%|██████████| 55/55 [00:00<00:00, 6111.07 examples/s]\n",
      "Map: 100%|██████████| 56/56 [00:00<00:00, 5948.16 examples/s]\n"
     ]
    }
   ],
   "source": [
    "# Tokenisierung\n",
    "train_ds = Dataset.from_pandas(train_df).map(tokenize_function, batched=True)\n",
    "val_ds = Dataset.from_pandas(val_df).map(tokenize_function, batched=True)\n",
    "test_ds = Dataset.from_pandas(test_df).map(tokenize_function, batched=True)\n",
    "\n",
    "# Format setzen – Korrekt pro Dataset!\n",
    "train_ds = train_ds.rename_column(\"label\", \"labels\")\n",
    "val_ds = val_ds.rename_column(\"label\", \"labels\")\n",
    "test_ds = test_ds.rename_column(\"label\", \"labels\")\n",
    "\n",
    "train_ds.set_format(\"torch\", columns=[\"input_ids\", \"attention_mask\", \"labels\"])\n",
    "val_ds.set_format(\"torch\", columns=[\"input_ids\", \"attention_mask\", \"labels\"])\n",
    "test_ds.set_format(\"torch\", columns=[\"input_ids\", \"attention_mask\", \"labels\"])\n"
   ]
  },
  {
   "cell_type": "markdown",
   "id": "e33501d7",
   "metadata": {},
   "source": [
    "Metriken"
   ]
  },
  {
   "cell_type": "code",
   "execution_count": 56,
   "id": "7d126431",
   "metadata": {},
   "outputs": [],
   "source": [
    "def compute_metrics(eval_pred):\n",
    "    logits, labels = eval_pred\n",
    "    preds = logits.argmax(axis=1)\n",
    "    return {\n",
    "        \"accuracy\": accuracy_score(labels, preds),\n",
    "        \"f1\": f1_score(labels, preds, average=\"macro\")\n",
    "    }\n"
   ]
  },
  {
   "cell_type": "markdown",
   "id": "f78f1cf5",
   "metadata": {},
   "source": [
    "Traininsargumente und Trainer"
   ]
  },
  {
   "cell_type": "code",
   "execution_count": 58,
   "id": "f5754a77",
   "metadata": {},
   "outputs": [
    {
     "name": "stdout",
     "output_type": "stream",
     "text": [
      "Starte Training für learning_rate = 2e-05\n"
     ]
    },
    {
     "name": "stderr",
     "output_type": "stream",
     "text": [
      "c:\\Users\\hp\\anaconda3\\envs\\crypto_nlp\\lib\\site-packages\\transformers\\training_args.py:1594: FutureWarning: `evaluation_strategy` is deprecated and will be removed in version 4.46 of 🤗 Transformers. Use `eval_strategy` instead\n",
      "  warnings.warn(\n",
      "C:\\Users\\hp\\AppData\\Local\\Temp\\ipykernel_18160\\3961012866.py:5: FutureWarning: `tokenizer` is deprecated and will be removed in version 5.0.0 for `WeightedLossTrainer.__init__`. Use `processing_class` instead.\n",
      "  super().__init__(*args, **kwargs)\n"
     ]
    },
    {
     "name": "stdout",
     "output_type": "stream",
     "text": [
      "{'loss': 1.8089, 'grad_norm': 29.015541076660156, 'learning_rate': 1.7142857142857142e-05, 'epoch': 1.0}\n",
      "{'eval_loss': 1.3230767250061035, 'eval_accuracy': 0.43636363636363634, 'eval_f1': 0.37938949938949945, 'eval_runtime': 0.4393, 'eval_samples_per_second': 125.2, 'eval_steps_per_second': 15.935, 'epoch': 1.0}\n",
      "{'loss': 0.758, 'grad_norm': 41.74248504638672, 'learning_rate': 1.4285714285714287e-05, 'epoch': 2.0}\n",
      "{'eval_loss': 1.1142686605453491, 'eval_accuracy': 0.5636363636363636, 'eval_f1': 0.47988993618640596, 'eval_runtime': 0.4364, 'eval_samples_per_second': 126.04, 'eval_steps_per_second': 16.041, 'epoch': 2.0}\n",
      "{'loss': 0.3602, 'grad_norm': 10.92337703704834, 'learning_rate': 1.1428571428571429e-05, 'epoch': 3.0}\n",
      "{'eval_loss': 1.1859315633773804, 'eval_accuracy': 0.5818181818181818, 'eval_f1': 0.49027777777777776, 'eval_runtime': 0.4461, 'eval_samples_per_second': 123.293, 'eval_steps_per_second': 15.692, 'epoch': 3.0}\n",
      "{'loss': 0.1895, 'grad_norm': 14.120656967163086, 'learning_rate': 8.571428571428571e-06, 'epoch': 4.0}\n",
      "{'eval_loss': 1.2606240510940552, 'eval_accuracy': 0.5636363636363636, 'eval_f1': 0.476280834914611, 'eval_runtime': 0.4457, 'eval_samples_per_second': 123.412, 'eval_steps_per_second': 15.707, 'epoch': 4.0}\n",
      "{'loss': 0.0941, 'grad_norm': 1.418913722038269, 'learning_rate': 5.7142857142857145e-06, 'epoch': 5.0}\n",
      "{'eval_loss': 1.561536192893982, 'eval_accuracy': 0.6, 'eval_f1': 0.47033306374531286, 'eval_runtime': 0.4525, 'eval_samples_per_second': 121.554, 'eval_steps_per_second': 15.47, 'epoch': 5.0}\n",
      "{'train_runtime': 37.3372, 'train_samples_per_second': 30.934, 'train_steps_per_second': 3.937, 'train_loss': 0.6421381541660853, 'epoch': 5.0}\n",
      "Training für learning_rate = 2e-05 abgeschlossen in 38.23 Sekunden.\n",
      "Starte Training für learning_rate = 1e-05\n"
     ]
    },
    {
     "name": "stderr",
     "output_type": "stream",
     "text": [
      "c:\\Users\\hp\\anaconda3\\envs\\crypto_nlp\\lib\\site-packages\\transformers\\training_args.py:1594: FutureWarning: `evaluation_strategy` is deprecated and will be removed in version 4.46 of 🤗 Transformers. Use `eval_strategy` instead\n",
      "  warnings.warn(\n",
      "C:\\Users\\hp\\AppData\\Local\\Temp\\ipykernel_18160\\3961012866.py:5: FutureWarning: `tokenizer` is deprecated and will be removed in version 5.0.0 for `WeightedLossTrainer.__init__`. Use `processing_class` instead.\n",
      "  super().__init__(*args, **kwargs)\n"
     ]
    },
    {
     "name": "stdout",
     "output_type": "stream",
     "text": [
      "{'loss': 0.1573, 'grad_norm': 23.150514602661133, 'learning_rate': 8.571428571428571e-06, 'epoch': 1.0}\n",
      "{'eval_loss': 1.3705929517745972, 'eval_accuracy': 0.5636363636363636, 'eval_f1': 0.4820261437908497, 'eval_runtime': 0.4525, 'eval_samples_per_second': 121.538, 'eval_steps_per_second': 15.468, 'epoch': 1.0}\n",
      "{'loss': 0.0498, 'grad_norm': 13.024577140808105, 'learning_rate': 7.1428571428571436e-06, 'epoch': 2.0}\n",
      "{'eval_loss': 1.8040592670440674, 'eval_accuracy': 0.6181818181818182, 'eval_f1': 0.49494949494949503, 'eval_runtime': 0.4601, 'eval_samples_per_second': 119.546, 'eval_steps_per_second': 15.215, 'epoch': 2.0}\n",
      "{'loss': 0.0173, 'grad_norm': 1.328643798828125, 'learning_rate': 5.7142857142857145e-06, 'epoch': 3.0}\n",
      "{'eval_loss': 1.7626736164093018, 'eval_accuracy': 0.6181818181818182, 'eval_f1': 0.530026455026455, 'eval_runtime': 0.4563, 'eval_samples_per_second': 120.543, 'eval_steps_per_second': 15.342, 'epoch': 3.0}\n",
      "{'loss': 0.018, 'grad_norm': 3.085421323776245, 'learning_rate': 4.2857142857142855e-06, 'epoch': 4.0}\n",
      "{'eval_loss': 1.843825340270996, 'eval_accuracy': 0.6, 'eval_f1': 0.5167155425219941, 'eval_runtime': 0.4557, 'eval_samples_per_second': 120.696, 'eval_steps_per_second': 15.361, 'epoch': 4.0}\n",
      "{'loss': 0.008, 'grad_norm': 0.1763201504945755, 'learning_rate': 2.8571428571428573e-06, 'epoch': 5.0}\n",
      "{'eval_loss': 2.031277894973755, 'eval_accuracy': 0.6545454545454545, 'eval_f1': 0.5564457048328015, 'eval_runtime': 0.4538, 'eval_samples_per_second': 121.186, 'eval_steps_per_second': 15.424, 'epoch': 5.0}\n",
      "{'loss': 0.0064, 'grad_norm': 1.1055514812469482, 'learning_rate': 1.4285714285714286e-06, 'epoch': 6.0}\n",
      "{'eval_loss': 2.017731189727783, 'eval_accuracy': 0.6545454545454545, 'eval_f1': 0.5564457048328015, 'eval_runtime': 0.463, 'eval_samples_per_second': 118.799, 'eval_steps_per_second': 15.12, 'epoch': 6.0}\n",
      "{'loss': 0.0058, 'grad_norm': 0.2733089029788971, 'learning_rate': 0.0, 'epoch': 7.0}\n",
      "{'eval_loss': 2.0224993228912354, 'eval_accuracy': 0.6545454545454545, 'eval_f1': 0.5564457048328015, 'eval_runtime': 0.4498, 'eval_samples_per_second': 122.267, 'eval_steps_per_second': 15.561, 'epoch': 7.0}\n",
      "{'train_runtime': 52.8585, 'train_samples_per_second': 21.851, 'train_steps_per_second': 2.781, 'train_loss': 0.037522291042366804, 'epoch': 7.0}\n",
      "Training für learning_rate = 1e-05 abgeschlossen in 53.06 Sekunden.\n",
      "Starte Training für learning_rate = 5e-06\n"
     ]
    },
    {
     "name": "stderr",
     "output_type": "stream",
     "text": [
      "c:\\Users\\hp\\anaconda3\\envs\\crypto_nlp\\lib\\site-packages\\transformers\\training_args.py:1594: FutureWarning: `evaluation_strategy` is deprecated and will be removed in version 4.46 of 🤗 Transformers. Use `eval_strategy` instead\n",
      "  warnings.warn(\n",
      "C:\\Users\\hp\\AppData\\Local\\Temp\\ipykernel_18160\\3961012866.py:5: FutureWarning: `tokenizer` is deprecated and will be removed in version 5.0.0 for `WeightedLossTrainer.__init__`. Use `processing_class` instead.\n",
      "  super().__init__(*args, **kwargs)\n"
     ]
    },
    {
     "name": "stdout",
     "output_type": "stream",
     "text": [
      "{'loss': 0.0029, 'grad_norm': 0.20795807242393494, 'learning_rate': 4.2857142857142855e-06, 'epoch': 1.0}\n",
      "{'eval_loss': 2.170097589492798, 'eval_accuracy': 0.6181818181818182, 'eval_f1': 0.5275613275613275, 'eval_runtime': 0.4702, 'eval_samples_per_second': 116.97, 'eval_steps_per_second': 14.887, 'epoch': 1.0}\n",
      "{'loss': 0.0019, 'grad_norm': 1.6758583784103394, 'learning_rate': 3.5714285714285718e-06, 'epoch': 2.0}\n",
      "{'eval_loss': 2.391385078430176, 'eval_accuracy': 0.6545454545454545, 'eval_f1': 0.5600421084292052, 'eval_runtime': 0.4688, 'eval_samples_per_second': 117.313, 'eval_steps_per_second': 14.931, 'epoch': 2.0}\n",
      "{'loss': 0.0013, 'grad_norm': 0.0387895330786705, 'learning_rate': 2.8571428571428573e-06, 'epoch': 3.0}\n",
      "{'eval_loss': 2.3320417404174805, 'eval_accuracy': 0.6545454545454545, 'eval_f1': 0.5600421084292052, 'eval_runtime': 0.4725, 'eval_samples_per_second': 116.41, 'eval_steps_per_second': 14.816, 'epoch': 3.0}\n",
      "{'loss': 0.0013, 'grad_norm': 0.07231297343969345, 'learning_rate': 2.1428571428571427e-06, 'epoch': 4.0}\n",
      "{'eval_loss': 2.313749074935913, 'eval_accuracy': 0.6363636363636364, 'eval_f1': 0.5435259856630824, 'eval_runtime': 0.4733, 'eval_samples_per_second': 116.212, 'eval_steps_per_second': 14.791, 'epoch': 4.0}\n",
      "{'train_runtime': 28.4467, 'train_samples_per_second': 40.602, 'train_steps_per_second': 5.168, 'train_loss': 0.0018557308108678886, 'epoch': 4.0}\n",
      "Training für learning_rate = 5e-06 abgeschlossen in 28.62 Sekunden.\n",
      "Starte Training für learning_rate = 3e-06\n"
     ]
    },
    {
     "name": "stderr",
     "output_type": "stream",
     "text": [
      "c:\\Users\\hp\\anaconda3\\envs\\crypto_nlp\\lib\\site-packages\\transformers\\training_args.py:1594: FutureWarning: `evaluation_strategy` is deprecated and will be removed in version 4.46 of 🤗 Transformers. Use `eval_strategy` instead\n",
      "  warnings.warn(\n",
      "C:\\Users\\hp\\AppData\\Local\\Temp\\ipykernel_18160\\3961012866.py:5: FutureWarning: `tokenizer` is deprecated and will be removed in version 5.0.0 for `WeightedLossTrainer.__init__`. Use `processing_class` instead.\n",
      "  super().__init__(*args, **kwargs)\n"
     ]
    },
    {
     "name": "stdout",
     "output_type": "stream",
     "text": [
      "{'loss': 0.001, 'grad_norm': 0.059116918593645096, 'learning_rate': 2.571428571428571e-06, 'epoch': 1.0}\n",
      "{'eval_loss': 2.3419084548950195, 'eval_accuracy': 0.6545454545454545, 'eval_f1': 0.5639880952380952, 'eval_runtime': 0.478, 'eval_samples_per_second': 115.07, 'eval_steps_per_second': 14.645, 'epoch': 1.0}\n",
      "{'loss': 0.0008, 'grad_norm': 0.1334269493818283, 'learning_rate': 2.142857142857143e-06, 'epoch': 2.0}\n",
      "{'eval_loss': 2.58882999420166, 'eval_accuracy': 0.6909090909090909, 'eval_f1': 0.588235294117647, 'eval_runtime': 0.476, 'eval_samples_per_second': 115.544, 'eval_steps_per_second': 14.706, 'epoch': 2.0}\n",
      "{'loss': 0.0007, 'grad_norm': 0.025056103244423866, 'learning_rate': 1.7142857142857143e-06, 'epoch': 3.0}\n",
      "{'eval_loss': 2.568540573120117, 'eval_accuracy': 0.6727272727272727, 'eval_f1': 0.5735425436917975, 'eval_runtime': 0.484, 'eval_samples_per_second': 113.638, 'eval_steps_per_second': 14.463, 'epoch': 3.0}\n",
      "{'loss': 0.0007, 'grad_norm': 0.028553927317261696, 'learning_rate': 1.2857142857142856e-06, 'epoch': 4.0}\n",
      "{'eval_loss': 2.4669268131256104, 'eval_accuracy': 0.6363636363636364, 'eval_f1': 0.5450123218686381, 'eval_runtime': 0.4808, 'eval_samples_per_second': 114.399, 'eval_steps_per_second': 14.56, 'epoch': 4.0}\n",
      "{'train_runtime': 28.9946, 'train_samples_per_second': 39.835, 'train_steps_per_second': 5.07, 'train_loss': 0.0007725420430125226, 'epoch': 4.0}\n",
      "Training für learning_rate = 3e-06 abgeschlossen in 29.19 Sekunden.\n",
      "Starte Training für learning_rate = 1e-06\n"
     ]
    },
    {
     "name": "stderr",
     "output_type": "stream",
     "text": [
      "c:\\Users\\hp\\anaconda3\\envs\\crypto_nlp\\lib\\site-packages\\transformers\\training_args.py:1594: FutureWarning: `evaluation_strategy` is deprecated and will be removed in version 4.46 of 🤗 Transformers. Use `eval_strategy` instead\n",
      "  warnings.warn(\n",
      "C:\\Users\\hp\\AppData\\Local\\Temp\\ipykernel_18160\\3961012866.py:5: FutureWarning: `tokenizer` is deprecated and will be removed in version 5.0.0 for `WeightedLossTrainer.__init__`. Use `processing_class` instead.\n",
      "  super().__init__(*args, **kwargs)\n"
     ]
    },
    {
     "name": "stdout",
     "output_type": "stream",
     "text": [
      "{'loss': 0.0005, 'grad_norm': 0.022303568199276924, 'learning_rate': 8.57142857142857e-07, 'epoch': 1.0}\n",
      "{'eval_loss': 2.5795488357543945, 'eval_accuracy': 0.6363636363636364, 'eval_f1': 0.5345861867600997, 'eval_runtime': 0.4824, 'eval_samples_per_second': 114.005, 'eval_steps_per_second': 14.51, 'epoch': 1.0}\n",
      "{'loss': 0.0005, 'grad_norm': 0.040816400200128555, 'learning_rate': 7.142857142857143e-07, 'epoch': 2.0}\n",
      "{'eval_loss': 2.613929510116577, 'eval_accuracy': 0.6909090909090909, 'eval_f1': 0.5916484948743014, 'eval_runtime': 0.4701, 'eval_samples_per_second': 116.987, 'eval_steps_per_second': 14.889, 'epoch': 2.0}\n",
      "{'loss': 0.0006, 'grad_norm': 0.023590287193655968, 'learning_rate': 5.714285714285714e-07, 'epoch': 3.0}\n",
      "{'eval_loss': 2.640159845352173, 'eval_accuracy': 0.6727272727272727, 'eval_f1': 0.5735425436917975, 'eval_runtime': 0.4814, 'eval_samples_per_second': 114.258, 'eval_steps_per_second': 14.542, 'epoch': 3.0}\n",
      "{'loss': 0.0006, 'grad_norm': 0.032695576548576355, 'learning_rate': 4.285714285714285e-07, 'epoch': 4.0}\n",
      "{'eval_loss': 2.5620293617248535, 'eval_accuracy': 0.6909090909090909, 'eval_f1': 0.5882074914332979, 'eval_runtime': 0.4861, 'eval_samples_per_second': 113.151, 'eval_steps_per_second': 14.401, 'epoch': 4.0}\n",
      "{'train_runtime': 30.6094, 'train_samples_per_second': 37.734, 'train_steps_per_second': 4.802, 'train_loss': 0.0005702234671584197, 'epoch': 4.0}\n",
      "Training für learning_rate = 1e-06 abgeschlossen in 30.80 Sekunden.\n"
     ]
    }
   ],
   "source": [
    "results = {}\n",
    "lrs = [2e-5, 1e-5, 5e-6, 3e-6, 1e-6]\n",
    "\n",
    "for lr in lrs:\n",
    "    print(f\"Starte Training für learning_rate = {lr}\")\n",
    "\n",
    "    output_dir = os.path.join(MODEL_PATHS[\"cryptobert_comments\"], f\"finetuned_lr_{lr}\")\n",
    "    logging_dir = os.path.join(\"../../logs/cryptobert_comments\", f\"lr_{lr}\")\n",
    "    os.makedirs(output_dir, exist_ok=True)\n",
    "    os.makedirs(logging_dir, exist_ok=True)\n",
    "\n",
    "    training_args = TrainingArguments(\n",
    "        output_dir=output_dir,\n",
    "        evaluation_strategy=\"epoch\",\n",
    "        save_strategy=\"epoch\",\n",
    "        learning_rate=lr,\n",
    "        per_device_train_batch_size=8,\n",
    "        per_device_eval_batch_size=8,\n",
    "        num_train_epochs=7,\n",
    "        weight_decay=0.01,\n",
    "        load_best_model_at_end=True,\n",
    "        metric_for_best_model=\"f1\",\n",
    "        logging_dir=logging_dir,\n",
    "        logging_strategy=\"epoch\",\n",
    "        report_to=\"none\",\n",
    "        remove_unused_columns=False,\n",
    "        disable_tqdm=True\n",
    "    )\n",
    "\n",
    "    trainer = WeightedLossTrainer(\n",
    "        model=model,\n",
    "        args=training_args,\n",
    "        train_dataset=train_ds,\n",
    "        eval_dataset=val_ds,\n",
    "        tokenizer=tokenizer,\n",
    "        compute_metrics=compute_metrics,\n",
    "        loss_fn=loss_fn,\n",
    "        callbacks=[EarlyStoppingCallback(early_stopping_patience=2)]\n",
    "    )\n",
    "\n",
    "\n",
    "\n",
    "    start = time.time()\n",
    "    trainer.train()\n",
    "    end = time.time()\n",
    "\n",
    "    logs = trainer.state.log_history\n",
    "    epoch_logs = [log for log in logs if \"eval_f1\" in log]\n",
    "    df = pd.DataFrame(epoch_logs)[[\"epoch\", \"eval_f1\"]]\n",
    "    df[\"learning_rate\"] = lr\n",
    "\n",
    "    results[lr] = {\n",
    "        \"f1_curve\": df,\n",
    "        \"best_f1\": df[\"eval_f1\"].max(),\n",
    "        \"trainer\": trainer\n",
    "    }\n",
    "    print(f\"Training für learning_rate = {lr} abgeschlossen in {end - start:.2f} Sekunden.\")"
   ]
  },
  {
   "cell_type": "markdown",
   "id": "d49437b2",
   "metadata": {},
   "source": [
    "Plott fuer die Lernkurve"
   ]
  },
  {
   "cell_type": "code",
   "execution_count": null,
   "id": "c12f414d",
   "metadata": {},
   "outputs": [
    {
     "name": "stderr",
     "output_type": "stream",
     "text": [
      "C:\\Users\\hp\\AppData\\Local\\Temp\\ipykernel_18160\\460586369.py:12: UserWarning: Glyph 128200 (\\N{CHART WITH UPWARDS TREND}) missing from font(s) DejaVu Sans.\n",
      "  plt.tight_layout()\n",
      "c:\\Users\\hp\\anaconda3\\envs\\crypto_nlp\\lib\\site-packages\\IPython\\core\\pylabtools.py:152: UserWarning: Glyph 128200 (\\N{CHART WITH UPWARDS TREND}) missing from font(s) DejaVu Sans.\n",
      "  fig.canvas.print_figure(bytes_io, **kw)\n"
     ]
    },
    {
     "data": {
      "image/png": "[encoded data removed]",
      "text/plain": [
       "<Figure size 800x500 with 1 Axes>"
      ]
     },
     "metadata": {},
     "output_type": "display_data"
    }
   ],
   "source": [
    "plt.figure(figsize=(8, 5))\n",
    "\n",
    "for lr, data in results.items():\n",
    "    df = data[\"f1_curve\"]\n",
    "    plt.plot(df[\"epoch\"], df[\"eval_f1\"], marker=\"o\", label=f\"lr={lr}\")\n",
    "\n",
    "plt.title(\"📈 Lernkurven (Validation F1) – CryptoBERT bei verschiedenen Lernraten\")\n",
    "plt.xlabel(\"Epoche\")\n",
    "plt.ylabel(\"F1 (macro)\")\n",
    "plt.legend()\n",
    "plt.grid(True)\n",
    "plt.tight_layout()\n",
    "plt.show()\n"
   ]
  },
  {
   "cell_type": "code",
   "execution_count": null,
   "id": "dd8dd6c2",
   "metadata": {},
   "outputs": [
    {
     "name": "stdout",
     "output_type": "stream",
     "text": [
      "\n",
      "🏆 Beste Lernrate: 2e-05 mit F1 = 0.5358\n"
     ]
    }
   ],
   "source": [
    "# Beste Lernrate bestimmen\n",
    "best_lr = max(results.items(), key=lambda x: x[1][\"best_f1\"])[0]\n",
    "best_trainer = results[best_lr][\"trainer\"]\n",
    "\n",
    "print(f\"\\n🏆 Beste Lernrate: {best_lr} mit F1 = {results[best_lr]['best_f1']:.4f}\")\n"
   ]
  },
  {
   "cell_type": "markdown",
   "id": "926c0bd9",
   "metadata": {},
   "source": [
    "Evaluation im finalen Testsplit"
   ]
  },
  {
   "cell_type": "code",
   "execution_count": null,
   "id": "1c455390",
   "metadata": {},
   "outputs": [
    {
     "name": "stdout",
     "output_type": "stream",
     "text": [
      "\n",
      "Evaluation auf Testset:\n",
      "F1-Score (macro): 0.4403\n",
      "Cohen’s Kappa:    0.2088\n",
      "\n",
      "Klassifikationsreport:\n",
      "              precision    recall  f1-score   support\n",
      "\n",
      "           0       0.51      0.54      0.53        37\n",
      "           1       0.60      0.68      0.64        60\n",
      "           2       0.25      0.11      0.15        18\n",
      "\n",
      "    accuracy                           0.55       115\n",
      "   macro avg       0.46      0.44      0.44       115\n",
      "weighted avg       0.52      0.55      0.53       115\n",
      "\n"
     ]
    }
   ],
   "source": [
    "from sklearn.metrics import classification_report, f1_score, cohen_kappa_score\n",
    "\n",
    "test_results = best_trainer.predict(test_ds)\n",
    "\n",
    "y_pred = test_results.predictions.argmax(axis=1)\n",
    "y_true = test_results.label_ids\n",
    "\n",
    "# Hauptmetriken berechnen\n",
    "f1_macro = f1_score(y_true, y_pred, average=\"macro\")\n",
    "kappa = cohen_kappa_score(y_true, y_pred)\n",
    "\n",
    "print(\"\\nEvaluation auf Testset:\")\n",
    "print(\"F1-Score (macro):\", round(f1_macro, 4))\n",
    "print(\"Cohen’s Kappa:   \", round(kappa, 4))\n",
    "print(\"\\nKlassifikationsreport:\")\n",
    "print(classification_report(y_true, y_pred))\n"
   ]
  },
  {
   "cell_type": "markdown",
   "id": "20c0d4a2",
   "metadata": {},
   "source": [
    "Falsche Vorhersagen"
   ]
  },
  {
   "cell_type": "code",
   "execution_count": null,
   "id": "3f24de64",
   "metadata": {},
   "outputs": [
    {
     "data": {
      "text/html": [
       "<div>\n",
       "<style scoped>\n",
       "    .dataframe tbody tr th:only-of-type {\n",
       "        vertical-align: middle;\n",
       "    }\n",
       "\n",
       "    .dataframe tbody tr th {\n",
       "        vertical-align: top;\n",
       "    }\n",
       "\n",
       "    .dataframe thead th {\n",
       "        text-align: right;\n",
       "    }\n",
       "</style>\n",
       "<table border=\"1\" class=\"dataframe\">\n",
       "  <thead>\n",
       "    <tr style=\"text-align: right;\">\n",
       "      <th></th>\n",
       "      <th>text</th>\n",
       "      <th>true</th>\n",
       "      <th>predicted</th>\n",
       "    </tr>\n",
       "  </thead>\n",
       "  <tbody>\n",
       "    <tr>\n",
       "      <th>1</th>\n",
       "      <td>Favourite ALTS for 2025? There's been much tal...</td>\n",
       "      <td>0</td>\n",
       "      <td>1</td>\n",
       "    </tr>\n",
       "    <tr>\n",
       "      <th>2</th>\n",
       "      <td>Would you take 100% chance of getting 600k or ...</td>\n",
       "      <td>0</td>\n",
       "      <td>1</td>\n",
       "    </tr>\n",
       "    <tr>\n",
       "      <th>5</th>\n",
       "      <td>India Strikes Crypto Exchange Bybit: Major Fin...</td>\n",
       "      <td>2</td>\n",
       "      <td>0</td>\n",
       "    </tr>\n",
       "    <tr>\n",
       "      <th>6</th>\n",
       "      <td>Traditional Investments v. Bitcoin The way I s...</td>\n",
       "      <td>0</td>\n",
       "      <td>1</td>\n",
       "    </tr>\n",
       "    <tr>\n",
       "      <th>7</th>\n",
       "      <td>Bitcoin maxi posted \"Solana will be the first ...</td>\n",
       "      <td>0</td>\n",
       "      <td>1</td>\n",
       "    </tr>\n",
       "    <tr>\n",
       "      <th>13</th>\n",
       "      <td>Ethereum Foundation Reveals Leadership Shakeup...</td>\n",
       "      <td>2</td>\n",
       "      <td>1</td>\n",
       "    </tr>\n",
       "    <tr>\n",
       "      <th>14</th>\n",
       "      <td>Trip Report: Struggles of a new crypto user Hi...</td>\n",
       "      <td>2</td>\n",
       "      <td>1</td>\n",
       "    </tr>\n",
       "    <tr>\n",
       "      <th>17</th>\n",
       "      <td>**Historical Bitcoin prices for today, Decembe...</td>\n",
       "      <td>1</td>\n",
       "      <td>0</td>\n",
       "    </tr>\n",
       "    <tr>\n",
       "      <th>18</th>\n",
       "      <td>!topics</td>\n",
       "      <td>1</td>\n",
       "      <td>0</td>\n",
       "    </tr>\n",
       "    <tr>\n",
       "      <th>19</th>\n",
       "      <td>Bitcoin surpasses 100k! New ath of 101.5k what...</td>\n",
       "      <td>1</td>\n",
       "      <td>0</td>\n",
       "    </tr>\n",
       "  </tbody>\n",
       "</table>\n",
       "</div>"
      ],
      "text/plain": [
       "                                                 text  true  predicted\n",
       "1   Favourite ALTS for 2025? There's been much tal...     0          1\n",
       "2   Would you take 100% chance of getting 600k or ...     0          1\n",
       "5   India Strikes Crypto Exchange Bybit: Major Fin...     2          0\n",
       "6   Traditional Investments v. Bitcoin The way I s...     0          1\n",
       "7   Bitcoin maxi posted \"Solana will be the first ...     0          1\n",
       "13  Ethereum Foundation Reveals Leadership Shakeup...     2          1\n",
       "14  Trip Report: Struggles of a new crypto user Hi...     2          1\n",
       "17  **Historical Bitcoin prices for today, Decembe...     1          0\n",
       "18                                            !topics     1          0\n",
       "19  Bitcoin surpasses 100k! New ath of 101.5k what...     1          0"
      ]
     },
     "execution_count": 23,
     "metadata": {},
     "output_type": "execute_result"
    }
   ],
   "source": [
    "wrong = [(i, p, t) for i, (p, t) in enumerate(zip(y_pred, y_true)) if p != t]\n",
    "wrong_df = test_df.iloc[[i for i, _, _ in wrong]].copy()\n",
    "wrong_df[\"predicted\"] = [p for _, p, _ in wrong]\n",
    "wrong_df[\"true\"] = [t for _, _, t in wrong]\n",
    "\n",
    "wrong_df[[\"text\", \"true\", \"predicted\"]].head(10)\n"
   ]
  }
 ],
 "metadata": {
  "kernelspec": {
   "display_name": "crypto_nlp",
   "language": "python",
   "name": "python3"
  },
  "language_info": {
   "codemirror_mode": {
    "name": "ipython",
    "version": 3
   },
   "file_extension": ".py",
   "mimetype": "text/x-python",
   "name": "python",
   "nbconvert_exporter": "python",
   "pygments_lexer": "ipython3",
   "version": "3.9.21"
  }
 },
 "nbformat": 4,
 "nbformat_minor": 5
}
