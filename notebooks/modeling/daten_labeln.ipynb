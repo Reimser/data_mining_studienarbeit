{
 "cells": [
  {
   "cell_type": "code",
   "execution_count": 15,
   "id": "d6941880",
   "metadata": {},
   "outputs": [],
   "source": [
    "import os\n",
    "import pandas as pd\n",
    "\n",
    "# 📌 Lokaler Speicherort im Projekt\n",
    "EXPORT_DIR = \"../../data/raw\"\n",
    "os.makedirs(EXPORT_DIR, exist_ok=True)\n",
    "EXPORT_PATH = os.path.join(EXPORT_DIR, \"reddit_unlabeled_for_labeling.csv\")\n",
    "\n",
    "# 📌 Ursprüngliche Pfade\n",
    "DRIVE_PATH = \"G:/Meine Ablage/reddit/\"\n",
    "REDDIT_POSTS_CSV = os.path.join(DRIVE_PATH, \"reddit_posts_original.csv\")\n",
    "REDDIT_COMMENTS_CSV = os.path.join(DRIVE_PATH, \"reddit_comments_original.csv\")\n",
    "\n",
    "# 🔍 Laden mit Pipe-Trennzeichen\n",
    "df_posts_raw = pd.read_csv(REDDIT_POSTS_CSV, sep=\"|\", encoding=\"utf-8\", on_bad_lines=\"skip\")\n",
    "df_comments_raw = pd.read_csv(REDDIT_COMMENTS_CSV, sep=\"|\", encoding=\"utf-8\", on_bad_lines=\"skip\")"
   ]
  },
  {
   "cell_type": "code",
   "execution_count": 16,
   "id": "0ad33d18",
   "metadata": {},
   "outputs": [
    {
     "name": "stdout",
     "output_type": "stream",
     "text": [
      "Index(['post_id', 'comment_id', 'author', 'date', 'time', 'score', 'selftext'], dtype='object')\n",
      "Index(['post_id', 'crypto', 'search_term', 'subreddit', 'title', 'author',\n",
      "       'date', 'time', 'score', 'num_comments', 'selftext'],\n",
      "      dtype='object')\n"
     ]
    }
   ],
   "source": [
    "print(df_comments_raw.columns)\n",
    "print(df_posts_raw.columns)"
   ]
  },
  {
   "cell_type": "code",
   "execution_count": 17,
   "id": "85ef92c8",
   "metadata": {},
   "outputs": [
    {
     "name": "stdout",
     "output_type": "stream",
     "text": [
      "✅ Exportiert: 400 Texte (200 Posts + 200 Comments) → ../../data/raw\\reddit_unlabeled_for_labeling.csv\n"
     ]
    }
   ],
   "source": [
    "# 🧾 Vereinheitlichen: nur post_id + selftext + Quelle\n",
    "df_comments_raw = df_comments_raw.rename(columns={\"post_id\": \"id\", \"selftext\": \"text\"})\n",
    "df_comments_raw[\"source\"] = \"comment\"\n",
    "df_comments_raw = df_comments_raw[[\"id\", \"text\", \"source\"]].dropna()\n",
    "\n",
    "df_posts_raw = df_posts_raw.rename(columns={\"post_id\": \"id\", \"selftext\": \"text\"})\n",
    "df_posts_raw[\"source\"] = \"post\"\n",
    "df_posts_raw = df_posts_raw[[\"id\", \"text\", \"source\"]].dropna()\n",
    "\n",
    "# 🔄 Je 200 zufällige Einträge ziehen\n",
    "df_comments_sampled = df_comments_raw.sample(n=200, random_state=42)\n",
    "df_posts_sampled = df_posts_raw.sample(n=200, random_state=42)\n",
    "\n",
    "# 🧪 Zusammenführen + Label-Spalte\n",
    "df_to_label = pd.concat([df_posts_sampled, df_comments_sampled], ignore_index=True)\n",
    "df_to_label[\"label\"] = \"\"\n",
    "\n",
    "# 💾 Export\n",
    "df_to_label.to_csv(EXPORT_PATH, index=False)\n",
    "\n",
    "print(f\"✅ Exportiert: {len(df_to_label)} Texte (200 Posts + 200 Comments) → {EXPORT_PATH}\")"
   ]
  }
 ],
 "metadata": {
  "kernelspec": {
   "display_name": "crypto_nlp",
   "language": "python",
   "name": "python3"
  },
  "language_info": {
   "codemirror_mode": {
    "name": "ipython",
    "version": 3
   },
   "file_extension": ".py",
   "mimetype": "text/x-python",
   "name": "python",
   "nbconvert_exporter": "python",
   "pygments_lexer": "ipython3",
   "version": "3.9.21"
  }
 },
 "nbformat": 4,
 "nbformat_minor": 5
}
