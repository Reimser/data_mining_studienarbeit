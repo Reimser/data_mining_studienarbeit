{
 "cells": [
  {
   "cell_type": "code",
   "execution_count": 25,
   "id": "a941068c",
   "metadata": {},
   "outputs": [],
   "source": [
    "import pandas as pd"
   ]
  },
  {
   "cell_type": "code",
   "execution_count": 26,
   "id": "87fb593b",
   "metadata": {},
   "outputs": [],
   "source": [
    "DATA_PATH = '../../data/processed/'"
   ]
  },
  {
   "cell_type": "code",
   "execution_count": 27,
   "id": "bec2d200",
   "metadata": {},
   "outputs": [],
   "source": [
    "df = pd.read_csv(DATA_PATH + 'reddit_semantically_labeled.csv')\n",
    "dff = pd.read_csv(DATA_PATH + 'training_data_posts.csv')"
   ]
  },
  {
   "cell_type": "code",
   "execution_count": 28,
   "id": "159ffdfe",
   "metadata": {},
   "outputs": [
    {
     "data": {
      "text/plain": [
       "(2000, 4)"
      ]
     },
     "execution_count": 28,
     "metadata": {},
     "output_type": "execute_result"
    }
   ],
   "source": [
    "df.shape"
   ]
  },
  {
   "cell_type": "code",
   "execution_count": 29,
   "id": "3931bc47",
   "metadata": {},
   "outputs": [
    {
     "data": {
      "text/plain": [
       "(366, 4)"
      ]
     },
     "execution_count": 29,
     "metadata": {},
     "output_type": "execute_result"
    }
   ],
   "source": [
    "dff.shape"
   ]
  },
  {
   "cell_type": "code",
   "execution_count": null,
   "id": "de054fce",
   "metadata": {},
   "outputs": [],
   "source": [
    "dfff= pd.concat([df, dff], axis=0)\n",
    "dfff = dfff.drop_duplicates(subset=['id'], keep='first')   "
   ]
  },
  {
   "cell_type": "code",
   "execution_count": 31,
   "id": "9ff6d136",
   "metadata": {},
   "outputs": [
    {
     "data": {
      "text/plain": [
       "(2366, 4)"
      ]
     },
     "execution_count": 31,
     "metadata": {},
     "output_type": "execute_result"
    }
   ],
   "source": [
    "dfff.shape"
   ]
  },
  {
   "cell_type": "code",
   "execution_count": 34,
   "id": "9284ebfa",
   "metadata": {},
   "outputs": [
    {
     "name": "stdout",
     "output_type": "stream",
     "text": [
      "Train: 1600 Beispiele\n",
      "Test:  400 Beispiele\n",
      "\n",
      "Labelverteilung im Testset:\n",
      "label\n",
      "1    263\n",
      "0    122\n",
      "2     15\n",
      "Name: count, dtype: int64\n"
     ]
    }
   ],
   "source": [
    "from sklearn.model_selection import train_test_split\n",
    "\n",
    "# 80/20-Split in Trainings- und Testdaten\n",
    "train_df, test_df = train_test_split(\n",
    "    df,\n",
    "    test_size=0.2,\n",
    "    stratify=df[\"label\"],\n",
    "    random_state=42\n",
    ")\n",
    "\n",
    "# Indizes zurücksetzen\n",
    "train_df = train_df.reset_index(drop=True)\n",
    "test_df = test_df.reset_index(drop=True)\n",
    "\n",
    "# Ausgabe zur Kontrolle\n",
    "print(f\"Train: {len(train_df)} Beispiele\")\n",
    "print(f\"Test:  {len(test_df)} Beispiele\")\n",
    "print(\"\\nLabelverteilung im Testset:\")\n",
    "print(test_df[\"label\"].value_counts())\n"
   ]
  },
  {
   "cell_type": "code",
   "execution_count": 35,
   "id": "fe79acc3",
   "metadata": {},
   "outputs": [],
   "source": [
    "train_df.to_csv(DATA_PATH + 'training_data_posts.csv', index=False)\n",
    "test_df.to_csv(DATA_PATH + 'test_data_posts.csv', index=False)"
   ]
  },
  {
   "cell_type": "code",
   "execution_count": null,
   "id": "deabdc4a",
   "metadata": {},
   "outputs": [],
   "source": [
    "# # 🧾 Vereinheitlichen: nur post_id + selftext + Quelle\n",
    "# df_posts_raw = df_posts_raw.rename(columns={\"post_id\": \"id\", \"selftext\": \"text\"})\n",
    "# df_posts_raw[\"source\"] = \"post\"\n",
    "# df_posts_raw = df_posts_raw[[\"id\", \"text\", \"source\"]].dropna()\n",
    "\n",
    "# # 🔄 2000 zufällige Posts ziehen\n",
    "# df_posts_sampled = df_posts_raw.sample(n=2000, random_state=42)\n",
    "\n",
    "# # 🧪 Label-Spalte hinzufügen\n",
    "# df_posts_sampled[\"label\"] = \"\"\n",
    "\n",
    "# # 💾 Export – Pfad bleibt unverändert\n",
    "# df_posts_sampled.to_csv(EXPORT_PATH, index=False)\n",
    "\n",
    "# print(f\"✅ Exportiert: {len(df_posts_sampled)} Posts → {EXPORT_PATH}\")\n"
   ]
  },
  {
   "cell_type": "code",
   "execution_count": null,
   "id": "9a35f345",
   "metadata": {},
   "outputs": [],
   "source": [
    "# # 🧾 Vereinheitlichen: nur post_id + selftext + Quelle\n",
    "# df_comments_raw = df_comments_raw.rename(columns={\"post_id\": \"id\", \"selftext\": \"text\"})\n",
    "# df_comments_raw[\"source\"] = \"comment\"\n",
    "# df_comments_raw = df_comments_raw[[\"id\", \"text\", \"source\"]].dropna()\n",
    "\n",
    "# df_posts_raw = df_posts_raw.rename(columns={\"post_id\": \"id\", \"selftext\": \"text\"})\n",
    "# df_posts_raw[\"source\"] = \"post\"\n",
    "# df_posts_raw = df_posts_raw[[\"id\", \"text\", \"source\"]].dropna()\n",
    "\n",
    "# # 🔄 Je 200 zufällige Einträge ziehen\n",
    "# df_comments_sampled = df_comments_raw.sample(n=200, random_state=42)\n",
    "# df_posts_sampled = df_posts_raw.sample(n=200, random_state=42)\n",
    "\n",
    "# # 🧪 Zusammenführen + Label-Spalte\n",
    "# df_to_label = pd.concat([df_posts_sampled, df_comments_sampled], ignore_index=True)\n",
    "# df_to_label[\"label\"] = \"\"\n",
    "\n",
    "# # 💾 Export\n",
    "# df_to_label.to_csv(EXPORT_PATH, index=False)\n",
    "\n",
    "# print(f\"✅ Exportiert: {len(df_to_label)} Texte (200 Posts + 200 Comments) → {EXPORT_PATH}\")"
   ]
  },
  {
   "cell_type": "code",
   "execution_count": null,
   "id": "9498618e",
   "metadata": {},
   "outputs": [],
   "source": []
  },
  {
   "cell_type": "code",
   "execution_count": null,
   "id": "17fc7863",
   "metadata": {},
   "outputs": [],
   "source": []
  },
  {
   "cell_type": "code",
   "execution_count": null,
   "id": "e73b582d",
   "metadata": {},
   "outputs": [],
   "source": []
  }
 ],
 "metadata": {
  "kernelspec": {
   "display_name": "crypto_nlp",
   "language": "python",
   "name": "python3"
  },
  "language_info": {
   "codemirror_mode": {
    "name": "ipython",
    "version": 3
   },
   "file_extension": ".py",
   "mimetype": "text/x-python",
   "name": "python",
   "nbconvert_exporter": "python",
   "pygments_lexer": "ipython3",
   "version": "3.9.21"
  }
 },
 "nbformat": 4,
 "nbformat_minor": 5
}
