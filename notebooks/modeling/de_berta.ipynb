{
 "cells": [
  {
   "cell_type": "markdown",
   "metadata": {},
   "source": [
    "## Import"
   ]
  },
  {
   "cell_type": "code",
   "execution_count": null,
   "metadata": {},
   "outputs": [],
   "source": [
    "import os\n",
    "import torch\n",
    "import pandas as pd\n",
    "from sklearn.model_selection import train_test_split\n",
    "from datasets import Dataset\n",
    "from transformers import DebertaV2Tokenizer, AutoModelForSequenceClassification, Trainer, TrainingArguments, AutoTokenizer, EarlyStoppingCallback\n",
    "import evaluate\n",
    "import numpy as np\n",
    "import torch\n",
    "from sklearn.metrics import accuracy_score, f1_score\n",
    "import matplotlib.pyplot as plt\n",
    "import seaborn as sns\n",
    "import time\n",
    "import pandas as pd\n",
    "from transformers import AutoModelForSequenceClassification, Trainer, TrainingArguments\n",
    "import transformers\n",
    "import warnings"
   ]
  },
  {
   "cell_type": "code",
   "execution_count": 112,
   "metadata": {},
   "outputs": [
    {
     "name": "stdout",
     "output_type": "stream",
     "text": [
      "Using cuda device\n"
     ]
    }
   ],
   "source": [
    "# Cuda pruefen\n",
    "device = \"cuda\" if torch.cuda.is_available() else \"cpu\"\n",
    "print(\"Using {} device\".format(device))"
   ]
  },
  {
   "cell_type": "markdown",
   "metadata": {},
   "source": [
    "## import der gelablten daten und testsplit"
   ]
  },
  {
   "cell_type": "markdown",
   "metadata": {},
   "source": [
    "Gelabelte Daten importieren und mergen"
   ]
  },
  {
   "cell_type": "code",
   "execution_count": 114,
   "metadata": {},
   "outputs": [
    {
     "name": "stdout",
     "output_type": "stream",
     "text": [
      "✅ Gesamtdatensatz mit 574 gelabelten Beispielen bereit.\n"
     ]
    }
   ],
   "source": [
    "# CSV-Dateien laden und vereinheitlichen\n",
    "df_posts_old = pd.read_csv(\"labeled_posts.csv\").rename(columns={\"post_id\": \"id\"})\n",
    "df_comments_old = pd.read_csv(\"labeled_comments.csv\").rename(columns={\"comment_id\": \"id\"})\n",
    "df_new_posts = pd.read_csv(\"labeled_post.csv\").rename(columns={\"post_id\": \"id\"})\n",
    "df_new_comments = pd.read_csv(\"labeled_comment.csv\").rename(columns={\"comment_id\": \"id\"})\n",
    "\n",
    "# Alle 4 Datasets zusammenfassen → 600 Samples\n",
    "df_all_labeled = pd.concat([df_posts_old, df_comments_old, df_new_posts, df_new_comments], ignore_index=True)\n",
    "df_all_labeled = df_all_labeled[['id', 'text', 'label']].dropna()\n",
    "df_all_labeled['label'] = pd.to_numeric(df_all_labeled['label'], errors='coerce')\n",
    "df_all_labeled = df_all_labeled.dropna(subset=['label'])\n",
    "df_all_labeled['label'] = df_all_labeled['label'].astype(int)\n",
    "\n",
    "print(f\"✅ Gesamtdatensatz mit {len(df_all_labeled)} gelabelten Beispielen bereit.\")"
   ]
  },
  {
   "cell_type": "markdown",
   "metadata": {},
   "source": [
    "train test split"
   ]
  },
  {
   "cell_type": "code",
   "execution_count": 115,
   "metadata": {},
   "outputs": [
    {
     "name": "stdout",
     "output_type": "stream",
     "text": [
      "label\n",
      "1    300\n",
      "0    186\n",
      "2     88\n",
      "Name: count, dtype: int64\n",
      "\n",
      "📊 Verteilung:\n",
      "Train: 344 | Val: 115 | Test: 574\n"
     ]
    }
   ],
   "source": [
    "# 📌 Ziel: alle Daten nur zum Testen verwenden\n",
    "df_balanced_test = df_all_labeled.copy()\n",
    "\n",
    "# 🔍 Anzeigen\n",
    "print(df_balanced_test[\"label\"].value_counts())\n",
    "\n",
    "# Ausgabe\n",
    "print(f\"\\n📊 Verteilung:\")\n",
    "print(f\"Train: {len(train_df)} | Val: {len(val_df)} | Test: {len(df_balanced_test)}\")\n"
   ]
  },
  {
   "cell_type": "markdown",
   "metadata": {},
   "source": [
    "## de Berta Modell testen"
   ]
  },
  {
   "cell_type": "code",
   "execution_count": 116,
   "metadata": {},
   "outputs": [
    {
     "name": "stderr",
     "output_type": "stream",
     "text": [
      "c:\\Users\\hp\\anaconda3\\envs\\crypto_nlp\\lib\\site-packages\\transformers\\convert_slow_tokenizer.py:561: UserWarning: The sentencepiece tokenizer that you are converting to a fast tokenizer uses the byte fallback option which is not implemented in the fast tokenizers. In practice this means that the fast version of the tokenizer can produce unknown tokens whereas the sentencepiece version would have converted these unknown tokens into a sequence of byte tokens matching the original piece of text.\n",
      "  warnings.warn(\n",
      "Map: 100%|██████████| 574/574 [00:00<00:00, 4551.26 examples/s]\n"
     ]
    }
   ],
   "source": [
    "from datasets import Dataset\n",
    "from transformers import AutoTokenizer\n",
    "\n",
    "tokenizer = AutoTokenizer.from_pretrained(\"microsoft/deberta-v3-base\")\n",
    "\n",
    "# Hugging Face Dataset-Objekt erzeugen\n",
    "test_dataset = Dataset.from_pandas(df_balanced_test)\n",
    "\n",
    "# Tokenisierung\n",
    "def tokenize_function(example):\n",
    "    return tokenizer(example[\"text\"], truncation=True, padding=\"max_length\", max_length=256)\n",
    "\n",
    "tokenized_test = test_dataset.map(tokenize_function, batched=True)\n",
    "tokenized_test = tokenized_test.rename_column(\"label\", \"labels\")\n",
    "tokenized_test.set_format(\"torch\", columns=[\"input_ids\", \"attention_mask\", \"labels\"])\n"
   ]
  },
  {
   "cell_type": "code",
   "execution_count": 117,
   "metadata": {},
   "outputs": [
    {
     "name": "stderr",
     "output_type": "stream",
     "text": [
      "Some weights of DebertaV2ForSequenceClassification were not initialized from the model checkpoint at microsoft/deberta-v3-base and are newly initialized: ['classifier.bias', 'classifier.weight', 'pooler.dense.bias', 'pooler.dense.weight']\n",
      "You should probably TRAIN this model on a down-stream task to be able to use it for predictions and inference.\n",
      "C:\\Users\\hp\\AppData\\Local\\Temp\\ipykernel_15672\\3824315709.py:5: FutureWarning: `tokenizer` is deprecated and will be removed in version 5.0.0 for `Trainer.__init__`. Use `processing_class` instead.\n",
      "  trainer = Trainer(model=model, tokenizer=tokenizer)\n"
     ]
    },
    {
     "data": {
      "text/html": [],
      "text/plain": [
       "<IPython.core.display.HTML object>"
      ]
     },
     "metadata": {},
     "output_type": "display_data"
    }
   ],
   "source": [
    "from transformers import AutoModelForSequenceClassification, Trainer\n",
    "\n",
    "model = AutoModelForSequenceClassification.from_pretrained(\"microsoft/deberta-v3-base\", num_labels=3)\n",
    "\n",
    "trainer = Trainer(model=model, tokenizer=tokenizer)\n",
    "predictions = trainer.predict(tokenized_test)\n"
   ]
  },
  {
   "cell_type": "code",
   "execution_count": 118,
   "metadata": {},
   "outputs": [
    {
     "name": "stdout",
     "output_type": "stream",
     "text": [
      "🔍 Accuracy: 0.5226480836236934\n",
      "🔍 F1 (macro): 0.2288329519450801\n",
      "🔍 Classification Report:\n",
      "              precision    recall  f1-score   support\n",
      "\n",
      "           0       0.00      0.00      0.00       186\n",
      "           1       0.52      1.00      0.69       300\n",
      "           2       0.00      0.00      0.00        88\n",
      "\n",
      "    accuracy                           0.52       574\n",
      "   macro avg       0.17      0.33      0.23       574\n",
      "weighted avg       0.27      0.52      0.36       574\n",
      "\n"
     ]
    },
    {
     "name": "stderr",
     "output_type": "stream",
     "text": [
      "c:\\Users\\hp\\anaconda3\\envs\\crypto_nlp\\lib\\site-packages\\sklearn\\metrics\\_classification.py:1565: UndefinedMetricWarning: Precision is ill-defined and being set to 0.0 in labels with no predicted samples. Use `zero_division` parameter to control this behavior.\n",
      "  _warn_prf(average, modifier, f\"{metric.capitalize()} is\", len(result))\n",
      "c:\\Users\\hp\\anaconda3\\envs\\crypto_nlp\\lib\\site-packages\\sklearn\\metrics\\_classification.py:1565: UndefinedMetricWarning: Precision is ill-defined and being set to 0.0 in labels with no predicted samples. Use `zero_division` parameter to control this behavior.\n",
      "  _warn_prf(average, modifier, f\"{metric.capitalize()} is\", len(result))\n",
      "c:\\Users\\hp\\anaconda3\\envs\\crypto_nlp\\lib\\site-packages\\sklearn\\metrics\\_classification.py:1565: UndefinedMetricWarning: Precision is ill-defined and being set to 0.0 in labels with no predicted samples. Use `zero_division` parameter to control this behavior.\n",
      "  _warn_prf(average, modifier, f\"{metric.capitalize()} is\", len(result))\n"
     ]
    }
   ],
   "source": [
    "from sklearn.metrics import accuracy_score, f1_score, classification_report\n",
    "import numpy as np\n",
    "\n",
    "y_pred = np.argmax(predictions.predictions, axis=1)\n",
    "y_true = predictions.label_ids\n",
    "\n",
    "print(\"🔍 Accuracy:\", accuracy_score(y_true, y_pred))\n",
    "print(\"🔍 F1 (macro):\", f1_score(y_true, y_pred, average=\"macro\"))\n",
    "print(\"🔍 Classification Report:\")\n",
    "print(classification_report(y_true, y_pred))\n"
   ]
  },
  {
   "cell_type": "markdown",
   "metadata": {},
   "source": [
    "## ElKulako/cryptobert"
   ]
  },
  {
   "cell_type": "code",
   "execution_count": 119,
   "metadata": {},
   "outputs": [
    {
     "name": "stdout",
     "output_type": "stream",
     "text": [
      "📊 CryptoBERT (ElKulako) — Accuracy: 0.4756, F1: 0.4071\n"
     ]
    }
   ],
   "source": [
    "\n",
    "# CryptoBERT laden\n",
    "model_name = \"ElKulako/cryptobert\"\n",
    "cryptobert_tokenizer = AutoTokenizer.from_pretrained(model_name)\n",
    "cryptobert_model = AutoModelForSequenceClassification.from_pretrained(model_name)\n",
    "cryptobert_model.eval()\n",
    "\n",
    "# Texte & Labels aus test_dataset extrahieren\n",
    "texts = test_dataset['text']\n",
    "true_labels = test_dataset['label']\n",
    "\n",
    "# Vorhersagen\n",
    "preds = []\n",
    "for text in texts:\n",
    "    inputs = cryptobert_tokenizer(text, return_tensors=\"pt\", truncation=True, padding=True, max_length=256)\n",
    "    with torch.no_grad():\n",
    "        logits = cryptobert_model(**inputs).logits\n",
    "    pred_id = torch.argmax(logits, dim=1).item()\n",
    "    preds.append(pred_id)\n",
    "\n",
    "# Label-Mapping anpassen: CryptoBERT: 0=neg, 1=neutral, 2=pos → Wir: bearish=2, neutral=1, bullish=0\n",
    "crypto_to_our = {2: 0, 1: 1, 0: 2}\n",
    "mapped_preds = [crypto_to_our[p] for p in preds]\n",
    "\n",
    "acc_elkulako = accuracy_score(true_labels, mapped_preds)\n",
    "f1_elkulako = f1_score(true_labels, mapped_preds, average=\"macro\")\n",
    "\n",
    "print(f\"📊 CryptoBERT (ElKulako) — Accuracy: {acc_elkulako:.4f}, F1: {f1_elkulako:.4f}\")\n"
   ]
  },
  {
   "cell_type": "markdown",
   "metadata": {},
   "source": [
    "## Vader"
   ]
  },
  {
   "cell_type": "code",
   "execution_count": 120,
   "metadata": {},
   "outputs": [
    {
     "name": "stdout",
     "output_type": "stream",
     "text": [
      "📊 VADER — Accuracy: 0.3728, F1: 0.3732\n"
     ]
    }
   ],
   "source": [
    "from nltk.sentiment.vader import SentimentIntensityAnalyzer\n",
    "from sklearn.metrics import accuracy_score, f1_score\n",
    "\n",
    "# Init\n",
    "vader = SentimentIntensityAnalyzer()\n",
    "\n",
    "vader_preds = []\n",
    "for text in test_dataset['text']:\n",
    "    score = vader.polarity_scores(text)['compound']\n",
    "    if score >= 0.05:\n",
    "        vader_preds.append(0)  # bullish\n",
    "    elif score <= -0.05:\n",
    "        vader_preds.append(2)  # bearish\n",
    "    else:\n",
    "        vader_preds.append(1)  # neutral\n",
    "\n",
    "# Evaluation\n",
    "true_labels = test_dataset['label']\n",
    "acc_vader = accuracy_score(true_labels, vader_preds)\n",
    "f1_vader = f1_score(true_labels, vader_preds, average=\"macro\")\n",
    "\n",
    "print(f\"📊 VADER — Accuracy: {acc_vader:.4f}, F1: {f1_vader:.4f}\")"
   ]
  },
  {
   "cell_type": "markdown",
   "metadata": {},
   "source": [
    "## Textblob (Spacy)"
   ]
  },
  {
   "cell_type": "code",
   "execution_count": 121,
   "metadata": {},
   "outputs": [
    {
     "name": "stdout",
     "output_type": "stream",
     "text": [
      "📊 TextBlob (Englisch) — Accuracy: 0.4077, F1: 0.3602\n"
     ]
    }
   ],
   "source": [
    "from textblob import TextBlob\n",
    "from sklearn.metrics import accuracy_score, f1_score\n",
    "\n",
    "# Klassische Schwellen für Sentiment\n",
    "textblob_preds = []\n",
    "\n",
    "for text in test_dataset['text']:\n",
    "    blob = TextBlob(text)\n",
    "    polarity = blob.sentiment.polarity\n",
    "    if polarity >= 0.05:\n",
    "        textblob_preds.append(0)  # bullish\n",
    "    elif polarity <= -0.05:\n",
    "        textblob_preds.append(2)  # bearish\n",
    "    else:\n",
    "        textblob_preds.append(1)  # neutral\n",
    "\n",
    "# Evaluation\n",
    "true_labels = test_dataset['label']\n",
    "acc_blob = accuracy_score(true_labels, textblob_preds)\n",
    "f1_blob = f1_score(true_labels, textblob_preds, average=\"macro\")\n",
    "\n",
    "print(f\"📊 TextBlob (Englisch) — Accuracy: {acc_blob:.4f}, F1: {f1_blob:.4f}\")"
   ]
  },
  {
   "cell_type": "markdown",
   "metadata": {},
   "source": [
    "## Plot"
   ]
  },
  {
   "cell_type": "code",
   "execution_count": 122,
   "metadata": {},
   "outputs": [],
   "source": [
    "plot_results_data = {\n",
    "    \"CryptoBERT\": {\n",
    "        \"accuracy\": acc_elkulako,\n",
    "        \"f1\": f1_elkulako\n",
    "    },\n",
    "    \"VADER\": {\n",
    "        \"accuracy\": acc_vader,\n",
    "        \"f1\": f1_vader\n",
    "    },\n",
    "    \"TextBlob\": {\n",
    "        \"accuracy\": acc_blob,\n",
    "        \"f1\": f1_blob\n",
    "    }\n",
    "}\n"
   ]
  },
  {
   "cell_type": "code",
   "execution_count": 123,
   "metadata": {},
   "outputs": [],
   "source": [
    "def plot_results(results_dict):\n",
    "    models = list(results_dict.keys())\n",
    "    accuracy = [results_dict[m][\"accuracy\"] for m in models]\n",
    "    f1 = [results_dict[m][\"f1\"] for m in models]\n",
    "\n",
    "    x = np.arange(len(models))\n",
    "    width = 0.35\n",
    "\n",
    "    plt.figure(figsize=(10, 6))\n",
    "    plt.bar(x - width/2, accuracy, width, label=\"Accuracy\")\n",
    "    plt.bar(x + width/2, f1, width, label=\"F1-Score\")\n",
    "\n",
    "    plt.xticks(x, models)\n",
    "    plt.ylim(0, 1)\n",
    "    plt.ylabel(\"Score\")\n",
    "    plt.title(\"🔎 Modellvergleich auf dem Testset\")\n",
    "    plt.legend()\n",
    "    plt.grid(axis='y')\n",
    "    plt.tight_layout()\n",
    "    plt.show()\n"
   ]
  },
  {
   "cell_type": "code",
   "execution_count": 124,
   "metadata": {},
   "outputs": [
    {
     "name": "stderr",
     "output_type": "stream",
     "text": [
      "C:\\Users\\hp\\AppData\\Local\\Temp\\ipykernel_15672\\1458932060.py:19: UserWarning: Glyph 128270 (\\N{RIGHT-POINTING MAGNIFYING GLASS}) missing from font(s) DejaVu Sans.\n",
      "  plt.tight_layout()\n",
      "c:\\Users\\hp\\anaconda3\\envs\\crypto_nlp\\lib\\site-packages\\IPython\\core\\pylabtools.py:152: UserWarning: Glyph 128270 (\\N{RIGHT-POINTING MAGNIFYING GLASS}) missing from font(s) DejaVu Sans.\n",
      "  fig.canvas.print_figure(bytes_io, **kw)\n"
     ]
    },
    {
     "data": {
      "image/png": "[encoded data removed]",
      "text/plain": [
       "<Figure size 1000x600 with 1 Axes>"
      ]
     },
     "metadata": {},
     "output_type": "display_data"
    }
   ],
   "source": [
    "plot_results(plot_results_data)\n"
   ]
  },
  {
   "cell_type": "markdown",
   "metadata": {},
   "source": [
    "## Elkulako verbessern"
   ]
  },
  {
   "cell_type": "markdown",
   "metadata": {},
   "source": [
    "### split"
   ]
  },
  {
   "cell_type": "code",
   "execution_count": null,
   "metadata": {},
   "outputs": [],
   "source": [
    "trainval_df, test_df = train_test_split(\n",
    "    df_balanced_test,\n",
    "    test_size=0.2,\n",
    "    stratify=df_balanced_test[\"label\"],\n",
    "    random_state=42\n",
    ")\n",
    "\n",
    "train_df, val_df = train_test_split(\n",
    "    trainval_df,\n",
    "    test_size=0.25,\n",
    "    stratify=trainval_df[\"label\"],\n",
    "    random_state=42\n",
    ")\n",
    "\n",
    "# Index resetten!\n",
    "train_df = train_df.reset_index(drop=True)\n",
    "val_df = val_df.reset_index(drop=True)\n",
    "test_df = test_df.reset_index(drop=True)\n"
   ]
  },
  {
   "cell_type": "code",
   "execution_count": 183,
   "metadata": {},
   "outputs": [
    {
     "name": "stdout",
     "output_type": "stream",
     "text": [
      "Train size: 344\n",
      "Val size: 115\n",
      "Test size: 115\n",
      "Train labels:\n",
      " label\n",
      "1    180\n",
      "0    112\n",
      "2     52\n",
      "Name: count, dtype: int64\n"
     ]
    }
   ],
   "source": [
    "print(f\"Train size: {len(train_df)}\")\n",
    "print(f\"Val size: {len(val_df)}\")\n",
    "print(f\"Test size: {len(test_df)}\")\n",
    "print(\"Train labels:\\n\", train_df[\"label\"].value_counts())\n"
   ]
  },
  {
   "cell_type": "markdown",
   "metadata": {},
   "source": [
    "Modell und Tokenizer laden"
   ]
  },
  {
   "cell_type": "code",
   "execution_count": 184,
   "metadata": {},
   "outputs": [],
   "source": [
    "model_name = \"ElKulako/cryptobert\"\n",
    "tokenizer = AutoTokenizer.from_pretrained(model_name)\n",
    "model = AutoModelForSequenceClassification.from_pretrained(model_name, num_labels=3)\n"
   ]
  },
  {
   "cell_type": "markdown",
   "metadata": {},
   "source": [
    "Tokenisierung der Splits"
   ]
  },
  {
   "cell_type": "code",
   "execution_count": 185,
   "metadata": {},
   "outputs": [
    {
     "name": "stderr",
     "output_type": "stream",
     "text": [
      "Map: 100%|██████████| 344/344 [00:00<00:00, 5171.71 examples/s]\n",
      "Map: 100%|██████████| 115/115 [00:00<00:00, 7067.74 examples/s]\n",
      "Map: 100%|██████████| 115/115 [00:00<00:00, 5887.21 examples/s]\n"
     ]
    }
   ],
   "source": [
    "# Tokenisierung\n",
    "train_ds = Dataset.from_pandas(train_df).map(tokenize_function, batched=True)\n",
    "val_ds = Dataset.from_pandas(val_df).map(tokenize_function, batched=True)\n",
    "test_ds = Dataset.from_pandas(test_df).map(tokenize_function, batched=True)\n",
    "\n",
    "# Format setzen – Korrekt pro Dataset!\n",
    "train_ds = train_ds.rename_column(\"label\", \"labels\")\n",
    "val_ds = val_ds.rename_column(\"label\", \"labels\")\n",
    "test_ds = test_ds.rename_column(\"label\", \"labels\")\n",
    "\n",
    "train_ds.set_format(\"torch\", columns=[\"input_ids\", \"attention_mask\", \"labels\"])\n",
    "val_ds.set_format(\"torch\", columns=[\"input_ids\", \"attention_mask\", \"labels\"])\n",
    "test_ds.set_format(\"torch\", columns=[\"input_ids\", \"attention_mask\", \"labels\"])\n"
   ]
  },
  {
   "cell_type": "markdown",
   "metadata": {},
   "source": [
    "Metriken"
   ]
  },
  {
   "cell_type": "code",
   "execution_count": null,
   "metadata": {},
   "outputs": [
    {
     "name": "stdout",
     "output_type": "stream",
     "text": [
      "Dataset({\n",
      "    features: ['id', 'text', 'labels', 'input_ids', 'attention_mask'],\n",
      "    num_rows: 344\n",
      "})\n"
     ]
    }
   ],
   "source": [
    "print(train_ds)"
   ]
  },
  {
   "cell_type": "code",
   "execution_count": 187,
   "metadata": {},
   "outputs": [],
   "source": [
    "def compute_metrics(eval_pred):\n",
    "    logits, labels = eval_pred\n",
    "    preds = logits.argmax(axis=1)\n",
    "    return {\n",
    "        \"accuracy\": accuracy_score(labels, preds),\n",
    "        \"f1\": f1_score(labels, preds, average=\"macro\")\n",
    "    }\n"
   ]
  },
  {
   "cell_type": "markdown",
   "metadata": {},
   "source": [
    "Trainingsargumente & Trainer"
   ]
  },
  {
   "cell_type": "code",
   "execution_count": 188,
   "metadata": {},
   "outputs": [
    {
     "name": "stderr",
     "output_type": "stream",
     "text": [
      "c:\\Users\\hp\\anaconda3\\envs\\crypto_nlp\\lib\\site-packages\\transformers\\training_args.py:1594: FutureWarning: `evaluation_strategy` is deprecated and will be removed in version 4.46 of 🤗 Transformers. Use `eval_strategy` instead\n",
      "  warnings.warn(\n",
      "C:\\Users\\hp\\AppData\\Local\\Temp\\ipykernel_15672\\799026861.py:25: FutureWarning: `tokenizer` is deprecated and will be removed in version 5.0.0 for `Trainer.__init__`. Use `processing_class` instead.\n",
      "  trainer = Trainer(\n"
     ]
    },
    {
     "name": "stdout",
     "output_type": "stream",
     "text": [
      "🚀 Starte Training für learning_rate = 2e-05\n",
      "{'loss': 1.3739, 'grad_norm': 27.83279037475586, 'learning_rate': 1.6000000000000003e-05, 'epoch': 1.0}\n",
      "{'eval_loss': 1.0163160562515259, 'eval_accuracy': 0.5652173913043478, 'eval_f1': 0.38657476775546895, 'eval_runtime': 0.9198, 'eval_samples_per_second': 125.031, 'eval_steps_per_second': 16.308, 'epoch': 1.0}\n",
      "{'loss': 0.624, 'grad_norm': 28.87763786315918, 'learning_rate': 1.2e-05, 'epoch': 2.0}\n",
      "{'eval_loss': 1.2704827785491943, 'eval_accuracy': 0.6, 'eval_f1': 0.39999999999999997, 'eval_runtime': 0.9254, 'eval_samples_per_second': 124.264, 'eval_steps_per_second': 16.208, 'epoch': 2.0}\n",
      "{'loss': 0.3941, 'grad_norm': 45.612064361572266, 'learning_rate': 8.000000000000001e-06, 'epoch': 3.0}\n",
      "{'eval_loss': 1.3392959833145142, 'eval_accuracy': 0.5652173913043478, 'eval_f1': 0.47684232866425047, 'eval_runtime': 0.9338, 'eval_samples_per_second': 123.157, 'eval_steps_per_second': 16.064, 'epoch': 3.0}\n",
      "{'loss': 0.2632, 'grad_norm': 24.153764724731445, 'learning_rate': 4.000000000000001e-06, 'epoch': 4.0}\n",
      "{'eval_loss': 1.3972872495651245, 'eval_accuracy': 0.5478260869565217, 'eval_f1': 0.43711198362361153, 'eval_runtime': 0.9666, 'eval_samples_per_second': 118.971, 'eval_steps_per_second': 15.518, 'epoch': 4.0}\n",
      "{'loss': 0.1685, 'grad_norm': 1.8940918445587158, 'learning_rate': 0.0, 'epoch': 5.0}\n",
      "{'eval_loss': 1.4285409450531006, 'eval_accuracy': 0.6, 'eval_f1': 0.4884656084656085, 'eval_runtime': 1.0349, 'eval_samples_per_second': 111.126, 'eval_steps_per_second': 14.495, 'epoch': 5.0}\n",
      "{'train_runtime': 66.1264, 'train_samples_per_second': 26.011, 'train_steps_per_second': 3.251, 'train_loss': 0.5647322566010231, 'epoch': 5.0}\n",
      "🚀 Starte Training für learning_rate = 1e-05\n"
     ]
    },
    {
     "name": "stderr",
     "output_type": "stream",
     "text": [
      "c:\\Users\\hp\\anaconda3\\envs\\crypto_nlp\\lib\\site-packages\\transformers\\training_args.py:1594: FutureWarning: `evaluation_strategy` is deprecated and will be removed in version 4.46 of 🤗 Transformers. Use `eval_strategy` instead\n",
      "  warnings.warn(\n",
      "C:\\Users\\hp\\AppData\\Local\\Temp\\ipykernel_15672\\799026861.py:25: FutureWarning: `tokenizer` is deprecated and will be removed in version 5.0.0 for `Trainer.__init__`. Use `processing_class` instead.\n",
      "  trainer = Trainer(\n"
     ]
    },
    {
     "name": "stdout",
     "output_type": "stream",
     "text": [
      "{'loss': 0.1302, 'grad_norm': 23.699016571044922, 'learning_rate': 8.000000000000001e-06, 'epoch': 1.0}\n",
      "{'eval_loss': 1.6285017728805542, 'eval_accuracy': 0.5217391304347826, 'eval_f1': 0.3981119005042449, 'eval_runtime': 0.9725, 'eval_samples_per_second': 118.256, 'eval_steps_per_second': 15.425, 'epoch': 1.0}\n",
      "{'loss': 0.0437, 'grad_norm': 0.3931768536567688, 'learning_rate': 6e-06, 'epoch': 2.0}\n",
      "{'eval_loss': 1.6369959115982056, 'eval_accuracy': 0.5739130434782609, 'eval_f1': 0.48276624839124843, 'eval_runtime': 1.011, 'eval_samples_per_second': 113.753, 'eval_steps_per_second': 14.837, 'epoch': 2.0}\n",
      "{'loss': 0.017, 'grad_norm': 2.4304847717285156, 'learning_rate': 4.000000000000001e-06, 'epoch': 3.0}\n",
      "{'eval_loss': 1.706132411956787, 'eval_accuracy': 0.5739130434782609, 'eval_f1': 0.48341473341473334, 'eval_runtime': 1.0456, 'eval_samples_per_second': 109.981, 'eval_steps_per_second': 14.345, 'epoch': 3.0}\n",
      "{'loss': 0.0078, 'grad_norm': 3.138075590133667, 'learning_rate': 2.0000000000000003e-06, 'epoch': 4.0}\n",
      "{'eval_loss': 1.8547823429107666, 'eval_accuracy': 0.5739130434782609, 'eval_f1': 0.5021705989110707, 'eval_runtime': 1.0846, 'eval_samples_per_second': 106.035, 'eval_steps_per_second': 13.831, 'epoch': 4.0}\n",
      "{'loss': 0.0063, 'grad_norm': 0.17439532279968262, 'learning_rate': 0.0, 'epoch': 5.0}\n",
      "{'eval_loss': 1.882733941078186, 'eval_accuracy': 0.5826086956521739, 'eval_f1': 0.510018747656543, 'eval_runtime': 1.0884, 'eval_samples_per_second': 105.655, 'eval_steps_per_second': 13.781, 'epoch': 5.0}\n",
      "{'train_runtime': 70.6098, 'train_samples_per_second': 24.359, 'train_steps_per_second': 3.045, 'train_loss': 0.04100698301958483, 'epoch': 5.0}\n",
      "🚀 Starte Training für learning_rate = 5e-06\n"
     ]
    },
    {
     "name": "stderr",
     "output_type": "stream",
     "text": [
      "c:\\Users\\hp\\anaconda3\\envs\\crypto_nlp\\lib\\site-packages\\transformers\\training_args.py:1594: FutureWarning: `evaluation_strategy` is deprecated and will be removed in version 4.46 of 🤗 Transformers. Use `eval_strategy` instead\n",
      "  warnings.warn(\n",
      "C:\\Users\\hp\\AppData\\Local\\Temp\\ipykernel_15672\\799026861.py:25: FutureWarning: `tokenizer` is deprecated and will be removed in version 5.0.0 for `Trainer.__init__`. Use `processing_class` instead.\n",
      "  trainer = Trainer(\n"
     ]
    },
    {
     "name": "stdout",
     "output_type": "stream",
     "text": [
      "{'loss': 0.0029, 'grad_norm': 1.772976279258728, 'learning_rate': 4.000000000000001e-06, 'epoch': 1.0}\n",
      "{'eval_loss': 1.9120861291885376, 'eval_accuracy': 0.6, 'eval_f1': 0.48726817042606513, 'eval_runtime': 1.0184, 'eval_samples_per_second': 112.927, 'eval_steps_per_second': 14.73, 'epoch': 1.0}\n",
      "{'loss': 0.0015, 'grad_norm': 0.035229507833719254, 'learning_rate': 3e-06, 'epoch': 2.0}\n",
      "{'eval_loss': 2.047548294067383, 'eval_accuracy': 0.6, 'eval_f1': 0.5319193971721278, 'eval_runtime': 1.0598, 'eval_samples_per_second': 108.513, 'eval_steps_per_second': 14.154, 'epoch': 2.0}\n",
      "{'loss': 0.0007, 'grad_norm': 0.043558523058891296, 'learning_rate': 2.0000000000000003e-06, 'epoch': 3.0}\n",
      "{'eval_loss': 2.1264901161193848, 'eval_accuracy': 0.5739130434782609, 'eval_f1': 0.486566924066924, 'eval_runtime': 1.0389, 'eval_samples_per_second': 110.692, 'eval_steps_per_second': 14.438, 'epoch': 3.0}\n",
      "{'loss': 0.0009, 'grad_norm': 0.05738835409283638, 'learning_rate': 1.0000000000000002e-06, 'epoch': 4.0}\n",
      "{'eval_loss': 2.152573347091675, 'eval_accuracy': 0.6086956521739131, 'eval_f1': 0.5505952380952381, 'eval_runtime': 1.0333, 'eval_samples_per_second': 111.292, 'eval_steps_per_second': 14.516, 'epoch': 4.0}\n",
      "{'loss': 0.0011, 'grad_norm': 0.08370985835790634, 'learning_rate': 0.0, 'epoch': 5.0}\n",
      "{'eval_loss': 2.1888644695281982, 'eval_accuracy': 0.5826086956521739, 'eval_f1': 0.510018747656543, 'eval_runtime': 1.115, 'eval_samples_per_second': 103.14, 'eval_steps_per_second': 13.453, 'epoch': 5.0}\n",
      "{'train_runtime': 73.165, 'train_samples_per_second': 23.509, 'train_steps_per_second': 2.939, 'train_loss': 0.0014257196770157926, 'epoch': 5.0}\n"
     ]
    }
   ],
   "source": [
    "results = {}  # Lernkurven für jede Lernrate\n",
    "lrs = [2e-5, 1e-5, 5e-6]\n",
    "\n",
    "for lr in lrs:\n",
    "    print(f\"🚀 Starte Training für learning_rate = {lr}\")\n",
    "\n",
    "    training_args = TrainingArguments(\n",
    "        output_dir=f\"./cryptobert_lr_{lr}\",\n",
    "        evaluation_strategy=\"epoch\",\n",
    "        save_strategy=\"epoch\",\n",
    "        learning_rate=lr,\n",
    "        per_device_train_batch_size=8,\n",
    "        per_device_eval_batch_size=8,\n",
    "        num_train_epochs=5,\n",
    "        weight_decay=0.01,\n",
    "        load_best_model_at_end=True,\n",
    "        metric_for_best_model=\"f1\",\n",
    "        logging_dir=f\"./logs_lr_{lr}\",\n",
    "        logging_strategy=\"epoch\",\n",
    "        report_to=\"none\",\n",
    "        remove_unused_columns=False,\n",
    "        disable_tqdm=True\n",
    "    )\n",
    "\n",
    "    trainer = Trainer(\n",
    "        model=model,\n",
    "        args=training_args,\n",
    "        train_dataset=train_ds,\n",
    "        eval_dataset=val_ds,\n",
    "        tokenizer=tokenizer,\n",
    "        compute_metrics=compute_metrics,\n",
    "        callbacks=[EarlyStoppingCallback(early_stopping_patience=2)]\n",
    "    )\n",
    "\n",
    "    start = time.time()\n",
    "    trainer.train()\n",
    "    end = time.time()\n",
    "\n",
    "    # Lernkurve extrahieren\n",
    "    logs = trainer.state.log_history\n",
    "    epoch_logs = [log for log in logs if \"eval_f1\" in log]\n",
    "    df = pd.DataFrame(epoch_logs)[[\"epoch\", \"eval_f1\"]]\n",
    "    df[\"learning_rate\"] = lr\n",
    "\n",
    "    # Speichern mit allen nötigen Infos\n",
    "    results[lr] = {\n",
    "        \"f1_curve\": df,\n",
    "        \"best_f1\": df[\"eval_f1\"].max(),\n",
    "        \"trainer\": trainer\n",
    "    }\n"
   ]
  },
  {
   "cell_type": "markdown",
   "metadata": {},
   "source": [
    "PLott fuer die Lernrate"
   ]
  },
  {
   "cell_type": "code",
   "execution_count": null,
   "metadata": {},
   "outputs": [
    {
     "name": "stderr",
     "output_type": "stream",
     "text": [
      "C:\\Users\\hp\\AppData\\Local\\Temp\\ipykernel_15672\\2650982940.py:14: UserWarning: Glyph 128200 (\\N{CHART WITH UPWARDS TREND}) missing from font(s) DejaVu Sans.\n",
      "  plt.tight_layout()\n",
      "c:\\Users\\hp\\anaconda3\\envs\\crypto_nlp\\lib\\site-packages\\IPython\\core\\pylabtools.py:152: UserWarning: Glyph 128200 (\\N{CHART WITH UPWARDS TREND}) missing from font(s) DejaVu Sans.\n",
      "  fig.canvas.print_figure(bytes_io, **kw)\n"
     ]
    },
    {
     "data": {
      "image/png": "[encoded data removed]",
      "text/plain": [
       "<Figure size 800x500 with 1 Axes>"
      ]
     },
     "metadata": {},
     "output_type": "display_data"
    }
   ],
   "source": [
    "plt.figure(figsize=(8, 5))\n",
    "\n",
    "for lr, data in results.items():\n",
    "    df = data[\"f1_curve\"]\n",
    "    plt.plot(df[\"epoch\"], df[\"eval_f1\"], marker=\"o\", label=f\"lr={lr}\")\n",
    "\n",
    "plt.title(\"📈 Lernkurven (Validation F1) – CryptoBERT bei verschiedenen Lernraten\")\n",
    "plt.xlabel(\"Epoche\")\n",
    "plt.ylabel(\"F1 (macro)\")\n",
    "plt.legend()\n",
    "plt.grid(True)\n",
    "plt.tight_layout()\n",
    "plt.show()\n"
   ]
  },
  {
   "cell_type": "code",
   "execution_count": 191,
   "metadata": {},
   "outputs": [
    {
     "name": "stdout",
     "output_type": "stream",
     "text": [
      "\n",
      "🏆 Beste Lernrate: 5e-06 mit F1 = 0.5506\n"
     ]
    }
   ],
   "source": [
    "# Beste Lernrate bestimmen\n",
    "best_lr = max(results.items(), key=lambda x: x[1][\"best_f1\"])[0]\n",
    "best_trainer = results[best_lr][\"trainer\"]\n",
    "\n",
    "print(f\"\\n🏆 Beste Lernrate: {best_lr} mit F1 = {results[best_lr]['best_f1']:.4f}\")\n"
   ]
  },
  {
   "cell_type": "markdown",
   "metadata": {},
   "source": [
    "Evaualation auf dem finalen Testset"
   ]
  },
  {
   "cell_type": "code",
   "execution_count": 192,
   "metadata": {},
   "outputs": [
    {
     "name": "stdout",
     "output_type": "stream",
     "text": [
      "\n",
      "📊 Evaluation auf Testset:\n",
      "              precision    recall  f1-score   support\n",
      "\n",
      "           0       0.44      0.49      0.46        37\n",
      "           1       0.61      0.62      0.61        60\n",
      "           2       0.31      0.22      0.26        18\n",
      "\n",
      "    accuracy                           0.51       115\n",
      "   macro avg       0.45      0.44      0.44       115\n",
      "weighted avg       0.51      0.51      0.51       115\n",
      "\n"
     ]
    }
   ],
   "source": [
    "test_results = best_trainer.predict(test_ds)\n",
    "\n",
    "from sklearn.metrics import classification_report\n",
    "y_pred = test_results.predictions.argmax(axis=1)\n",
    "y_true = test_results.label_ids\n",
    "\n",
    "print(\"\\n📊 Evaluation auf Testset:\")\n",
    "print(classification_report(y_true, y_pred))\n"
   ]
  },
  {
   "cell_type": "code",
   "execution_count": null,
   "metadata": {},
   "outputs": [
    {
     "data": {
      "text/html": [
       "<div>\n",
       "<style scoped>\n",
       "    .dataframe tbody tr th:only-of-type {\n",
       "        vertical-align: middle;\n",
       "    }\n",
       "\n",
       "    .dataframe tbody tr th {\n",
       "        vertical-align: top;\n",
       "    }\n",
       "\n",
       "    .dataframe thead th {\n",
       "        text-align: right;\n",
       "    }\n",
       "</style>\n",
       "<table border=\"1\" class=\"dataframe\">\n",
       "  <thead>\n",
       "    <tr style=\"text-align: right;\">\n",
       "      <th></th>\n",
       "      <th>text</th>\n",
       "      <th>true</th>\n",
       "      <th>predicted</th>\n",
       "    </tr>\n",
       "  </thead>\n",
       "  <tbody>\n",
       "    <tr>\n",
       "      <th>1</th>\n",
       "      <td>Favourite ALTS for 2025? There's been much tal...</td>\n",
       "      <td>0</td>\n",
       "      <td>1</td>\n",
       "    </tr>\n",
       "    <tr>\n",
       "      <th>2</th>\n",
       "      <td>Would you take 100% chance of getting 600k or ...</td>\n",
       "      <td>0</td>\n",
       "      <td>1</td>\n",
       "    </tr>\n",
       "    <tr>\n",
       "      <th>4</th>\n",
       "      <td>bahhahahha</td>\n",
       "      <td>1</td>\n",
       "      <td>0</td>\n",
       "    </tr>\n",
       "    <tr>\n",
       "      <th>5</th>\n",
       "      <td>India Strikes Crypto Exchange Bybit: Major Fin...</td>\n",
       "      <td>2</td>\n",
       "      <td>0</td>\n",
       "    </tr>\n",
       "    <tr>\n",
       "      <th>6</th>\n",
       "      <td>Traditional Investments v. Bitcoin The way I s...</td>\n",
       "      <td>0</td>\n",
       "      <td>1</td>\n",
       "    </tr>\n",
       "    <tr>\n",
       "      <th>7</th>\n",
       "      <td>Bitcoin maxi posted \"Solana will be the first ...</td>\n",
       "      <td>0</td>\n",
       "      <td>1</td>\n",
       "    </tr>\n",
       "    <tr>\n",
       "      <th>14</th>\n",
       "      <td>Trip Report: Struggles of a new crypto user Hi...</td>\n",
       "      <td>2</td>\n",
       "      <td>1</td>\n",
       "    </tr>\n",
       "    <tr>\n",
       "      <th>17</th>\n",
       "      <td>**Historical Bitcoin prices for today, Decembe...</td>\n",
       "      <td>1</td>\n",
       "      <td>0</td>\n",
       "    </tr>\n",
       "    <tr>\n",
       "      <th>18</th>\n",
       "      <td>!topics</td>\n",
       "      <td>1</td>\n",
       "      <td>0</td>\n",
       "    </tr>\n",
       "    <tr>\n",
       "      <th>19</th>\n",
       "      <td>Bitcoin surpasses 100k! New ath of 101.5k what...</td>\n",
       "      <td>1</td>\n",
       "      <td>0</td>\n",
       "    </tr>\n",
       "  </tbody>\n",
       "</table>\n",
       "</div>"
      ],
      "text/plain": [
       "                                                 text  true  predicted\n",
       "1   Favourite ALTS for 2025? There's been much tal...     0          1\n",
       "2   Would you take 100% chance of getting 600k or ...     0          1\n",
       "4                                          bahhahahha     1          0\n",
       "5   India Strikes Crypto Exchange Bybit: Major Fin...     2          0\n",
       "6   Traditional Investments v. Bitcoin The way I s...     0          1\n",
       "7   Bitcoin maxi posted \"Solana will be the first ...     0          1\n",
       "14  Trip Report: Struggles of a new crypto user Hi...     2          1\n",
       "17  **Historical Bitcoin prices for today, Decembe...     1          0\n",
       "18                                            !topics     1          0\n",
       "19  Bitcoin surpasses 100k! New ath of 101.5k what...     1          0"
      ]
     },
     "execution_count": 194,
     "metadata": {},
     "output_type": "execute_result"
    }
   ],
   "source": [
    "wrong = [(i, p, t) for i, (p, t) in enumerate(zip(y_pred, y_true)) if p != t]\n",
    "wrong_df = test_df.iloc[[i for i, _, _ in wrong]].copy()\n",
    "wrong_df[\"predicted\"] = [p for _, p, _ in wrong]\n",
    "wrong_df[\"true\"] = [t for _, _, t in wrong]\n",
    "\n",
    "wrong_df[[\"text\", \"true\", \"predicted\"]].head(10)\n"
   ]
  }
 ],
 "metadata": {
  "kernelspec": {
   "display_name": "crypto_nlp",
   "language": "python",
   "name": "python3"
  },
  "language_info": {
   "codemirror_mode": {
    "name": "ipython",
    "version": 3
   },
   "file_extension": ".py",
   "mimetype": "text/x-python",
   "name": "python",
   "nbconvert_exporter": "python",
   "pygments_lexer": "ipython3",
   "version": "3.9.21"
  }
 },
 "nbformat": 4,
 "nbformat_minor": 2
}
