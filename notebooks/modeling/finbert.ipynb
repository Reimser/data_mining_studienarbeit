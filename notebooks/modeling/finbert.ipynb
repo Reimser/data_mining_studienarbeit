{
 "cells": [
  {
   "cell_type": "markdown",
   "id": "01f2cef1",
   "metadata": {},
   "source": [
    "# Finetuning von Finbert für Kommentare "
   ]
  },
  {
   "cell_type": "markdown",
   "id": "204707d4",
   "metadata": {},
   "source": [
    "## Import"
   ]
  },
  {
   "cell_type": "code",
   "execution_count": 104,
   "id": "2883ed90",
   "metadata": {},
   "outputs": [],
   "source": [
    "import os\n",
    "import torch\n",
    "import pandas as pd\n",
    "from sklearn.model_selection import train_test_split\n",
    "from datasets import Dataset\n",
    "from transformers import DebertaV2Tokenizer, AutoModelForSequenceClassification, Trainer, TrainingArguments, AutoTokenizer, EarlyStoppingCallback\n",
    "import evaluate\n",
    "import numpy as np\n",
    "import torch\n",
    "from sklearn.metrics import accuracy_score, f1_score,classification_report, cohen_kappa_score\n",
    "import matplotlib.pyplot as plt\n",
    "import seaborn as sns\n",
    "import time\n",
    "import pandas as pd\n",
    "from transformers import AutoModelForSequenceClassification, Trainer, TrainingArguments\n",
    "import transformers\n",
    "import warnings\n",
    "import random\n",
    "import nltk\n",
    "from nltk.corpus import wordnet"
   ]
  },
  {
   "cell_type": "code",
   "execution_count": 105,
   "id": "5d9d30a2",
   "metadata": {},
   "outputs": [
    {
     "name": "stdout",
     "output_type": "stream",
     "text": [
      "Using cuda device\n"
     ]
    }
   ],
   "source": [
    "# Cuda pruefen\n",
    "device = \"cuda\" if torch.cuda.is_available() else \"cpu\"\n",
    "print(\"Using {} device\".format(device))"
   ]
  },
  {
   "cell_type": "code",
   "execution_count": 106,
   "id": "9dc8078f",
   "metadata": {},
   "outputs": [],
   "source": [
    "DATA_PATH = '../../data/processed/'"
   ]
  },
  {
   "cell_type": "code",
   "execution_count": 107,
   "id": "399aef36",
   "metadata": {},
   "outputs": [],
   "source": [
    "# Trainingsdaten laden\n",
    "df_all_posts = pd.read_csv(os.path.join(DATA_PATH, \"training_data_posts.csv\"))\n",
    "\n",
    "# Testdaten laden\n",
    "df_test_posts = pd.read_csv(os.path.join(DATA_PATH, \"test_data_posts.csv\"))\n",
    "\n",
    "# Nur relevante Spalten + Bereinigung\n",
    "df_all_posts = df_all_posts[[\"text\", \"label\"]].dropna()\n",
    "df_all_posts[\"label\"] = df_all_posts[\"label\"].astype(int)\n",
    "\n",
    "df_test_posts = df_test_posts[[\"text\", \"label\"]].dropna()\n",
    "df_test_posts[\"label\"] = df_test_posts[\"label\"].astype(int)\n"
   ]
  },
  {
   "cell_type": "markdown",
   "id": "daa9c80a",
   "metadata": {},
   "source": [
    "Data Augmenataion"
   ]
  },
  {
   "cell_type": "code",
   "execution_count": 108,
   "id": "efb93836",
   "metadata": {},
   "outputs": [
    {
     "name": "stderr",
     "output_type": "stream",
     "text": [
      "[nltk_data] Downloading package wordnet to\n",
      "[nltk_data]     C:\\Users\\hp\\AppData\\Roaming\\nltk_data...\n"
     ]
    }
   ],
   "source": [
    "nltk.download(\"wordnet\")\n",
    "\n",
    "def synonym_replace(text, n=1):\n",
    "    words = text.split()\n",
    "    new_words = words.copy()\n",
    "    random_word_list = list(set([word for word in words if wordnet.synsets(word)]))\n",
    "    random.shuffle(random_word_list)\n",
    "    num_replaced = 0\n",
    "    for random_word in random_word_list:\n",
    "        synonyms = wordnet.synsets(random_word)\n",
    "        if not synonyms:\n",
    "            continue\n",
    "        synonym_words = [lemma.name().replace(\"_\", \" \") for s in synonyms for lemma in s.lemmas()]\n",
    "        synonym_words = [word for word in synonym_words if word != random_word]\n",
    "        if synonym_words:\n",
    "            new_words = [synonym_words[0] if word == random_word else word for word in new_words]\n",
    "            num_replaced += 1\n",
    "        if num_replaced >= n:\n",
    "            break\n",
    "    return \" \".join(new_words)\n"
   ]
  },
  {
   "cell_type": "markdown",
   "id": "46f48773",
   "metadata": {},
   "source": [
    "## Train- Test-split"
   ]
  },
  {
   "cell_type": "code",
   "execution_count": 109,
   "id": "e2b88ef6",
   "metadata": {},
   "outputs": [
    {
     "name": "stdout",
     "output_type": "stream",
     "text": [
      "✅ Daten erfolgreich vorbereitet:\n",
      "Train: 379 | Val: 74 | Test: 298\n"
     ]
    }
   ],
   "source": [
    "# 80/20 Split für Training und Validierung\n",
    "train_df, val_df = train_test_split(\n",
    "    df_all_posts,\n",
    "    test_size=0.2,\n",
    "    stratify=df_all_posts[\"label\"],\n",
    "    random_state=42\n",
    ")\n",
    "\n",
    "# Bearish-Subset kopieren & augmentieren\n",
    "augmented_bearish = train_df[train_df['label'] == 0].copy()\n",
    "augmented_bearish['text'] = augmented_bearish['text'].apply(lambda x: synonym_replace(x, n=2))\n",
    "\n",
    "# Kombinieren & durchmischen\n",
    "train_df_augmented = pd.concat([train_df, augmented_bearish], ignore_index=True).sample(frac=1, random_state=42)\n",
    "\n",
    "# Optional: neue Labelverteilung anzeigen\n",
    "#print(train_df_augmented['label'].value_counts())\n",
    "\n",
    "# Indizes zurücksetzen\n",
    "train_df = train_df_augmented.reset_index(drop=True)\n",
    "val_df = val_df.reset_index(drop=True)\n",
    "test_df = df_test_posts.copy()\n",
    "df_test_posts = df_test_posts.reset_index(drop=True)\n",
    "\n",
    "print(\"✅ Daten erfolgreich vorbereitet:\")\n",
    "print(f\"Train: {len(train_df)} | Val: {len(val_df)} | Test: {len(test_df)}\")\n"
   ]
  },
  {
   "cell_type": "code",
   "execution_count": 110,
   "id": "ac8338f6",
   "metadata": {},
   "outputs": [
    {
     "name": "stdout",
     "output_type": "stream",
     "text": [
      "Train size: 379\n",
      "Val size: 74\n",
      "Test size: 298\n",
      "Train labels:\n",
      " label\n",
      "0    174\n",
      "1    156\n",
      "2     49\n",
      "Name: count, dtype: int64\n"
     ]
    }
   ],
   "source": [
    "print(f\"Train size: {len(train_df)}\")\n",
    "print(f\"Val size: {len(val_df)}\")\n",
    "print(f\"Test size: {len(test_df)}\")\n",
    "print(\"Train labels:\\n\", train_df[\"label\"].value_counts())\n"
   ]
  },
  {
   "cell_type": "markdown",
   "id": "a6cc7e92",
   "metadata": {},
   "source": [
    "## Weighted Loss"
   ]
  },
  {
   "cell_type": "markdown",
   "id": "2513b77a",
   "metadata": {},
   "source": [
    "Zur Einbindung einer gewichteten oder spezialisierten Loss-Funktion wird compute_loss überschrieben."
   ]
  },
  {
   "cell_type": "code",
   "execution_count": 111,
   "id": "925e6b33",
   "metadata": {},
   "outputs": [],
   "source": [
    "class WeightedLossTrainer(Trainer):\n",
    "    def __init__(self, *args, loss_fn=None, **kwargs):\n",
    "        super().__init__(*args, **kwargs)\n",
    "        self.loss_fn = loss_fn  # Speichert die benutzerdefinierte Verlustfunktion\n",
    "\n",
    "    def compute_loss(self, model, inputs, return_outputs=False, **kwargs):\n",
    "        labels = inputs.pop(\"labels\")  # Extrahiert die Labels aus den Eingaben\n",
    "        outputs = model(**inputs)  # Führt eine Vorwärtsausbreitung durch\n",
    "        logits = outputs.logits  # Extrahiert die Logits aus den Ausgaben\n",
    "        loss = self.loss_fn(logits, labels)  # Berechnet den Verlust mit der benutzerdefinierten Funktion\n",
    "        return (loss, outputs) if return_outputs else loss  # Gibt den Verlust (und optional die Ausgaben) zurück"
   ]
  },
  {
   "cell_type": "code",
   "execution_count": 112,
   "id": "78590f8f",
   "metadata": {},
   "outputs": [],
   "source": [
    "# Manuelle Class Weights – hier z. B. stärkerer Fokus auf neutral\n",
    "weights_tensor = torch.tensor([2.0, 1.0, 2.0], dtype=torch.float)\n",
    "\n",
    "loss_fn = torch.nn.CrossEntropyLoss(weight=weights_tensor.to(device))\n"
   ]
  },
  {
   "cell_type": "markdown",
   "id": "ab016f68",
   "metadata": {},
   "source": [
    "## Model"
   ]
  },
  {
   "cell_type": "markdown",
   "id": "28ce3d95",
   "metadata": {},
   "source": [
    "Pfade für das Finetuning-Experiment setzen und Ordner sicherstellen"
   ]
  },
  {
   "cell_type": "code",
   "execution_count": 113,
   "id": "ac325fa7",
   "metadata": {},
   "outputs": [],
   "source": [
    "EXPERIMENTS_BASE_PATH = \"../../models/experiments/\"  # Basisverzeichnis für alle Experiment-Modelle\n",
    "\n",
    "MODEL_PATHS = {\n",
    "    \"finbert_posts\": os.path.join(EXPERIMENTS_BASE_PATH, \"finbert_posts\"),  # Zielordner für FinBERT auf Post-Daten\n",
    "}\n",
    "\n",
    "for path in MODEL_PATHS.values():\n",
    "    os.makedirs(path, exist_ok=True)  # Ordner anlegen, falls noch nicht vorhanden\n"
   ]
  },
  {
   "cell_type": "markdown",
   "id": "8ad7539b",
   "metadata": {},
   "source": [
    "Modell & Tokenizer laden"
   ]
  },
  {
   "cell_type": "code",
   "execution_count": 114,
   "id": "d0bba111",
   "metadata": {},
   "outputs": [],
   "source": [
    "tokenizer = AutoTokenizer.from_pretrained(MODEL_PATHS[\"finbert_posts\"])  # FinBERT-Tokenizer laden\n",
    "model = AutoModelForSequenceClassification.from_pretrained(MODEL_PATHS[\"finbert_posts\"], num_labels=3)  # Modell mit 3 Klassen\n"
   ]
  },
  {
   "cell_type": "markdown",
   "id": "e8e38590",
   "metadata": {},
   "source": [
    "Tokenizer-Funktion"
   ]
  },
  {
   "cell_type": "code",
   "execution_count": 115,
   "id": "bc88a9eb",
   "metadata": {},
   "outputs": [],
   "source": [
    "def tokenize_function(example):\n",
    "    return tokenizer(example[\"text\"], truncation=True, padding=\"max_length\", max_length= 512)  # Standard-Tokenisierung\n"
   ]
  },
  {
   "cell_type": "markdown",
   "id": "8514779d",
   "metadata": {},
   "source": [
    "Tokenisierung + Formatierung der Datensätze"
   ]
  },
  {
   "cell_type": "code",
   "execution_count": 116,
   "id": "08c15908",
   "metadata": {},
   "outputs": [
    {
     "name": "stderr",
     "output_type": "stream",
     "text": [
      "Map:   0%|          | 0/379 [00:00<?, ? examples/s]"
     ]
    },
    {
     "name": "stderr",
     "output_type": "stream",
     "text": [
      "Map: 100%|██████████| 379/379 [00:00<00:00, 3132.67 examples/s]\n",
      "Map: 100%|██████████| 74/74 [00:00<00:00, 3155.31 examples/s]\n",
      "Map: 100%|██████████| 298/298 [00:00<00:00, 3097.91 examples/s]\n"
     ]
    }
   ],
   "source": [
    "train_ds = Dataset.from_pandas(train_df).map(tokenize_function, batched=True)  # Training\n",
    "val_ds = Dataset.from_pandas(val_df).map(tokenize_function, batched=True)      # Validierung\n",
    "test_ds = Dataset.from_pandas(df_test_posts).map(tokenize_function, batched=True)  # Testset: manuell gelabelte Posts\n",
    "\n",
    "train_ds = train_ds.rename_column(\"label\", \"labels\")\n",
    "val_ds = val_ds.rename_column(\"label\", \"labels\")\n",
    "test_ds = test_ds.rename_column(\"label\", \"labels\")\n",
    "\n",
    "train_ds.set_format(\"torch\", columns=[\"input_ids\", \"attention_mask\", \"labels\"])\n",
    "val_ds.set_format(\"torch\", columns=[\"input_ids\", \"attention_mask\", \"labels\"])\n",
    "test_ds.set_format(\"torch\", columns=[\"input_ids\", \"attention_mask\", \"labels\"])\n"
   ]
  },
  {
   "cell_type": "markdown",
   "id": "86261e53",
   "metadata": {},
   "source": [
    "Metrikfunktion für Evaluation"
   ]
  },
  {
   "cell_type": "code",
   "execution_count": 117,
   "id": "73a4dd4a",
   "metadata": {},
   "outputs": [],
   "source": [
    "def compute_metrics(eval_pred):\n",
    "    logits, labels = eval_pred\n",
    "    preds = logits.argmax(axis=1)  # Index des höchsten Scores → vorhergesagte Klasse\n",
    "    return {\n",
    "        \"accuracy\": accuracy_score(labels, preds),         # Genauigkeit\n",
    "        \"f1\": f1_score(labels, preds, average=\"macro\")      # F1-Score über alle Klassen (gleich gewichtet)\n",
    "    }\n"
   ]
  },
  {
   "cell_type": "markdown",
   "id": "eed3e769",
   "metadata": {},
   "source": [
    "Grid-Search: Finetuning von FinBERT (Posts) mit verschiedenen Lernraten\n",
    "Wir testen mehrere Lernraten, loggen die Trainingsdauer, speichern die besten Modelle und extrahieren die F1-Lernkurve zur späteren Analyse."
   ]
  },
  {
   "cell_type": "code",
   "execution_count": 118,
   "id": "fce4a168",
   "metadata": {},
   "outputs": [
    {
     "name": "stdout",
     "output_type": "stream",
     "text": [
      "Starte Training für learning_rate = 2e-05\n"
     ]
    },
    {
     "name": "stderr",
     "output_type": "stream",
     "text": [
      "c:\\Users\\hp\\anaconda3\\envs\\crypto_nlp\\lib\\site-packages\\transformers\\training_args.py:1594: FutureWarning: `evaluation_strategy` is deprecated and will be removed in version 4.46 of 🤗 Transformers. Use `eval_strategy` instead\n",
      "  warnings.warn(\n",
      "C:\\Users\\hp\\AppData\\Local\\Temp\\ipykernel_12508\\3254372665.py:3: FutureWarning: `tokenizer` is deprecated and will be removed in version 5.0.0 for `WeightedLossTrainer.__init__`. Use `processing_class` instead.\n",
      "  super().__init__(*args, **kwargs)\n"
     ]
    },
    {
     "name": "stdout",
     "output_type": "stream",
     "text": [
      "{'loss': 1.2874, 'grad_norm': 13.23775863647461, 'learning_rate': 1.8e-05, 'epoch': 1.0}\n",
      "{'eval_loss': 1.0287208557128906, 'eval_accuracy': 0.6216216216216216, 'eval_f1': 0.6339597603575123, 'eval_runtime': 1.4359, 'eval_samples_per_second': 51.535, 'eval_steps_per_second': 6.964, 'epoch': 1.0}\n",
      "{'loss': 0.5773, 'grad_norm': 32.17930221557617, 'learning_rate': 1.6000000000000003e-05, 'epoch': 2.0}\n",
      "{'eval_loss': 1.578208327293396, 'eval_accuracy': 0.6351351351351351, 'eval_f1': 0.6227690438216754, 'eval_runtime': 1.4783, 'eval_samples_per_second': 50.059, 'eval_steps_per_second': 6.765, 'epoch': 2.0}\n",
      "{'loss': 0.3861, 'grad_norm': 20.81422233581543, 'learning_rate': 1.4e-05, 'epoch': 3.0}\n",
      "{'eval_loss': 1.6075634956359863, 'eval_accuracy': 0.6081081081081081, 'eval_f1': 0.6124263038548753, 'eval_runtime': 1.5152, 'eval_samples_per_second': 48.838, 'eval_steps_per_second': 6.6, 'epoch': 3.0}\n",
      "{'train_runtime': 78.438, 'train_samples_per_second': 48.318, 'train_steps_per_second': 6.119, 'train_loss': 0.7502644724316068, 'epoch': 3.0}\n",
      "Training für learning_rate = 2e-05 abgeschlossen in 79.57 Sekunden.\n",
      "Starte Training für learning_rate = 1e-05\n"
     ]
    },
    {
     "name": "stderr",
     "output_type": "stream",
     "text": [
      "c:\\Users\\hp\\anaconda3\\envs\\crypto_nlp\\lib\\site-packages\\transformers\\training_args.py:1594: FutureWarning: `evaluation_strategy` is deprecated and will be removed in version 4.46 of 🤗 Transformers. Use `eval_strategy` instead\n",
      "  warnings.warn(\n",
      "C:\\Users\\hp\\AppData\\Local\\Temp\\ipykernel_12508\\3254372665.py:3: FutureWarning: `tokenizer` is deprecated and will be removed in version 5.0.0 for `WeightedLossTrainer.__init__`. Use `processing_class` instead.\n",
      "  super().__init__(*args, **kwargs)\n"
     ]
    },
    {
     "name": "stdout",
     "output_type": "stream",
     "text": [
      "{'loss': 1.5378, 'grad_norm': 17.375215530395508, 'learning_rate': 9e-06, 'epoch': 1.0}\n",
      "{'eval_loss': 1.1052727699279785, 'eval_accuracy': 0.581081081081081, 'eval_f1': 0.5657767607424358, 'eval_runtime': 1.5943, 'eval_samples_per_second': 46.415, 'eval_steps_per_second': 6.272, 'epoch': 1.0}\n",
      "{'loss': 0.6173, 'grad_norm': 33.090396881103516, 'learning_rate': 8.000000000000001e-06, 'epoch': 2.0}\n",
      "{'eval_loss': 1.1074949502944946, 'eval_accuracy': 0.6351351351351351, 'eval_f1': 0.6289950664950665, 'eval_runtime': 1.722, 'eval_samples_per_second': 42.974, 'eval_steps_per_second': 5.807, 'epoch': 2.0}\n",
      "{'loss': 0.4066, 'grad_norm': 17.68447494506836, 'learning_rate': 7e-06, 'epoch': 3.0}\n",
      "{'eval_loss': 1.2757580280303955, 'eval_accuracy': 0.581081081081081, 'eval_f1': 0.5826475279106859, 'eval_runtime': 2.0245, 'eval_samples_per_second': 36.552, 'eval_steps_per_second': 4.939, 'epoch': 3.0}\n",
      "{'loss': 0.3124, 'grad_norm': 3.02618145942688, 'learning_rate': 6e-06, 'epoch': 4.0}\n",
      "{'eval_loss': 1.5613385438919067, 'eval_accuracy': 0.5945945945945946, 'eval_f1': 0.6021283255086072, 'eval_runtime': 1.7586, 'eval_samples_per_second': 42.079, 'eval_steps_per_second': 5.686, 'epoch': 4.0}\n",
      "{'train_runtime': 117.101, 'train_samples_per_second': 32.365, 'train_steps_per_second': 4.099, 'train_loss': 0.7185148199399313, 'epoch': 4.0}\n",
      "Training für learning_rate = 1e-05 abgeschlossen in 117.42 Sekunden.\n",
      "Starte Training für learning_rate = 5e-06\n"
     ]
    },
    {
     "name": "stderr",
     "output_type": "stream",
     "text": [
      "c:\\Users\\hp\\anaconda3\\envs\\crypto_nlp\\lib\\site-packages\\transformers\\training_args.py:1594: FutureWarning: `evaluation_strategy` is deprecated and will be removed in version 4.46 of 🤗 Transformers. Use `eval_strategy` instead\n",
      "  warnings.warn(\n",
      "C:\\Users\\hp\\AppData\\Local\\Temp\\ipykernel_12508\\3254372665.py:3: FutureWarning: `tokenizer` is deprecated and will be removed in version 5.0.0 for `WeightedLossTrainer.__init__`. Use `processing_class` instead.\n",
      "  super().__init__(*args, **kwargs)\n"
     ]
    },
    {
     "name": "stdout",
     "output_type": "stream",
     "text": [
      "{'loss': 2.1623, 'grad_norm': 23.914432525634766, 'learning_rate': 4.5e-06, 'epoch': 1.0}\n",
      "{'eval_loss': 1.1359572410583496, 'eval_accuracy': 0.47297297297297297, 'eval_f1': 0.48817204301075273, 'eval_runtime': 1.7638, 'eval_samples_per_second': 41.955, 'eval_steps_per_second': 5.67, 'epoch': 1.0}\n",
      "{'loss': 0.771, 'grad_norm': 33.83106231689453, 'learning_rate': 4.000000000000001e-06, 'epoch': 2.0}\n",
      "{'eval_loss': 0.9915810823440552, 'eval_accuracy': 0.5945945945945946, 'eval_f1': 0.5838110838110838, 'eval_runtime': 1.7312, 'eval_samples_per_second': 42.746, 'eval_steps_per_second': 5.776, 'epoch': 2.0}\n",
      "{'loss': 0.5454, 'grad_norm': 16.014097213745117, 'learning_rate': 3.5e-06, 'epoch': 3.0}\n",
      "{'eval_loss': 1.048376202583313, 'eval_accuracy': 0.6081081081081081, 'eval_f1': 0.5865766110190731, 'eval_runtime': 1.739, 'eval_samples_per_second': 42.553, 'eval_steps_per_second': 5.75, 'epoch': 3.0}\n",
      "{'loss': 0.4609, 'grad_norm': 35.89689254760742, 'learning_rate': 3e-06, 'epoch': 4.0}\n",
      "{'eval_loss': 1.1278085708618164, 'eval_accuracy': 0.6216216216216216, 'eval_f1': 0.6423073382476862, 'eval_runtime': 1.7495, 'eval_samples_per_second': 42.297, 'eval_steps_per_second': 5.716, 'epoch': 4.0}\n",
      "{'loss': 0.3822, 'grad_norm': 40.213409423828125, 'learning_rate': 2.5e-06, 'epoch': 5.0}\n",
      "{'eval_loss': 1.1496784687042236, 'eval_accuracy': 0.6216216216216216, 'eval_f1': 0.6304801124293232, 'eval_runtime': 1.7395, 'eval_samples_per_second': 42.542, 'eval_steps_per_second': 5.749, 'epoch': 5.0}\n",
      "{'loss': 0.329, 'grad_norm': 11.269491195678711, 'learning_rate': 2.0000000000000003e-06, 'epoch': 6.0}\n",
      "{'eval_loss': 1.3043522834777832, 'eval_accuracy': 0.6081081081081081, 'eval_f1': 0.6060244387610116, 'eval_runtime': 1.7597, 'eval_samples_per_second': 42.052, 'eval_steps_per_second': 5.683, 'epoch': 6.0}\n",
      "{'train_runtime': 180.9226, 'train_samples_per_second': 20.948, 'train_steps_per_second': 2.653, 'train_loss': 0.7751451830069224, 'epoch': 6.0}\n",
      "Training für learning_rate = 5e-06 abgeschlossen in 181.25 Sekunden.\n",
      "Starte Training für learning_rate = 3e-06\n"
     ]
    },
    {
     "name": "stderr",
     "output_type": "stream",
     "text": [
      "c:\\Users\\hp\\anaconda3\\envs\\crypto_nlp\\lib\\site-packages\\transformers\\training_args.py:1594: FutureWarning: `evaluation_strategy` is deprecated and will be removed in version 4.46 of 🤗 Transformers. Use `eval_strategy` instead\n",
      "  warnings.warn(\n",
      "C:\\Users\\hp\\AppData\\Local\\Temp\\ipykernel_12508\\3254372665.py:3: FutureWarning: `tokenizer` is deprecated and will be removed in version 5.0.0 for `WeightedLossTrainer.__init__`. Use `processing_class` instead.\n",
      "  super().__init__(*args, **kwargs)\n"
     ]
    },
    {
     "name": "stdout",
     "output_type": "stream",
     "text": [
      "{'loss': 2.652, 'grad_norm': 14.646346092224121, 'learning_rate': 2.7e-06, 'epoch': 1.0}\n",
      "{'eval_loss': 1.3890893459320068, 'eval_accuracy': 0.4864864864864865, 'eval_f1': 0.5067460317460317, 'eval_runtime': 1.7682, 'eval_samples_per_second': 41.852, 'eval_steps_per_second': 5.656, 'epoch': 1.0}\n",
      "{'loss': 1.0611, 'grad_norm': 43.433109283447266, 'learning_rate': 2.4000000000000003e-06, 'epoch': 2.0}\n",
      "{'eval_loss': 1.0510098934173584, 'eval_accuracy': 0.5540540540540541, 'eval_f1': 0.569754338517016, 'eval_runtime': 1.7271, 'eval_samples_per_second': 42.847, 'eval_steps_per_second': 5.79, 'epoch': 2.0}\n",
      "{'loss': 0.7338, 'grad_norm': 15.714781761169434, 'learning_rate': 2.1e-06, 'epoch': 3.0}\n",
      "{'eval_loss': 1.0304524898529053, 'eval_accuracy': 0.5945945945945946, 'eval_f1': 0.598902550207476, 'eval_runtime': 1.7564, 'eval_samples_per_second': 42.13, 'eval_steps_per_second': 5.693, 'epoch': 3.0}\n",
      "{'loss': 0.6137, 'grad_norm': 46.39310073852539, 'learning_rate': 1.8e-06, 'epoch': 4.0}\n",
      "{'eval_loss': 1.0094234943389893, 'eval_accuracy': 0.5945945945945946, 'eval_f1': 0.6300590445517982, 'eval_runtime': 1.7591, 'eval_samples_per_second': 42.068, 'eval_steps_per_second': 5.685, 'epoch': 4.0}\n",
      "{'loss': 0.5258, 'grad_norm': 44.07957077026367, 'learning_rate': 1.5e-06, 'epoch': 5.0}\n",
      "{'eval_loss': 1.0133651494979858, 'eval_accuracy': 0.6081081081081081, 'eval_f1': 0.6313657178299483, 'eval_runtime': 1.7555, 'eval_samples_per_second': 42.154, 'eval_steps_per_second': 5.696, 'epoch': 5.0}\n",
      "{'loss': 0.489, 'grad_norm': 15.2432279586792, 'learning_rate': 1.2000000000000002e-06, 'epoch': 6.0}\n",
      "{'eval_loss': 1.0550663471221924, 'eval_accuracy': 0.5945945945945946, 'eval_f1': 0.5983173411208454, 'eval_runtime': 1.7579, 'eval_samples_per_second': 42.097, 'eval_steps_per_second': 5.689, 'epoch': 6.0}\n",
      "{'loss': 0.408, 'grad_norm': 10.07433795928955, 'learning_rate': 9e-07, 'epoch': 7.0}\n",
      "{'eval_loss': 1.0677937269210815, 'eval_accuracy': 0.6216216216216216, 'eval_f1': 0.6417624521072797, 'eval_runtime': 1.7712, 'eval_samples_per_second': 41.779, 'eval_steps_per_second': 5.646, 'epoch': 7.0}\n",
      "{'loss': 0.376, 'grad_norm': 4.408004283905029, 'learning_rate': 6.000000000000001e-07, 'epoch': 8.0}\n",
      "{'eval_loss': 1.1041145324707031, 'eval_accuracy': 0.6216216216216216, 'eval_f1': 0.626124216260664, 'eval_runtime': 1.7604, 'eval_samples_per_second': 42.037, 'eval_steps_per_second': 5.681, 'epoch': 8.0}\n",
      "{'loss': 0.3744, 'grad_norm': 43.63880157470703, 'learning_rate': 3.0000000000000004e-07, 'epoch': 9.0}\n",
      "{'eval_loss': 1.104532241821289, 'eval_accuracy': 0.6216216216216216, 'eval_f1': 0.626124216260664, 'eval_runtime': 1.7664, 'eval_samples_per_second': 41.893, 'eval_steps_per_second': 5.661, 'epoch': 9.0}\n",
      "{'train_runtime': 308.3416, 'train_samples_per_second': 12.292, 'train_steps_per_second': 1.557, 'train_loss': 0.8037751780615913, 'epoch': 9.0}\n",
      "Training für learning_rate = 3e-06 abgeschlossen in 308.72 Sekunden.\n",
      "Starte Training für learning_rate = 1e-06\n"
     ]
    },
    {
     "name": "stderr",
     "output_type": "stream",
     "text": [
      "c:\\Users\\hp\\anaconda3\\envs\\crypto_nlp\\lib\\site-packages\\transformers\\training_args.py:1594: FutureWarning: `evaluation_strategy` is deprecated and will be removed in version 4.46 of 🤗 Transformers. Use `eval_strategy` instead\n",
      "  warnings.warn(\n",
      "C:\\Users\\hp\\AppData\\Local\\Temp\\ipykernel_12508\\3254372665.py:3: FutureWarning: `tokenizer` is deprecated and will be removed in version 5.0.0 for `WeightedLossTrainer.__init__`. Use `processing_class` instead.\n",
      "  super().__init__(*args, **kwargs)\n"
     ]
    },
    {
     "name": "stdout",
     "output_type": "stream",
     "text": [
      "{'loss': 3.775, 'grad_norm': 9.658581733703613, 'learning_rate': 9e-07, 'epoch': 1.0}\n",
      "{'eval_loss': 2.5718963146209717, 'eval_accuracy': 0.3783783783783784, 'eval_f1': 0.40805031446540885, 'eval_runtime': 2.3549, 'eval_samples_per_second': 31.423, 'eval_steps_per_second': 4.246, 'epoch': 1.0}\n",
      "{'loss': 2.3011, 'grad_norm': 80.08452606201172, 'learning_rate': 8e-07, 'epoch': 2.0}\n",
      "{'eval_loss': 1.8340623378753662, 'eval_accuracy': 0.44594594594594594, 'eval_f1': 0.45886627034168015, 'eval_runtime': 2.3656, 'eval_samples_per_second': 31.281, 'eval_steps_per_second': 4.227, 'epoch': 2.0}\n",
      "{'loss': 1.7017, 'grad_norm': 21.623605728149414, 'learning_rate': 7e-07, 'epoch': 3.0}\n",
      "{'eval_loss': 1.4861735105514526, 'eval_accuracy': 0.4864864864864865, 'eval_f1': 0.5155785638960789, 'eval_runtime': 2.4082, 'eval_samples_per_second': 30.728, 'eval_steps_per_second': 4.152, 'epoch': 3.0}\n",
      "{'loss': 1.3655, 'grad_norm': 71.45350646972656, 'learning_rate': 6e-07, 'epoch': 4.0}\n",
      "{'eval_loss': 1.307578682899475, 'eval_accuracy': 0.5405405405405406, 'eval_f1': 0.5591972859525042, 'eval_runtime': 2.3788, 'eval_samples_per_second': 31.108, 'eval_steps_per_second': 4.204, 'epoch': 4.0}\n",
      "{'loss': 1.1562, 'grad_norm': 60.82529067993164, 'learning_rate': 5e-07, 'epoch': 5.0}\n",
      "{'eval_loss': 1.2130886316299438, 'eval_accuracy': 0.527027027027027, 'eval_f1': 0.5592111592111592, 'eval_runtime': 2.2551, 'eval_samples_per_second': 32.815, 'eval_steps_per_second': 4.434, 'epoch': 5.0}\n",
      "{'loss': 1.0673, 'grad_norm': 16.84142303466797, 'learning_rate': 4e-07, 'epoch': 6.0}\n",
      "{'eval_loss': 1.1539852619171143, 'eval_accuracy': 0.5, 'eval_f1': 0.5378007861183013, 'eval_runtime': 2.2593, 'eval_samples_per_second': 32.754, 'eval_steps_per_second': 4.426, 'epoch': 6.0}\n",
      "{'loss': 0.9433, 'grad_norm': 40.244205474853516, 'learning_rate': 3e-07, 'epoch': 7.0}\n",
      "{'eval_loss': 1.1325050592422485, 'eval_accuracy': 0.5405405405405406, 'eval_f1': 0.5777275296777841, 'eval_runtime': 2.2373, 'eval_samples_per_second': 33.075, 'eval_steps_per_second': 4.47, 'epoch': 7.0}\n",
      "{'loss': 0.8757, 'grad_norm': 16.60408592224121, 'learning_rate': 2e-07, 'epoch': 8.0}\n",
      "{'eval_loss': 1.1100107431411743, 'eval_accuracy': 0.47297297297297297, 'eval_f1': 0.4920634920634921, 'eval_runtime': 2.2099, 'eval_samples_per_second': 33.486, 'eval_steps_per_second': 4.525, 'epoch': 8.0}\n",
      "{'loss': 0.8926, 'grad_norm': 51.33626174926758, 'learning_rate': 1e-07, 'epoch': 9.0}\n",
      "{'eval_loss': 1.099935531616211, 'eval_accuracy': 0.5, 'eval_f1': 0.5310917676509074, 'eval_runtime': 2.2097, 'eval_samples_per_second': 33.489, 'eval_steps_per_second': 4.526, 'epoch': 9.0}\n",
      "{'train_runtime': 4032.6533, 'train_samples_per_second': 0.94, 'train_steps_per_second': 0.119, 'train_loss': 1.5642671938295718, 'epoch': 9.0}\n",
      "Training für learning_rate = 1e-06 abgeschlossen in 4033.02 Sekunden.\n"
     ]
    }
   ],
   "source": [
    "results = {}  # Dictionary zum Speichern der Ergebnisse für jede Lernrate\n",
    "lrs = [2e-5, 1e-5, 5e-6, 3e-6, 1e-6]  # Liste der Lernraten, die getestet werden sollen\n",
    "\n",
    "for lr in lrs:\n",
    "    print(f\"Starte Training für learning_rate = {lr}\")  # Fortschrittsanzeige\n",
    "\n",
    "    # Modell für jede Lernrate neu laden (sonst Verfälschung!)\n",
    "    model = AutoModelForSequenceClassification.from_pretrained(\"yiyanghkust/finbert-tone\", num_labels=3)\n",
    "\n",
    "    output_dir = os.path.join(MODEL_PATHS[\"finbert_posts\"], f\"finetuned_lr_{lr}\")\n",
    "    logging_dir = os.path.join(\"../../logs/finbert_posts\", f\"lr_{lr}\")\n",
    "    os.makedirs(output_dir, exist_ok=True)\n",
    "    os.makedirs(logging_dir, exist_ok=True)\n",
    "\n",
    "    # Trainingskonfiguration für HuggingFace Trainer\n",
    "    training_args = TrainingArguments(\n",
    "        output_dir=output_dir,                      # Wohin das Modell gespeichert wird\n",
    "        evaluation_strategy=\"epoch\",                # Evaluation nach jeder Epoche\n",
    "        save_strategy=\"epoch\",                      # Modell speichern nach jeder Epoche\n",
    "        learning_rate=lr,                           # Aktuelle Lernrate aus der Schleife\n",
    "        per_device_train_batch_size=8,              # Batch-Größe für Training\n",
    "        per_device_eval_batch_size=8,               # Batch-Größe für Evaluation\n",
    "        num_train_epochs=10,                        # Max. Anzahl der Epochen\n",
    "        weight_decay=0.01,                          # Gewichtung für L2-Regularisierung\n",
    "        load_best_model_at_end=True,                # Bestes Modell basierend auf F1 automatisch laden\n",
    "        metric_for_best_model=\"f1\",                 # F1 als Auswahlkriterium für das beste Modell\n",
    "        logging_dir=logging_dir,                    # Speicherort für TensorBoard/Logs\n",
    "        logging_strategy=\"epoch\",                   # Logging-Strategie: nach jeder Epoche\n",
    "        report_to=\"none\",                           # Keine externe Logging-Plattform (z. B. wandb)\n",
    "        remove_unused_columns=False,                # Wichtig bei Custom Loss: alle Features behalten\n",
    "        disable_tqdm=True                           # Kein Fortschrittsbalken\n",
    "    )\n",
    "\n",
    "    # Trainer mit Custom Loss (z. B. gewichteter CrossEntropy oder Focal Loss)\n",
    "    trainer = WeightedLossTrainer(\n",
    "        model=model,                                # FinBERT-Modell\n",
    "        args=training_args,                         # Trainingsargumente\n",
    "        train_dataset=train_ds,                     # Trainingsdaten\n",
    "        eval_dataset=val_ds,                        # Validierungsdaten\n",
    "        tokenizer=tokenizer,                        # Tokenizer für Preprocessing\n",
    "        compute_metrics=compute_metrics,            # Funktion zur Berechnung von Accuracy & F1\n",
    "        loss_fn=loss_fn,                            # Loss-Funktion mit class weights\n",
    "        callbacks=[EarlyStoppingCallback(early_stopping_patience=2)]  # Frühzeitiger Abbruch\n",
    "    )\n",
    "\n",
    "    # Trainingszeit messen\n",
    "    start = time.time()\n",
    "    trainer.train()\n",
    "    end = time.time()\n",
    "\n",
    "    # Lernkurve extrahieren: nur eval_f1-Werte\n",
    "    logs = trainer.state.log_history\n",
    "    epoch_logs = [log for log in logs if \"eval_f1\" in log]\n",
    "    df = pd.DataFrame(epoch_logs)[[\"epoch\", \"eval_f1\"]]\n",
    "    df[\"learning_rate\"] = lr  # Lernrate zur Kurve hinzufügen\n",
    "\n",
    "    # Ergebnisse in Dictionary speichern\n",
    "    results[lr] = {\n",
    "        \"f1_curve\": df,                         # F1-Verlauf pro Epoche\n",
    "        \"best_f1\": df[\"eval_f1\"].max(),         # Bester F1-Wert\n",
    "        \"trainer\": trainer                      # Referenz auf den Trainer\n",
    "    }\n",
    "\n",
    "    print(f\"Training für learning_rate = {lr} abgeschlossen in {end - start:.2f} Sekunden.\")\n"
   ]
  },
  {
   "cell_type": "markdown",
   "id": "9df59077",
   "metadata": {},
   "source": [
    "## Evaluation"
   ]
  },
  {
   "cell_type": "markdown",
   "id": "3f971015",
   "metadata": {},
   "source": [
    "### Plot"
   ]
  },
  {
   "cell_type": "code",
   "execution_count": 119,
   "id": "0cfe48ba",
   "metadata": {},
   "outputs": [
    {
     "name": "stderr",
     "output_type": "stream",
     "text": [
      "C:\\Users\\hp\\AppData\\Local\\Temp\\ipykernel_12508\\239583412.py:12: UserWarning: Glyph 128200 (\\N{CHART WITH UPWARDS TREND}) missing from font(s) DejaVu Sans.\n",
      "  plt.tight_layout()\n",
      "c:\\Users\\hp\\anaconda3\\envs\\crypto_nlp\\lib\\site-packages\\IPython\\core\\pylabtools.py:152: UserWarning: Glyph 128200 (\\N{CHART WITH UPWARDS TREND}) missing from font(s) DejaVu Sans.\n",
      "  fig.canvas.print_figure(bytes_io, **kw)\n"
     ]
    },
    {
     "data": {
      "image/png": "[encoded data removed]",
      "text/plain": [
       "<Figure size 800x500 with 1 Axes>"
      ]
     },
     "metadata": {},
     "output_type": "display_data"
    }
   ],
   "source": [
    "plt.figure(figsize=(8, 5))\n",
    "\n",
    "for lr, data in results.items():\n",
    "    df = data[\"f1_curve\"]\n",
    "    plt.plot(df[\"epoch\"], df[\"eval_f1\"], marker=\"o\", label=f\"lr={lr}\")\n",
    "\n",
    "plt.title(\"📈 Lernkurven (Validation F1) – FinBERT bei verschiedenen Lernraten\")\n",
    "plt.xlabel(\"Epoche\")\n",
    "plt.ylabel(\"F1 (macro)\")\n",
    "plt.legend()\n",
    "plt.grid(True)\n",
    "plt.tight_layout()\n",
    "plt.show()\n"
   ]
  },
  {
   "cell_type": "code",
   "execution_count": 120,
   "id": "e18d720c",
   "metadata": {},
   "outputs": [
    {
     "name": "stdout",
     "output_type": "stream",
     "text": [
      "lr=2e-05: best_f1=0.6340\n",
      "lr=1e-05: best_f1=0.6290\n",
      "lr=5e-06: best_f1=0.6423\n",
      "lr=3e-06: best_f1=0.6418\n",
      "lr=1e-06: best_f1=0.5777\n"
     ]
    }
   ],
   "source": [
    "for lr, res in results.items():\n",
    "    print(f\"lr={lr}: best_f1={res['best_f1']:.4f}\")\n"
   ]
  },
  {
   "cell_type": "code",
   "execution_count": 121,
   "id": "d47b9f8b",
   "metadata": {},
   "outputs": [
    {
     "name": "stdout",
     "output_type": "stream",
     "text": [
      "\n",
      "🏆 Beste Lernrate: 5e-06 mit F1 = 0.6423\n"
     ]
    }
   ],
   "source": [
    "# Beste Lernrate bestimmen\n",
    "best_lr = max(results.items(), key=lambda x: x[1][\"best_f1\"])[0]\n",
    "best_trainer = results[best_lr][\"trainer\"]\n",
    "\n",
    "print(f\"\\n🏆 Beste Lernrate: {best_lr} mit F1 = {results[best_lr]['best_f1']:.4f}\")\n"
   ]
  },
  {
   "cell_type": "markdown",
   "id": "37b1f409",
   "metadata": {},
   "source": [
    "### Evaluation des besten Modells auf dem separaten Testset"
   ]
  },
  {
   "cell_type": "code",
   "execution_count": null,
   "id": "3847ec46",
   "metadata": {},
   "outputs": [
    {
     "name": "stdout",
     "output_type": "stream",
     "text": [
      "\n",
      "Evaluation auf Testset:\n",
      "F1-Score (macro): 0.5329\n",
      "Cohen’s Kappa:    0.2895\n",
      "\n",
      "Klassifikationsreport:\n",
      "              precision    recall  f1-score   support\n",
      "\n",
      "           0       0.47      0.66      0.55        95\n",
      "           1       0.71      0.55      0.62       162\n",
      "           2       0.45      0.41      0.43        41\n",
      "\n",
      "    accuracy                           0.57       298\n",
      "   macro avg       0.54      0.54      0.53       298\n",
      "weighted avg       0.60      0.57      0.57       298\n",
      "\n"
     ]
    }
   ],
   "source": [
    "# Vorhersage auf dem Testset\n",
    "test_results = best_trainer.predict(test_ds)\n",
    "\n",
    "# Klassen aus den Logits extrahieren\n",
    "y_pred = test_results.predictions.argmax(axis=1)  # höchste Wahrscheinlichkeit = Vorhersageklasse\n",
    "y_true = test_results.label_ids                   # echte Labels\n",
    "\n",
    "# Hauptmetriken berechnen\n",
    "f1_macro = f1_score(y_true, y_pred, average=\"macro\")           # Durchschnitt über alle Klassen\n",
    "kappa = cohen_kappa_score(y_true, y_pred)                      # Interrater Agreement\n",
    "\n",
    "# Ergebnisse ausgeben\n",
    "print(\"\\nEvaluation auf Testset:\")\n",
    "print(\"F1-Score (macro):\", round(f1_macro, 4))\n",
    "print(\"Cohen’s Kappa:   \", round(kappa, 4))\n",
    "print(\"\\nKlassifikationsreport:\")\n",
    "print(classification_report(y_true, y_pred))"
   ]
  },
  {
   "cell_type": "markdown",
   "id": "25a1f63a",
   "metadata": {},
   "source": [
    "Alle falsch bewerteten Texte"
   ]
  },
  {
   "cell_type": "code",
   "execution_count": 123,
   "id": "f84e603f",
   "metadata": {},
   "outputs": [
    {
     "data": {
      "text/html": [
       "<div>\n",
       "<style scoped>\n",
       "    .dataframe tbody tr th:only-of-type {\n",
       "        vertical-align: middle;\n",
       "    }\n",
       "\n",
       "    .dataframe tbody tr th {\n",
       "        vertical-align: top;\n",
       "    }\n",
       "\n",
       "    .dataframe thead th {\n",
       "        text-align: right;\n",
       "    }\n",
       "</style>\n",
       "<table border=\"1\" class=\"dataframe\">\n",
       "  <thead>\n",
       "    <tr style=\"text-align: right;\">\n",
       "      <th></th>\n",
       "      <th>text</th>\n",
       "      <th>true</th>\n",
       "      <th>predicted</th>\n",
       "    </tr>\n",
       "  </thead>\n",
       "  <tbody>\n",
       "    <tr>\n",
       "      <th>0</th>\n",
       "      <td>What’s wrong with cutting losses and buying ba...</td>\n",
       "      <td>2</td>\n",
       "      <td>1</td>\n",
       "    </tr>\n",
       "    <tr>\n",
       "      <th>1</th>\n",
       "      <td>Ethereum (ETH) White Paper</td>\n",
       "      <td>1</td>\n",
       "      <td>0</td>\n",
       "    </tr>\n",
       "    <tr>\n",
       "      <th>5</th>\n",
       "      <td>Gas Fee Challenges across different blockchain...</td>\n",
       "      <td>1</td>\n",
       "      <td>0</td>\n",
       "    </tr>\n",
       "    <tr>\n",
       "      <th>9</th>\n",
       "      <td>Scam on Binance Hey guys I just wanna warn you...</td>\n",
       "      <td>1</td>\n",
       "      <td>2</td>\n",
       "    </tr>\n",
       "    <tr>\n",
       "      <th>10</th>\n",
       "      <td>Ethereum's Funeral</td>\n",
       "      <td>2</td>\n",
       "      <td>0</td>\n",
       "    </tr>\n",
       "    <tr>\n",
       "      <th>11</th>\n",
       "      <td>It’s ugly out there today. Here’s a PSA  to ev...</td>\n",
       "      <td>2</td>\n",
       "      <td>0</td>\n",
       "    </tr>\n",
       "    <tr>\n",
       "      <th>12</th>\n",
       "      <td>what's wrong using a decentralized application...</td>\n",
       "      <td>1</td>\n",
       "      <td>0</td>\n",
       "    </tr>\n",
       "    <tr>\n",
       "      <th>13</th>\n",
       "      <td>Grow a bag first, then invest Not sure what to...</td>\n",
       "      <td>1</td>\n",
       "      <td>0</td>\n",
       "    </tr>\n",
       "    <tr>\n",
       "      <th>14</th>\n",
       "      <td>Is Matt Hougan right or wrong about the latest...</td>\n",
       "      <td>1</td>\n",
       "      <td>0</td>\n",
       "    </tr>\n",
       "    <tr>\n",
       "      <th>21</th>\n",
       "      <td>Days like this make you glad you didn’t paper ...</td>\n",
       "      <td>0</td>\n",
       "      <td>2</td>\n",
       "    </tr>\n",
       "  </tbody>\n",
       "</table>\n",
       "</div>"
      ],
      "text/plain": [
       "                                                 text  true  predicted\n",
       "0   What’s wrong with cutting losses and buying ba...     2          1\n",
       "1                         Ethereum (ETH) White Paper      1          0\n",
       "5   Gas Fee Challenges across different blockchain...     1          0\n",
       "9   Scam on Binance Hey guys I just wanna warn you...     1          2\n",
       "10                                Ethereum's Funeral      2          0\n",
       "11  It’s ugly out there today. Here’s a PSA  to ev...     2          0\n",
       "12  what's wrong using a decentralized application...     1          0\n",
       "13  Grow a bag first, then invest Not sure what to...     1          0\n",
       "14  Is Matt Hougan right or wrong about the latest...     1          0\n",
       "21  Days like this make you glad you didn’t paper ...     0          2"
      ]
     },
     "execution_count": 123,
     "metadata": {},
     "output_type": "execute_result"
    }
   ],
   "source": [
    "wrong = [(i, p, t) for i, (p, t) in enumerate(zip(y_pred, y_true)) if p != t]\n",
    "wrong_df = test_df.iloc[[i for i, _, _ in wrong]].copy()\n",
    "wrong_df[\"predicted\"] = [p for _, p, _ in wrong]\n",
    "wrong_df[\"true\"] = [t for _, _, t in wrong]\n",
    "\n",
    "wrong_df[[\"text\", \"true\", \"predicted\"]].head(10)\n"
   ]
  }
 ],
 "metadata": {
  "kernelspec": {
   "display_name": "crypto_nlp",
   "language": "python",
   "name": "python3"
  },
  "language_info": {
   "codemirror_mode": {
    "name": "ipython",
    "version": 3
   },
   "file_extension": ".py",
   "mimetype": "text/x-python",
   "name": "python",
   "nbconvert_exporter": "python",
   "pygments_lexer": "ipython3",
   "version": "3.9.21"
  }
 },
 "nbformat": 4,
 "nbformat_minor": 5
}
