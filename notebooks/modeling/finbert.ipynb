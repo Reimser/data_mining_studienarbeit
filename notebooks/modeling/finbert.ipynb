{
 "cells": [
  {
   "cell_type": "markdown",
   "id": "01f2cef1",
   "metadata": {},
   "source": [
    "# Finetuning von Finbert für Kommentare "
   ]
  },
  {
   "cell_type": "markdown",
   "id": "204707d4",
   "metadata": {},
   "source": [
    "## Import"
   ]
  },
  {
   "cell_type": "code",
   "execution_count": 1,
   "id": "2883ed90",
   "metadata": {},
   "outputs": [
    {
     "name": "stderr",
     "output_type": "stream",
     "text": [
      "c:\\Users\\hp\\anaconda3\\envs\\crypto_nlp\\lib\\site-packages\\tqdm\\auto.py:21: TqdmWarning: IProgress not found. Please update jupyter and ipywidgets. See https://ipywidgets.readthedocs.io/en/stable/user_install.html\n",
      "  from .autonotebook import tqdm as notebook_tqdm\n"
     ]
    }
   ],
   "source": [
    "import os\n",
    "import torch\n",
    "import pandas as pd\n",
    "from sklearn.model_selection import train_test_split\n",
    "from datasets import Dataset\n",
    "from transformers import DebertaV2Tokenizer, AutoModelForSequenceClassification, Trainer, TrainingArguments, AutoTokenizer, EarlyStoppingCallback\n",
    "import evaluate\n",
    "import numpy as np\n",
    "import torch\n",
    "from sklearn.metrics import accuracy_score, f1_score,classification_report, cohen_kappa_score\n",
    "import matplotlib.pyplot as plt\n",
    "import seaborn as sns\n",
    "import time\n",
    "import pandas as pd\n",
    "from transformers import AutoModelForSequenceClassification, Trainer, TrainingArguments\n",
    "import transformers\n",
    "import warnings\n",
    "import random\n",
    "import nltk\n",
    "from nltk.corpus import wordnet"
   ]
  },
  {
   "cell_type": "code",
   "execution_count": 2,
   "id": "5d9d30a2",
   "metadata": {},
   "outputs": [
    {
     "name": "stdout",
     "output_type": "stream",
     "text": [
      "Using cuda device\n"
     ]
    }
   ],
   "source": [
    "# Cuda pruefen\n",
    "device = \"cuda\" if torch.cuda.is_available() else \"cpu\"\n",
    "print(\"Using {} device\".format(device))"
   ]
  },
  {
   "cell_type": "code",
   "execution_count": 3,
   "id": "9dc8078f",
   "metadata": {},
   "outputs": [],
   "source": [
    "DATA_PATH = '../../data/processed/'"
   ]
  },
  {
   "cell_type": "code",
   "execution_count": 4,
   "id": "399aef36",
   "metadata": {},
   "outputs": [],
   "source": [
    "# Trainingsdaten laden\n",
    "df_all_posts = pd.read_csv(os.path.join(DATA_PATH, \"training_data_posts.csv\"))\n",
    "\n",
    "# Testdaten laden\n",
    "df_test_posts = pd.read_csv(os.path.join(DATA_PATH, \"test_data_posts.csv\"))\n",
    "\n",
    "# Nur relevante Spalten + Bereinigung\n",
    "df_all_posts = df_all_posts[[\"text\", \"label\"]].dropna()\n",
    "df_all_posts[\"label\"] = df_all_posts[\"label\"].astype(int)\n",
    "\n",
    "df_test_posts = df_test_posts[[\"text\", \"label\"]].dropna()\n",
    "df_test_posts[\"label\"] = df_test_posts[\"label\"].astype(int)\n"
   ]
  },
  {
   "cell_type": "markdown",
   "id": "46f48773",
   "metadata": {},
   "source": [
    "## Train- Test-split"
   ]
  },
  {
   "cell_type": "code",
   "execution_count": 5,
   "id": "e2b88ef6",
   "metadata": {},
   "outputs": [
    {
     "name": "stdout",
     "output_type": "stream",
     "text": [
      "✅ Daten erfolgreich vorbereitet:\n",
      "Train: 1280 | Val: 320 | Test: 400\n"
     ]
    }
   ],
   "source": [
    "# 80/20 Split für Training und Validierung mit stratifizierter Verteilung der Klassen\n",
    "train_df, val_df = train_test_split(\n",
    "    df_all_posts,\n",
    "    test_size=0.2,\n",
    "    stratify=df_all_posts[\"label\"],\n",
    "    random_state=42\n",
    ")\n",
    "\n",
    "# Testdaten separat kopieren und Indizes zurücksetzen\n",
    "test_df = df_test_posts.copy()\n",
    "df_test_posts = df_test_posts.reset_index(drop=True)\n",
    "\n",
    "# Auch Train- und Val-Set Indizes zurücksetzen\n",
    "train_df = train_df.reset_index(drop=True)\n",
    "val_df = val_df.reset_index(drop=True)\n",
    "\n",
    "# Übersicht zur Kontrolle\n",
    "print(\"✅ Daten erfolgreich vorbereitet:\")\n",
    "print(f\"Train: {len(train_df)} | Val: {len(val_df)} | Test: {len(test_df)}\")\n"
   ]
  },
  {
   "cell_type": "code",
   "execution_count": 6,
   "id": "ac8338f6",
   "metadata": {},
   "outputs": [
    {
     "name": "stdout",
     "output_type": "stream",
     "text": [
      "Train size: 1280\n",
      "Val size: 320\n",
      "Test size: 400\n",
      "Train labels:\n",
      " label\n",
      "1    842\n",
      "0    391\n",
      "2     47\n",
      "Name: count, dtype: int64\n"
     ]
    }
   ],
   "source": [
    "print(f\"Train size: {len(train_df)}\")\n",
    "print(f\"Val size: {len(val_df)}\")\n",
    "print(f\"Test size: {len(test_df)}\")\n",
    "print(\"Train labels:\\n\", train_df[\"label\"].value_counts())\n"
   ]
  },
  {
   "cell_type": "markdown",
   "id": "a6cc7e92",
   "metadata": {},
   "source": [
    "## Weighted Loss"
   ]
  },
  {
   "cell_type": "markdown",
   "id": "2513b77a",
   "metadata": {},
   "source": [
    "Zur Einbindung einer gewichteten oder spezialisierten Loss-Funktion wird compute_loss überschrieben."
   ]
  },
  {
   "cell_type": "code",
   "execution_count": 7,
   "id": "925e6b33",
   "metadata": {},
   "outputs": [],
   "source": [
    "class WeightedLossTrainer(Trainer):\n",
    "    def __init__(self, *args, loss_fn=None, **kwargs):\n",
    "        super().__init__(*args, **kwargs)\n",
    "        self.loss_fn = loss_fn  # Speichert die benutzerdefinierte Verlustfunktion\n",
    "\n",
    "    def compute_loss(self, model, inputs, return_outputs=False, **kwargs):\n",
    "        labels = inputs.pop(\"labels\")  # Extrahiert die Labels aus den Eingaben\n",
    "        outputs = model(**inputs)  # Führt eine Vorwärtsausbreitung durch\n",
    "        logits = outputs.logits  # Extrahiert die Logits aus den Ausgaben\n",
    "        loss = self.loss_fn(logits, labels)  # Berechnet den Verlust mit der benutzerdefinierten Funktion\n",
    "        return (loss, outputs) if return_outputs else loss  # Gibt den Verlust (und optional die Ausgaben) zurück"
   ]
  },
  {
   "cell_type": "code",
   "execution_count": 8,
   "id": "78590f8f",
   "metadata": {},
   "outputs": [],
   "source": [
    "# Manuelle Class Weights – hier z. B. stärkerer Fokus auf neutral\n",
    "weights_tensor = torch.tensor([2.0, 1.0, 2.0], dtype=torch.float)\n",
    "\n",
    "loss_fn = torch.nn.CrossEntropyLoss(weight=weights_tensor.to(device))\n"
   ]
  },
  {
   "cell_type": "markdown",
   "id": "ab016f68",
   "metadata": {},
   "source": [
    "## Model"
   ]
  },
  {
   "cell_type": "markdown",
   "id": "28ce3d95",
   "metadata": {},
   "source": [
    "Pfade für das Finetuning-Experiment setzen und Ordner sicherstellen"
   ]
  },
  {
   "cell_type": "code",
   "execution_count": 9,
   "id": "ac325fa7",
   "metadata": {},
   "outputs": [],
   "source": [
    "EXPERIMENTS_BASE_PATH = \"../../models/experiments/\"  # Basisverzeichnis für alle Experiment-Modelle\n",
    "\n",
    "MODEL_PATHS = {\n",
    "    \"finbert_posts\": os.path.join(EXPERIMENTS_BASE_PATH, \"finbert_posts\"),  # Zielordner für FinBERT auf Post-Daten\n",
    "}\n",
    "\n",
    "for path in MODEL_PATHS.values():\n",
    "    os.makedirs(path, exist_ok=True)  # Ordner anlegen, falls noch nicht vorhanden\n"
   ]
  },
  {
   "cell_type": "markdown",
   "id": "8ad7539b",
   "metadata": {},
   "source": [
    "Modell & Tokenizer laden"
   ]
  },
  {
   "cell_type": "code",
   "execution_count": 10,
   "id": "d0bba111",
   "metadata": {},
   "outputs": [],
   "source": [
    "# Modellname direkt aus der Hugging Face Model Hub URL\n",
    "model_name = \"yiyanghkust/finbert-tone\"\n",
    "\n",
    "# Tokenizer und Modell laden (automatisch von Hugging Face Hub)\n",
    "tokenizer = AutoTokenizer.from_pretrained(model_name)\n",
    "model = AutoModelForSequenceClassification.from_pretrained(model_name, num_labels=3)"
   ]
  },
  {
   "cell_type": "markdown",
   "id": "e8e38590",
   "metadata": {},
   "source": [
    "Tokenizer-Funktion"
   ]
  },
  {
   "cell_type": "code",
   "execution_count": 11,
   "id": "bc88a9eb",
   "metadata": {},
   "outputs": [],
   "source": [
    "def tokenize_function(example):\n",
    "    return tokenizer(example[\"text\"], truncation=True, padding=\"max_length\", max_length= 512)  # Standard-Tokenisierung\n"
   ]
  },
  {
   "cell_type": "markdown",
   "id": "8514779d",
   "metadata": {},
   "source": [
    "Tokenisierung + Formatierung der Datensätze"
   ]
  },
  {
   "cell_type": "code",
   "execution_count": 12,
   "id": "08c15908",
   "metadata": {},
   "outputs": [
    {
     "name": "stderr",
     "output_type": "stream",
     "text": [
      "Map: 100%|██████████| 1280/1280 [00:01<00:00, 917.36 examples/s]\n",
      "Map: 100%|██████████| 320/320 [00:00<00:00, 1012.57 examples/s]\n",
      "Map: 100%|██████████| 400/400 [00:00<00:00, 868.40 examples/s]\n"
     ]
    }
   ],
   "source": [
    "train_ds = Dataset.from_pandas(train_df).map(tokenize_function, batched=True)  # Training\n",
    "val_ds = Dataset.from_pandas(val_df).map(tokenize_function, batched=True)      # Validierung\n",
    "test_ds = Dataset.from_pandas(df_test_posts).map(tokenize_function, batched=True)  # Testset: manuell gelabelte Posts\n",
    "\n",
    "train_ds = train_ds.rename_column(\"label\", \"labels\")\n",
    "val_ds = val_ds.rename_column(\"label\", \"labels\")\n",
    "test_ds = test_ds.rename_column(\"label\", \"labels\")\n",
    "\n",
    "train_ds.set_format(\"torch\", columns=[\"input_ids\", \"attention_mask\", \"labels\"])\n",
    "val_ds.set_format(\"torch\", columns=[\"input_ids\", \"attention_mask\", \"labels\"])\n",
    "test_ds.set_format(\"torch\", columns=[\"input_ids\", \"attention_mask\", \"labels\"])\n"
   ]
  },
  {
   "cell_type": "markdown",
   "id": "86261e53",
   "metadata": {},
   "source": [
    "Metrikfunktion für Evaluation"
   ]
  },
  {
   "cell_type": "code",
   "execution_count": 13,
   "id": "73a4dd4a",
   "metadata": {},
   "outputs": [],
   "source": [
    "def compute_metrics(eval_pred):\n",
    "    logits, labels = eval_pred\n",
    "    preds = logits.argmax(axis=1)  # Index des höchsten Scores → vorhergesagte Klasse\n",
    "    return {\n",
    "        \"accuracy\": accuracy_score(labels, preds),         # Genauigkeit\n",
    "        \"f1\": f1_score(labels, preds, average=\"macro\")      # F1-Score über alle Klassen (gleich gewichtet)\n",
    "    }\n"
   ]
  },
  {
   "cell_type": "markdown",
   "id": "eed3e769",
   "metadata": {},
   "source": [
    "Grid-Search: Finetuning von FinBERT (Posts) mit verschiedenen Lernraten\n",
    "Wir testen mehrere Lernraten, loggen die Trainingsdauer, speichern die besten Modelle und extrahieren die F1-Lernkurve zur späteren Analyse."
   ]
  },
  {
   "cell_type": "code",
   "execution_count": 14,
   "id": "fce4a168",
   "metadata": {},
   "outputs": [
    {
     "name": "stdout",
     "output_type": "stream",
     "text": [
      "Starte Training für learning_rate = 2e-05\n"
     ]
    },
    {
     "name": "stderr",
     "output_type": "stream",
     "text": [
      "c:\\Users\\hp\\anaconda3\\envs\\crypto_nlp\\lib\\site-packages\\transformers\\training_args.py:1594: FutureWarning: `evaluation_strategy` is deprecated and will be removed in version 4.46 of 🤗 Transformers. Use `eval_strategy` instead\n",
      "  warnings.warn(\n",
      "C:\\Users\\hp\\AppData\\Local\\Temp\\ipykernel_38576\\3254372665.py:3: FutureWarning: `tokenizer` is deprecated and will be removed in version 5.0.0 for `WeightedLossTrainer.__init__`. Use `processing_class` instead.\n",
      "  super().__init__(*args, **kwargs)\n"
     ]
    },
    {
     "name": "stdout",
     "output_type": "stream",
     "text": [
      "{'loss': 0.9486, 'grad_norm': 18.10917091369629, 'learning_rate': 1.8e-05, 'epoch': 1.0}\n",
      "{'eval_loss': 0.6277757883071899, 'eval_accuracy': 0.846875, 'eval_f1': 0.5648812543789713, 'eval_runtime': 29.0209, 'eval_samples_per_second': 11.027, 'eval_steps_per_second': 1.378, 'epoch': 1.0}\n",
      "{'loss': 0.4623, 'grad_norm': 23.111330032348633, 'learning_rate': 1.6000000000000003e-05, 'epoch': 2.0}\n",
      "{'eval_loss': 0.6259269118309021, 'eval_accuracy': 0.93125, 'eval_f1': 0.9174562350500625, 'eval_runtime': 29.0675, 'eval_samples_per_second': 11.009, 'eval_steps_per_second': 1.376, 'epoch': 2.0}\n",
      "{'loss': 0.2827, 'grad_norm': 20.525205612182617, 'learning_rate': 1.4e-05, 'epoch': 3.0}\n",
      "{'eval_loss': 0.4952785074710846, 'eval_accuracy': 0.93125, 'eval_f1': 0.9081455644692477, 'eval_runtime': 6.2331, 'eval_samples_per_second': 51.339, 'eval_steps_per_second': 6.417, 'epoch': 3.0}\n",
      "{'loss': 0.1363, 'grad_norm': 0.23045320808887482, 'learning_rate': 1.2e-05, 'epoch': 4.0}\n",
      "{'eval_loss': 0.7459595203399658, 'eval_accuracy': 0.93125, 'eval_f1': 0.9174562350500625, 'eval_runtime': 7.0838, 'eval_samples_per_second': 45.174, 'eval_steps_per_second': 5.647, 'epoch': 4.0}\n",
      "{'train_runtime': 1279.8662, 'train_samples_per_second': 10.001, 'train_steps_per_second': 1.25, 'train_loss': 0.4574664503335953, 'epoch': 4.0}\n",
      "Training für learning_rate = 2e-05 abgeschlossen in 1280.16 Sekunden.\n",
      "Starte Training für learning_rate = 1e-05\n"
     ]
    },
    {
     "name": "stderr",
     "output_type": "stream",
     "text": [
      "c:\\Users\\hp\\anaconda3\\envs\\crypto_nlp\\lib\\site-packages\\transformers\\training_args.py:1594: FutureWarning: `evaluation_strategy` is deprecated and will be removed in version 4.46 of 🤗 Transformers. Use `eval_strategy` instead\n",
      "  warnings.warn(\n",
      "C:\\Users\\hp\\AppData\\Local\\Temp\\ipykernel_38576\\3254372665.py:3: FutureWarning: `tokenizer` is deprecated and will be removed in version 5.0.0 for `WeightedLossTrainer.__init__`. Use `processing_class` instead.\n",
      "  super().__init__(*args, **kwargs)\n"
     ]
    },
    {
     "name": "stdout",
     "output_type": "stream",
     "text": [
      "{'loss': 1.1087, 'grad_norm': 11.208592414855957, 'learning_rate': 9e-06, 'epoch': 1.0}\n",
      "{'eval_loss': 0.710696816444397, 'eval_accuracy': 0.74375, 'eval_f1': 0.49387741408809815, 'eval_runtime': 7.023, 'eval_samples_per_second': 45.565, 'eval_steps_per_second': 5.696, 'epoch': 1.0}\n",
      "{'loss': 0.5262, 'grad_norm': 12.904236793518066, 'learning_rate': 8.000000000000001e-06, 'epoch': 2.0}\n",
      "{'eval_loss': 0.5446497797966003, 'eval_accuracy': 0.85, 'eval_f1': 0.5678292690825479, 'eval_runtime': 6.7443, 'eval_samples_per_second': 47.447, 'eval_steps_per_second': 5.931, 'epoch': 2.0}\n",
      "{'loss': 0.3725, 'grad_norm': 30.231735229492188, 'learning_rate': 7e-06, 'epoch': 3.0}\n",
      "{'eval_loss': 0.6557273864746094, 'eval_accuracy': 0.871875, 'eval_f1': 0.7563307493540051, 'eval_runtime': 6.7771, 'eval_samples_per_second': 47.218, 'eval_steps_per_second': 5.902, 'epoch': 3.0}\n",
      "{'loss': 0.1807, 'grad_norm': 0.07897846400737762, 'learning_rate': 6e-06, 'epoch': 4.0}\n",
      "{'eval_loss': 0.6821917295455933, 'eval_accuracy': 0.91875, 'eval_f1': 0.8833045175565905, 'eval_runtime': 6.4462, 'eval_samples_per_second': 49.641, 'eval_steps_per_second': 6.205, 'epoch': 4.0}\n",
      "{'loss': 0.1044, 'grad_norm': 0.06094863638281822, 'learning_rate': 5e-06, 'epoch': 5.0}\n",
      "{'eval_loss': 0.5927000641822815, 'eval_accuracy': 0.925, 'eval_f1': 0.9039887030552358, 'eval_runtime': 7.739, 'eval_samples_per_second': 41.349, 'eval_steps_per_second': 5.169, 'epoch': 5.0}\n",
      "{'loss': 0.0734, 'grad_norm': 0.05115930363535881, 'learning_rate': 4.000000000000001e-06, 'epoch': 6.0}\n",
      "{'eval_loss': 0.8497312664985657, 'eval_accuracy': 0.9125, 'eval_f1': 0.8818922136646353, 'eval_runtime': 7.1583, 'eval_samples_per_second': 44.703, 'eval_steps_per_second': 5.588, 'epoch': 6.0}\n",
      "{'loss': 0.0257, 'grad_norm': 20.65021514892578, 'learning_rate': 3e-06, 'epoch': 7.0}\n",
      "{'eval_loss': 0.732906699180603, 'eval_accuracy': 0.925, 'eval_f1': 0.9018678261449015, 'eval_runtime': 6.9502, 'eval_samples_per_second': 46.042, 'eval_steps_per_second': 5.755, 'epoch': 7.0}\n",
      "{'train_runtime': 814.2631, 'train_samples_per_second': 15.72, 'train_steps_per_second': 1.965, 'train_loss': 0.3416508572442191, 'epoch': 7.0}\n",
      "Training für learning_rate = 1e-05 abgeschlossen in 814.53 Sekunden.\n",
      "Starte Training für learning_rate = 5e-06\n"
     ]
    },
    {
     "name": "stderr",
     "output_type": "stream",
     "text": [
      "c:\\Users\\hp\\anaconda3\\envs\\crypto_nlp\\lib\\site-packages\\transformers\\training_args.py:1594: FutureWarning: `evaluation_strategy` is deprecated and will be removed in version 4.46 of 🤗 Transformers. Use `eval_strategy` instead\n",
      "  warnings.warn(\n",
      "C:\\Users\\hp\\AppData\\Local\\Temp\\ipykernel_38576\\3254372665.py:3: FutureWarning: `tokenizer` is deprecated and will be removed in version 5.0.0 for `WeightedLossTrainer.__init__`. Use `processing_class` instead.\n",
      "  super().__init__(*args, **kwargs)\n"
     ]
    },
    {
     "name": "stdout",
     "output_type": "stream",
     "text": [
      "{'loss': 1.2907, 'grad_norm': 14.7532377243042, 'learning_rate': 4.5e-06, 'epoch': 1.0}\n",
      "{'eval_loss': 0.8349837064743042, 'eval_accuracy': 0.684375, 'eval_f1': 0.45325072832540475, 'eval_runtime': 6.4918, 'eval_samples_per_second': 49.293, 'eval_steps_per_second': 6.162, 'epoch': 1.0}\n",
      "{'loss': 0.6735, 'grad_norm': 22.513526916503906, 'learning_rate': 4.000000000000001e-06, 'epoch': 2.0}\n",
      "{'eval_loss': 0.7582460641860962, 'eval_accuracy': 0.740625, 'eval_f1': 0.4682596605136336, 'eval_runtime': 10.2222, 'eval_samples_per_second': 31.305, 'eval_steps_per_second': 3.913, 'epoch': 2.0}\n",
      "{'loss': 0.4774, 'grad_norm': 28.414152145385742, 'learning_rate': 3.5e-06, 'epoch': 3.0}\n",
      "{'eval_loss': 0.6980043649673462, 'eval_accuracy': 0.846875, 'eval_f1': 0.5568612680477087, 'eval_runtime': 6.9427, 'eval_samples_per_second': 46.091, 'eval_steps_per_second': 5.761, 'epoch': 3.0}\n",
      "{'loss': 0.3618, 'grad_norm': 1.4931193590164185, 'learning_rate': 3e-06, 'epoch': 4.0}\n",
      "{'eval_loss': 0.7176895141601562, 'eval_accuracy': 0.871875, 'eval_f1': 0.7160488105850163, 'eval_runtime': 8.3169, 'eval_samples_per_second': 38.476, 'eval_steps_per_second': 4.809, 'epoch': 4.0}\n",
      "{'loss': 0.3356, 'grad_norm': 1.1804041862487793, 'learning_rate': 2.5e-06, 'epoch': 5.0}\n",
      "{'eval_loss': 0.6946869492530823, 'eval_accuracy': 0.8625, 'eval_f1': 0.7131354526471908, 'eval_runtime': 6.8572, 'eval_samples_per_second': 46.666, 'eval_steps_per_second': 5.833, 'epoch': 5.0}\n",
      "{'loss': 0.2746, 'grad_norm': 1.065772294998169, 'learning_rate': 2.0000000000000003e-06, 'epoch': 6.0}\n",
      "{'eval_loss': 0.9054222106933594, 'eval_accuracy': 0.871875, 'eval_f1': 0.7160488105850163, 'eval_runtime': 8.6778, 'eval_samples_per_second': 36.876, 'eval_steps_per_second': 4.609, 'epoch': 6.0}\n",
      "{'train_runtime': 1016.7061, 'train_samples_per_second': 12.59, 'train_steps_per_second': 1.574, 'train_loss': 0.5689102411270142, 'epoch': 6.0}\n",
      "Training für learning_rate = 5e-06 abgeschlossen in 1016.95 Sekunden.\n",
      "Starte Training für learning_rate = 3e-06\n"
     ]
    },
    {
     "name": "stderr",
     "output_type": "stream",
     "text": [
      "c:\\Users\\hp\\anaconda3\\envs\\crypto_nlp\\lib\\site-packages\\transformers\\training_args.py:1594: FutureWarning: `evaluation_strategy` is deprecated and will be removed in version 4.46 of 🤗 Transformers. Use `eval_strategy` instead\n",
      "  warnings.warn(\n",
      "C:\\Users\\hp\\AppData\\Local\\Temp\\ipykernel_38576\\3254372665.py:3: FutureWarning: `tokenizer` is deprecated and will be removed in version 5.0.0 for `WeightedLossTrainer.__init__`. Use `processing_class` instead.\n",
      "  super().__init__(*args, **kwargs)\n"
     ]
    },
    {
     "name": "stdout",
     "output_type": "stream",
     "text": [
      "{'loss': 1.5105, 'grad_norm': 16.062274932861328, 'learning_rate': 2.7e-06, 'epoch': 1.0}\n",
      "{'eval_loss': 0.9154825210571289, 'eval_accuracy': 0.621875, 'eval_f1': 0.41242509566096314, 'eval_runtime': 7.2489, 'eval_samples_per_second': 44.144, 'eval_steps_per_second': 5.518, 'epoch': 1.0}\n",
      "{'loss': 0.744, 'grad_norm': 26.346134185791016, 'learning_rate': 2.4000000000000003e-06, 'epoch': 2.0}\n",
      "{'eval_loss': 0.8555622100830078, 'eval_accuracy': 0.709375, 'eval_f1': 0.4460128533018559, 'eval_runtime': 7.0903, 'eval_samples_per_second': 45.132, 'eval_steps_per_second': 5.642, 'epoch': 2.0}\n",
      "{'loss': 0.6153, 'grad_norm': 21.062833786010742, 'learning_rate': 2.1e-06, 'epoch': 3.0}\n",
      "{'eval_loss': 0.792628288269043, 'eval_accuracy': 0.725, 'eval_f1': 0.4793349958437241, 'eval_runtime': 6.5139, 'eval_samples_per_second': 49.125, 'eval_steps_per_second': 6.141, 'epoch': 3.0}\n",
      "{'loss': 0.5125, 'grad_norm': 32.151973724365234, 'learning_rate': 1.8e-06, 'epoch': 4.0}\n",
      "{'eval_loss': 0.7467702031135559, 'eval_accuracy': 0.759375, 'eval_f1': 0.49283825341933013, 'eval_runtime': 7.0449, 'eval_samples_per_second': 45.423, 'eval_steps_per_second': 5.678, 'epoch': 4.0}\n",
      "{'loss': 0.4249, 'grad_norm': 9.410526275634766, 'learning_rate': 1.5e-06, 'epoch': 5.0}\n",
      "{'eval_loss': 0.6774209141731262, 'eval_accuracy': 0.815625, 'eval_f1': 0.6863244363858506, 'eval_runtime': 6.9984, 'eval_samples_per_second': 45.725, 'eval_steps_per_second': 5.716, 'epoch': 5.0}\n",
      "{'loss': 0.3635, 'grad_norm': 3.4823038578033447, 'learning_rate': 1.2000000000000002e-06, 'epoch': 6.0}\n",
      "{'eval_loss': 0.7331172227859497, 'eval_accuracy': 0.84375, 'eval_f1': 0.7008978889382623, 'eval_runtime': 6.9356, 'eval_samples_per_second': 46.139, 'eval_steps_per_second': 5.767, 'epoch': 6.0}\n",
      "{'loss': 0.351, 'grad_norm': 18.346878051757812, 'learning_rate': 9e-07, 'epoch': 7.0}\n",
      "{'eval_loss': 0.681647777557373, 'eval_accuracy': 0.846875, 'eval_f1': 0.7011974380395433, 'eval_runtime': 6.9107, 'eval_samples_per_second': 46.305, 'eval_steps_per_second': 5.788, 'epoch': 7.0}\n",
      "{'loss': 0.3257, 'grad_norm': 4.333110332489014, 'learning_rate': 6.000000000000001e-07, 'epoch': 8.0}\n",
      "{'eval_loss': 0.711297333240509, 'eval_accuracy': 0.853125, 'eval_f1': 0.7115462606732214, 'eval_runtime': 6.9306, 'eval_samples_per_second': 46.172, 'eval_steps_per_second': 5.772, 'epoch': 8.0}\n",
      "{'loss': 0.2902, 'grad_norm': 20.245927810668945, 'learning_rate': 3.0000000000000004e-07, 'epoch': 9.0}\n",
      "{'eval_loss': 0.7333810329437256, 'eval_accuracy': 0.85625, 'eval_f1': 0.714378402005177, 'eval_runtime': 7.0291, 'eval_samples_per_second': 45.525, 'eval_steps_per_second': 5.691, 'epoch': 9.0}\n",
      "{'loss': 0.3004, 'grad_norm': 32.53742980957031, 'learning_rate': 0.0, 'epoch': 10.0}\n",
      "{'eval_loss': 0.7089515924453735, 'eval_accuracy': 0.853125, 'eval_f1': 0.7126543209876542, 'eval_runtime': 7.3769, 'eval_samples_per_second': 43.379, 'eval_steps_per_second': 5.422, 'epoch': 10.0}\n",
      "{'train_runtime': 1166.0777, 'train_samples_per_second': 10.977, 'train_steps_per_second': 1.372, 'train_loss': 0.54380779504776, 'epoch': 10.0}\n",
      "Training für learning_rate = 3e-06 abgeschlossen in 1166.38 Sekunden.\n",
      "Starte Training für learning_rate = 1e-06\n"
     ]
    },
    {
     "name": "stderr",
     "output_type": "stream",
     "text": [
      "c:\\Users\\hp\\anaconda3\\envs\\crypto_nlp\\lib\\site-packages\\transformers\\training_args.py:1594: FutureWarning: `evaluation_strategy` is deprecated and will be removed in version 4.46 of 🤗 Transformers. Use `eval_strategy` instead\n",
      "  warnings.warn(\n",
      "C:\\Users\\hp\\AppData\\Local\\Temp\\ipykernel_38576\\3254372665.py:3: FutureWarning: `tokenizer` is deprecated and will be removed in version 5.0.0 for `WeightedLossTrainer.__init__`. Use `processing_class` instead.\n",
      "  super().__init__(*args, **kwargs)\n"
     ]
    },
    {
     "name": "stdout",
     "output_type": "stream",
     "text": [
      "{'loss': 2.4044, 'grad_norm': 22.373228073120117, 'learning_rate': 9e-07, 'epoch': 1.0}\n",
      "{'eval_loss': 1.469586968421936, 'eval_accuracy': 0.540625, 'eval_f1': 0.3555232124197641, 'eval_runtime': 6.9291, 'eval_samples_per_second': 46.182, 'eval_steps_per_second': 5.773, 'epoch': 1.0}\n",
      "{'loss': 1.1053, 'grad_norm': 45.30955123901367, 'learning_rate': 8e-07, 'epoch': 2.0}\n",
      "{'eval_loss': 1.1040575504302979, 'eval_accuracy': 0.621875, 'eval_f1': 0.4104654582546898, 'eval_runtime': 6.9999, 'eval_samples_per_second': 45.715, 'eval_steps_per_second': 5.714, 'epoch': 2.0}\n",
      "{'loss': 0.8602, 'grad_norm': 30.846546173095703, 'learning_rate': 7e-07, 'epoch': 3.0}\n",
      "{'eval_loss': 0.9920867085456848, 'eval_accuracy': 0.646875, 'eval_f1': 0.4250570146398882, 'eval_runtime': 7.049, 'eval_samples_per_second': 45.396, 'eval_steps_per_second': 5.675, 'epoch': 3.0}\n",
      "{'loss': 0.7607, 'grad_norm': 33.39458465576172, 'learning_rate': 6e-07, 'epoch': 4.0}\n",
      "{'eval_loss': 0.937159538269043, 'eval_accuracy': 0.665625, 'eval_f1': 0.4330497089117779, 'eval_runtime': 7.0041, 'eval_samples_per_second': 45.687, 'eval_steps_per_second': 5.711, 'epoch': 4.0}\n",
      "{'loss': 0.7546, 'grad_norm': 24.30194091796875, 'learning_rate': 5e-07, 'epoch': 5.0}\n",
      "{'eval_loss': 0.9063435792922974, 'eval_accuracy': 0.6625, 'eval_f1': 0.4368159634988016, 'eval_runtime': 7.0156, 'eval_samples_per_second': 45.613, 'eval_steps_per_second': 5.702, 'epoch': 5.0}\n",
      "{'loss': 0.6993, 'grad_norm': 19.426023483276367, 'learning_rate': 4e-07, 'epoch': 6.0}\n",
      "{'eval_loss': 0.8932104110717773, 'eval_accuracy': 0.6875, 'eval_f1': 0.44801490278262895, 'eval_runtime': 7.0068, 'eval_samples_per_second': 45.67, 'eval_steps_per_second': 5.709, 'epoch': 6.0}\n",
      "{'loss': 0.6535, 'grad_norm': 11.677618980407715, 'learning_rate': 3e-07, 'epoch': 7.0}\n",
      "{'eval_loss': 0.8752422332763672, 'eval_accuracy': 0.684375, 'eval_f1': 0.4494716968633036, 'eval_runtime': 6.9794, 'eval_samples_per_second': 45.849, 'eval_steps_per_second': 5.731, 'epoch': 7.0}\n",
      "{'loss': 0.6501, 'grad_norm': 26.287858963012695, 'learning_rate': 2e-07, 'epoch': 8.0}\n",
      "{'eval_loss': 0.8739404678344727, 'eval_accuracy': 0.696875, 'eval_f1': 0.456160735899298, 'eval_runtime': 7.0145, 'eval_samples_per_second': 45.62, 'eval_steps_per_second': 5.702, 'epoch': 8.0}\n",
      "{'loss': 0.6253, 'grad_norm': 34.35606002807617, 'learning_rate': 1e-07, 'epoch': 9.0}\n",
      "{'eval_loss': 0.8700925707817078, 'eval_accuracy': 0.696875, 'eval_f1': 0.4552672223905101, 'eval_runtime': 7.0155, 'eval_samples_per_second': 45.613, 'eval_steps_per_second': 5.702, 'epoch': 9.0}\n",
      "{'loss': 0.6177, 'grad_norm': 21.57148551940918, 'learning_rate': 0.0, 'epoch': 10.0}\n",
      "{'eval_loss': 0.8686388731002808, 'eval_accuracy': 0.69375, 'eval_f1': 0.452464472027343, 'eval_runtime': 7.4679, 'eval_samples_per_second': 42.85, 'eval_steps_per_second': 5.356, 'epoch': 10.0}\n",
      "{'train_runtime': 970.094, 'train_samples_per_second': 13.195, 'train_steps_per_second': 1.649, 'train_loss': 0.9131175518035889, 'epoch': 10.0}\n",
      "Training für learning_rate = 1e-06 abgeschlossen in 970.34 Sekunden.\n"
     ]
    }
   ],
   "source": [
    "results = {}  # Dictionary zum Speichern der Ergebnisse für jede Lernrate\n",
    "lrs = [2e-5, 1e-5, 5e-6, 3e-6, 1e-6]  # Liste der Lernraten, die getestet werden sollen\n",
    "\n",
    "for lr in lrs:\n",
    "    print(f\"Starte Training für learning_rate = {lr}\")  # Fortschrittsanzeige\n",
    "\n",
    "    # Modell für jede Lernrate neu laden (sonst Verfälschung!)\n",
    "    model = AutoModelForSequenceClassification.from_pretrained(\"yiyanghkust/finbert-tone\", num_labels=3)\n",
    "\n",
    "    output_dir = os.path.join(MODEL_PATHS[\"finbert_posts\"], f\"finetuned_lr_{lr}\")\n",
    "    logging_dir = os.path.join(\"../../logs/finbert_posts\", f\"lr_{lr}\")\n",
    "    os.makedirs(output_dir, exist_ok=True)\n",
    "    os.makedirs(logging_dir, exist_ok=True)\n",
    "\n",
    "    # Trainingskonfiguration für HuggingFace Trainer\n",
    "    training_args = TrainingArguments(\n",
    "        output_dir=output_dir,                      # Wohin das Modell gespeichert wird\n",
    "        evaluation_strategy=\"epoch\",                # Evaluation nach jeder Epoche\n",
    "        save_strategy=\"epoch\",                      # Modell speichern nach jeder Epoche\n",
    "        learning_rate=lr,                           # Aktuelle Lernrate aus der Schleife\n",
    "        per_device_train_batch_size=8,              # Batch-Größe für Training\n",
    "        per_device_eval_batch_size=8,               # Batch-Größe für Evaluation\n",
    "        num_train_epochs=10,                        # Max. Anzahl der Epochen\n",
    "        weight_decay=0.01,                          # Gewichtung für L2-Regularisierung\n",
    "        load_best_model_at_end=True,                # Bestes Modell basierend auf F1 automatisch laden\n",
    "        metric_for_best_model=\"f1\",                 # F1 als Auswahlkriterium für das beste Modell\n",
    "        logging_dir=logging_dir,                    # Speicherort für TensorBoard/Logs\n",
    "        logging_strategy=\"epoch\",                   # Logging-Strategie: nach jeder Epoche\n",
    "        report_to=\"none\",                           # Keine externe Logging-Plattform (z. B. wandb)\n",
    "        remove_unused_columns=False,                # Wichtig bei Custom Loss: alle Features behalten\n",
    "        disable_tqdm=True                           # Kein Fortschrittsbalken\n",
    "    )\n",
    "\n",
    "    # Trainer mit Custom Loss (z. B. gewichteter CrossEntropy oder Focal Loss)\n",
    "    trainer = WeightedLossTrainer(\n",
    "        model=model,                                # FinBERT-Modell\n",
    "        args=training_args,                         # Trainingsargumente\n",
    "        train_dataset=train_ds,                     # Trainingsdaten\n",
    "        eval_dataset=val_ds,                        # Validierungsdaten\n",
    "        tokenizer=tokenizer,                        # Tokenizer für Preprocessing\n",
    "        compute_metrics=compute_metrics,            # Funktion zur Berechnung von Accuracy & F1\n",
    "        loss_fn=loss_fn,                            # Loss-Funktion mit class weights\n",
    "        callbacks=[EarlyStoppingCallback(early_stopping_patience=2)]  # Frühzeitiger Abbruch\n",
    "    )\n",
    "\n",
    "    # Trainingszeit messen\n",
    "    start = time.time()\n",
    "    trainer.train()\n",
    "    end = time.time()\n",
    "\n",
    "    # Lernkurve extrahieren: nur eval_f1-Werte\n",
    "    logs = trainer.state.log_history\n",
    "    epoch_logs = [log for log in logs if \"eval_f1\" in log]\n",
    "    df = pd.DataFrame(epoch_logs)[[\"epoch\", \"eval_f1\"]]\n",
    "    df[\"learning_rate\"] = lr  # Lernrate zur Kurve hinzufügen\n",
    "\n",
    "    # Ergebnisse in Dictionary speichern\n",
    "    results[lr] = {\n",
    "        \"f1_curve\": df,                         # F1-Verlauf pro Epoche\n",
    "        \"best_f1\": df[\"eval_f1\"].max(),         # Bester F1-Wert\n",
    "        \"trainer\": trainer                      # Referenz auf den Trainer\n",
    "    }\n",
    "\n",
    "    print(f\"Training für learning_rate = {lr} abgeschlossen in {end - start:.2f} Sekunden.\")\n"
   ]
  },
  {
   "cell_type": "markdown",
   "id": "9df59077",
   "metadata": {},
   "source": [
    "## Evaluation"
   ]
  },
  {
   "cell_type": "markdown",
   "id": "3f971015",
   "metadata": {},
   "source": [
    "### Plot"
   ]
  },
  {
   "cell_type": "code",
   "execution_count": 15,
   "id": "0cfe48ba",
   "metadata": {},
   "outputs": [
    {
     "name": "stderr",
     "output_type": "stream",
     "text": [
      "C:\\Users\\hp\\AppData\\Local\\Temp\\ipykernel_38576\\239583412.py:12: UserWarning: Glyph 128200 (\\N{CHART WITH UPWARDS TREND}) missing from font(s) DejaVu Sans.\n",
      "  plt.tight_layout()\n",
      "c:\\Users\\hp\\anaconda3\\envs\\crypto_nlp\\lib\\site-packages\\IPython\\core\\pylabtools.py:152: UserWarning: Glyph 128200 (\\N{CHART WITH UPWARDS TREND}) missing from font(s) DejaVu Sans.\n",
      "  fig.canvas.print_figure(bytes_io, **kw)\n"
     ]
    },
    {
     "data": {
      "image/png": "[encoded data removed]",
      "text/plain": [
       "<Figure size 800x500 with 1 Axes>"
      ]
     },
     "metadata": {},
     "output_type": "display_data"
    }
   ],
   "source": [
    "plt.figure(figsize=(8, 5))\n",
    "\n",
    "for lr, data in results.items():\n",
    "    df = data[\"f1_curve\"]\n",
    "    plt.plot(df[\"epoch\"], df[\"eval_f1\"], marker=\"o\", label=f\"lr={lr}\")\n",
    "\n",
    "plt.title(\"📈 Lernkurven (Validation F1) – FinBERT bei verschiedenen Lernraten\")\n",
    "plt.xlabel(\"Epoche\")\n",
    "plt.ylabel(\"F1 (macro)\")\n",
    "plt.legend()\n",
    "plt.grid(True)\n",
    "plt.tight_layout()\n",
    "plt.show()\n"
   ]
  },
  {
   "cell_type": "code",
   "execution_count": 16,
   "id": "e18d720c",
   "metadata": {},
   "outputs": [
    {
     "name": "stdout",
     "output_type": "stream",
     "text": [
      "lr=2e-05: best_f1=0.9175\n",
      "lr=1e-05: best_f1=0.9040\n",
      "lr=5e-06: best_f1=0.7160\n",
      "lr=3e-06: best_f1=0.7144\n",
      "lr=1e-06: best_f1=0.4562\n"
     ]
    }
   ],
   "source": [
    "for lr, res in results.items():\n",
    "    print(f\"lr={lr}: best_f1={res['best_f1']:.4f}\")\n"
   ]
  },
  {
   "cell_type": "code",
   "execution_count": 17,
   "id": "d47b9f8b",
   "metadata": {},
   "outputs": [
    {
     "name": "stdout",
     "output_type": "stream",
     "text": [
      "\n",
      "🏆 Beste Lernrate: 2e-05 mit F1 = 0.9175\n"
     ]
    }
   ],
   "source": [
    "# Beste Lernrate bestimmen\n",
    "best_lr = max(results.items(), key=lambda x: x[1][\"best_f1\"])[0]\n",
    "best_trainer = results[best_lr][\"trainer\"]\n",
    "\n",
    "print(f\"\\n🏆 Beste Lernrate: {best_lr} mit F1 = {results[best_lr]['best_f1']:.4f}\")\n"
   ]
  },
  {
   "cell_type": "markdown",
   "id": "37b1f409",
   "metadata": {},
   "source": [
    "### Evaluation des besten Modells auf dem separaten Testset"
   ]
  },
  {
   "cell_type": "code",
   "execution_count": 18,
   "id": "3847ec46",
   "metadata": {},
   "outputs": [
    {
     "name": "stdout",
     "output_type": "stream",
     "text": [
      "\n",
      "Evaluation auf Testset:\n",
      "F1-Score (macro): 0.8896\n",
      "Cohen’s Kappa:    0.8515\n",
      "\n",
      "Klassifikationsreport:\n",
      "              precision    recall  f1-score   support\n",
      "\n",
      "           0       0.97      0.84      0.90       122\n",
      "           1       0.92      0.98      0.95       263\n",
      "           2       0.92      0.73      0.81        15\n",
      "\n",
      "    accuracy                           0.93       400\n",
      "   macro avg       0.94      0.85      0.89       400\n",
      "weighted avg       0.93      0.93      0.93       400\n",
      "\n"
     ]
    }
   ],
   "source": [
    "# Vorhersage auf dem Testset\n",
    "test_results = best_trainer.predict(test_ds)\n",
    "\n",
    "# Klassen aus den Logits extrahieren\n",
    "y_pred = test_results.predictions.argmax(axis=1)  # höchste Wahrscheinlichkeit = Vorhersageklasse\n",
    "y_true = test_results.label_ids                   # echte Labels\n",
    "\n",
    "# Hauptmetriken berechnen\n",
    "f1_macro = f1_score(y_true, y_pred, average=\"macro\")           # Durchschnitt über alle Klassen\n",
    "kappa = cohen_kappa_score(y_true, y_pred)                      # Interrater Agreement\n",
    "\n",
    "# Ergebnisse ausgeben\n",
    "print(\"\\nEvaluation auf Testset:\")\n",
    "print(\"F1-Score (macro):\", round(f1_macro, 4))\n",
    "print(\"Cohen’s Kappa:   \", round(kappa, 4))\n",
    "print(\"\\nKlassifikationsreport:\")\n",
    "print(classification_report(y_true, y_pred))"
   ]
  },
  {
   "cell_type": "markdown",
   "id": "25a1f63a",
   "metadata": {},
   "source": [
    "Alle falsch bewerteten Texte"
   ]
  },
  {
   "cell_type": "code",
   "execution_count": 19,
   "id": "f84e603f",
   "metadata": {},
   "outputs": [
    {
     "data": {
      "text/html": [
       "<div>\n",
       "<style scoped>\n",
       "    .dataframe tbody tr th:only-of-type {\n",
       "        vertical-align: middle;\n",
       "    }\n",
       "\n",
       "    .dataframe tbody tr th {\n",
       "        vertical-align: top;\n",
       "    }\n",
       "\n",
       "    .dataframe thead th {\n",
       "        text-align: right;\n",
       "    }\n",
       "</style>\n",
       "<table border=\"1\" class=\"dataframe\">\n",
       "  <thead>\n",
       "    <tr style=\"text-align: right;\">\n",
       "      <th></th>\n",
       "      <th>text</th>\n",
       "      <th>true</th>\n",
       "      <th>predicted</th>\n",
       "    </tr>\n",
       "  </thead>\n",
       "  <tbody>\n",
       "    <tr>\n",
       "      <th>11</th>\n",
       "      <td>I’ve been ignoring crypto for a couple of year...</td>\n",
       "      <td>1</td>\n",
       "      <td>0</td>\n",
       "    </tr>\n",
       "    <tr>\n",
       "      <th>33</th>\n",
       "      <td>Lot of people follow crypto fear and greed ind...</td>\n",
       "      <td>0</td>\n",
       "      <td>1</td>\n",
       "    </tr>\n",
       "    <tr>\n",
       "      <th>55</th>\n",
       "      <td>Does anyone know which exchange I can buy Cook...</td>\n",
       "      <td>1</td>\n",
       "      <td>0</td>\n",
       "    </tr>\n",
       "    <tr>\n",
       "      <th>61</th>\n",
       "      <td>Whats up fellow Bronuts.\\n\\n\\n\\nYou got a nice...</td>\n",
       "      <td>0</td>\n",
       "      <td>1</td>\n",
       "    </tr>\n",
       "    <tr>\n",
       "      <th>72</th>\n",
       "      <td>Welcome to the Daily General Discussion thread...</td>\n",
       "      <td>0</td>\n",
       "      <td>1</td>\n",
       "    </tr>\n",
       "    <tr>\n",
       "      <th>77</th>\n",
       "      <td>You won't believe how popular Polymarket, a de...</td>\n",
       "      <td>1</td>\n",
       "      <td>0</td>\n",
       "    </tr>\n",
       "    <tr>\n",
       "      <th>91</th>\n",
       "      <td>I've been trying to research what's the best p...</td>\n",
       "      <td>1</td>\n",
       "      <td>2</td>\n",
       "    </tr>\n",
       "    <tr>\n",
       "      <th>123</th>\n",
       "      <td>Looking for hidden gems is always a gamble; bu...</td>\n",
       "      <td>0</td>\n",
       "      <td>1</td>\n",
       "    </tr>\n",
       "    <tr>\n",
       "      <th>173</th>\n",
       "      <td>I have been in crypto since 2017. I made plent...</td>\n",
       "      <td>0</td>\n",
       "      <td>1</td>\n",
       "    </tr>\n",
       "    <tr>\n",
       "      <th>177</th>\n",
       "      <td>Based on a vision i had after microdosing, i'v...</td>\n",
       "      <td>2</td>\n",
       "      <td>1</td>\n",
       "    </tr>\n",
       "    <tr>\n",
       "      <th>190</th>\n",
       "      <td>What is the Rational Valuation of Bitcoin in t...</td>\n",
       "      <td>0</td>\n",
       "      <td>1</td>\n",
       "    </tr>\n",
       "    <tr>\n",
       "      <th>199</th>\n",
       "      <td>Over 1,000,000 internal messages from a major ...</td>\n",
       "      <td>0</td>\n",
       "      <td>1</td>\n",
       "    </tr>\n",
       "    <tr>\n",
       "      <th>211</th>\n",
       "      <td>Here’s the hard truth about investing:\\n\\n*You...</td>\n",
       "      <td>0</td>\n",
       "      <td>1</td>\n",
       "    </tr>\n",
       "    <tr>\n",
       "      <th>223</th>\n",
       "      <td>​Navigating the Bitcoin market in 2025 require...</td>\n",
       "      <td>0</td>\n",
       "      <td>1</td>\n",
       "    </tr>\n",
       "    <tr>\n",
       "      <th>239</th>\n",
       "      <td>\\nHello, I'm currently facing an issue with sw...</td>\n",
       "      <td>0</td>\n",
       "      <td>1</td>\n",
       "    </tr>\n",
       "    <tr>\n",
       "      <th>242</th>\n",
       "      <td>Based on a vision i had after microdosing, i'v...</td>\n",
       "      <td>2</td>\n",
       "      <td>1</td>\n",
       "    </tr>\n",
       "    <tr>\n",
       "      <th>263</th>\n",
       "      <td>Hi guys I'm new to bitcoin, well...Ive wanted ...</td>\n",
       "      <td>0</td>\n",
       "      <td>1</td>\n",
       "    </tr>\n",
       "    <tr>\n",
       "      <th>266</th>\n",
       "      <td>What distinguishes Algorand is its ability to ...</td>\n",
       "      <td>0</td>\n",
       "      <td>1</td>\n",
       "    </tr>\n",
       "    <tr>\n",
       "      <th>281</th>\n",
       "      <td>This is BIG news, even coinbase knows how unde...</td>\n",
       "      <td>0</td>\n",
       "      <td>1</td>\n",
       "    </tr>\n",
       "    <tr>\n",
       "      <th>296</th>\n",
       "      <td>With the news of bitcoin soaring, I feel like ...</td>\n",
       "      <td>0</td>\n",
       "      <td>1</td>\n",
       "    </tr>\n",
       "    <tr>\n",
       "      <th>301</th>\n",
       "      <td>This is our first time interacting with the r/...</td>\n",
       "      <td>0</td>\n",
       "      <td>1</td>\n",
       "    </tr>\n",
       "    <tr>\n",
       "      <th>303</th>\n",
       "      <td>Trump and his \"associates\" probably shorted th...</td>\n",
       "      <td>2</td>\n",
       "      <td>1</td>\n",
       "    </tr>\n",
       "    <tr>\n",
       "      <th>342</th>\n",
       "      <td>This sub is drowning in unicorn fart garbage, ...</td>\n",
       "      <td>2</td>\n",
       "      <td>1</td>\n",
       "    </tr>\n",
       "    <tr>\n",
       "      <th>351</th>\n",
       "      <td>14 years ago, most people laughed.\\nSome still...</td>\n",
       "      <td>0</td>\n",
       "      <td>1</td>\n",
       "    </tr>\n",
       "    <tr>\n",
       "      <th>374</th>\n",
       "      <td>BNB’s recent run has been impressive. It has f...</td>\n",
       "      <td>0</td>\n",
       "      <td>1</td>\n",
       "    </tr>\n",
       "    <tr>\n",
       "      <th>381</th>\n",
       "      <td>Please find below the list of 10 security test...</td>\n",
       "      <td>0</td>\n",
       "      <td>1</td>\n",
       "    </tr>\n",
       "    <tr>\n",
       "      <th>388</th>\n",
       "      <td>Hi All,\\n\\nI have followed crypto relatively s...</td>\n",
       "      <td>0</td>\n",
       "      <td>1</td>\n",
       "    </tr>\n",
       "  </tbody>\n",
       "</table>\n",
       "</div>"
      ],
      "text/plain": [
       "                                                  text  true  predicted\n",
       "11   I’ve been ignoring crypto for a couple of year...     1          0\n",
       "33   Lot of people follow crypto fear and greed ind...     0          1\n",
       "55   Does anyone know which exchange I can buy Cook...     1          0\n",
       "61   Whats up fellow Bronuts.\\n\\n\\n\\nYou got a nice...     0          1\n",
       "72   Welcome to the Daily General Discussion thread...     0          1\n",
       "77   You won't believe how popular Polymarket, a de...     1          0\n",
       "91   I've been trying to research what's the best p...     1          2\n",
       "123  Looking for hidden gems is always a gamble; bu...     0          1\n",
       "173  I have been in crypto since 2017. I made plent...     0          1\n",
       "177  Based on a vision i had after microdosing, i'v...     2          1\n",
       "190  What is the Rational Valuation of Bitcoin in t...     0          1\n",
       "199  Over 1,000,000 internal messages from a major ...     0          1\n",
       "211  Here’s the hard truth about investing:\\n\\n*You...     0          1\n",
       "223  ​Navigating the Bitcoin market in 2025 require...     0          1\n",
       "239  \\nHello, I'm currently facing an issue with sw...     0          1\n",
       "242  Based on a vision i had after microdosing, i'v...     2          1\n",
       "263  Hi guys I'm new to bitcoin, well...Ive wanted ...     0          1\n",
       "266  What distinguishes Algorand is its ability to ...     0          1\n",
       "281  This is BIG news, even coinbase knows how unde...     0          1\n",
       "296  With the news of bitcoin soaring, I feel like ...     0          1\n",
       "301  This is our first time interacting with the r/...     0          1\n",
       "303  Trump and his \"associates\" probably shorted th...     2          1\n",
       "342  This sub is drowning in unicorn fart garbage, ...     2          1\n",
       "351  14 years ago, most people laughed.\\nSome still...     0          1\n",
       "374  BNB’s recent run has been impressive. It has f...     0          1\n",
       "381  Please find below the list of 10 security test...     0          1\n",
       "388  Hi All,\\n\\nI have followed crypto relatively s...     0          1"
      ]
     },
     "execution_count": 19,
     "metadata": {},
     "output_type": "execute_result"
    }
   ],
   "source": [
    "wrong = [(i, p, t) for i, (p, t) in enumerate(zip(y_pred, y_true)) if p != t]\n",
    "wrong_df = test_df.iloc[[i for i, _, _ in wrong]].copy()\n",
    "wrong_df[\"predicted\"] = [p for _, p, _ in wrong]\n",
    "wrong_df[\"true\"] = [t for _, _, t in wrong]\n",
    "\n",
    "wrong_df[[\"text\", \"true\", \"predicted\"]].head(100)\n"
   ]
  }
 ],
 "metadata": {
  "kernelspec": {
   "display_name": "crypto_nlp",
   "language": "python",
   "name": "python3"
  },
  "language_info": {
   "codemirror_mode": {
    "name": "ipython",
    "version": 3
   },
   "file_extension": ".py",
   "mimetype": "text/x-python",
   "name": "python",
   "nbconvert_exporter": "python",
   "pygments_lexer": "ipython3",
   "version": "3.9.21"
  }
 },
 "nbformat": 4,
 "nbformat_minor": 5
}
