{
 "cells": [
  {
   "cell_type": "code",
   "execution_count": 2,
   "id": "2883ed90",
   "metadata": {},
   "outputs": [
    {
     "name": "stderr",
     "output_type": "stream",
     "text": [
      "c:\\Users\\hp\\anaconda3\\envs\\crypto_nlp\\lib\\site-packages\\tqdm\\auto.py:21: TqdmWarning: IProgress not found. Please update jupyter and ipywidgets. See https://ipywidgets.readthedocs.io/en/stable/user_install.html\n",
      "  from .autonotebook import tqdm as notebook_tqdm\n"
     ]
    }
   ],
   "source": [
    "import os\n",
    "import torch\n",
    "import pandas as pd\n",
    "from sklearn.model_selection import train_test_split\n",
    "from datasets import Dataset\n",
    "from transformers import DebertaV2Tokenizer, AutoModelForSequenceClassification, Trainer, TrainingArguments, AutoTokenizer, EarlyStoppingCallback\n",
    "import evaluate\n",
    "import numpy as np\n",
    "import torch\n",
    "from sklearn.metrics import accuracy_score, f1_score\n",
    "import matplotlib.pyplot as plt\n",
    "import seaborn as sns\n",
    "import time\n",
    "import pandas as pd\n",
    "from transformers import AutoModelForSequenceClassification, Trainer, TrainingArguments\n",
    "import transformers\n",
    "import warnings"
   ]
  },
  {
   "cell_type": "code",
   "execution_count": 3,
   "id": "5d9d30a2",
   "metadata": {},
   "outputs": [
    {
     "name": "stdout",
     "output_type": "stream",
     "text": [
      "Using cuda device\n"
     ]
    }
   ],
   "source": [
    "# Cuda pruefen\n",
    "device = \"cuda\" if torch.cuda.is_available() else \"cpu\"\n",
    "print(\"Using {} device\".format(device))"
   ]
  },
  {
   "cell_type": "code",
   "execution_count": 4,
   "id": "9dc8078f",
   "metadata": {},
   "outputs": [],
   "source": [
    "DATA_PATH = '../../data/processed/'"
   ]
  },
  {
   "cell_type": "code",
   "execution_count": 5,
   "id": "399aef36",
   "metadata": {},
   "outputs": [],
   "source": [
    "df_comments = pd.read_csv(os.path.join(DATA_PATH, 'labeled_posts.csv')).rename(columns={'post_id': 'id'})\n",
    "df_comment = pd.read_csv(os.path.join(DATA_PATH, 'labeled_post.csv')).rename(columns={'post_id': 'id'})\n",
    "\n",
    "df_all_comments = pd.concat([df_comments, df_comment], ignore_index=True)\n",
    "df_all_comments = df_all_comments[['id', 'text', 'label']].dropna()\n",
    "df_all_comments['label'] = df_all_comments['label'].astype(int)\n"
   ]
  },
  {
   "cell_type": "code",
   "execution_count": 6,
   "id": "e2b88ef6",
   "metadata": {},
   "outputs": [
    {
     "name": "stdout",
     "output_type": "stream",
     "text": [
      "✅ Splits erzeugt:\n",
      "- Train: 178\n",
      "- Val:   60\n",
      "- Test:  60\n"
     ]
    }
   ],
   "source": [
    "# Stratifizierter Split\n",
    "trainval_df, test_df = train_test_split(\n",
    "    df_all_comments,\n",
    "    test_size=0.2,\n",
    "    stratify=df_all_comments[\"label\"],\n",
    "    random_state=42\n",
    ")\n",
    "\n",
    "train_df, val_df = train_test_split(\n",
    "    trainval_df,\n",
    "    test_size=0.25,  # 0.25 * 0.8 = 0.2 → 60/20/20 Split\n",
    "    stratify=trainval_df[\"label\"],\n",
    "    random_state=42\n",
    ")\n",
    "\n",
    "# Indizes zurücksetzen\n",
    "train_df = train_df.reset_index(drop=True)\n",
    "val_df = val_df.reset_index(drop=True)\n",
    "test_df = test_df.reset_index(drop=True)\n",
    "\n",
    "print(\"✅ Splits erzeugt:\")\n",
    "print(f\"- Train: {len(train_df)}\")\n",
    "print(f\"- Val:   {len(val_df)}\")\n",
    "print(f\"- Test:  {len(test_df)}\")\n"
   ]
  },
  {
   "cell_type": "code",
   "execution_count": 7,
   "id": "ac8338f6",
   "metadata": {},
   "outputs": [
    {
     "name": "stdout",
     "output_type": "stream",
     "text": [
      "Train size: 178\n",
      "Val size: 60\n",
      "Test size: 60\n",
      "Train labels:\n",
      " label\n",
      "1    96\n",
      "0    57\n",
      "2    25\n",
      "Name: count, dtype: int64\n"
     ]
    }
   ],
   "source": [
    "print(f\"Train size: {len(train_df)}\")\n",
    "print(f\"Val size: {len(val_df)}\")\n",
    "print(f\"Test size: {len(test_df)}\")\n",
    "print(\"Train labels:\\n\", train_df[\"label\"].value_counts())\n"
   ]
  },
  {
   "cell_type": "markdown",
   "id": "a6cc7e92",
   "metadata": {},
   "source": [
    "## Weighted Loss"
   ]
  },
  {
   "cell_type": "code",
   "execution_count": 8,
   "id": "925e6b33",
   "metadata": {},
   "outputs": [],
   "source": [
    "from transformers import Trainer\n",
    "\n",
    "class WeightedLossTrainer(Trainer):\n",
    "    def __init__(self, *args, loss_fn=None, **kwargs):\n",
    "        super().__init__(*args, **kwargs)\n",
    "        self.loss_fn = loss_fn\n",
    "\n",
    "    def compute_loss(self, model, inputs, return_outputs=False, **kwargs):  # ✅ **kwargs ergänzt\n",
    "        labels = inputs.pop(\"labels\")\n",
    "        outputs = model(**inputs)\n",
    "        logits = outputs.logits\n",
    "        loss = self.loss_fn(logits, labels)\n",
    "        return (loss, outputs) if return_outputs else loss\n"
   ]
  },
  {
   "cell_type": "code",
   "execution_count": 9,
   "id": "78590f8f",
   "metadata": {},
   "outputs": [],
   "source": [
    "# 🔢 Manuelle Class Weights – hier z. B. stärkerer Fokus auf bearish\n",
    "weights_tensor = torch.tensor([1.0, 2.0, 1.0], dtype=torch.float)\n",
    "device = \"cuda\" if torch.cuda.is_available() else \"cpu\"\n",
    "\n",
    "loss_fn = torch.nn.CrossEntropyLoss(weight=weights_tensor.to(device))\n"
   ]
  },
  {
   "cell_type": "markdown",
   "id": "ab016f68",
   "metadata": {},
   "source": [
    "## Model"
   ]
  },
  {
   "cell_type": "code",
   "execution_count": 10,
   "id": "ac325fa7",
   "metadata": {},
   "outputs": [],
   "source": [
    "EXPERIMENTS_BASE_PATH = \"../../models/experiments/\"\n",
    "\n",
    "MODEL_PATHS = {\n",
    "    \"finbert_posts\": os.path.join(EXPERIMENTS_BASE_PATH, \"finbert_posts\"),\n",
    "}\n",
    "\n",
    "for path in MODEL_PATHS.values():\n",
    "    os.makedirs(path, exist_ok=True)\n"
   ]
  },
  {
   "cell_type": "code",
   "execution_count": 11,
   "id": "d0bba111",
   "metadata": {},
   "outputs": [],
   "source": [
    "tokenizer = AutoTokenizer.from_pretrained(MODEL_PATHS[\"finbert_posts\"])\n",
    "model = AutoModelForSequenceClassification.from_pretrained(MODEL_PATHS[\"finbert_posts\"], num_labels=3)\n"
   ]
  },
  {
   "cell_type": "code",
   "execution_count": 12,
   "id": "bc88a9eb",
   "metadata": {},
   "outputs": [],
   "source": [
    "def tokenize_function(example):\n",
    "    return tokenizer(example[\"text\"], truncation=True, padding=\"max_length\", max_length=256)\n"
   ]
  },
  {
   "cell_type": "code",
   "execution_count": 13,
   "id": "08c15908",
   "metadata": {},
   "outputs": [
    {
     "name": "stderr",
     "output_type": "stream",
     "text": [
      "Map: 100%|██████████| 178/178 [00:00<00:00, 2479.76 examples/s]\n",
      "Map: 100%|██████████| 60/60 [00:00<00:00, 1787.70 examples/s]\n",
      "Map: 100%|██████████| 60/60 [00:00<00:00, 13335.01 examples/s]\n"
     ]
    }
   ],
   "source": [
    "# Tokenisierung\n",
    "train_ds = Dataset.from_pandas(train_df).map(tokenize_function, batched=True)\n",
    "val_ds = Dataset.from_pandas(val_df).map(tokenize_function, batched=True)\n",
    "test_ds = Dataset.from_pandas(test_df).map(tokenize_function, batched=True)\n",
    "\n",
    "# Format setzen – Korrekt pro Dataset!\n",
    "train_ds = train_ds.rename_column(\"label\", \"labels\")\n",
    "val_ds = val_ds.rename_column(\"label\", \"labels\")\n",
    "test_ds = test_ds.rename_column(\"label\", \"labels\")\n",
    "\n",
    "train_ds.set_format(\"torch\", columns=[\"input_ids\", \"attention_mask\", \"labels\"])\n",
    "val_ds.set_format(\"torch\", columns=[\"input_ids\", \"attention_mask\", \"labels\"])\n",
    "test_ds.set_format(\"torch\", columns=[\"input_ids\", \"attention_mask\", \"labels\"])\n"
   ]
  },
  {
   "cell_type": "code",
   "execution_count": 14,
   "id": "73a4dd4a",
   "metadata": {},
   "outputs": [],
   "source": [
    "def compute_metrics(eval_pred):\n",
    "    logits, labels = eval_pred\n",
    "    preds = logits.argmax(axis=1)\n",
    "    return {\n",
    "        \"accuracy\": accuracy_score(labels, preds),\n",
    "        \"f1\": f1_score(labels, preds, average=\"macro\")\n",
    "    }\n"
   ]
  },
  {
   "cell_type": "code",
   "execution_count": null,
   "id": "fce4a168",
   "metadata": {},
   "outputs": [
    {
     "name": "stderr",
     "output_type": "stream",
     "text": [
      "c:\\Users\\hp\\anaconda3\\envs\\crypto_nlp\\lib\\site-packages\\transformers\\training_args.py:1594: FutureWarning: `evaluation_strategy` is deprecated and will be removed in version 4.46 of 🤗 Transformers. Use `eval_strategy` instead\n",
      "  warnings.warn(\n",
      "C:\\Users\\hp\\AppData\\Local\\Temp\\ipykernel_25456\\3961012866.py:5: FutureWarning: `tokenizer` is deprecated and will be removed in version 5.0.0 for `WeightedLossTrainer.__init__`. Use `processing_class` instead.\n",
      "  super().__init__(*args, **kwargs)\n"
     ]
    },
    {
     "name": "stdout",
     "output_type": "stream",
     "text": [
      "Starte Training für learning_rate = 2e-05\n",
      "{'loss': 2.3274, 'grad_norm': 33.55178451538086, 'learning_rate': 1.8e-05, 'epoch': 1.0}\n",
      "{'eval_loss': 1.0499883890151978, 'eval_accuracy': 0.55, 'eval_f1': 0.42542542542542544, 'eval_runtime': 0.5187, 'eval_samples_per_second': 115.679, 'eval_steps_per_second': 15.424, 'epoch': 1.0}\n",
      "{'loss': 0.6118, 'grad_norm': 47.39173126220703, 'learning_rate': 1.6000000000000003e-05, 'epoch': 2.0}\n",
      "{'eval_loss': 0.8718302249908447, 'eval_accuracy': 0.5833333333333334, 'eval_f1': 0.5109485873492665, 'eval_runtime': 0.5103, 'eval_samples_per_second': 117.588, 'eval_steps_per_second': 15.678, 'epoch': 2.0}\n",
      "{'loss': 0.3099, 'grad_norm': 33.65976333618164, 'learning_rate': 1.4e-05, 'epoch': 3.0}\n",
      "{'eval_loss': 1.3011723756790161, 'eval_accuracy': 0.6, 'eval_f1': 0.5653479566523044, 'eval_runtime': 0.508, 'eval_samples_per_second': 118.111, 'eval_steps_per_second': 15.748, 'epoch': 3.0}\n",
      "{'loss': 0.2129, 'grad_norm': 2.865074396133423, 'learning_rate': 1.2e-05, 'epoch': 4.0}\n",
      "{'eval_loss': 1.2441552877426147, 'eval_accuracy': 0.6333333333333333, 'eval_f1': 0.5677596644558772, 'eval_runtime': 0.5118, 'eval_samples_per_second': 117.225, 'eval_steps_per_second': 15.63, 'epoch': 4.0}\n",
      "{'loss': 0.0727, 'grad_norm': 0.7796083092689514, 'learning_rate': 1e-05, 'epoch': 5.0}\n",
      "{'eval_loss': 1.2959691286087036, 'eval_accuracy': 0.5833333333333334, 'eval_f1': 0.5197368421052632, 'eval_runtime': 0.5582, 'eval_samples_per_second': 107.491, 'eval_steps_per_second': 14.332, 'epoch': 5.0}\n",
      "{'loss': 0.0328, 'grad_norm': 0.40629297494888306, 'learning_rate': 8.000000000000001e-06, 'epoch': 6.0}\n",
      "{'eval_loss': 1.385245680809021, 'eval_accuracy': 0.6, 'eval_f1': 0.533141847105612, 'eval_runtime': 0.5905, 'eval_samples_per_second': 101.601, 'eval_steps_per_second': 13.547, 'epoch': 6.0}\n",
      "{'train_runtime': 45.4464, 'train_samples_per_second': 39.167, 'train_steps_per_second': 5.061, 'train_loss': 0.5945906855057979, 'epoch': 6.0}\n",
      "Training für learning_rate = 2e-05 abgeschlossen in 45.63 Sekunden.\n",
      "Starte Training für learning_rate = 1e-05\n"
     ]
    },
    {
     "name": "stderr",
     "output_type": "stream",
     "text": [
      "c:\\Users\\hp\\anaconda3\\envs\\crypto_nlp\\lib\\site-packages\\transformers\\training_args.py:1594: FutureWarning: `evaluation_strategy` is deprecated and will be removed in version 4.46 of 🤗 Transformers. Use `eval_strategy` instead\n",
      "  warnings.warn(\n",
      "C:\\Users\\hp\\AppData\\Local\\Temp\\ipykernel_25456\\3961012866.py:5: FutureWarning: `tokenizer` is deprecated and will be removed in version 5.0.0 for `WeightedLossTrainer.__init__`. Use `processing_class` instead.\n",
      "  super().__init__(*args, **kwargs)\n"
     ]
    },
    {
     "name": "stdout",
     "output_type": "stream",
     "text": [
      "{'loss': 0.0614, 'grad_norm': 1.2010161876678467, 'learning_rate': 9e-06, 'epoch': 1.0}\n",
      "{'eval_loss': 1.4249283075332642, 'eval_accuracy': 0.55, 'eval_f1': 0.5159791898922333, 'eval_runtime': 0.5913, 'eval_samples_per_second': 101.465, 'eval_steps_per_second': 13.529, 'epoch': 1.0}\n",
      "{'loss': 0.0244, 'grad_norm': 0.015972664579749107, 'learning_rate': 8.000000000000001e-06, 'epoch': 2.0}\n",
      "{'eval_loss': 1.5157285928726196, 'eval_accuracy': 0.65, 'eval_f1': 0.6119220151828847, 'eval_runtime': 0.5851, 'eval_samples_per_second': 102.555, 'eval_steps_per_second': 13.674, 'epoch': 2.0}\n",
      "{'loss': 0.0033, 'grad_norm': 0.001369974692352116, 'learning_rate': 7e-06, 'epoch': 3.0}\n",
      "{'eval_loss': 1.6303457021713257, 'eval_accuracy': 0.5666666666666667, 'eval_f1': 0.49930177349532184, 'eval_runtime': 0.5995, 'eval_samples_per_second': 100.075, 'eval_steps_per_second': 13.343, 'epoch': 3.0}\n",
      "{'loss': 0.0017, 'grad_norm': 0.059548523277044296, 'learning_rate': 6e-06, 'epoch': 4.0}\n",
      "{'eval_loss': 1.5637367963790894, 'eval_accuracy': 0.6166666666666667, 'eval_f1': 0.5481518213186223, 'eval_runtime': 0.5754, 'eval_samples_per_second': 104.283, 'eval_steps_per_second': 13.904, 'epoch': 4.0}\n",
      "{'train_runtime': 33.2512, 'train_samples_per_second': 53.532, 'train_steps_per_second': 6.917, 'train_loss': 0.02271171902184901, 'epoch': 4.0}\n",
      "Training für learning_rate = 1e-05 abgeschlossen in 33.46 Sekunden.\n",
      "Starte Training für learning_rate = 5e-06\n"
     ]
    },
    {
     "name": "stderr",
     "output_type": "stream",
     "text": [
      "c:\\Users\\hp\\anaconda3\\envs\\crypto_nlp\\lib\\site-packages\\transformers\\training_args.py:1594: FutureWarning: `evaluation_strategy` is deprecated and will be removed in version 4.46 of 🤗 Transformers. Use `eval_strategy` instead\n",
      "  warnings.warn(\n",
      "C:\\Users\\hp\\AppData\\Local\\Temp\\ipykernel_25456\\3961012866.py:5: FutureWarning: `tokenizer` is deprecated and will be removed in version 5.0.0 for `WeightedLossTrainer.__init__`. Use `processing_class` instead.\n",
      "  super().__init__(*args, **kwargs)\n"
     ]
    },
    {
     "name": "stdout",
     "output_type": "stream",
     "text": [
      "{'loss': 0.001, 'grad_norm': 0.0611812025308609, 'learning_rate': 4.5e-06, 'epoch': 1.0}\n",
      "{'eval_loss': 1.580966591835022, 'eval_accuracy': 0.6, 'eval_f1': 0.540220700152207, 'eval_runtime': 0.5889, 'eval_samples_per_second': 101.886, 'eval_steps_per_second': 13.585, 'epoch': 1.0}\n",
      "{'loss': 0.0005, 'grad_norm': 0.0026108487509191036, 'learning_rate': 4.000000000000001e-06, 'epoch': 2.0}\n",
      "{'eval_loss': 1.6167340278625488, 'eval_accuracy': 0.5833333333333334, 'eval_f1': 0.5197368421052632, 'eval_runtime': 0.6002, 'eval_samples_per_second': 99.965, 'eval_steps_per_second': 13.329, 'epoch': 2.0}\n",
      "{'loss': 0.0009, 'grad_norm': 0.0014695631107315421, 'learning_rate': 3.5e-06, 'epoch': 3.0}\n",
      "{'eval_loss': 1.5691592693328857, 'eval_accuracy': 0.6166666666666667, 'eval_f1': 0.5481518213186223, 'eval_runtime': 0.6, 'eval_samples_per_second': 100.003, 'eval_steps_per_second': 13.334, 'epoch': 3.0}\n",
      "{'loss': 0.0004, 'grad_norm': 0.015881016850471497, 'learning_rate': 3e-06, 'epoch': 4.0}\n",
      "{'eval_loss': 1.6264861822128296, 'eval_accuracy': 0.5833333333333334, 'eval_f1': 0.509957264957265, 'eval_runtime': 0.5854, 'eval_samples_per_second': 102.487, 'eval_steps_per_second': 13.665, 'epoch': 4.0}\n",
      "{'loss': 0.0009, 'grad_norm': 0.08089996874332428, 'learning_rate': 2.5e-06, 'epoch': 5.0}\n",
      "{'eval_loss': 1.6841140985488892, 'eval_accuracy': 0.6, 'eval_f1': 0.5446324648580894, 'eval_runtime': 0.6134, 'eval_samples_per_second': 97.823, 'eval_steps_per_second': 13.043, 'epoch': 5.0}\n",
      "{'train_runtime': 40.6713, 'train_samples_per_second': 43.766, 'train_steps_per_second': 5.655, 'train_loss': 0.0007335352427933527, 'epoch': 5.0}\n",
      "Training für learning_rate = 5e-06 abgeschlossen in 40.87 Sekunden.\n",
      "Starte Training für learning_rate = 3e-06\n"
     ]
    },
    {
     "name": "stderr",
     "output_type": "stream",
     "text": [
      "c:\\Users\\hp\\anaconda3\\envs\\crypto_nlp\\lib\\site-packages\\transformers\\training_args.py:1594: FutureWarning: `evaluation_strategy` is deprecated and will be removed in version 4.46 of 🤗 Transformers. Use `eval_strategy` instead\n",
      "  warnings.warn(\n",
      "C:\\Users\\hp\\AppData\\Local\\Temp\\ipykernel_25456\\3961012866.py:5: FutureWarning: `tokenizer` is deprecated and will be removed in version 5.0.0 for `WeightedLossTrainer.__init__`. Use `processing_class` instead.\n",
      "  super().__init__(*args, **kwargs)\n"
     ]
    },
    {
     "name": "stdout",
     "output_type": "stream",
     "text": [
      "{'loss': 0.0, 'grad_norm': 0.0015694290632382035, 'learning_rate': 2.7e-06, 'epoch': 1.0}\n",
      "{'eval_loss': 1.8365838527679443, 'eval_accuracy': 0.5833333333333334, 'eval_f1': 0.509957264957265, 'eval_runtime': 0.6067, 'eval_samples_per_second': 98.904, 'eval_steps_per_second': 13.187, 'epoch': 1.0}\n",
      "{'loss': 0.0, 'grad_norm': 0.0007092237356118858, 'learning_rate': 2.4000000000000003e-06, 'epoch': 2.0}\n",
      "{'eval_loss': 1.943284511566162, 'eval_accuracy': 0.5833333333333334, 'eval_f1': 0.509957264957265, 'eval_runtime': 0.6089, 'eval_samples_per_second': 98.542, 'eval_steps_per_second': 13.139, 'epoch': 2.0}\n",
      "{'loss': 0.0, 'grad_norm': 5.1712471758946776e-05, 'learning_rate': 2.1e-06, 'epoch': 3.0}\n",
      "{'eval_loss': 1.9877948760986328, 'eval_accuracy': 0.5833333333333334, 'eval_f1': 0.509957264957265, 'eval_runtime': 0.6138, 'eval_samples_per_second': 97.756, 'eval_steps_per_second': 13.034, 'epoch': 3.0}\n",
      "{'train_runtime': 25.3125, 'train_samples_per_second': 70.321, 'train_steps_per_second': 9.086, 'train_loss': 2.745908948228411e-05, 'epoch': 3.0}\n",
      "Training für learning_rate = 3e-06 abgeschlossen in 25.56 Sekunden.\n",
      "Starte Training für learning_rate = 1e-06\n"
     ]
    },
    {
     "name": "stderr",
     "output_type": "stream",
     "text": [
      "c:\\Users\\hp\\anaconda3\\envs\\crypto_nlp\\lib\\site-packages\\transformers\\training_args.py:1594: FutureWarning: `evaluation_strategy` is deprecated and will be removed in version 4.46 of 🤗 Transformers. Use `eval_strategy` instead\n",
      "  warnings.warn(\n",
      "C:\\Users\\hp\\AppData\\Local\\Temp\\ipykernel_25456\\3961012866.py:5: FutureWarning: `tokenizer` is deprecated and will be removed in version 5.0.0 for `WeightedLossTrainer.__init__`. Use `processing_class` instead.\n",
      "  super().__init__(*args, **kwargs)\n"
     ]
    },
    {
     "name": "stdout",
     "output_type": "stream",
     "text": [
      "{'loss': 0.0, 'grad_norm': 0.001051245373673737, 'learning_rate': 9e-07, 'epoch': 1.0}\n",
      "{'eval_loss': 1.899186372756958, 'eval_accuracy': 0.5833333333333334, 'eval_f1': 0.509957264957265, 'eval_runtime': 0.6194, 'eval_samples_per_second': 96.874, 'eval_steps_per_second': 12.917, 'epoch': 1.0}\n",
      "{'loss': 0.0, 'grad_norm': 0.0005544134182855487, 'learning_rate': 8e-07, 'epoch': 2.0}\n",
      "{'eval_loss': 1.9184753894805908, 'eval_accuracy': 0.5833333333333334, 'eval_f1': 0.509957264957265, 'eval_runtime': 0.5748, 'eval_samples_per_second': 104.381, 'eval_steps_per_second': 13.918, 'epoch': 2.0}\n",
      "{'loss': 0.0, 'grad_norm': 6.855963147245347e-05, 'learning_rate': 7e-07, 'epoch': 3.0}\n",
      "{'eval_loss': 1.9608367681503296, 'eval_accuracy': 0.5833333333333334, 'eval_f1': 0.509957264957265, 'eval_runtime': 0.6089, 'eval_samples_per_second': 98.531, 'eval_steps_per_second': 13.137, 'epoch': 3.0}\n",
      "{'train_runtime': 24.0725, 'train_samples_per_second': 73.943, 'train_steps_per_second': 9.554, 'train_loss': 1.6530077276832383e-05, 'epoch': 3.0}\n",
      "Training für learning_rate = 1e-06 abgeschlossen in 24.26 Sekunden.\n"
     ]
    }
   ],
   "source": [
    "results = {}\n",
    "lrs = [2e-5, 1e-5, 5e-6, 3e-6, 1e-6]\n",
    "\n",
    "for lr in lrs:\n",
    "    print(f\"Starte Training für learning_rate = {lr}\")\n",
    "\n",
    "    output_dir = os.path.join(MODEL_PATHS[\"finbert_posts\"], f\"finetuned_lr_{lr}\")\n",
    "    logging_dir = os.path.join(\"../../logs/finbert_posts\", f\"lr_{lr}\")\n",
    "    os.makedirs(output_dir, exist_ok=True)\n",
    "    os.makedirs(logging_dir, exist_ok=True)\n",
    "\n",
    "    training_args = TrainingArguments(\n",
    "        output_dir=output_dir,\n",
    "        evaluation_strategy=\"epoch\",\n",
    "        save_strategy=\"epoch\",\n",
    "        learning_rate=lr,\n",
    "        per_device_train_batch_size=8,\n",
    "        per_device_eval_batch_size=8,\n",
    "        num_train_epochs=10,\n",
    "        weight_decay=0.01,\n",
    "        load_best_model_at_end=True,\n",
    "        metric_for_best_model=\"f1\",\n",
    "        logging_dir=logging_dir,\n",
    "        logging_strategy=\"epoch\",\n",
    "        report_to=\"none\",\n",
    "        remove_unused_columns=False,\n",
    "        disable_tqdm=True\n",
    "    )\n",
    "\n",
    "    trainer = WeightedLossTrainer(\n",
    "        model=model,\n",
    "        args=training_args,\n",
    "        train_dataset=train_ds,\n",
    "        eval_dataset=val_ds,\n",
    "        tokenizer=tokenizer,\n",
    "        compute_metrics=compute_metrics,\n",
    "        loss_fn=loss_fn,\n",
    "        callbacks=[EarlyStoppingCallback(early_stopping_patience=2)]\n",
    "    )\n",
    "\n",
    "\n",
    "\n",
    "    start = time.time()\n",
    "    trainer.train()\n",
    "    end = time.time()\n",
    "\n",
    "    logs = trainer.state.log_history\n",
    "    epoch_logs = [log for log in logs if \"eval_f1\" in log]\n",
    "    df = pd.DataFrame(epoch_logs)[[\"epoch\", \"eval_f1\"]]\n",
    "    df[\"learning_rate\"] = lr\n",
    "\n",
    "    results[lr] = {\"f1_curve\": df,\"best_f1\": df[\"eval_f1\"].max(),\"trainer\": trainer}\n",
    "    \n",
    "    print(f\"Training für learning_rate = {lr} abgeschlossen in {end - start:.2f} Sekunden.\")"
   ]
  },
  {
   "cell_type": "code",
   "execution_count": 16,
   "id": "0cfe48ba",
   "metadata": {},
   "outputs": [
    {
     "name": "stderr",
     "output_type": "stream",
     "text": [
      "C:\\Users\\hp\\AppData\\Local\\Temp\\ipykernel_25456\\239583412.py:12: UserWarning: Glyph 128200 (\\N{CHART WITH UPWARDS TREND}) missing from font(s) DejaVu Sans.\n",
      "  plt.tight_layout()\n",
      "c:\\Users\\hp\\anaconda3\\envs\\crypto_nlp\\lib\\site-packages\\IPython\\core\\pylabtools.py:152: UserWarning: Glyph 128200 (\\N{CHART WITH UPWARDS TREND}) missing from font(s) DejaVu Sans.\n",
      "  fig.canvas.print_figure(bytes_io, **kw)\n"
     ]
    },
    {
     "data": {
      "image/png": "[encoded data removed]",
      "text/plain": [
       "<Figure size 800x500 with 1 Axes>"
      ]
     },
     "metadata": {},
     "output_type": "display_data"
    }
   ],
   "source": [
    "plt.figure(figsize=(8, 5))\n",
    "\n",
    "for lr, data in results.items():\n",
    "    df = data[\"f1_curve\"]\n",
    "    plt.plot(df[\"epoch\"], df[\"eval_f1\"], marker=\"o\", label=f\"lr={lr}\")\n",
    "\n",
    "plt.title(\"📈 Lernkurven (Validation F1) – FinBERT bei verschiedenen Lernraten\")\n",
    "plt.xlabel(\"Epoche\")\n",
    "plt.ylabel(\"F1 (macro)\")\n",
    "plt.legend()\n",
    "plt.grid(True)\n",
    "plt.tight_layout()\n",
    "plt.show()\n"
   ]
  },
  {
   "cell_type": "code",
   "execution_count": 17,
   "id": "e18d720c",
   "metadata": {},
   "outputs": [
    {
     "name": "stdout",
     "output_type": "stream",
     "text": [
      "lr=2e-05: best_f1=0.5678\n",
      "lr=1e-05: best_f1=0.6119\n",
      "lr=5e-06: best_f1=0.5482\n",
      "lr=3e-06: best_f1=0.5100\n",
      "lr=1e-06: best_f1=0.5100\n"
     ]
    }
   ],
   "source": [
    "for lr, res in results.items():\n",
    "    print(f\"lr={lr}: best_f1={res['best_f1']:.4f}\")\n"
   ]
  },
  {
   "cell_type": "code",
   "execution_count": 18,
   "id": "d47b9f8b",
   "metadata": {},
   "outputs": [
    {
     "name": "stdout",
     "output_type": "stream",
     "text": [
      "\n",
      "🏆 Beste Lernrate: 1e-05 mit F1 = 0.6119\n"
     ]
    }
   ],
   "source": [
    "# Beste Lernrate bestimmen\n",
    "best_lr = max(results.items(), key=lambda x: x[1][\"best_f1\"])[0]\n",
    "best_trainer = results[best_lr][\"trainer\"]\n",
    "\n",
    "print(f\"\\n🏆 Beste Lernrate: {best_lr} mit F1 = {results[best_lr]['best_f1']:.4f}\")\n"
   ]
  },
  {
   "cell_type": "code",
   "execution_count": 19,
   "id": "3847ec46",
   "metadata": {},
   "outputs": [
    {
     "name": "stdout",
     "output_type": "stream",
     "text": [
      "\n",
      "Evaluation auf Testset:\n",
      "F1-Score (macro): 0.6997\n",
      "Cohen’s Kappa:    0.507\n",
      "\n",
      "Klassifikationsreport:\n",
      "              precision    recall  f1-score   support\n",
      "\n",
      "           0       0.69      0.58      0.63        19\n",
      "           1       0.74      0.79      0.76        33\n",
      "           2       0.67      0.75      0.71         8\n",
      "\n",
      "    accuracy                           0.72        60\n",
      "   macro avg       0.70      0.71      0.70        60\n",
      "weighted avg       0.72      0.72      0.71        60\n",
      "\n"
     ]
    }
   ],
   "source": [
    "from sklearn.metrics import classification_report, f1_score, cohen_kappa_score\n",
    "\n",
    "# Vorhersage\n",
    "test_results = best_trainer.predict(test_ds)\n",
    "\n",
    "# Argmax → Vorhersageklassen\n",
    "y_pred = test_results.predictions.argmax(axis=1)\n",
    "y_true = test_results.label_ids\n",
    "\n",
    "# KEIN Label-Mapping notwendig bei FinBERT\n",
    "\n",
    "# Hauptmetriken berechnen\n",
    "f1_macro = f1_score(y_true, y_pred, average=\"macro\")\n",
    "kappa = cohen_kappa_score(y_true, y_pred)\n",
    "\n",
    "# Ausgabe\n",
    "print(\"\\nEvaluation auf Testset:\")\n",
    "print(\"F1-Score (macro):\", round(f1_macro, 4))\n",
    "print(\"Cohen’s Kappa:   \", round(kappa, 4))\n",
    "print(\"\\nKlassifikationsreport:\")\n",
    "print(classification_report(y_true, y_pred))\n"
   ]
  },
  {
   "cell_type": "code",
   "execution_count": 20,
   "id": "f84e603f",
   "metadata": {},
   "outputs": [
    {
     "data": {
      "text/html": [
       "<div>\n",
       "<style scoped>\n",
       "    .dataframe tbody tr th:only-of-type {\n",
       "        vertical-align: middle;\n",
       "    }\n",
       "\n",
       "    .dataframe tbody tr th {\n",
       "        vertical-align: top;\n",
       "    }\n",
       "\n",
       "    .dataframe thead th {\n",
       "        text-align: right;\n",
       "    }\n",
       "</style>\n",
       "<table border=\"1\" class=\"dataframe\">\n",
       "  <thead>\n",
       "    <tr style=\"text-align: right;\">\n",
       "      <th></th>\n",
       "      <th>text</th>\n",
       "      <th>true</th>\n",
       "      <th>predicted</th>\n",
       "    </tr>\n",
       "  </thead>\n",
       "  <tbody>\n",
       "    <tr>\n",
       "      <th>0</th>\n",
       "      <td>Crypto industry blasts SEC Chair Gensler's con...</td>\n",
       "      <td>1</td>\n",
       "      <td>2</td>\n",
       "    </tr>\n",
       "    <tr>\n",
       "      <th>1</th>\n",
       "      <td>With AI here, the 4 year cycle will become obs...</td>\n",
       "      <td>0</td>\n",
       "      <td>2</td>\n",
       "    </tr>\n",
       "    <tr>\n",
       "      <th>9</th>\n",
       "      <td>Solid alt coins to get? I am an eth holder but...</td>\n",
       "      <td>0</td>\n",
       "      <td>1</td>\n",
       "    </tr>\n",
       "    <tr>\n",
       "      <th>15</th>\n",
       "      <td>Convince me to keep ETH. Maybe my worst and be...</td>\n",
       "      <td>2</td>\n",
       "      <td>1</td>\n",
       "    </tr>\n",
       "    <tr>\n",
       "      <th>17</th>\n",
       "      <td>The journey of ETH holder</td>\n",
       "      <td>1</td>\n",
       "      <td>0</td>\n",
       "    </tr>\n",
       "    <tr>\n",
       "      <th>18</th>\n",
       "      <td>Crypto boss eats banana art he bought for $8.3m</td>\n",
       "      <td>1</td>\n",
       "      <td>0</td>\n",
       "    </tr>\n",
       "    <tr>\n",
       "      <th>19</th>\n",
       "      <td>IF Hyperliquid gets hacked/exploited can funds...</td>\n",
       "      <td>2</td>\n",
       "      <td>1</td>\n",
       "    </tr>\n",
       "    <tr>\n",
       "      <th>25</th>\n",
       "      <td>NEW ATH TODAY! https://preview.redd.it/j88qzbb...</td>\n",
       "      <td>0</td>\n",
       "      <td>1</td>\n",
       "    </tr>\n",
       "    <tr>\n",
       "      <th>26</th>\n",
       "      <td>Diving into the Liquidity Pool: Week 40 **Curr...</td>\n",
       "      <td>1</td>\n",
       "      <td>0</td>\n",
       "    </tr>\n",
       "    <tr>\n",
       "      <th>28</th>\n",
       "      <td>Favourite ALTS for 2025? There's been much tal...</td>\n",
       "      <td>0</td>\n",
       "      <td>1</td>\n",
       "    </tr>\n",
       "  </tbody>\n",
       "</table>\n",
       "</div>"
      ],
      "text/plain": [
       "                                                 text  true  predicted\n",
       "0   Crypto industry blasts SEC Chair Gensler's con...     1          2\n",
       "1   With AI here, the 4 year cycle will become obs...     0          2\n",
       "9   Solid alt coins to get? I am an eth holder but...     0          1\n",
       "15  Convince me to keep ETH. Maybe my worst and be...     2          1\n",
       "17                         The journey of ETH holder      1          0\n",
       "18   Crypto boss eats banana art he bought for $8.3m      1          0\n",
       "19  IF Hyperliquid gets hacked/exploited can funds...     2          1\n",
       "25  NEW ATH TODAY! https://preview.redd.it/j88qzbb...     0          1\n",
       "26  Diving into the Liquidity Pool: Week 40 **Curr...     1          0\n",
       "28  Favourite ALTS for 2025? There's been much tal...     0          1"
      ]
     },
     "execution_count": 20,
     "metadata": {},
     "output_type": "execute_result"
    }
   ],
   "source": [
    "wrong = [(i, p, t) for i, (p, t) in enumerate(zip(y_pred, y_true)) if p != t]\n",
    "wrong_df = test_df.iloc[[i for i, _, _ in wrong]].copy()\n",
    "wrong_df[\"predicted\"] = [p for _, p, _ in wrong]\n",
    "wrong_df[\"true\"] = [t for _, _, t in wrong]\n",
    "\n",
    "wrong_df[[\"text\", \"true\", \"predicted\"]].head(10)\n"
   ]
  },
  {
   "cell_type": "code",
   "execution_count": null,
   "id": "a249c347",
   "metadata": {},
   "outputs": [],
   "source": []
  },
  {
   "cell_type": "code",
   "execution_count": null,
   "id": "df9f13bf",
   "metadata": {},
   "outputs": [],
   "source": []
  },
  {
   "cell_type": "code",
   "execution_count": null,
   "id": "d42883e9",
   "metadata": {},
   "outputs": [],
   "source": []
  },
  {
   "cell_type": "code",
   "execution_count": null,
   "id": "f6b394e1",
   "metadata": {},
   "outputs": [],
   "source": []
  }
 ],
 "metadata": {
  "kernelspec": {
   "display_name": "crypto_nlp",
   "language": "python",
   "name": "python3"
  },
  "language_info": {
   "codemirror_mode": {
    "name": "ipython",
    "version": 3
   },
   "file_extension": ".py",
   "mimetype": "text/x-python",
   "name": "python",
   "nbconvert_exporter": "python",
   "pygments_lexer": "ipython3",
   "version": "3.9.21"
  }
 },
 "nbformat": 4,
 "nbformat_minor": 5
}
