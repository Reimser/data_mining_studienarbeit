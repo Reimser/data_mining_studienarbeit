{
 "cells": [
  {
   "cell_type": "markdown",
   "id": "01f2cef1",
   "metadata": {},
   "source": [
    "# Finetuning von Finbert für Kommentare "
   ]
  },
  {
   "cell_type": "markdown",
   "id": "204707d4",
   "metadata": {},
   "source": [
    "## Import"
   ]
  },
  {
   "cell_type": "code",
   "execution_count": 1,
   "id": "2883ed90",
   "metadata": {},
   "outputs": [
    {
     "name": "stderr",
     "output_type": "stream",
     "text": [
      "c:\\Users\\hp\\anaconda3\\envs\\crypto_nlp\\lib\\site-packages\\tqdm\\auto.py:21: TqdmWarning: IProgress not found. Please update jupyter and ipywidgets. See https://ipywidgets.readthedocs.io/en/stable/user_install.html\n",
      "  from .autonotebook import tqdm as notebook_tqdm\n"
     ]
    }
   ],
   "source": [
    "import os\n",
    "import torch\n",
    "import pandas as pd\n",
    "from sklearn.model_selection import train_test_split\n",
    "from datasets import Dataset\n",
    "from transformers import DebertaV2Tokenizer, AutoModelForSequenceClassification, Trainer, TrainingArguments, AutoTokenizer, EarlyStoppingCallback\n",
    "import evaluate\n",
    "import numpy as np\n",
    "import torch\n",
    "from sklearn.metrics import accuracy_score, f1_score,classification_report, cohen_kappa_score\n",
    "import matplotlib.pyplot as plt\n",
    "import seaborn as sns\n",
    "import time\n",
    "import pandas as pd\n",
    "from transformers import AutoModelForSequenceClassification, Trainer, TrainingArguments\n",
    "import transformers\n",
    "import warnings\n",
    "import random\n",
    "import nltk\n",
    "from nltk.corpus import wordnet"
   ]
  },
  {
   "cell_type": "code",
   "execution_count": 2,
   "id": "5d9d30a2",
   "metadata": {},
   "outputs": [
    {
     "name": "stdout",
     "output_type": "stream",
     "text": [
      "Using cuda device\n"
     ]
    }
   ],
   "source": [
    "# Cuda pruefen\n",
    "device = \"cuda\" if torch.cuda.is_available() else \"cpu\"\n",
    "print(\"Using {} device\".format(device))"
   ]
  },
  {
   "cell_type": "code",
   "execution_count": 3,
   "id": "9dc8078f",
   "metadata": {},
   "outputs": [],
   "source": [
    "DATA_PATH = '../../data/processed/'"
   ]
  },
  {
   "cell_type": "code",
   "execution_count": 4,
   "id": "399aef36",
   "metadata": {},
   "outputs": [],
   "source": [
    "# Trainingsdaten laden\n",
    "df_all_posts = pd.read_csv(os.path.join(DATA_PATH, \"training_data_posts.csv\"))\n",
    "\n",
    "# Testdaten laden\n",
    "df_test_posts = pd.read_csv(os.path.join(DATA_PATH, \"test_data_posts.csv\"))\n",
    "\n",
    "# Nur relevante Spalten + Bereinigung\n",
    "df_all_posts = df_all_posts[[\"text\", \"label\"]].dropna()\n",
    "df_all_posts[\"label\"] = df_all_posts[\"label\"].astype(int)\n",
    "\n",
    "df_test_posts = df_test_posts[[\"text\", \"label\"]].dropna()\n",
    "df_test_posts[\"label\"] = df_test_posts[\"label\"].astype(int)\n"
   ]
  },
  {
   "cell_type": "markdown",
   "id": "46f48773",
   "metadata": {},
   "source": [
    "## Train- Test-split"
   ]
  },
  {
   "cell_type": "code",
   "execution_count": 5,
   "id": "e2b88ef6",
   "metadata": {},
   "outputs": [
    {
     "name": "stdout",
     "output_type": "stream",
     "text": [
      "✅ Daten erfolgreich vorbereitet:\n",
      "Train: 1280 | Val: 320 | Test: 400\n"
     ]
    }
   ],
   "source": [
    "# 80/20 Split für Training und Validierung mit stratifizierter Verteilung der Klassen\n",
    "train_df, val_df = train_test_split(\n",
    "    df_all_posts,\n",
    "    test_size=0.2,\n",
    "    stratify=df_all_posts[\"label\"],\n",
    "    random_state=42\n",
    ")\n",
    "\n",
    "# Testdaten separat kopieren und Indizes zurücksetzen\n",
    "test_df = df_test_posts.copy()\n",
    "df_test_posts = df_test_posts.reset_index(drop=True)\n",
    "\n",
    "# Auch Train- und Val-Set Indizes zurücksetzen\n",
    "train_df = train_df.reset_index(drop=True)\n",
    "val_df = val_df.reset_index(drop=True)\n",
    "\n",
    "# Übersicht zur Kontrolle\n",
    "print(\"✅ Daten erfolgreich vorbereitet:\")\n",
    "print(f\"Train: {len(train_df)} | Val: {len(val_df)} | Test: {len(test_df)}\")\n"
   ]
  },
  {
   "cell_type": "code",
   "execution_count": 6,
   "id": "ac8338f6",
   "metadata": {},
   "outputs": [
    {
     "name": "stdout",
     "output_type": "stream",
     "text": [
      "Train size: 1280\n",
      "Val size: 320\n",
      "Test size: 400\n",
      "Train labels:\n",
      " label\n",
      "1    842\n",
      "0    391\n",
      "2     47\n",
      "Name: count, dtype: int64\n"
     ]
    }
   ],
   "source": [
    "print(f\"Train size: {len(train_df)}\")\n",
    "print(f\"Val size: {len(val_df)}\")\n",
    "print(f\"Test size: {len(test_df)}\")\n",
    "print(\"Train labels:\\n\", train_df[\"label\"].value_counts())\n"
   ]
  },
  {
   "cell_type": "markdown",
   "id": "a6cc7e92",
   "metadata": {},
   "source": [
    "## Weighted Loss"
   ]
  },
  {
   "cell_type": "markdown",
   "id": "2513b77a",
   "metadata": {},
   "source": [
    "Zur Einbindung einer gewichteten oder spezialisierten Loss-Funktion wird compute_loss überschrieben."
   ]
  },
  {
   "cell_type": "code",
   "execution_count": 7,
   "id": "925e6b33",
   "metadata": {},
   "outputs": [],
   "source": [
    "class WeightedLossTrainer(Trainer):\n",
    "    def __init__(self, *args, loss_fn=None, **kwargs):\n",
    "        super().__init__(*args, **kwargs)\n",
    "        self.loss_fn = loss_fn  # Speichert die benutzerdefinierte Verlustfunktion\n",
    "\n",
    "    def compute_loss(self, model, inputs, return_outputs=False, **kwargs):\n",
    "        labels = inputs.pop(\"labels\")  # Extrahiert die Labels aus den Eingaben\n",
    "        outputs = model(**inputs)  # Führt eine Vorwärtsausbreitung durch\n",
    "        logits = outputs.logits  # Extrahiert die Logits aus den Ausgaben\n",
    "        loss = self.loss_fn(logits, labels)  # Berechnet den Verlust mit der benutzerdefinierten Funktion\n",
    "        return (loss, outputs) if return_outputs else loss  # Gibt den Verlust (und optional die Ausgaben) zurück"
   ]
  },
  {
   "cell_type": "code",
   "execution_count": 8,
   "id": "78590f8f",
   "metadata": {},
   "outputs": [],
   "source": [
    "# Manuelle Class Weights – hier z. B. stärkerer Fokus auf neutral\n",
    "weights_tensor = torch.tensor([2.0, 1.0, 2.0], dtype=torch.float)\n",
    "\n",
    "loss_fn = torch.nn.CrossEntropyLoss(weight=weights_tensor.to(device))\n"
   ]
  },
  {
   "cell_type": "markdown",
   "id": "ab016f68",
   "metadata": {},
   "source": [
    "## Model"
   ]
  },
  {
   "cell_type": "markdown",
   "id": "28ce3d95",
   "metadata": {},
   "source": [
    "Pfade für das Finetuning-Experiment setzen und Ordner sicherstellen"
   ]
  },
  {
   "cell_type": "code",
   "execution_count": 9,
   "id": "ac325fa7",
   "metadata": {},
   "outputs": [],
   "source": [
    "EXPERIMENTS_BASE_PATH = \"../../models/experiments/\"  # Basisverzeichnis für alle Experiment-Modelle\n",
    "\n",
    "MODEL_PATHS = {\n",
    "    \"finbert_posts\": os.path.join(EXPERIMENTS_BASE_PATH, \"finbert_posts\"),  # Zielordner für FinBERT auf Post-Daten\n",
    "}\n",
    "\n",
    "for path in MODEL_PATHS.values():\n",
    "    os.makedirs(path, exist_ok=True)  # Ordner anlegen, falls noch nicht vorhanden\n"
   ]
  },
  {
   "cell_type": "markdown",
   "id": "8ad7539b",
   "metadata": {},
   "source": [
    "Modell & Tokenizer laden"
   ]
  },
  {
   "cell_type": "code",
   "execution_count": 10,
   "id": "d0bba111",
   "metadata": {},
   "outputs": [],
   "source": [
    "# Modellname direkt aus der Hugging Face Model Hub URL\n",
    "model_name = \"yiyanghkust/finbert-tone\"\n",
    "\n",
    "# Tokenizer und Modell laden (automatisch von Hugging Face Hub)\n",
    "tokenizer = AutoTokenizer.from_pretrained(model_name)\n",
    "model = AutoModelForSequenceClassification.from_pretrained(model_name, num_labels=3)"
   ]
  },
  {
   "cell_type": "code",
   "execution_count": null,
   "id": "61591b49",
   "metadata": {},
   "outputs": [],
   "source": []
  },
  {
   "cell_type": "markdown",
   "id": "e8e38590",
   "metadata": {},
   "source": [
    "Tokenizer-Funktion"
   ]
  },
  {
   "cell_type": "code",
   "execution_count": 11,
   "id": "bc88a9eb",
   "metadata": {},
   "outputs": [],
   "source": [
    "def tokenize_function(example):\n",
    "    return tokenizer(example[\"text\"], truncation=True, padding=\"max_length\", max_length= 512)  # Standard-Tokenisierung\n"
   ]
  },
  {
   "cell_type": "markdown",
   "id": "8514779d",
   "metadata": {},
   "source": [
    "Tokenisierung + Formatierung der Datensätze"
   ]
  },
  {
   "cell_type": "code",
   "execution_count": 12,
   "id": "08c15908",
   "metadata": {},
   "outputs": [
    {
     "name": "stderr",
     "output_type": "stream",
     "text": [
      "Map: 100%|██████████| 1280/1280 [00:00<00:00, 3594.43 examples/s]\n",
      "Map: 100%|██████████| 320/320 [00:00<00:00, 3862.24 examples/s]\n",
      "Map: 100%|██████████| 400/400 [00:00<00:00, 3144.97 examples/s]\n"
     ]
    }
   ],
   "source": [
    "train_ds = Dataset.from_pandas(train_df).map(tokenize_function, batched=True)  # Training\n",
    "val_ds = Dataset.from_pandas(val_df).map(tokenize_function, batched=True)      # Validierung\n",
    "test_ds = Dataset.from_pandas(df_test_posts).map(tokenize_function, batched=True)  # Testset: manuell gelabelte Posts\n",
    "\n",
    "train_ds = train_ds.rename_column(\"label\", \"labels\")\n",
    "val_ds = val_ds.rename_column(\"label\", \"labels\")\n",
    "test_ds = test_ds.rename_column(\"label\", \"labels\")\n",
    "\n",
    "train_ds.set_format(\"torch\", columns=[\"input_ids\", \"attention_mask\", \"labels\"])\n",
    "val_ds.set_format(\"torch\", columns=[\"input_ids\", \"attention_mask\", \"labels\"])\n",
    "test_ds.set_format(\"torch\", columns=[\"input_ids\", \"attention_mask\", \"labels\"])\n"
   ]
  },
  {
   "cell_type": "markdown",
   "id": "86261e53",
   "metadata": {},
   "source": [
    "Metrikfunktion für Evaluation"
   ]
  },
  {
   "cell_type": "code",
   "execution_count": 13,
   "id": "73a4dd4a",
   "metadata": {},
   "outputs": [],
   "source": [
    "def compute_metrics(eval_pred):\n",
    "    logits, labels = eval_pred\n",
    "    preds = logits.argmax(axis=1)  # Index des höchsten Scores → vorhergesagte Klasse\n",
    "    return {\n",
    "        \"accuracy\": accuracy_score(labels, preds),         # Genauigkeit\n",
    "        \"f1\": f1_score(labels, preds, average=\"macro\")      # F1-Score über alle Klassen (gleich gewichtet)\n",
    "    }\n"
   ]
  },
  {
   "cell_type": "markdown",
   "id": "eed3e769",
   "metadata": {},
   "source": [
    "Grid-Search: Finetuning von FinBERT (Posts) mit verschiedenen Lernraten\n",
    "Wir testen mehrere Lernraten, loggen die Trainingsdauer, speichern die besten Modelle und extrahieren die F1-Lernkurve zur späteren Analyse."
   ]
  },
  {
   "cell_type": "code",
   "execution_count": null,
   "id": "fce4a168",
   "metadata": {},
   "outputs": [
    {
     "name": "stdout",
     "output_type": "stream",
     "text": [
      "Starte Training für learning_rate = 2e-05\n"
     ]
    },
    {
     "name": "stderr",
     "output_type": "stream",
     "text": [
      "c:\\Users\\hp\\anaconda3\\envs\\crypto_nlp\\lib\\site-packages\\transformers\\training_args.py:1594: FutureWarning: `evaluation_strategy` is deprecated and will be removed in version 4.46 of 🤗 Transformers. Use `eval_strategy` instead\n",
      "  warnings.warn(\n",
      "C:\\Users\\hp\\AppData\\Local\\Temp\\ipykernel_5456\\3254372665.py:3: FutureWarning: `tokenizer` is deprecated and will be removed in version 5.0.0 for `WeightedLossTrainer.__init__`. Use `processing_class` instead.\n",
      "  super().__init__(*args, **kwargs)\n"
     ]
    },
    {
     "name": "stdout",
     "output_type": "stream",
     "text": [
      "{'loss': 0.9486, 'grad_norm': 18.109161376953125, 'learning_rate': 1.8e-05, 'epoch': 1.0}\n",
      "{'eval_loss': 0.6277756690979004, 'eval_accuracy': 0.846875, 'eval_f1': 0.5648812543789713, 'eval_runtime': 6.3369, 'eval_samples_per_second': 50.498, 'eval_steps_per_second': 6.312, 'epoch': 1.0}\n",
      "{'loss': 0.4623, 'grad_norm': 23.111295700073242, 'learning_rate': 1.6000000000000003e-05, 'epoch': 2.0}\n",
      "{'eval_loss': 0.6259229779243469, 'eval_accuracy': 0.93125, 'eval_f1': 0.9174562350500625, 'eval_runtime': 6.9362, 'eval_samples_per_second': 46.135, 'eval_steps_per_second': 5.767, 'epoch': 2.0}\n",
      "{'loss': 0.2828, 'grad_norm': 20.528188705444336, 'learning_rate': 1.4e-05, 'epoch': 3.0}\n",
      "{'eval_loss': 0.49526119232177734, 'eval_accuracy': 0.93125, 'eval_f1': 0.9081455644692477, 'eval_runtime': 7.1079, 'eval_samples_per_second': 45.02, 'eval_steps_per_second': 5.628, 'epoch': 3.0}\n",
      "{'loss': 0.1362, 'grad_norm': 0.22992144525051117, 'learning_rate': 1.2e-05, 'epoch': 4.0}\n",
      "{'eval_loss': 0.7461052536964417, 'eval_accuracy': 0.93125, 'eval_f1': 0.9174562350500625, 'eval_runtime': 7.1833, 'eval_samples_per_second': 44.547, 'eval_steps_per_second': 5.568, 'epoch': 4.0}\n",
      "{'train_runtime': 361.6413, 'train_samples_per_second': 35.394, 'train_steps_per_second': 4.424, 'train_loss': 0.4574656754732132, 'epoch': 4.0}\n",
      "Training für learning_rate = 2e-05 abgeschlossen in 361.79 Sekunden.\n",
      "Starte Training für learning_rate = 1e-05\n"
     ]
    },
    {
     "name": "stderr",
     "output_type": "stream",
     "text": [
      "c:\\Users\\hp\\anaconda3\\envs\\crypto_nlp\\lib\\site-packages\\transformers\\training_args.py:1594: FutureWarning: `evaluation_strategy` is deprecated and will be removed in version 4.46 of 🤗 Transformers. Use `eval_strategy` instead\n",
      "  warnings.warn(\n",
      "C:\\Users\\hp\\AppData\\Local\\Temp\\ipykernel_5456\\3254372665.py:3: FutureWarning: `tokenizer` is deprecated and will be removed in version 5.0.0 for `WeightedLossTrainer.__init__`. Use `processing_class` instead.\n",
      "  super().__init__(*args, **kwargs)\n"
     ]
    },
    {
     "name": "stdout",
     "output_type": "stream",
     "text": [
      "{'loss': 1.1087, 'grad_norm': 11.208592414855957, 'learning_rate': 9e-06, 'epoch': 1.0}\n",
      "{'eval_loss': 0.710696816444397, 'eval_accuracy': 0.74375, 'eval_f1': 0.49387741408809815, 'eval_runtime': 7.083, 'eval_samples_per_second': 45.179, 'eval_steps_per_second': 5.647, 'epoch': 1.0}\n",
      "{'loss': 0.5262, 'grad_norm': 12.904236793518066, 'learning_rate': 8.000000000000001e-06, 'epoch': 2.0}\n",
      "{'eval_loss': 0.5446497797966003, 'eval_accuracy': 0.85, 'eval_f1': 0.5678292690825479, 'eval_runtime': 7.1334, 'eval_samples_per_second': 44.859, 'eval_steps_per_second': 5.607, 'epoch': 2.0}\n",
      "{'loss': 0.3725, 'grad_norm': 30.231735229492188, 'learning_rate': 7e-06, 'epoch': 3.0}\n",
      "{'eval_loss': 0.6557273864746094, 'eval_accuracy': 0.871875, 'eval_f1': 0.7563307493540051, 'eval_runtime': 7.2008, 'eval_samples_per_second': 44.44, 'eval_steps_per_second': 5.555, 'epoch': 3.0}\n",
      "{'loss': 0.1807, 'grad_norm': 0.07897845655679703, 'learning_rate': 6e-06, 'epoch': 4.0}\n",
      "{'eval_loss': 0.6821919083595276, 'eval_accuracy': 0.91875, 'eval_f1': 0.8833045175565905, 'eval_runtime': 7.2615, 'eval_samples_per_second': 44.068, 'eval_steps_per_second': 5.508, 'epoch': 4.0}\n",
      "{'loss': 0.1044, 'grad_norm': 0.06094878166913986, 'learning_rate': 5e-06, 'epoch': 5.0}\n",
      "{'eval_loss': 0.5926998853683472, 'eval_accuracy': 0.925, 'eval_f1': 0.9039887030552358, 'eval_runtime': 7.4712, 'eval_samples_per_second': 42.831, 'eval_steps_per_second': 5.354, 'epoch': 5.0}\n",
      "{'loss': 0.0734, 'grad_norm': 0.0511590838432312, 'learning_rate': 4.000000000000001e-06, 'epoch': 6.0}\n",
      "{'eval_loss': 0.8497323989868164, 'eval_accuracy': 0.9125, 'eval_f1': 0.8818922136646353, 'eval_runtime': 7.641, 'eval_samples_per_second': 41.879, 'eval_steps_per_second': 5.235, 'epoch': 6.0}\n",
      "{'loss': 0.0257, 'grad_norm': 20.650239944458008, 'learning_rate': 3e-06, 'epoch': 7.0}\n",
      "{'eval_loss': 0.7329068779945374, 'eval_accuracy': 0.925, 'eval_f1': 0.9018678261449015, 'eval_runtime': 7.4728, 'eval_samples_per_second': 42.822, 'eval_steps_per_second': 5.353, 'epoch': 7.0}\n",
      "{'train_runtime': 698.1719, 'train_samples_per_second': 18.334, 'train_steps_per_second': 2.292, 'train_loss': 0.3416508436203003, 'epoch': 7.0}\n",
      "Training für learning_rate = 1e-05 abgeschlossen in 698.40 Sekunden.\n",
      "Starte Training für learning_rate = 5e-06\n"
     ]
    },
    {
     "name": "stderr",
     "output_type": "stream",
     "text": [
      "c:\\Users\\hp\\anaconda3\\envs\\crypto_nlp\\lib\\site-packages\\transformers\\training_args.py:1594: FutureWarning: `evaluation_strategy` is deprecated and will be removed in version 4.46 of 🤗 Transformers. Use `eval_strategy` instead\n",
      "  warnings.warn(\n",
      "C:\\Users\\hp\\AppData\\Local\\Temp\\ipykernel_5456\\3254372665.py:3: FutureWarning: `tokenizer` is deprecated and will be removed in version 5.0.0 for `WeightedLossTrainer.__init__`. Use `processing_class` instead.\n",
      "  super().__init__(*args, **kwargs)\n"
     ]
    },
    {
     "name": "stdout",
     "output_type": "stream",
     "text": [
      "{'loss': 1.2907, 'grad_norm': 14.753235816955566, 'learning_rate': 4.5e-06, 'epoch': 1.0}\n",
      "{'eval_loss': 0.8349837064743042, 'eval_accuracy': 0.684375, 'eval_f1': 0.45325072832540475, 'eval_runtime': 78.7348, 'eval_samples_per_second': 4.064, 'eval_steps_per_second': 0.508, 'epoch': 1.0}\n",
      "{'loss': 0.6735, 'grad_norm': 22.513521194458008, 'learning_rate': 4.000000000000001e-06, 'epoch': 2.0}\n",
      "{'eval_loss': 0.7582460641860962, 'eval_accuracy': 0.740625, 'eval_f1': 0.4682596605136336, 'eval_runtime': 79.3077, 'eval_samples_per_second': 4.035, 'eval_steps_per_second': 0.504, 'epoch': 2.0}\n",
      "{'loss': 0.4774, 'grad_norm': 28.414146423339844, 'learning_rate': 3.5e-06, 'epoch': 3.0}\n",
      "{'eval_loss': 0.6980041265487671, 'eval_accuracy': 0.846875, 'eval_f1': 0.5568612680477087, 'eval_runtime': 79.4703, 'eval_samples_per_second': 4.027, 'eval_steps_per_second': 0.503, 'epoch': 3.0}\n",
      "{'loss': 0.3618, 'grad_norm': 1.4931211471557617, 'learning_rate': 3e-06, 'epoch': 4.0}\n",
      "{'eval_loss': 0.7176896333694458, 'eval_accuracy': 0.871875, 'eval_f1': 0.7160488105850163, 'eval_runtime': 79.5907, 'eval_samples_per_second': 4.021, 'eval_steps_per_second': 0.503, 'epoch': 4.0}\n",
      "{'loss': 0.3356, 'grad_norm': 1.1804002523422241, 'learning_rate': 2.5e-06, 'epoch': 5.0}\n",
      "{'eval_loss': 0.694687008857727, 'eval_accuracy': 0.8625, 'eval_f1': 0.7131354526471908, 'eval_runtime': 79.364, 'eval_samples_per_second': 4.032, 'eval_steps_per_second': 0.504, 'epoch': 5.0}\n",
      "{'loss': 0.2746, 'grad_norm': 1.0657706260681152, 'learning_rate': 2.0000000000000003e-06, 'epoch': 6.0}\n",
      "{'eval_loss': 0.9054223299026489, 'eval_accuracy': 0.871875, 'eval_f1': 0.7160488105850163, 'eval_runtime': 5.6195, 'eval_samples_per_second': 56.945, 'eval_steps_per_second': 7.118, 'epoch': 6.0}\n",
      "{'train_runtime': 39438.3631, 'train_samples_per_second': 0.325, 'train_steps_per_second': 0.041, 'train_loss': 0.5689102013905843, 'epoch': 6.0}\n",
      "Training für learning_rate = 5e-06 abgeschlossen in 39438.58 Sekunden.\n",
      "Starte Training für learning_rate = 3e-06\n"
     ]
    },
    {
     "name": "stderr",
     "output_type": "stream",
     "text": [
      "c:\\Users\\hp\\anaconda3\\envs\\crypto_nlp\\lib\\site-packages\\transformers\\training_args.py:1594: FutureWarning: `evaluation_strategy` is deprecated and will be removed in version 4.46 of 🤗 Transformers. Use `eval_strategy` instead\n",
      "  warnings.warn(\n",
      "C:\\Users\\hp\\AppData\\Local\\Temp\\ipykernel_5456\\3254372665.py:3: FutureWarning: `tokenizer` is deprecated and will be removed in version 5.0.0 for `WeightedLossTrainer.__init__`. Use `processing_class` instead.\n",
      "  super().__init__(*args, **kwargs)\n"
     ]
    },
    {
     "name": "stdout",
     "output_type": "stream",
     "text": [
      "{'loss': 1.5105, 'grad_norm': 16.062274932861328, 'learning_rate': 2.7e-06, 'epoch': 1.0}\n",
      "{'eval_loss': 0.9154825210571289, 'eval_accuracy': 0.621875, 'eval_f1': 0.41242509566096314, 'eval_runtime': 6.5977, 'eval_samples_per_second': 48.502, 'eval_steps_per_second': 6.063, 'epoch': 1.0}\n",
      "{'loss': 0.744, 'grad_norm': 26.346126556396484, 'learning_rate': 2.4000000000000003e-06, 'epoch': 2.0}\n",
      "{'eval_loss': 0.8555622100830078, 'eval_accuracy': 0.709375, 'eval_f1': 0.4460128533018559, 'eval_runtime': 58.6568, 'eval_samples_per_second': 5.455, 'eval_steps_per_second': 0.682, 'epoch': 2.0}\n"
     ]
    }
   ],
   "source": [
    "results = {}  # Dictionary zum Speichern der Ergebnisse für jede Lernrate\n",
    "lrs = [2e-5, 1e-5, 5e-6, 3e-6, 1e-6]  # Liste der Lernraten, die getestet werden sollen\n",
    "\n",
    "for lr in lrs:\n",
    "    print(f\"Starte Training für learning_rate = {lr}\")  # Fortschrittsanzeige\n",
    "\n",
    "    # Modell für jede Lernrate neu laden (sonst Verfälschung!)\n",
    "    model = AutoModelForSequenceClassification.from_pretrained(\"yiyanghkust/finbert-tone\", num_labels=3)\n",
    "\n",
    "    output_dir = os.path.join(MODEL_PATHS[\"finbert_posts\"], f\"finetuned_lr_{lr}\")\n",
    "    logging_dir = os.path.join(\"../../logs/finbert_posts\", f\"lr_{lr}\")\n",
    "    os.makedirs(output_dir, exist_ok=True)\n",
    "    os.makedirs(logging_dir, exist_ok=True)\n",
    "\n",
    "    # Trainingskonfiguration für HuggingFace Trainer\n",
    "    training_args = TrainingArguments(\n",
    "        output_dir=output_dir,                      # Wohin das Modell gespeichert wird\n",
    "        evaluation_strategy=\"epoch\",                # Evaluation nach jeder Epoche\n",
    "        save_strategy=\"epoch\",                      # Modell speichern nach jeder Epoche\n",
    "        learning_rate=lr,                           # Aktuelle Lernrate aus der Schleife\n",
    "        per_device_train_batch_size=8,              # Batch-Größe für Training\n",
    "        per_device_eval_batch_size=8,               # Batch-Größe für Evaluation\n",
    "        num_train_epochs=10,                        # Max. Anzahl der Epochen\n",
    "        weight_decay=0.01,                          # Gewichtung für L2-Regularisierung\n",
    "        load_best_model_at_end=True,                # Bestes Modell basierend auf F1 automatisch laden\n",
    "        metric_for_best_model=\"f1\",                 # F1 als Auswahlkriterium für das beste Modell\n",
    "        logging_dir=logging_dir,                    # Speicherort für TensorBoard/Logs\n",
    "        logging_strategy=\"epoch\",                   # Logging-Strategie: nach jeder Epoche\n",
    "        report_to=\"none\",                           # Keine externe Logging-Plattform (z. B. wandb)\n",
    "        remove_unused_columns=False,                # Wichtig bei Custom Loss: alle Features behalten\n",
    "        disable_tqdm=True                           # Kein Fortschrittsbalken\n",
    "    )\n",
    "\n",
    "    # Trainer mit Custom Loss (z. B. gewichteter CrossEntropy oder Focal Loss)\n",
    "    trainer = WeightedLossTrainer(\n",
    "        model=model,                                # FinBERT-Modell\n",
    "        args=training_args,                         # Trainingsargumente\n",
    "        train_dataset=train_ds,                     # Trainingsdaten\n",
    "        eval_dataset=val_ds,                        # Validierungsdaten\n",
    "        tokenizer=tokenizer,                        # Tokenizer für Preprocessing\n",
    "        compute_metrics=compute_metrics,            # Funktion zur Berechnung von Accuracy & F1\n",
    "        loss_fn=loss_fn,                            # Loss-Funktion mit class weights\n",
    "        callbacks=[EarlyStoppingCallback(early_stopping_patience=2)]  # Frühzeitiger Abbruch\n",
    "    )\n",
    "\n",
    "    # Trainingszeit messen\n",
    "    start = time.time()\n",
    "    trainer.train()\n",
    "    end = time.time()\n",
    "\n",
    "    # Lernkurve extrahieren: nur eval_f1-Werte\n",
    "    logs = trainer.state.log_history\n",
    "    epoch_logs = [log for log in logs if \"eval_f1\" in log]\n",
    "    df = pd.DataFrame(epoch_logs)[[\"epoch\", \"eval_f1\"]]\n",
    "    df[\"learning_rate\"] = lr  # Lernrate zur Kurve hinzufügen\n",
    "\n",
    "    # Ergebnisse in Dictionary speichern\n",
    "    results[lr] = {\n",
    "        \"f1_curve\": df,                         # F1-Verlauf pro Epoche\n",
    "        \"best_f1\": df[\"eval_f1\"].max(),         # Bester F1-Wert\n",
    "        \"trainer\": trainer                      # Referenz auf den Trainer\n",
    "    }\n",
    "\n",
    "    print(f\"Training für learning_rate = {lr} abgeschlossen in {end - start:.2f} Sekunden.\")\n"
   ]
  },
  {
   "cell_type": "markdown",
   "id": "9df59077",
   "metadata": {},
   "source": [
    "## Evaluation"
   ]
  },
  {
   "cell_type": "markdown",
   "id": "3f971015",
   "metadata": {},
   "source": [
    "### Plot"
   ]
  },
  {
   "cell_type": "code",
   "execution_count": null,
   "id": "0cfe48ba",
   "metadata": {},
   "outputs": [
    {
     "name": "stderr",
     "output_type": "stream",
     "text": [
      "C:\\Users\\hp\\AppData\\Local\\Temp\\ipykernel_14324\\239583412.py:12: UserWarning: Glyph 128200 (\\N{CHART WITH UPWARDS TREND}) missing from font(s) DejaVu Sans.\n",
      "  plt.tight_layout()\n",
      "c:\\Users\\hp\\anaconda3\\envs\\crypto_nlp\\lib\\site-packages\\IPython\\core\\pylabtools.py:152: UserWarning: Glyph 128200 (\\N{CHART WITH UPWARDS TREND}) missing from font(s) DejaVu Sans.\n",
      "  fig.canvas.print_figure(bytes_io, **kw)\n"
     ]
    },
    {
     "data": {
      "image/png": "[encoded data removed]",
      "text/plain": [
       "<Figure size 800x500 with 1 Axes>"
      ]
     },
     "metadata": {},
     "output_type": "display_data"
    }
   ],
   "source": [
    "plt.figure(figsize=(8, 5))\n",
    "\n",
    "for lr, data in results.items():\n",
    "    df = data[\"f1_curve\"]\n",
    "    plt.plot(df[\"epoch\"], df[\"eval_f1\"], marker=\"o\", label=f\"lr={lr}\")\n",
    "\n",
    "plt.title(\"📈 Lernkurven (Validation F1) – FinBERT bei verschiedenen Lernraten\")\n",
    "plt.xlabel(\"Epoche\")\n",
    "plt.ylabel(\"F1 (macro)\")\n",
    "plt.legend()\n",
    "plt.grid(True)\n",
    "plt.tight_layout()\n",
    "plt.show()\n"
   ]
  },
  {
   "cell_type": "code",
   "execution_count": null,
   "id": "e18d720c",
   "metadata": {},
   "outputs": [
    {
     "name": "stdout",
     "output_type": "stream",
     "text": [
      "lr=2e-05: best_f1=0.6596\n",
      "lr=1e-05: best_f1=0.6393\n",
      "lr=5e-06: best_f1=0.5987\n",
      "lr=3e-06: best_f1=0.6312\n",
      "lr=1e-06: best_f1=0.4985\n"
     ]
    }
   ],
   "source": [
    "for lr, res in results.items():\n",
    "    print(f\"lr={lr}: best_f1={res['best_f1']:.4f}\")\n"
   ]
  },
  {
   "cell_type": "code",
   "execution_count": null,
   "id": "d47b9f8b",
   "metadata": {},
   "outputs": [
    {
     "name": "stdout",
     "output_type": "stream",
     "text": [
      "\n",
      "🏆 Beste Lernrate: 2e-05 mit F1 = 0.6596\n"
     ]
    }
   ],
   "source": [
    "# Beste Lernrate bestimmen\n",
    "best_lr = max(results.items(), key=lambda x: x[1][\"best_f1\"])[0]\n",
    "best_trainer = results[best_lr][\"trainer\"]\n",
    "\n",
    "print(f\"\\n🏆 Beste Lernrate: {best_lr} mit F1 = {results[best_lr]['best_f1']:.4f}\")\n"
   ]
  },
  {
   "cell_type": "markdown",
   "id": "37b1f409",
   "metadata": {},
   "source": [
    "### Evaluation des besten Modells auf dem separaten Testset"
   ]
  },
  {
   "cell_type": "code",
   "execution_count": null,
   "id": "3847ec46",
   "metadata": {},
   "outputs": [
    {
     "name": "stdout",
     "output_type": "stream",
     "text": [
      "\n",
      "Evaluation auf Testset:\n",
      "F1-Score (macro): 0.4847\n",
      "Cohen’s Kappa:    0.257\n",
      "\n",
      "Klassifikationsreport:\n",
      "              precision    recall  f1-score   support\n",
      "\n",
      "           0       0.46      0.76      0.57        95\n",
      "           1       0.72      0.47      0.57       162\n",
      "           2       0.34      0.29      0.32        41\n",
      "\n",
      "    accuracy                           0.54       298\n",
      "   macro avg       0.51      0.51      0.48       298\n",
      "weighted avg       0.59      0.54      0.53       298\n",
      "\n"
     ]
    }
   ],
   "source": [
    "# Vorhersage auf dem Testset\n",
    "test_results = best_trainer.predict(test_ds)\n",
    "\n",
    "# Klassen aus den Logits extrahieren\n",
    "y_pred = test_results.predictions.argmax(axis=1)  # höchste Wahrscheinlichkeit = Vorhersageklasse\n",
    "y_true = test_results.label_ids                   # echte Labels\n",
    "\n",
    "# Hauptmetriken berechnen\n",
    "f1_macro = f1_score(y_true, y_pred, average=\"macro\")           # Durchschnitt über alle Klassen\n",
    "kappa = cohen_kappa_score(y_true, y_pred)                      # Interrater Agreement\n",
    "\n",
    "# Ergebnisse ausgeben\n",
    "print(\"\\nEvaluation auf Testset:\")\n",
    "print(\"F1-Score (macro):\", round(f1_macro, 4))\n",
    "print(\"Cohen’s Kappa:   \", round(kappa, 4))\n",
    "print(\"\\nKlassifikationsreport:\")\n",
    "print(classification_report(y_true, y_pred))"
   ]
  },
  {
   "cell_type": "markdown",
   "id": "25a1f63a",
   "metadata": {},
   "source": [
    "Alle falsch bewerteten Texte"
   ]
  },
  {
   "cell_type": "code",
   "execution_count": null,
   "id": "f84e603f",
   "metadata": {},
   "outputs": [
    {
     "data": {
      "text/html": [
       "<div>\n",
       "<style scoped>\n",
       "    .dataframe tbody tr th:only-of-type {\n",
       "        vertical-align: middle;\n",
       "    }\n",
       "\n",
       "    .dataframe tbody tr th {\n",
       "        vertical-align: top;\n",
       "    }\n",
       "\n",
       "    .dataframe thead th {\n",
       "        text-align: right;\n",
       "    }\n",
       "</style>\n",
       "<table border=\"1\" class=\"dataframe\">\n",
       "  <thead>\n",
       "    <tr style=\"text-align: right;\">\n",
       "      <th></th>\n",
       "      <th>text</th>\n",
       "      <th>true</th>\n",
       "      <th>predicted</th>\n",
       "    </tr>\n",
       "  </thead>\n",
       "  <tbody>\n",
       "    <tr>\n",
       "      <th>0</th>\n",
       "      <td>What’s wrong with cutting losses and buying ba...</td>\n",
       "      <td>2</td>\n",
       "      <td>1</td>\n",
       "    </tr>\n",
       "    <tr>\n",
       "      <th>1</th>\n",
       "      <td>Ethereum (ETH) White Paper</td>\n",
       "      <td>1</td>\n",
       "      <td>0</td>\n",
       "    </tr>\n",
       "    <tr>\n",
       "      <th>2</th>\n",
       "      <td>Memecoin beginner guide See a lot of new peopl...</td>\n",
       "      <td>1</td>\n",
       "      <td>0</td>\n",
       "    </tr>\n",
       "    <tr>\n",
       "      <th>5</th>\n",
       "      <td>Gas Fee Challenges across different blockchain...</td>\n",
       "      <td>1</td>\n",
       "      <td>2</td>\n",
       "    </tr>\n",
       "    <tr>\n",
       "      <th>9</th>\n",
       "      <td>Scam on Binance Hey guys I just wanna warn you...</td>\n",
       "      <td>1</td>\n",
       "      <td>2</td>\n",
       "    </tr>\n",
       "    <tr>\n",
       "      <th>...</th>\n",
       "      <td>...</td>\n",
       "      <td>...</td>\n",
       "      <td>...</td>\n",
       "    </tr>\n",
       "    <tr>\n",
       "      <th>197</th>\n",
       "      <td>Ethtrader Market Update: Last Week’s Oceania C...</td>\n",
       "      <td>0</td>\n",
       "      <td>1</td>\n",
       "    </tr>\n",
       "    <tr>\n",
       "      <th>202</th>\n",
       "      <td>Your Daily Bitcoin Breakdown newsletter is now...</td>\n",
       "      <td>1</td>\n",
       "      <td>0</td>\n",
       "    </tr>\n",
       "    <tr>\n",
       "      <th>205</th>\n",
       "      <td>Fees associated with selling and withdrawing A...</td>\n",
       "      <td>2</td>\n",
       "      <td>0</td>\n",
       "    </tr>\n",
       "    <tr>\n",
       "      <th>207</th>\n",
       "      <td>Iran vs Crypto Although I am happy the Bitcoin...</td>\n",
       "      <td>0</td>\n",
       "      <td>1</td>\n",
       "    </tr>\n",
       "    <tr>\n",
       "      <th>208</th>\n",
       "      <td>Family barbecues will never be the same again</td>\n",
       "      <td>1</td>\n",
       "      <td>2</td>\n",
       "    </tr>\n",
       "  </tbody>\n",
       "</table>\n",
       "<p>100 rows × 3 columns</p>\n",
       "</div>"
      ],
      "text/plain": [
       "                                                  text  true  predicted\n",
       "0    What’s wrong with cutting losses and buying ba...     2          1\n",
       "1                          Ethereum (ETH) White Paper      1          0\n",
       "2    Memecoin beginner guide See a lot of new peopl...     1          0\n",
       "5    Gas Fee Challenges across different blockchain...     1          2\n",
       "9    Scam on Binance Hey guys I just wanna warn you...     1          2\n",
       "..                                                 ...   ...        ...\n",
       "197  Ethtrader Market Update: Last Week’s Oceania C...     0          1\n",
       "202  Your Daily Bitcoin Breakdown newsletter is now...     1          0\n",
       "205  Fees associated with selling and withdrawing A...     2          0\n",
       "207  Iran vs Crypto Although I am happy the Bitcoin...     0          1\n",
       "208     Family barbecues will never be the same again      1          2\n",
       "\n",
       "[100 rows x 3 columns]"
      ]
     },
     "execution_count": 42,
     "metadata": {},
     "output_type": "execute_result"
    }
   ],
   "source": [
    "wrong = [(i, p, t) for i, (p, t) in enumerate(zip(y_pred, y_true)) if p != t]\n",
    "wrong_df = test_df.iloc[[i for i, _, _ in wrong]].copy()\n",
    "wrong_df[\"predicted\"] = [p for _, p, _ in wrong]\n",
    "wrong_df[\"true\"] = [t for _, _, t in wrong]\n",
    "\n",
    "wrong_df[[\"text\", \"true\", \"predicted\"]].head(100)\n"
   ]
  },
  {
   "cell_type": "code",
   "execution_count": null,
   "id": "3773ca63",
   "metadata": {},
   "outputs": [],
   "source": []
  }
 ],
 "metadata": {
  "kernelspec": {
   "display_name": "crypto_nlp",
   "language": "python",
   "name": "python3"
  },
  "language_info": {
   "codemirror_mode": {
    "name": "ipython",
    "version": 3
   },
   "file_extension": ".py",
   "mimetype": "text/x-python",
   "name": "python",
   "nbconvert_exporter": "python",
   "pygments_lexer": "ipython3",
   "version": "3.9.21"
  }
 },
 "nbformat": 4,
 "nbformat_minor": 5
}
