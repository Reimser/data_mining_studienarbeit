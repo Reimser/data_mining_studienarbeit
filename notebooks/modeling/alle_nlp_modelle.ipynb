{
 "cells": [
  {
   "cell_type": "markdown",
   "metadata": {},
   "source": [
    "## Import"
   ]
  },
  {
   "cell_type": "code",
   "execution_count": 24,
   "metadata": {},
   "outputs": [],
   "source": [
    "import os\n",
    "import torch\n",
    "import pandas as pd\n",
    "from datasets import Dataset\n",
    "from transformers import AutoModelForSequenceClassification, Trainer, AutoTokenizer\n",
    "import numpy as np\n",
    "import torch\n",
    "from sklearn.metrics import accuracy_score, f1_score,classification_report\n",
    "import pandas as pd\n",
    "from transformers import AutoModelForSequenceClassification, Trainer\n",
    "import matplotlib.pyplot as plt\n",
    "from sklearn.metrics import accuracy_score, f1_score, classification_report\n",
    "from datasets import Dataset\n",
    "import numpy as np\n",
    "from textblob import TextBlob\n",
    "from nltk.sentiment.vader import SentimentIntensityAnalyzer\n",
    "\n"
   ]
  },
  {
   "cell_type": "code",
   "execution_count": 25,
   "metadata": {},
   "outputs": [
    {
     "name": "stdout",
     "output_type": "stream",
     "text": [
      "Using cuda device\n"
     ]
    }
   ],
   "source": [
    "# Cuda pruefen\n",
    "device = \"cuda\" if torch.cuda.is_available() else \"cpu\"\n",
    "print(\"Using {} device\".format(device))"
   ]
  },
  {
   "cell_type": "markdown",
   "metadata": {},
   "source": [
    "## import der gelablten daten und testsplit"
   ]
  },
  {
   "cell_type": "markdown",
   "metadata": {},
   "source": [
    "Gelabelte Daten importieren und mergen"
   ]
  },
  {
   "cell_type": "code",
   "execution_count": 26,
   "metadata": {},
   "outputs": [],
   "source": [
    "DATA_PATH = '../../data/processed/'"
   ]
  },
  {
   "cell_type": "code",
   "execution_count": 27,
   "metadata": {},
   "outputs": [
    {
     "name": "stdout",
     "output_type": "stream",
     "text": [
      "✅ Posts: 298 Beispiele\n",
      "label\n",
      "1    162\n",
      "0     95\n",
      "2     41\n",
      "Name: count, dtype: int64\n",
      "\n",
      "✅ Comments: 999 Beispiele\n",
      "label\n",
      "0    333\n",
      "1    333\n",
      "2    333\n",
      "Name: count, dtype: int64\n"
     ]
    }
   ],
   "source": [
    "#  Neue Testdaten laden\n",
    "df_posts = pd.read_csv(os.path.join(DATA_PATH, \"test_data_posts.csv\")).rename(columns={\"post_id\": \"id\"})\n",
    "df_comments = pd.read_csv(os.path.join(DATA_PATH, \"test_data_comments.csv\")).rename(columns={\"comment_id\": \"id\"})\n",
    "\n",
    "# Vereinheitlichen (id, text, label)\n",
    "df_posts = df_posts[[\"id\", \"text\", \"label\"]].dropna()\n",
    "df_comments = df_comments[[\"text\", \"label\"]].dropna()\n",
    "\n",
    "# Label-Typ absichern\n",
    "df_posts[\"label\"] = pd.to_numeric(df_posts[\"label\"], errors=\"coerce\")\n",
    "df_comments[\"label\"] = pd.to_numeric(df_comments[\"label\"], errors=\"coerce\")\n",
    "\n",
    "df_posts = df_posts.dropna(subset=[\"label\"])\n",
    "df_comments = df_comments.dropna(subset=[\"label\"])\n",
    "\n",
    "df_posts[\"label\"] = df_posts[\"label\"].astype(int)\n",
    "df_comments[\"label\"] = df_comments[\"label\"].astype(int)\n",
    "\n",
    "# Übersicht\n",
    "print(f\"✅ Posts: {len(df_posts)} Beispiele\")\n",
    "print(df_posts[\"label\"].value_counts())\n",
    "\n",
    "print(f\"\\n✅ Comments: {len(df_comments)} Beispiele\")\n",
    "print(df_comments[\"label\"].value_counts())\n"
   ]
  },
  {
   "cell_type": "markdown",
   "metadata": {},
   "source": [
    "train test split"
   ]
  },
  {
   "cell_type": "code",
   "execution_count": 28,
   "metadata": {},
   "outputs": [],
   "source": [
    "df_test_posts = df_posts.copy()\n",
    "df_test_comments = df_comments.copy()\n"
   ]
  },
  {
   "cell_type": "markdown",
   "metadata": {},
   "source": [
    "## Modelle"
   ]
  },
  {
   "cell_type": "code",
   "execution_count": 29,
   "metadata": {},
   "outputs": [],
   "source": [
    "# Modelle definieren\n",
    "HF_MODELS = {\n",
    "    \"deberta\": \"microsoft/deberta-v3-base\",\n",
    "    \"cryptobert\": \"ElKulako/cryptobert\",\n",
    "    \"finbert\": \"yiyanghkust/finbert-tone\",\n",
    "    \"roberta\": \"cardiffnlp/twitter-roberta-base-sentiment\"\n",
    "}\n",
    "\n",
    "CLASSIC_MODELS = {\n",
    "    \"vader\": SentimentIntensityAnalyzer(),\n",
    "    \"textblob\": \"textblob\"\n",
    "}\n"
   ]
  },
  {
   "cell_type": "code",
   "execution_count": 30,
   "metadata": {},
   "outputs": [
    {
     "name": "stdout",
     "output_type": "stream",
     "text": [
      "\n",
      "Klassifikationsreport für POSTS:\n",
      "============================================================\n",
      "\n",
      "DEBERTA Modell:\n"
     ]
    },
    {
     "name": "stderr",
     "output_type": "stream",
     "text": [
      "c:\\Users\\hp\\anaconda3\\envs\\crypto_nlp\\lib\\site-packages\\transformers\\convert_slow_tokenizer.py:561: UserWarning: The sentencepiece tokenizer that you are converting to a fast tokenizer uses the byte fallback option which is not implemented in the fast tokenizers. In practice this means that the fast version of the tokenizer can produce unknown tokens whereas the sentencepiece version would have converted these unknown tokens into a sequence of byte tokens matching the original piece of text.\n",
      "  warnings.warn(\n",
      "Some weights of DebertaV2ForSequenceClassification were not initialized from the model checkpoint at microsoft/deberta-v3-base and are newly initialized: ['classifier.bias', 'classifier.weight', 'pooler.dense.bias', 'pooler.dense.weight']\n",
      "You should probably TRAIN this model on a down-stream task to be able to use it for predictions and inference.\n",
      "Map: 100%|██████████| 298/298 [00:00<00:00, 3630.68 examples/s]\n",
      "C:\\Users\\hp\\AppData\\Local\\Temp\\ipykernel_13976\\1859222561.py:24: FutureWarning: `tokenizer` is deprecated and will be removed in version 5.0.0 for `Trainer.__init__`. Use `processing_class` instead.\n",
      "  trainer = Trainer(model=model, tokenizer=tokenizer)\n"
     ]
    },
    {
     "data": {
      "text/html": [],
      "text/plain": [
       "<IPython.core.display.HTML object>"
      ]
     },
     "metadata": {},
     "output_type": "display_data"
    },
    {
     "name": "stderr",
     "output_type": "stream",
     "text": [
      "c:\\Users\\hp\\anaconda3\\envs\\crypto_nlp\\lib\\site-packages\\sklearn\\metrics\\_classification.py:1565: UndefinedMetricWarning: Precision is ill-defined and being set to 0.0 in labels with no predicted samples. Use `zero_division` parameter to control this behavior.\n",
      "  _warn_prf(average, modifier, f\"{metric.capitalize()} is\", len(result))\n",
      "c:\\Users\\hp\\anaconda3\\envs\\crypto_nlp\\lib\\site-packages\\sklearn\\metrics\\_classification.py:1565: UndefinedMetricWarning: Precision is ill-defined and being set to 0.0 in labels with no predicted samples. Use `zero_division` parameter to control this behavior.\n",
      "  _warn_prf(average, modifier, f\"{metric.capitalize()} is\", len(result))\n",
      "c:\\Users\\hp\\anaconda3\\envs\\crypto_nlp\\lib\\site-packages\\sklearn\\metrics\\_classification.py:1565: UndefinedMetricWarning: Precision is ill-defined and being set to 0.0 in labels with no predicted samples. Use `zero_division` parameter to control this behavior.\n",
      "  _warn_prf(average, modifier, f\"{metric.capitalize()} is\", len(result))\n"
     ]
    },
    {
     "name": "stdout",
     "output_type": "stream",
     "text": [
      "\n",
      "CRYPTOBERT Modell:\n"
     ]
    },
    {
     "name": "stderr",
     "output_type": "stream",
     "text": [
      "Map: 100%|██████████| 298/298 [00:00<00:00, 4882.95 examples/s]\n",
      "C:\\Users\\hp\\AppData\\Local\\Temp\\ipykernel_13976\\1859222561.py:24: FutureWarning: `tokenizer` is deprecated and will be removed in version 5.0.0 for `Trainer.__init__`. Use `processing_class` instead.\n",
      "  trainer = Trainer(model=model, tokenizer=tokenizer)\n"
     ]
    },
    {
     "data": {
      "text/html": [],
      "text/plain": [
       "<IPython.core.display.HTML object>"
      ]
     },
     "metadata": {},
     "output_type": "display_data"
    },
    {
     "name": "stdout",
     "output_type": "stream",
     "text": [
      "\n",
      "FINBERT Modell:\n"
     ]
    },
    {
     "name": "stderr",
     "output_type": "stream",
     "text": [
      "Map: 100%|██████████| 298/298 [00:00<00:00, 4431.74 examples/s]\n",
      "C:\\Users\\hp\\AppData\\Local\\Temp\\ipykernel_13976\\1859222561.py:24: FutureWarning: `tokenizer` is deprecated and will be removed in version 5.0.0 for `Trainer.__init__`. Use `processing_class` instead.\n",
      "  trainer = Trainer(model=model, tokenizer=tokenizer)\n"
     ]
    },
    {
     "data": {
      "text/html": [],
      "text/plain": [
       "<IPython.core.display.HTML object>"
      ]
     },
     "metadata": {},
     "output_type": "display_data"
    },
    {
     "name": "stdout",
     "output_type": "stream",
     "text": [
      "\n",
      "ROBERTA Modell:\n"
     ]
    },
    {
     "name": "stderr",
     "output_type": "stream",
     "text": [
      "Map: 100%|██████████| 298/298 [00:00<00:00, 5496.64 examples/s]\n",
      "C:\\Users\\hp\\AppData\\Local\\Temp\\ipykernel_13976\\1859222561.py:24: FutureWarning: `tokenizer` is deprecated and will be removed in version 5.0.0 for `Trainer.__init__`. Use `processing_class` instead.\n",
      "  trainer = Trainer(model=model, tokenizer=tokenizer)\n"
     ]
    },
    {
     "data": {
      "text/html": [],
      "text/plain": [
       "<IPython.core.display.HTML object>"
      ]
     },
     "metadata": {},
     "output_type": "display_data"
    },
    {
     "name": "stdout",
     "output_type": "stream",
     "text": [
      "\n",
      "VADER Modell:\n",
      "\n",
      "TEXTBLOB Modell:\n",
      "\n",
      "Klassifikationsreport für COMMENTS:\n",
      "============================================================\n",
      "\n",
      "DEBERTA Modell:\n"
     ]
    },
    {
     "name": "stderr",
     "output_type": "stream",
     "text": [
      "c:\\Users\\hp\\anaconda3\\envs\\crypto_nlp\\lib\\site-packages\\transformers\\convert_slow_tokenizer.py:561: UserWarning: The sentencepiece tokenizer that you are converting to a fast tokenizer uses the byte fallback option which is not implemented in the fast tokenizers. In practice this means that the fast version of the tokenizer can produce unknown tokens whereas the sentencepiece version would have converted these unknown tokens into a sequence of byte tokens matching the original piece of text.\n",
      "  warnings.warn(\n",
      "Some weights of DebertaV2ForSequenceClassification were not initialized from the model checkpoint at microsoft/deberta-v3-base and are newly initialized: ['classifier.bias', 'classifier.weight', 'pooler.dense.bias', 'pooler.dense.weight']\n",
      "You should probably TRAIN this model on a down-stream task to be able to use it for predictions and inference.\n",
      "Map: 100%|██████████| 999/999 [00:00<00:00, 8259.95 examples/s]\n",
      "C:\\Users\\hp\\AppData\\Local\\Temp\\ipykernel_13976\\1859222561.py:24: FutureWarning: `tokenizer` is deprecated and will be removed in version 5.0.0 for `Trainer.__init__`. Use `processing_class` instead.\n",
      "  trainer = Trainer(model=model, tokenizer=tokenizer)\n"
     ]
    },
    {
     "data": {
      "text/html": [],
      "text/plain": [
       "<IPython.core.display.HTML object>"
      ]
     },
     "metadata": {},
     "output_type": "display_data"
    },
    {
     "name": "stderr",
     "output_type": "stream",
     "text": [
      "c:\\Users\\hp\\anaconda3\\envs\\crypto_nlp\\lib\\site-packages\\sklearn\\metrics\\_classification.py:1565: UndefinedMetricWarning: Precision is ill-defined and being set to 0.0 in labels with no predicted samples. Use `zero_division` parameter to control this behavior.\n",
      "  _warn_prf(average, modifier, f\"{metric.capitalize()} is\", len(result))\n",
      "c:\\Users\\hp\\anaconda3\\envs\\crypto_nlp\\lib\\site-packages\\sklearn\\metrics\\_classification.py:1565: UndefinedMetricWarning: Precision is ill-defined and being set to 0.0 in labels with no predicted samples. Use `zero_division` parameter to control this behavior.\n",
      "  _warn_prf(average, modifier, f\"{metric.capitalize()} is\", len(result))\n",
      "c:\\Users\\hp\\anaconda3\\envs\\crypto_nlp\\lib\\site-packages\\sklearn\\metrics\\_classification.py:1565: UndefinedMetricWarning: Precision is ill-defined and being set to 0.0 in labels with no predicted samples. Use `zero_division` parameter to control this behavior.\n",
      "  _warn_prf(average, modifier, f\"{metric.capitalize()} is\", len(result))\n"
     ]
    },
    {
     "name": "stdout",
     "output_type": "stream",
     "text": [
      "\n",
      "CRYPTOBERT Modell:\n"
     ]
    },
    {
     "name": "stderr",
     "output_type": "stream",
     "text": [
      "Map: 100%|██████████| 999/999 [00:00<00:00, 12926.65 examples/s]\n",
      "C:\\Users\\hp\\AppData\\Local\\Temp\\ipykernel_13976\\1859222561.py:24: FutureWarning: `tokenizer` is deprecated and will be removed in version 5.0.0 for `Trainer.__init__`. Use `processing_class` instead.\n",
      "  trainer = Trainer(model=model, tokenizer=tokenizer)\n"
     ]
    },
    {
     "data": {
      "text/html": [],
      "text/plain": [
       "<IPython.core.display.HTML object>"
      ]
     },
     "metadata": {},
     "output_type": "display_data"
    },
    {
     "name": "stdout",
     "output_type": "stream",
     "text": [
      "\n",
      "FINBERT Modell:\n"
     ]
    },
    {
     "name": "stderr",
     "output_type": "stream",
     "text": [
      "Map: 100%|██████████| 999/999 [00:00<00:00, 9120.10 examples/s]\n",
      "C:\\Users\\hp\\AppData\\Local\\Temp\\ipykernel_13976\\1859222561.py:24: FutureWarning: `tokenizer` is deprecated and will be removed in version 5.0.0 for `Trainer.__init__`. Use `processing_class` instead.\n",
      "  trainer = Trainer(model=model, tokenizer=tokenizer)\n"
     ]
    },
    {
     "data": {
      "text/html": [],
      "text/plain": [
       "<IPython.core.display.HTML object>"
      ]
     },
     "metadata": {},
     "output_type": "display_data"
    },
    {
     "name": "stdout",
     "output_type": "stream",
     "text": [
      "\n",
      "ROBERTA Modell:\n"
     ]
    },
    {
     "name": "stderr",
     "output_type": "stream",
     "text": [
      "Map: 100%|██████████| 999/999 [00:00<00:00, 13084.36 examples/s]\n",
      "C:\\Users\\hp\\AppData\\Local\\Temp\\ipykernel_13976\\1859222561.py:24: FutureWarning: `tokenizer` is deprecated and will be removed in version 5.0.0 for `Trainer.__init__`. Use `processing_class` instead.\n",
      "  trainer = Trainer(model=model, tokenizer=tokenizer)\n"
     ]
    },
    {
     "data": {
      "text/html": [],
      "text/plain": [
       "<IPython.core.display.HTML object>"
      ]
     },
     "metadata": {},
     "output_type": "display_data"
    },
    {
     "name": "stdout",
     "output_type": "stream",
     "text": [
      "\n",
      "VADER Modell:\n",
      "\n",
      "TEXTBLOB Modell:\n"
     ]
    }
   ],
   "source": [
    "# Ergebniscontainer für Klassifikationsreports\n",
    "classification_reports_posts = {}\n",
    "classification_reports_comments = {}\n",
    "\n",
    "# Evaluation\n",
    "for dataset_name, current_test_df in [(\"posts\", df_test_posts), (\"comments\", df_test_comments)]:\n",
    "    print(f\"\\nKlassifikationsreport für {dataset_name.upper()}:\\n{'='*60}\")\n",
    "\n",
    "    # Temporärer Ergebniscontainer je Datensatz\n",
    "    temp_reports = {}\n",
    "\n",
    "    # HuggingFace Modelle\n",
    "    for name, model_name in HF_MODELS.items():\n",
    "        print(f\"\\n{name.upper()} Modell:\")\n",
    "\n",
    "        tokenizer = AutoTokenizer.from_pretrained(model_name)\n",
    "        model = AutoModelForSequenceClassification.from_pretrained(model_name, num_labels=3)\n",
    "\n",
    "        test_dataset = Dataset.from_pandas(current_test_df)\n",
    "        tokenized_test = test_dataset.map(lambda x: tokenizer(x['text'], truncation=True, padding='max_length', max_length=256), batched=True)\n",
    "        tokenized_test = tokenized_test.rename_column(\"label\", \"labels\")\n",
    "        tokenized_test.set_format(\"torch\", columns=[\"input_ids\", \"attention_mask\", \"labels\"])\n",
    "\n",
    "        trainer = Trainer(model=model, tokenizer=tokenizer)\n",
    "        predictions = trainer.predict(tokenized_test)\n",
    "\n",
    "        y_pred = np.argmax(predictions.predictions, axis=1)\n",
    "        y_true = predictions.label_ids\n",
    "\n",
    "        # CryptoBERT Mapping (wie zuvor definiert)\n",
    "        # 🔁 Nur für CryptoBERT auf POSTS Mapping anwenden!\n",
    "        if dataset_name == \"posts\" and name == \"cryptobert\":\n",
    "            label_mapping = {2: 0, 1: 1, 0: 2}\n",
    "            y_pred = [label_mapping[p] for p in y_pred]\n",
    "\n",
    "\n",
    "        # Klassifikationsreport speichern\n",
    "        report = classification_report(\n",
    "            y_true, y_pred,\n",
    "            target_names=['bullish', 'neutral', 'bearish'],\n",
    "            output_dict=True\n",
    "        )\n",
    "\n",
    "        temp_reports[name] = report\n",
    "\n",
    "    # Klassische Modelle\n",
    "    for name, model_obj in CLASSIC_MODELS.items():\n",
    "        print(f\"\\n{name.upper()} Modell:\")\n",
    "        preds = []\n",
    "        for text in current_test_df[\"text\"]:\n",
    "            if name == \"vader\":\n",
    "                score = model_obj.polarity_scores(text)[\"compound\"]\n",
    "                preds.append(0 if score >= 0.05 else 2 if score <= -0.05 else 1)\n",
    "\n",
    "            elif name == \"textblob\":\n",
    "                polarity = TextBlob(text).sentiment.polarity\n",
    "                preds.append(0 if polarity >= 0.05 else 2 if polarity <= -0.05 else 1)\n",
    "\n",
    "        # Klassifikationsreport speichern\n",
    "        report = classification_report(\n",
    "            current_test_df[\"label\"], preds,\n",
    "            target_names=['bullish', 'neutral', 'bearish'],\n",
    "            output_dict=True\n",
    "        )\n",
    "\n",
    "        temp_reports[name] = report\n",
    "\n",
    "    # Reports endgültig in den jeweiligen Container speichern\n",
    "    if dataset_name == \"posts\":\n",
    "        classification_reports_posts = temp_reports\n",
    "    else:\n",
    "        classification_reports_comments = temp_reports\n"
   ]
  },
  {
   "cell_type": "markdown",
   "metadata": {},
   "source": [
    "## Plot"
   ]
  },
  {
   "cell_type": "code",
   "execution_count": 31,
   "metadata": {},
   "outputs": [
    {
     "name": "stdout",
     "output_type": "stream",
     "text": [
      "📊 F1-Scores pro Klasse – POSTS\n",
      "\n",
      "DEBERTA:\n",
      "  bullish: 0.4835\n",
      "  neutral: 0.0000\n",
      "  bearish: 0.0000\n",
      "\n",
      "CRYPTOBERT:\n",
      "  bullish: 0.3611\n",
      "  neutral: 0.5199\n",
      "  bearish: 0.1132\n",
      "\n",
      "FINBERT:\n",
      "  bullish: 0.4286\n",
      "  neutral: 0.1327\n",
      "  bearish: 0.4103\n",
      "\n",
      "ROBERTA:\n",
      "  bullish: 0.0710\n",
      "  neutral: 0.5569\n",
      "  bearish: 0.0645\n",
      "\n",
      "VADER:\n",
      "  bullish: 0.4071\n",
      "  neutral: 0.2162\n",
      "  bearish: 0.4255\n",
      "\n",
      "TEXTBLOB:\n",
      "  bullish: 0.4375\n",
      "  neutral: 0.3910\n",
      "  bearish: 0.1892\n",
      "\n",
      "============================================================\n",
      "📊 F1-Scores pro Klasse – COMMENTS\n",
      "\n",
      "DEBERTA:\n",
      "  bullish: 0.5004\n",
      "  neutral: 0.0000\n",
      "  bearish: 0.0000\n",
      "\n",
      "CRYPTOBERT:\n",
      "  bullish: 0.9162\n",
      "  neutral: 0.6289\n",
      "  bearish: 0.7514\n",
      "\n",
      "FINBERT:\n",
      "  bullish: 0.4866\n",
      "  neutral: 0.1561\n",
      "  bearish: 0.0886\n",
      "\n",
      "ROBERTA:\n",
      "  bullish: 0.4458\n",
      "  neutral: 0.3904\n",
      "  bearish: 0.3327\n",
      "\n",
      "VADER:\n",
      "  bullish: 0.2534\n",
      "  neutral: 0.3244\n",
      "  bearish: 0.2144\n",
      "\n",
      "TEXTBLOB:\n",
      "  bullish: 0.2909\n",
      "  neutral: 0.3702\n",
      "  bearish: 0.2364\n"
     ]
    }
   ],
   "source": [
    "# Hilfsfunktion zur Extraktion der F1-Scores\n",
    "def extract_f1_scores(classification_reports):\n",
    "    f1_data = {}\n",
    "    for model, report in classification_reports.items():\n",
    "        f1_data[model] = {\n",
    "            \"bullish\": report[\"bullish\"][\"f1-score\"],\n",
    "            \"neutral\": report[\"neutral\"][\"f1-score\"],\n",
    "            \"bearish\": report[\"bearish\"][\"f1-score\"]\n",
    "        }\n",
    "    return f1_data\n",
    "\n",
    "# F1-Scores extrahieren\n",
    "f1_posts = extract_f1_scores(classification_reports_posts)\n",
    "f1_comments = extract_f1_scores(classification_reports_comments)\n",
    "\n",
    "# Ausgabe\n",
    "print(\"📊 F1-Scores pro Klasse – POSTS\")\n",
    "for model, scores in f1_posts.items():\n",
    "    print(f\"\\n{model.upper()}:\")\n",
    "    for cls, score in scores.items():\n",
    "        print(f\"  {cls}: {score:.4f}\")\n",
    "\n",
    "print(\"\\n\" + \"=\"*60)\n",
    "print(\"📊 F1-Scores pro Klasse – COMMENTS\")\n",
    "for model, scores in f1_comments.items():\n",
    "    print(f\"\\n{model.upper()}:\")\n",
    "    for cls, score in scores.items():\n",
    "        print(f\"  {cls}: {score:.4f}\")\n"
   ]
  },
  {
   "cell_type": "code",
   "execution_count": 32,
   "metadata": {},
   "outputs": [
    {
     "data": {
      "image/png": "[encoded data removed]",
      "text/plain": [
       "<Figure size 1200x500 with 1 Axes>"
      ]
     },
     "metadata": {},
     "output_type": "display_data"
    },
    {
     "data": {
      "image/png": "[encoded data removed]",
      "text/plain": [
       "<Figure size 1200x500 with 1 Axes>"
      ]
     },
     "metadata": {},
     "output_type": "display_data"
    }
   ],
   "source": [
    "import pandas as pd\n",
    "import matplotlib.pyplot as plt\n",
    "import seaborn as sns\n",
    "\n",
    "# In DataFrames umwandeln\n",
    "df_posts = pd.DataFrame(f1_posts).T.reset_index().rename(columns={\"index\": \"model\"})\n",
    "df_comments = pd.DataFrame(f1_comments).T.reset_index().rename(columns={\"index\": \"model\"})\n",
    "\n",
    "# Melt für Plots – nur über die Klassen (nicht über \"type\" oder sonstiges)\n",
    "df_posts_melted = df_posts.melt(id_vars=[\"model\"], \n",
    "                                value_vars=[\"bullish\", \"neutral\", \"bearish\"],\n",
    "                                var_name=\"class\", value_name=\"f1_score\")\n",
    "\n",
    "df_comments_melted = df_comments.melt(id_vars=[\"model\"], \n",
    "                                      value_vars=[\"bullish\", \"neutral\", \"bearish\"],\n",
    "                                      var_name=\"class\", value_name=\"f1_score\")\n",
    "\n",
    "# Plot: POSTS\n",
    "plt.figure(figsize=(12, 5))\n",
    "sns.barplot(data=df_posts_melted, x=\"model\", y=\"f1_score\", hue=\"class\", edgecolor=\"black\")\n",
    "plt.title(\"F1-Score pro Klasse und Modell – Posts\")\n",
    "plt.ylabel(\"F1-Score\")\n",
    "plt.xlabel(\"Modell\")\n",
    "plt.ylim(0, 1)\n",
    "plt.grid(axis=\"y\", linestyle=\"--\", alpha=0.6)\n",
    "plt.legend(title=\"Klasse\")\n",
    "plt.xticks(rotation=45)\n",
    "plt.tight_layout()\n",
    "plt.show()\n",
    "\n",
    "# Plot: COMMENTS\n",
    "plt.figure(figsize=(12, 5))\n",
    "sns.barplot(data=df_comments_melted, x=\"model\", y=\"f1_score\", hue=\"class\", edgecolor=\"black\")\n",
    "plt.title(\"F1-Score pro Klasse und Modell – Comments\")\n",
    "plt.ylabel(\"F1-Score\")\n",
    "plt.xlabel(\"Modell\")\n",
    "plt.ylim(0, 1)\n",
    "plt.grid(axis=\"y\", linestyle=\"--\", alpha=0.6)\n",
    "plt.legend(title=\"Klasse\")\n",
    "plt.xticks(rotation=45)\n",
    "plt.tight_layout()\n",
    "plt.show()\n"
   ]
  }
 ],
 "metadata": {
  "kernelspec": {
   "display_name": "crypto_nlp",
   "language": "python",
   "name": "python3"
  },
  "language_info": {
   "codemirror_mode": {
    "name": "ipython",
    "version": 3
   },
   "file_extension": ".py",
   "mimetype": "text/x-python",
   "name": "python",
   "nbconvert_exporter": "python",
   "pygments_lexer": "ipython3",
   "version": "3.9.21"
  }
 },
 "nbformat": 4,
 "nbformat_minor": 2
}
