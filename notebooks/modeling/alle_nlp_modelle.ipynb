{
 "cells": [
  {
   "cell_type": "markdown",
   "metadata": {},
   "source": [
    "## Import"
   ]
  },
  {
   "cell_type": "code",
   "execution_count": 51,
   "metadata": {},
   "outputs": [],
   "source": [
    "import os\n",
    "import torch\n",
    "import pandas as pd\n",
    "from datasets import Dataset\n",
    "from transformers import AutoModelForSequenceClassification, Trainer, AutoTokenizer\n",
    "import numpy as np\n",
    "import torch\n",
    "from sklearn.metrics import accuracy_score, f1_score,classification_report\n",
    "import pandas as pd\n",
    "from transformers import AutoModelForSequenceClassification, Trainer\n",
    "import matplotlib.pyplot as plt\n"
   ]
  },
  {
   "cell_type": "code",
   "execution_count": 52,
   "metadata": {},
   "outputs": [
    {
     "name": "stdout",
     "output_type": "stream",
     "text": [
      "Using cuda device\n"
     ]
    }
   ],
   "source": [
    "# Cuda pruefen\n",
    "device = \"cuda\" if torch.cuda.is_available() else \"cpu\"\n",
    "print(\"Using {} device\".format(device))"
   ]
  },
  {
   "cell_type": "markdown",
   "metadata": {},
   "source": [
    "## import der gelablten daten und testsplit"
   ]
  },
  {
   "cell_type": "markdown",
   "metadata": {},
   "source": [
    "Gelabelte Daten importieren und mergen"
   ]
  },
  {
   "cell_type": "code",
   "execution_count": 53,
   "metadata": {},
   "outputs": [],
   "source": [
    "DATA_PATH = '../../data/processed/'"
   ]
  },
  {
   "cell_type": "code",
   "execution_count": 54,
   "metadata": {},
   "outputs": [
    {
     "name": "stdout",
     "output_type": "stream",
     "text": [
      "✅ Gesamtdatensatz mit 574 gelabelten Beispielen bereit.\n",
      "label\n",
      "1    300\n",
      "0    186\n",
      "2     88\n",
      "Name: count, dtype: int64\n"
     ]
    }
   ],
   "source": [
    "# CSV-Dateien laden aus dem definierten Verzeichnis\n",
    "df_posts_old = pd.read_csv(DATA_PATH + \"labeled_posts.csv\").rename(columns={\"post_id\": \"id\"})\n",
    "df_comments_old = pd.read_csv(DATA_PATH + \"labeled_comments.csv\").rename(columns={\"comment_id\": \"id\"})\n",
    "df_new_posts = pd.read_csv(DATA_PATH + \"labeled_post.csv\").rename(columns={\"post_id\": \"id\"})\n",
    "df_new_comments = pd.read_csv(DATA_PATH + \"labeled_comment.csv\").rename(columns={\"comment_id\": \"id\"})\n",
    "\n",
    "# Alle 4 Datasets zusammenfassen → 600 Samples\n",
    "df_all_labeled = pd.concat([df_posts_old, df_comments_old, df_new_posts, df_new_comments], ignore_index=True)\n",
    "df_all_labeled = df_all_labeled[['id', 'text', 'label']].dropna()\n",
    "df_all_labeled['label'] = pd.to_numeric(df_all_labeled['label'], errors='coerce')\n",
    "df_all_labeled = df_all_labeled.dropna(subset=['label'])\n",
    "df_all_labeled['label'] = df_all_labeled['label'].astype(int)\n",
    "\n",
    "print(f\"✅ Gesamtdatensatz mit {len(df_all_labeled)} gelabelten Beispielen bereit.\")\n",
    "# 🔍 Anzeigen\n",
    "print(df_all_labeled[\"label\"].value_counts())"
   ]
  },
  {
   "cell_type": "markdown",
   "metadata": {},
   "source": [
    "train test split"
   ]
  },
  {
   "cell_type": "code",
   "execution_count": 55,
   "metadata": {},
   "outputs": [
    {
     "name": "stdout",
     "output_type": "stream",
     "text": [
      "label\n",
      "0    88\n",
      "1    88\n",
      "2    88\n",
      "Name: count, dtype: int64\n",
      "📊 Balanciertes Testset erstellt: 264 Beispiele\n"
     ]
    },
    {
     "name": "stderr",
     "output_type": "stream",
     "text": [
      "C:\\Users\\hp\\AppData\\Local\\Temp\\ipykernel_28308\\3691539362.py:6: DeprecationWarning: DataFrameGroupBy.apply operated on the grouping columns. This behavior is deprecated, and in a future version of pandas the grouping columns will be excluded from the operation. Either pass `include_groups=False` to exclude the groupings or explicitly select the grouping columns after groupby to silence this warning.\n",
      "  df_all_labeled\n"
     ]
    }
   ],
   "source": [
    "# 📌 Ziel: So viele wie möglich → n = Anzahl der kleinsten Klasse\n",
    "n_per_class = df_all_labeled[\"label\"].value_counts().min()\n",
    "\n",
    "# ➖ Testset: Gleich viele pro Klasse\n",
    "df_balanced_test = (\n",
    "    df_all_labeled\n",
    "    .groupby(\"label\", group_keys=False)\n",
    "    .apply(lambda x: x.sample(n=n_per_class, random_state=42))\n",
    "    .reset_index(drop=True)\n",
    ")\n",
    "\n",
    "# ➕ Restliche Daten für Training/Val\n",
    "df_rest = df_all_labeled.drop(df_balanced_test.index).reset_index(drop=True)\n",
    "\n",
    "print(df_balanced_test[\"label\"].value_counts())\n",
    "print(f\"📊 Balanciertes Testset erstellt: {len(df_balanced_test)} Beispiele\")\n"
   ]
  },
  {
   "cell_type": "markdown",
   "metadata": {},
   "source": [
    "Modellpfade"
   ]
  },
  {
   "cell_type": "code",
   "execution_count": 56,
   "metadata": {},
   "outputs": [],
   "source": [
    "EXPERIMENTS_BASE_PATH = \"../../models/experiments/\"\n",
    "\n",
    "MODEL_PATHS = {\n",
    "    \"deberta\": os.path.join(EXPERIMENTS_BASE_PATH, \"deberta\"),\n",
    "    \"cryptobert_elkulako\": os.path.join(EXPERIMENTS_BASE_PATH, \"cryptobert_elkulako\"),\n",
    "    \"vader\": os.path.join(EXPERIMENTS_BASE_PATH, \"vader\"),\n",
    "    \"textblob\": os.path.join(EXPERIMENTS_BASE_PATH, \"textblob\")\n",
    "}\n",
    "\n",
    "# Verzeichnisse erstellen\n",
    "for path in MODEL_PATHS.values():\n",
    "    os.makedirs(path, exist_ok=True)\n"
   ]
  },
  {
   "cell_type": "markdown",
   "metadata": {},
   "source": [
    "## de Berta Modell"
   ]
  },
  {
   "cell_type": "code",
   "execution_count": 57,
   "metadata": {},
   "outputs": [
    {
     "name": "stderr",
     "output_type": "stream",
     "text": [
      "c:\\Users\\hp\\anaconda3\\envs\\crypto_nlp\\lib\\site-packages\\transformers\\convert_slow_tokenizer.py:561: UserWarning: The sentencepiece tokenizer that you are converting to a fast tokenizer uses the byte fallback option which is not implemented in the fast tokenizers. In practice this means that the fast version of the tokenizer can produce unknown tokens whereas the sentencepiece version would have converted these unknown tokens into a sequence of byte tokens matching the original piece of text.\n",
      "  warnings.warn(\n",
      "Some weights of DebertaV2ForSequenceClassification were not initialized from the model checkpoint at microsoft/deberta-v3-base and are newly initialized: ['classifier.bias', 'classifier.weight', 'pooler.dense.bias', 'pooler.dense.weight']\n",
      "You should probably TRAIN this model on a down-stream task to be able to use it for predictions and inference.\n",
      "Map: 100%|██████████| 264/264 [00:00<00:00, 3794.05 examples/s]\n",
      "C:\\Users\\hp\\AppData\\Local\\Temp\\ipykernel_28308\\2432194583.py:13: FutureWarning: `tokenizer` is deprecated and will be removed in version 5.0.0 for `Trainer.__init__`. Use `processing_class` instead.\n",
      "  trainer = Trainer(model=model, tokenizer=tokenizer)\n"
     ]
    },
    {
     "data": {
      "text/html": [],
      "text/plain": [
       "<IPython.core.display.HTML object>"
      ]
     },
     "metadata": {},
     "output_type": "display_data"
    },
    {
     "name": "stdout",
     "output_type": "stream",
     "text": [
      "Accuracy: 0.3371212121212121\n",
      "F1 (macro): 0.17463213717895365\n",
      "Classification Report:\n",
      "              precision    recall  f1-score   support\n",
      "\n",
      "           0       0.33      1.00      0.50        88\n",
      "           1       1.00      0.01      0.02        88\n",
      "           2       0.00      0.00      0.00        88\n",
      "\n",
      "    accuracy                           0.34       264\n",
      "   macro avg       0.44      0.34      0.17       264\n",
      "weighted avg       0.44      0.34      0.17       264\n",
      "\n"
     ]
    },
    {
     "name": "stderr",
     "output_type": "stream",
     "text": [
      "c:\\Users\\hp\\anaconda3\\envs\\crypto_nlp\\lib\\site-packages\\sklearn\\metrics\\_classification.py:1565: UndefinedMetricWarning: Precision is ill-defined and being set to 0.0 in labels with no predicted samples. Use `zero_division` parameter to control this behavior.\n",
      "  _warn_prf(average, modifier, f\"{metric.capitalize()} is\", len(result))\n",
      "c:\\Users\\hp\\anaconda3\\envs\\crypto_nlp\\lib\\site-packages\\sklearn\\metrics\\_classification.py:1565: UndefinedMetricWarning: Precision is ill-defined and being set to 0.0 in labels with no predicted samples. Use `zero_division` parameter to control this behavior.\n",
      "  _warn_prf(average, modifier, f\"{metric.capitalize()} is\", len(result))\n",
      "c:\\Users\\hp\\anaconda3\\envs\\crypto_nlp\\lib\\site-packages\\sklearn\\metrics\\_classification.py:1565: UndefinedMetricWarning: Precision is ill-defined and being set to 0.0 in labels with no predicted samples. Use `zero_division` parameter to control this behavior.\n",
      "  _warn_prf(average, modifier, f\"{metric.capitalize()} is\", len(result))\n"
     ]
    },
    {
     "data": {
      "text/plain": [
       "('../../models/experiments/deberta\\\\tokenizer_config.json',\n",
       " '../../models/experiments/deberta\\\\special_tokens_map.json',\n",
       " '../../models/experiments/deberta\\\\spm.model',\n",
       " '../../models/experiments/deberta\\\\added_tokens.json',\n",
       " '../../models/experiments/deberta\\\\tokenizer.json')"
      ]
     },
     "execution_count": 57,
     "metadata": {},
     "output_type": "execute_result"
    }
   ],
   "source": [
    "tokenizer = AutoTokenizer.from_pretrained(\"microsoft/deberta-v3-base\")\n",
    "model = AutoModelForSequenceClassification.from_pretrained(\"microsoft/deberta-v3-base\", num_labels=3)\n",
    "\n",
    "test_dataset = Dataset.from_pandas(df_balanced_test)\n",
    "\n",
    "def tokenize_function(example):\n",
    "    return tokenizer(example[\"text\"], truncation=True, padding=\"max_length\", max_length=256)\n",
    "\n",
    "tokenized_test = test_dataset.map(tokenize_function, batched=True)\n",
    "tokenized_test = tokenized_test.rename_column(\"label\", \"labels\")\n",
    "tokenized_test.set_format(\"torch\", columns=[\"input_ids\", \"attention_mask\", \"labels\"])\n",
    "\n",
    "trainer = Trainer(model=model, tokenizer=tokenizer)\n",
    "predictions = trainer.predict(tokenized_test)\n",
    "\n",
    "y_pred = np.argmax(predictions.predictions, axis=1)\n",
    "y_true = predictions.label_ids\n",
    "\n",
    "acc_deberta = accuracy_score(y_true, y_pred)\n",
    "f1_deberta = f1_score(y_true, y_pred, average=\"macro\")\n",
    "\n",
    "print(\"Accuracy:\", acc_deberta)\n",
    "print(\"F1 (macro):\", f1_deberta)\n",
    "print(\"Classification Report:\")\n",
    "print(classification_report(y_true, y_pred))\n",
    "\n",
    "model.save_pretrained(MODEL_PATHS[\"deberta\"])\n",
    "tokenizer.save_pretrained(MODEL_PATHS[\"deberta\"])\n",
    "\n"
   ]
  },
  {
   "cell_type": "markdown",
   "metadata": {},
   "source": [
    "## ElKulako/cryptobert"
   ]
  },
  {
   "cell_type": "code",
   "execution_count": 58,
   "metadata": {},
   "outputs": [
    {
     "name": "stdout",
     "output_type": "stream",
     "text": [
      "CryptoBERT (ElKulako) — Accuracy: 0.4129, F1: 0.3934\n"
     ]
    },
    {
     "data": {
      "text/plain": [
       "('../../models/experiments/cryptobert_elkulako\\\\tokenizer_config.json',\n",
       " '../../models/experiments/cryptobert_elkulako\\\\special_tokens_map.json',\n",
       " '../../models/experiments/cryptobert_elkulako\\\\vocab.json',\n",
       " '../../models/experiments/cryptobert_elkulako\\\\merges.txt',\n",
       " '../../models/experiments/cryptobert_elkulako\\\\added_tokens.json',\n",
       " '../../models/experiments/cryptobert_elkulako\\\\tokenizer.json')"
      ]
     },
     "execution_count": 58,
     "metadata": {},
     "output_type": "execute_result"
    }
   ],
   "source": [
    "# Modell und Tokenizer laden\n",
    "model_name = \"ElKulako/cryptobert\"\n",
    "cryptobert_tokenizer = AutoTokenizer.from_pretrained(model_name)\n",
    "cryptobert_model = AutoModelForSequenceClassification.from_pretrained(model_name)\n",
    "cryptobert_model.eval()\n",
    "\n",
    "# Texte & Labels aus Testdaten extrahieren\n",
    "texts = test_dataset[\"text\"]\n",
    "true_labels = test_dataset[\"label\"]\n",
    "\n",
    "# Vorhersagen generieren\n",
    "preds = []\n",
    "for text in texts:\n",
    "    inputs = cryptobert_tokenizer(text, return_tensors=\"pt\", truncation=True, padding=True, max_length=256)\n",
    "    with torch.no_grad():\n",
    "        logits = cryptobert_model(**inputs).logits\n",
    "    pred_id = torch.argmax(logits, dim=1).item()\n",
    "    preds.append(pred_id)\n",
    "\n",
    "# Label-Mapping: CryptoBERT: 0=neg, 1=neutral, 2=pos → eigene Zuordnung: 2=neg, 1=neutral, 0=pos\n",
    "label_mapping = {2: 0, 1: 1, 0: 2}\n",
    "mapped_preds = [label_mapping[p] for p in preds]\n",
    "\n",
    "# Evaluation\n",
    "acc_elkulako = accuracy_score(true_labels, mapped_preds)\n",
    "f1_elkulako = f1_score(true_labels, mapped_preds, average=\"macro\")\n",
    "\n",
    "print(f\"CryptoBERT (ElKulako) — Accuracy: {acc_elkulako:.4f}, F1: {f1_elkulako:.4f}\")\n",
    "\n",
    "# Modell speichern\n",
    "cryptobert_model.save_pretrained(MODEL_PATHS[\"cryptobert_elkulako\"])\n",
    "cryptobert_tokenizer.save_pretrained(MODEL_PATHS[\"cryptobert_elkulako\"])\n"
   ]
  },
  {
   "cell_type": "markdown",
   "metadata": {},
   "source": [
    "## Vader"
   ]
  },
  {
   "cell_type": "code",
   "execution_count": 59,
   "metadata": {},
   "outputs": [
    {
     "name": "stdout",
     "output_type": "stream",
     "text": [
      "VADER — Accuracy: 0.4508, F1: 0.4511\n"
     ]
    }
   ],
   "source": [
    "import os\n",
    "from nltk.sentiment.vader import SentimentIntensityAnalyzer\n",
    "from sklearn.metrics import accuracy_score, f1_score\n",
    "import json\n",
    "\n",
    "# Zentral definierter Speicherpfad\n",
    "EXPERIMENTS_BASE_PATH = \"../../models/experiments/\"\n",
    "MODEL_NAME = \"vader\"\n",
    "SAVE_PATH = os.path.join(EXPERIMENTS_BASE_PATH, MODEL_NAME)\n",
    "os.makedirs(SAVE_PATH, exist_ok=True)\n",
    "\n",
    "# Initialisierung\n",
    "vader = SentimentIntensityAnalyzer()\n",
    "\n",
    "# Vorhersage\n",
    "vader_preds = []\n",
    "for text in test_dataset[\"text\"]:\n",
    "    score = vader.polarity_scores(text)[\"compound\"]\n",
    "    if score >= 0.05:\n",
    "        vader_preds.append(0)  # bullish\n",
    "    elif score <= -0.05:\n",
    "        vader_preds.append(2)  # bearish\n",
    "    else:\n",
    "        vader_preds.append(1)  # neutral\n",
    "\n",
    "# Evaluation\n",
    "true_labels = test_dataset[\"label\"]\n",
    "acc_vader = accuracy_score(true_labels, vader_preds)\n",
    "f1_vader = f1_score(true_labels, vader_preds, average=\"macro\")\n",
    "\n",
    "print(f\"VADER — Accuracy: {acc_vader:.4f}, F1: {f1_vader:.4f}\")\n",
    "\n",
    "# Konfiguration speichern\n",
    "config = {\n",
    "    \"model\": \"nltk.sentiment.vader.SentimentIntensityAnalyzer\",\n",
    "    \"version\": \"default\",\n",
    "    \"thresholds\": {\"bullish\": 0.05, \"bearish\": -0.05}\n",
    "}\n",
    "\n",
    "with open(os.path.join(MODEL_PATHS[\"vader\"], \"config.json\"), \"w\") as f:\n",
    "    json.dump(config, f, indent=4)\n"
   ]
  },
  {
   "cell_type": "markdown",
   "metadata": {},
   "source": [
    "## Textblob (Spacy)"
   ]
  },
  {
   "cell_type": "code",
   "execution_count": 60,
   "metadata": {},
   "outputs": [
    {
     "name": "stdout",
     "output_type": "stream",
     "text": [
      "📊 TextBlob (Englisch) — Accuracy: 0.3674, F1: 0.3533\n"
     ]
    }
   ],
   "source": [
    "from textblob import TextBlob\n",
    "from sklearn.metrics import accuracy_score, f1_score\n",
    "\n",
    "# Klassische Schwellen für Sentiment\n",
    "textblob_preds = []\n",
    "\n",
    "for text in test_dataset['text']:\n",
    "    blob = TextBlob(text)\n",
    "    polarity = blob.sentiment.polarity\n",
    "    if polarity >= 0.05:\n",
    "        textblob_preds.append(0)  # bullish\n",
    "    elif polarity <= -0.05:\n",
    "        textblob_preds.append(2)  # bearish\n",
    "    else:\n",
    "        textblob_preds.append(1)  # neutral\n",
    "\n",
    "# Evaluation\n",
    "true_labels = test_dataset['label']\n",
    "acc_blob = accuracy_score(true_labels, textblob_preds)\n",
    "f1_blob = f1_score(true_labels, textblob_preds, average=\"macro\")\n",
    "\n",
    "print(f\"📊 TextBlob (Englisch) — Accuracy: {acc_blob:.4f}, F1: {f1_blob:.4f}\")"
   ]
  },
  {
   "cell_type": "code",
   "execution_count": 61,
   "metadata": {},
   "outputs": [
    {
     "name": "stdout",
     "output_type": "stream",
     "text": [
      "\n",
      "📦 Testing model: finbert (yiyanghkust/finbert-tone)\n"
     ]
    },
    {
     "name": "stderr",
     "output_type": "stream",
     "text": [
      "Map: 100%|██████████| 264/264 [00:00<00:00, 3522.57 examples/s]\n",
      "C:\\Users\\hp\\AppData\\Local\\Temp\\ipykernel_28308\\1264658514.py:22: FutureWarning: `tokenizer` is deprecated and will be removed in version 5.0.0 for `Trainer.__init__`. Use `processing_class` instead.\n",
      "  trainer = Trainer(model=model, tokenizer=tokenizer)\n"
     ]
    },
    {
     "data": {
      "text/html": [],
      "text/plain": [
       "<IPython.core.display.HTML object>"
      ]
     },
     "metadata": {},
     "output_type": "display_data"
    },
    {
     "name": "stdout",
     "output_type": "stream",
     "text": [
      "🔍 Accuracy: 0.3674\n",
      "🔍 F1 (macro): 0.3101\n",
      "🔍 Classification Report:\n",
      "              precision    recall  f1-score   support\n",
      "\n",
      "           0       0.33      0.77      0.47        88\n",
      "           1       0.14      0.03      0.06        88\n",
      "           2       0.67      0.30      0.41        88\n",
      "\n",
      "    accuracy                           0.37       264\n",
      "   macro avg       0.38      0.37      0.31       264\n",
      "weighted avg       0.38      0.37      0.31       264\n",
      "\n",
      "\n",
      "📦 Testing model: roberta (cardiffnlp/twitter-roberta-base-sentiment)\n"
     ]
    },
    {
     "name": "stderr",
     "output_type": "stream",
     "text": [
      "Map: 100%|██████████| 264/264 [00:00<00:00, 5289.49 examples/s]\n",
      "C:\\Users\\hp\\AppData\\Local\\Temp\\ipykernel_28308\\1264658514.py:22: FutureWarning: `tokenizer` is deprecated and will be removed in version 5.0.0 for `Trainer.__init__`. Use `processing_class` instead.\n",
      "  trainer = Trainer(model=model, tokenizer=tokenizer)\n"
     ]
    },
    {
     "data": {
      "text/html": [],
      "text/plain": [
       "<IPython.core.display.HTML object>"
      ]
     },
     "metadata": {},
     "output_type": "display_data"
    },
    {
     "name": "stdout",
     "output_type": "stream",
     "text": [
      "🔍 Accuracy: 0.2879\n",
      "🔍 F1 (macro): 0.2462\n",
      "🔍 Classification Report:\n",
      "              precision    recall  f1-score   support\n",
      "\n",
      "           0       0.16      0.15      0.15        88\n",
      "           1       0.41      0.66      0.51        88\n",
      "           2       0.12      0.06      0.08        88\n",
      "\n",
      "    accuracy                           0.29       264\n",
      "   macro avg       0.23      0.29      0.25       264\n",
      "weighted avg       0.23      0.29      0.25       264\n",
      "\n"
     ]
    }
   ],
   "source": [
    "# Modellübersicht (ohne vinai/bertweet-base)\n",
    "MODELS = {\n",
    "    \"finbert\": \"yiyanghkust/finbert-tone\",\n",
    "    \"roberta\": \"cardiffnlp/twitter-roberta-base-sentiment\"\n",
    "}\n",
    "\n",
    "# Evaluation + Speicherung der Ergebnisse\n",
    "model_results = {}\n",
    "\n",
    "for name, model_name in MODELS.items():\n",
    "    print(f\"\\n📦 Testing model: {name} ({model_name})\")\n",
    "\n",
    "    tokenizer = AutoTokenizer.from_pretrained(model_name)\n",
    "    model = AutoModelForSequenceClassification.from_pretrained(model_name, num_labels=3)\n",
    "\n",
    "    # Tokenisieren\n",
    "    tokenized_test = test_dataset.map(tokenize_function, batched=True)\n",
    "    tokenized_test = tokenized_test.rename_column(\"label\", \"labels\")\n",
    "    tokenized_test.set_format(\"torch\", columns=[\"input_ids\", \"attention_mask\", \"labels\"])\n",
    "\n",
    "    # Prediction\n",
    "    trainer = Trainer(model=model, tokenizer=tokenizer)\n",
    "    predictions = trainer.predict(tokenized_test)\n",
    "\n",
    "    y_pred = np.argmax(predictions.predictions, axis=1)\n",
    "    y_true = predictions.label_ids\n",
    "\n",
    "    # Evaluation\n",
    "    acc = accuracy_score(y_true, y_pred)\n",
    "    f1 = f1_score(y_true, y_pred, average=\"macro\")\n",
    "    print(f\"🔍 Accuracy: {acc:.4f}\")\n",
    "    print(f\"🔍 F1 (macro): {f1:.4f}\")\n",
    "    print(\"🔍 Classification Report:\")\n",
    "    print(classification_report(y_true, y_pred))\n",
    "\n",
    "    # Ergebnisse speichern\n",
    "    model_results[name] = {\n",
    "        \"accuracy\": acc,\n",
    "        \"f1\": f1\n",
    "    }"
   ]
  },
  {
   "cell_type": "markdown",
   "metadata": {},
   "source": [
    "## Plot"
   ]
  },
  {
   "cell_type": "code",
   "execution_count": null,
   "metadata": {},
   "outputs": [],
   "source": [
    "plot_results_data = {\n",
    "    \"DeBERTa\": {\"accuracy\": acc_deberta, \"f1\": f1_deberta},\n",
    "    \"CryptoBERT\": {\"accuracy\": acc_elkulako, \"f1\": f1_elkulako},\n",
    "    \"FinBERT\": model_results[\"finbert\"],\n",
    "    \"Twitter-RoBERTa\": model_results[\"roberta\"],  \n",
    "    \"VADER\": {\"accuracy\": acc_vader, \"f1\": f1_vader},\n",
    "    \"TextBlob\": {\"accuracy\": acc_blob, \"f1\": f1_blob}\n",
    "}\n"
   ]
  },
  {
   "cell_type": "code",
   "execution_count": 63,
   "metadata": {},
   "outputs": [],
   "source": [
    "def plot_results(results_dict):\n",
    "    models = list(results_dict.keys())\n",
    "    accuracy = [results_dict[m][\"accuracy\"] for m in models]\n",
    "    f1 = [results_dict[m][\"f1\"] for m in models]\n",
    "\n",
    "    x = np.arange(len(models))\n",
    "    width = 0.35\n",
    "\n",
    "    plt.figure(figsize=(10, 6))\n",
    "    plt.bar(x - width/2, accuracy, width, label=\"Accuracy\")\n",
    "    plt.bar(x + width/2, f1, width, label=\"F1-Score\")\n",
    "\n",
    "    plt.xticks(x, models)\n",
    "    plt.ylim(0, 1)\n",
    "    plt.ylabel(\"Score\")\n",
    "    plt.title(\"🔎 Modellvergleich auf dem Testset\")\n",
    "    plt.legend()\n",
    "    plt.grid(axis='y')\n",
    "    plt.tight_layout()\n",
    "    plt.show()\n"
   ]
  },
  {
   "cell_type": "code",
   "execution_count": 64,
   "metadata": {},
   "outputs": [
    {
     "name": "stderr",
     "output_type": "stream",
     "text": [
      "C:\\Users\\hp\\AppData\\Local\\Temp\\ipykernel_28308\\1458932060.py:19: UserWarning: Glyph 128270 (\\N{RIGHT-POINTING MAGNIFYING GLASS}) missing from font(s) DejaVu Sans.\n",
      "  plt.tight_layout()\n",
      "c:\\Users\\hp\\anaconda3\\envs\\crypto_nlp\\lib\\site-packages\\IPython\\core\\pylabtools.py:152: UserWarning: Glyph 128270 (\\N{RIGHT-POINTING MAGNIFYING GLASS}) missing from font(s) DejaVu Sans.\n",
      "  fig.canvas.print_figure(bytes_io, **kw)\n"
     ]
    },
    {
     "data": {
      "image/png": "[encoded data removed]",
      "text/plain": [
       "<Figure size 1000x600 with 1 Axes>"
      ]
     },
     "metadata": {},
     "output_type": "display_data"
    }
   ],
   "source": [
    "plot_results(plot_results_data)\n"
   ]
  },
  {
   "cell_type": "code",
   "execution_count": null,
   "metadata": {},
   "outputs": [],
   "source": []
  }
 ],
 "metadata": {
  "kernelspec": {
   "display_name": "crypto_nlp",
   "language": "python",
   "name": "python3"
  },
  "language_info": {
   "codemirror_mode": {
    "name": "ipython",
    "version": 3
   },
   "file_extension": ".py",
   "mimetype": "text/x-python",
   "name": "python",
   "nbconvert_exporter": "python",
   "pygments_lexer": "ipython3",
   "version": "3.9.21"
  }
 },
 "nbformat": 4,
 "nbformat_minor": 2
}
